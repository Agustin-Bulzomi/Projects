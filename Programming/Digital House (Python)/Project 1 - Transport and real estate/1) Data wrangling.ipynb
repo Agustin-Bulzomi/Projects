{
 "cells": [
  {
   "cell_type": "markdown",
   "metadata": {},
   "source": [
    "# 1) Preparación previa"
   ]
  },
  {
   "cell_type": "markdown",
   "metadata": {},
   "source": [
    "### Carga de librerías"
   ]
  },
  {
   "cell_type": "code",
   "execution_count": null,
   "metadata": {},
   "outputs": [],
   "source": [
    "import pandas as pd\n",
    "import re\n",
    "import numpy as np"
   ]
  },
  {
   "cell_type": "markdown",
   "metadata": {},
   "source": [
    "### Lectura del dataset original de Properati"
   ]
  },
  {
   "cell_type": "code",
   "execution_count": null,
   "metadata": {},
   "outputs": [],
   "source": [
    "data = pd.read_csv(\"https://media.githubusercontent.com/media/Agustin-Bulzomi/Projects/main/Programming/Digital%20House%20(Python)/Support%20Files/Project%201/Properati.csv\")\n",
    "data.head()"
   ]
  },
  {
   "cell_type": "markdown",
   "metadata": {},
   "source": [
    "### Separación de columna con muchas ubicaciones"
   ]
  },
  {
   "cell_type": "code",
   "execution_count": null,
   "metadata": {},
   "outputs": [],
   "source": [
    "# La columna \"place_with_parent_names\" tiene información separada con '|'. Se separa para obtener info adicional\n",
    "separado = data[\"place_with_parent_names\"].str.split('|', expand = True)\n",
    "separado.head()"
   ]
  },
  {
   "cell_type": "markdown",
   "metadata": {},
   "source": [
    "### Agregado de la nueva información en nuevas columnas"
   ]
  },
  {
   "cell_type": "code",
   "execution_count": null,
   "metadata": {},
   "outputs": [],
   "source": [
    "separado.columns = ['??', 'Pais', 'Zona', 'Partido', 'Barrios', 'Country', 'Otra']\n",
    "data_concat = pd.concat([data, separado], axis=1)"
   ]
  },
  {
   "cell_type": "markdown",
   "metadata": {},
   "source": [
    "### Cálculo del tipo de cambio para corroborar"
   ]
  },
  {
   "cell_type": "code",
   "execution_count": null,
   "metadata": {},
   "outputs": [],
   "source": [
    "data_concat['TC'] = data_concat['price_aprox_local_currency'] / data_concat['price_aprox_usd'] \n",
    "# Calculando el promedio, decidimos tomar la columna 'price_aprox_usd' como el $ de las propiedades\n",
    "data_concat['TC'].mean().round(2)"
   ]
  },
  {
   "cell_type": "markdown",
   "metadata": {},
   "source": [
    "### Revisión de registros nulos según columnas"
   ]
  },
  {
   "cell_type": "code",
   "execution_count": null,
   "metadata": {},
   "outputs": [],
   "source": [
    "data_concat.isnull().sum()"
   ]
  },
  {
   "cell_type": "markdown",
   "metadata": {},
   "source": [
    "### Creación de función para limpiar superficie"
   ]
  },
  {
   "cell_type": "code",
   "execution_count": null,
   "metadata": {},
   "outputs": [],
   "source": [
    "# La siguiente función nos permite limpiar la superficie según las inconsistencias entre la total y la cubierta.\n",
    "# Se eligií dicha columna con respecto a 'surface_total_in_m2' ya que tenía menor cantidad de registros nulos\n",
    "def limpieza_superficie(sup_total, sup_cubierta):\n",
    "    if sup_total is not None and sup_cubierta is not None:\n",
    "            if sup_total >= sup_cubierta:\n",
    "                superficie = sup_total\n",
    "            else: \n",
    "                superficie = np.NaN\n",
    "    elif sup_total is not None:\n",
    "            superficie = sup_total\n",
    "    elif sup_cubierta is not None:\n",
    "            superficie = sup_cubierta\n",
    "    else: superficie = np.NaN        \n",
    "                    \n",
    "    return superficie"
   ]
  },
  {
   "cell_type": "markdown",
   "metadata": {},
   "source": [
    "### Aplicación de la susodicha función"
   ]
  },
  {
   "cell_type": "code",
   "execution_count": null,
   "metadata": {},
   "outputs": [],
   "source": [
    "data_concat[\"superficie\"] = data_concat[['surface_total_in_m2','surface_covered_in_m2']].apply(lambda data_concat: limpieza_superficie(data_concat['surface_total_in_m2'],data_concat['surface_covered_in_m2']),axis=1)\n",
    "data_concat.head(10)"
   ]
  },
  {
   "cell_type": "markdown",
   "metadata": {},
   "source": [
    "### Creación de la columna de precios por metros cuadrados con la nueva superficie"
   ]
  },
  {
   "cell_type": "code",
   "execution_count": null,
   "metadata": {},
   "outputs": [],
   "source": [
    "data_concat['Precio_USD_por_M2']=data_concat.price_aprox_usd/data_concat.superficie \n",
    "data_concat.head()"
   ]
  },
  {
   "cell_type": "markdown",
   "metadata": {},
   "source": [
    "### Eliminación de columnas"
   ]
  },
  {
   "cell_type": "code",
   "execution_count": null,
   "metadata": {},
   "outputs": [],
   "source": [
    "# Algunas se eliminan por no corresponder con nuestro analisis y otras por estar repetidas\n",
    "data_eliminacion = data_concat.drop(['Unnamed: 0', 'operation', 'place_with_parent_names', 'place_name', 'country_name', 'state_name',\n",
    "                                     'description', 'geonames_id', 'lat-lon', 'floor', 'rooms', 'expenses', 'properati_url', \n",
    "                                     'image_thumbnail', 'title', '??'], axis = 1)\n",
    "data_eliminacion.head()"
   ]
  },
  {
   "cell_type": "code",
   "execution_count": null,
   "metadata": {},
   "outputs": [],
   "source": [
    "# Corroboramos el tamaño del resultado\n",
    "data_eliminacion.shape"
   ]
  },
  {
   "cell_type": "markdown",
   "metadata": {},
   "source": [
    "### Eliminamos los valores nulos del precio nuevo"
   ]
  },
  {
   "cell_type": "code",
   "execution_count": null,
   "metadata": {},
   "outputs": [],
   "source": [
    "df_final = data_eliminacion[data_eliminacion['Precio_USD_por_M2'].notna()]\n",
    "df_final"
   ]
  },
  {
   "cell_type": "markdown",
   "metadata": {},
   "source": [
    "# 2) Análisis estadístico breve del resultado"
   ]
  },
  {
   "cell_type": "markdown",
   "metadata": {},
   "source": [
    "### Cálculo de % de registros según la provincia/región"
   ]
  },
  {
   "cell_type": "code",
   "execution_count": null,
   "metadata": {},
   "outputs": [],
   "source": [
    "(df_final.Zona.value_counts() / df_final.Zona.size) * 100"
   ]
  },
  {
   "cell_type": "markdown",
   "metadata": {},
   "source": [
    "### Agrupamos por provincia/región"
   ]
  },
  {
   "cell_type": "code",
   "execution_count": null,
   "metadata": {},
   "outputs": [],
   "source": [
    "data_agrupada_prov = df_final.groupby('Zona')\n",
    "data_agrupada_prov"
   ]
  },
  {
   "cell_type": "markdown",
   "metadata": {},
   "source": [
    "### Calculamos las métricas según provincia/región"
   ]
  },
  {
   "cell_type": "code",
   "execution_count": null,
   "metadata": {},
   "outputs": [],
   "source": [
    "medidas = data_agrupada_prov[[\"Precio_USD_por_M2\"]].describe().round(2)"
   ]
  },
  {
   "cell_type": "code",
   "execution_count": null,
   "metadata": {},
   "outputs": [],
   "source": [
    "# Ordenamos según count\n",
    "medidas.sort_values(by=[('Precio_USD_por_M2', 'count')], ascending = False)"
   ]
  },
  {
   "cell_type": "markdown",
   "metadata": {},
   "source": [
    "### Métricas generales del data set"
   ]
  },
  {
   "cell_type": "code",
   "execution_count": null,
   "metadata": {},
   "outputs": [],
   "source": [
    "medidas_finales = df_final[[\"Precio_USD_por_M2\"]].describe().round(2)\n",
    "medidas_finales"
   ]
  },
  {
   "cell_type": "markdown",
   "metadata": {},
   "source": [
    "### Exportación del DF final"
   ]
  },
  {
   "cell_type": "code",
   "execution_count": null,
   "metadata": {
    "tags": []
   },
   "outputs": [],
   "source": [
    "df_final.to_csv('DF_Final.csv', index = False)"
   ]
  }
 ],
 "metadata": {
  "kernelspec": {
   "display_name": "Python 3 (ipykernel)",
   "language": "python",
   "name": "python3"
  },
  "language_info": {
   "codemirror_mode": {
    "name": "ipython",
    "version": 3
   },
   "file_extension": ".py",
   "mimetype": "text/x-python",
   "name": "python",
   "nbconvert_exporter": "python",
   "pygments_lexer": "ipython3",
   "version": "3.11.3"
  }
 },
 "nbformat": 4,
 "nbformat_minor": 4
}
