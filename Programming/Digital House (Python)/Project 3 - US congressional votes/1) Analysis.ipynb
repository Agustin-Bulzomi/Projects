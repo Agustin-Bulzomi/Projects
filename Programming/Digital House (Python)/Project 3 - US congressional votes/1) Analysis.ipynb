{
 "cells": [
  {
   "cell_type": "markdown",
   "metadata": {},
   "source": [
    "# 1) Preparación previa"
   ]
  },
  {
   "cell_type": "markdown",
   "metadata": {},
   "source": [
    "### Carga de librerías"
   ]
  },
  {
   "cell_type": "code",
   "execution_count": null,
   "metadata": {},
   "outputs": [],
   "source": [
    "import pandas as pd\n",
    "import numpy as np\n",
    "import seaborn as sns\n",
    "import matplotlib.pyplot as plt\n",
    "from IPython.display import display, Markdown"
   ]
  },
  {
   "cell_type": "markdown",
   "metadata": {},
   "source": [
    "### Lectura del dataset"
   ]
  },
  {
   "cell_type": "markdown",
   "metadata": {},
   "source": [
    "Se decidió utilizar unos datos de votos legislativos en EEUU, que describe si se votó afirmativamente, negativamente o absteniéndose en 16 leyes."
   ]
  },
  {
   "cell_type": "code",
   "execution_count": null,
   "metadata": {},
   "outputs": [],
   "source": [
    "df_votes = pd.read_csv('https://raw.githubusercontent.com/Agustin-Bulzomi/Projects/main/Programming/Digital%20House%20(Python)/Support%20Files/Project%203/House_votes_1984.csv')"
   ]
  },
  {
   "cell_type": "markdown",
   "metadata": {},
   "source": [
    "### Vista general"
   ]
  },
  {
   "cell_type": "markdown",
   "metadata": {},
   "source": [
    "Se corren varias funciones para obtener un resumen general del dataset"
   ]
  },
  {
   "cell_type": "code",
   "execution_count": null,
   "metadata": {},
   "outputs": [],
   "source": [
    "df_votes.info()"
   ]
  },
  {
   "cell_type": "code",
   "execution_count": null,
   "metadata": {},
   "outputs": [],
   "source": [
    "df_votes.head(10)"
   ]
  },
  {
   "cell_type": "markdown",
   "metadata": {},
   "source": [
    "# 2) Análisis exploratorio"
   ]
  },
  {
   "cell_type": "markdown",
   "metadata": {},
   "source": [
    "Se comienza con el análisis general: ¿cómo se distribuye la variable target? ¿están balanceados los datos?"
   ]
  },
  {
   "cell_type": "code",
   "execution_count": null,
   "metadata": {},
   "outputs": [],
   "source": [
    "balance = pd.concat([df_votes['Class Name'].value_counts(), df_votes['Class Name'].value_counts(normalize=True).round(2)], axis = 1)\n",
    "balance.columns = ['Votos', 'Proporción']\n",
    "balance"
   ]
  },
  {
   "cell_type": "code",
   "execution_count": null,
   "metadata": {},
   "outputs": [],
   "source": [
    "# Se crea una paleta con los típicos colores partidarios, ya que será usada a futuro\n",
    "color_partidos = ['red', 'blue']\n",
    "\n",
    "g = sns.catplot(x='Class Name', \n",
    "                    data=df_votes, kind=\"count\", palette=color_partidos,\n",
    "                    height=3, aspect=.8);"
   ]
  },
  {
   "cell_type": "markdown",
   "metadata": {},
   "source": [
    "Hay un importante desbalance considerando que casi 2 tercios de los legisladores son demócratas y 1 tercio republicano. Este dato es importante a la hora de contrastar votos. A continuación se procederá con el análisis más específico, ley por ley. Para ello, se crea una nueva columna con el nombre Target ya que es necesaria para realizar análisis con una variable numérica"
   ]
  },
  {
   "cell_type": "code",
   "execution_count": null,
   "metadata": {},
   "outputs": [],
   "source": [
    "df_votes['Target'] = np.where(df_votes['Class Name'] == 'democrat', 1, 0)"
   ]
  },
  {
   "cell_type": "code",
   "execution_count": null,
   "metadata": {},
   "outputs": [],
   "source": [
    "laws = [' handicapped-infants', ' water-project-cost-sharing',\n",
    "       ' adoption-of-the-budget-resolution', ' physician-fee-freeze',\n",
    "       ' el-salvador-aid', ' religious-groups-in-schools',\n",
    "       ' anti-satellite-test-ban', ' aid-to-nicaraguan-contras', ' mx-missile',\n",
    "       ' immigration', ' synfuels-corporation-cutback', ' education-spending',\n",
    "       ' superfund-right-to-sue', ' crime', ' duty-free-exports',\n",
    "       ' export-administration-act-south-africa']\n",
    "\n",
    "for law in laws:\n",
    "    numero = laws.index(law) + 1\n",
    "    display(Markdown('## {} {} {} {} \\n #### {}'.format(\"Ley N°\", numero, \": \", law, \"Cantidad de votos afirmativos, negativos y abstenciones:\")))\n",
    "    porcentajes = df_votes[law].value_counts()\n",
    "    print(porcentajes)\n",
    "    print() # Un espacio para darle legibilidad\n",
    "    display(Markdown('#### {} '.format(\"Porcentaje de votos según partido:\")))\n",
    "    table = pd.concat([100*(df_votes.groupby(law)['Target'].mean().round(2)), 100* (1 - (df_votes.groupby(law)['Target'].mean().round(2)))], axis = 1)\n",
    "    table.columns = [\"Democrat\", \"Republican\"]\n",
    "    display(table)\n",
    "    display(Markdown('#### {} '.format(\"Gráfico de la proporción:\")))\n",
    "    grafico = sns.catplot(x = law, hue = \"Class Name\", data = df_votes, kind=\"count\", palette = color_partidos, height = 3, aspect = .8);\n",
    "    plt.show(grafico)\n",
    "    print() # Un espacio para darle legibilidad"
   ]
  },
  {
   "cell_type": "markdown",
   "metadata": {},
   "source": [
    "# 3) Exportación"
   ]
  },
  {
   "cell_type": "markdown",
   "metadata": {},
   "source": [
    "Se prepara la base de datos antes de ser exportada para aplicar modelos en otra notebook. Ya la variable target tiene su columna numérica homónima. Ahora se procede a reemplazar los valores string de los votos por otros numéricos (n = -1, ? = 0,  y =  1)"
   ]
  },
  {
   "cell_type": "code",
   "execution_count": null,
   "metadata": {},
   "outputs": [],
   "source": [
    "votos_replace = df_votes.replace(to_replace = [\"n\", \"?\", \"y\"], value = [-1, 0, 1])\n",
    "votos_replace.head(10)"
   ]
  },
  {
   "cell_type": "markdown",
   "metadata": {},
   "source": [
    "Se exporta la base de datos"
   ]
  },
  {
   "cell_type": "code",
   "execution_count": null,
   "metadata": {
    "tags": []
   },
   "outputs": [],
   "source": [
    "votos_replace.to_csv('votos_final.csv', index = False)"
   ]
  }
 ],
 "metadata": {
  "kernelspec": {
   "display_name": "Python 3 (ipykernel)",
   "language": "python",
   "name": "python3"
  },
  "language_info": {
   "codemirror_mode": {
    "name": "ipython",
    "version": 3
   },
   "file_extension": ".py",
   "mimetype": "text/x-python",
   "name": "python",
   "nbconvert_exporter": "python",
   "pygments_lexer": "ipython3",
   "version": "3.11.3"
  }
 },
 "nbformat": 4,
 "nbformat_minor": 4
}
