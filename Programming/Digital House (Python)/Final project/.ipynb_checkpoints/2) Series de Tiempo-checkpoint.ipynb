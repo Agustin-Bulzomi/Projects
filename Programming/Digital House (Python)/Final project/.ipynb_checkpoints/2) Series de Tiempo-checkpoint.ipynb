{
 "cells": [
  {
   "cell_type": "markdown",
   "metadata": {},
   "source": [
    "# 1) Preparación previa"
   ]
  },
  {
   "cell_type": "markdown",
   "metadata": {},
   "source": [
    "#### Carga de librerías"
   ]
  },
  {
   "cell_type": "code",
   "execution_count": null,
   "metadata": {},
   "outputs": [],
   "source": [
    "import pandas as pd\n",
    "import numpy as np\n",
    "\n",
    "import matplotlib.pyplot as plt\n",
    "import matplotlib as mpl\n",
    "import seaborn as sns\n",
    "%matplotlib inline\n",
    "\n",
    "import statsmodels.api as sm\n",
    "import statsmodels.formula.api as smf\n",
    "import statsmodels.tsa.api as smt\n",
    "\n",
    "from scipy import stats\n",
    "from statistics import mode\n",
    "\n",
    "from sklearn.model_selection import train_test_split\n",
    "\n",
    "from statsmodels.tsa.stattools import adfuller\n",
    "from statsmodels.tsa.stattools import acf, pacf\n",
    "from statsmodels.graphics.tsaplots import plot_acf, plot_pacf\n",
    "from statsmodels.tsa.arima_model import ARIMA\n",
    "from statsmodels.tsa.holtwinters import SimpleExpSmoothing\n",
    "from sklearn.model_selection import TimeSeriesSplit\n",
    "from sklearn.metrics import mean_squared_error\n",
    "\n",
    "# ES MUY PROBABLE QUE SE NECESITE INSTALAR PMDARIMA, A CONTINUACIÓN SE DEJA EL PIP INSTALL:\n",
    "# !pip install pmdarima\n",
    "# from pmdarima import auto_arima\n",
    "\n",
    "import warnings\n",
    "warnings.filterwarnings('ignore')"
   ]
  },
  {
   "cell_type": "markdown",
   "metadata": {},
   "source": [
    "#### Lectura del dataset"
   ]
  },
  {
   "cell_type": "code",
   "execution_count": null,
   "metadata": {},
   "outputs": [],
   "source": [
    "df = pd.read_csv('https://raw.githubusercontent.com/Agustin-Bulzomi/Projects/main/Programming/Digital%20House%20(Python)/Support%20Files/Final%20Project/coin_Bitcoin.csv', delimiter=',')"
   ]
  },
  {
   "cell_type": "markdown",
   "metadata": {},
   "source": [
    "Se realizan las modificaciones del dataset pertinentes para el análisis de series de tiempo"
   ]
  },
  {
   "cell_type": "code",
   "execution_count": null,
   "metadata": {},
   "outputs": [],
   "source": [
    "df['Date'] = pd.to_datetime(df['Date'])\n",
    "df.index = pd.PeriodIndex(df.Date, freq='D')\n",
    "df.head()"
   ]
  },
  {
   "cell_type": "markdown",
   "metadata": {},
   "source": [
    "#### Dummies"
   ]
  },
  {
   "cell_type": "code",
   "execution_count": null,
   "metadata": {},
   "outputs": [],
   "source": [
    "df[\"timeIndex\"] = pd.Series(np.arange(len(df['Close'])), index=df.index)\n",
    "\n",
    "df.head()"
   ]
  },
  {
   "cell_type": "code",
   "execution_count": null,
   "metadata": {},
   "outputs": [],
   "source": [
    "df.tail()"
   ]
  },
  {
   "cell_type": "markdown",
   "metadata": {},
   "source": [
    "Se agregan las columnas necesarias"
   ]
  },
  {
   "cell_type": "code",
   "execution_count": null,
   "metadata": {},
   "outputs": [],
   "source": [
    "df['Month'] = df['Date'].dt.month\n",
    "df['Year'] = df['Date'].dt.year"
   ]
  },
  {
   "cell_type": "markdown",
   "metadata": {},
   "source": [
    "Se crean las dummies"
   ]
  },
  {
   "cell_type": "code",
   "execution_count": null,
   "metadata": {},
   "outputs": [],
   "source": [
    "dummies_mes = pd.get_dummies(df['Month'], drop_first=True, prefix='Month')\n",
    "df = df.join(dummies_mes)\n",
    "df.sample(10)"
   ]
  },
  {
   "cell_type": "markdown",
   "metadata": {},
   "source": [
    "#### Se divide el dataset en Train y Test, usando rangos personalizados"
   ]
  },
  {
   "cell_type": "code",
   "execution_count": null,
   "metadata": {},
   "outputs": [],
   "source": [
    "# Se utiliza este método para manejar el shape que se aplicará a los demás modelos\n",
    "end_date = '2021-01-27'\n",
    "mask1 = (df['Date'] <= end_date)\n",
    "mask2 = (df['Date'] > end_date)"
   ]
  },
  {
   "cell_type": "code",
   "execution_count": null,
   "metadata": {},
   "outputs": [],
   "source": [
    "# Se pasan las máscaras para obtener train y test:\n",
    "df_train = df.loc[mask1]\n",
    "df_test = df.loc[mask2]\n",
    "print(\"train shape\",df_train.shape)\n",
    "print(\"test shape\",df_test.shape)"
   ]
  },
  {
   "cell_type": "markdown",
   "metadata": {},
   "source": [
    "#### Chequeo de que la primer fecha de test sea la siguiente al final de train:"
   ]
  },
  {
   "cell_type": "code",
   "execution_count": null,
   "metadata": {},
   "outputs": [],
   "source": [
    "df_train.tail()"
   ]
  },
  {
   "cell_type": "code",
   "execution_count": null,
   "metadata": {},
   "outputs": [],
   "source": [
    "df_test.head()"
   ]
  },
  {
   "cell_type": "markdown",
   "metadata": {},
   "source": [
    "#### Ploteo de los dos datasets obtenidos:"
   ]
  },
  {
   "cell_type": "code",
   "execution_count": null,
   "metadata": {},
   "outputs": [],
   "source": [
    "pd.plotting.register_matplotlib_converters()\n",
    "f, ax = plt.subplots(figsize=(14,5))\n",
    "df_train.plot(kind='line', x='Date', y='Close', color='blue', label='Train', ax = ax)\n",
    "df_test.plot(kind='line', x='Date', y='Close', color='red', label='Test', ax = ax)\n",
    "ax.legend(loc= \"upper left\")\n",
    "plt.title('Rango para Train y para Test')\n",
    "plt.show()"
   ]
  },
  {
   "cell_type": "markdown",
   "metadata": {},
   "source": [
    "#### Ploteo del Target en escala logarítmica:"
   ]
  },
  {
   "cell_type": "code",
   "execution_count": null,
   "metadata": {},
   "outputs": [],
   "source": [
    "df_train['log_value'] = np.log(df_train['Close'])\n",
    "df_test['log_value'] = np.log(df_test['Close'])"
   ]
  },
  {
   "cell_type": "code",
   "execution_count": null,
   "metadata": {},
   "outputs": [],
   "source": [
    "def plot_df(df, x, y, title = \"/\", xlabel='Fecha', ylabel='Valor', dpi=100):\n",
    "    plt.figure(figsize=(16,5), dpi=dpi),\n",
    "    plt.plot(x, y, color='tab:red'),\n",
    "    plt.gca().set(title=title, xlabel=xlabel, ylabel=ylabel),\n",
    "    plt.show()"
   ]
  },
  {
   "cell_type": "code",
   "execution_count": null,
   "metadata": {},
   "outputs": [],
   "source": [
    "plot_df(df_train, x=df_train.Date, y=df_train['log_value'],\\\n",
    "    title='Log de Close del train set')"
   ]
  },
  {
   "cell_type": "markdown",
   "metadata": {},
   "source": [
    "#### Entrenaiento del modelo para analizar el Summary:"
   ]
  },
  {
   "cell_type": "code",
   "execution_count": null,
   "metadata": {},
   "outputs": [],
   "source": [
    "model_log = smf.ols('log_value ~ timeIndex',\\\n",
    "                          data = df_train).fit()"
   ]
  },
  {
   "cell_type": "code",
   "execution_count": null,
   "metadata": {},
   "outputs": [],
   "source": [
    "model_log.summary()"
   ]
  },
  {
   "cell_type": "markdown",
   "metadata": {},
   "source": [
    "# 2) Modelos"
   ]
  },
  {
   "cell_type": "markdown",
   "metadata": {},
   "source": [
    "Se utilizará una plétora de herramientas y recursos para analizar las series de tiempo y sus implicancias. En cada paso se irá visualizando los resultados y almacenando su información para, al final de la notebook, compararlos"
   ]
  },
  {
   "cell_type": "markdown",
   "metadata": {},
   "source": [
    "## a) Mean"
   ]
  },
  {
   "cell_type": "markdown",
   "metadata": {},
   "source": [
    "#### Se aplica el modelo de media constante a train y test:"
   ]
  },
  {
   "cell_type": "code",
   "execution_count": null,
   "metadata": {},
   "outputs": [],
   "source": [
    "# Se calcula el promedio:\n",
    "model_mean_pred = df_train['Close'].mean()\n",
    "\n",
    "# La predicción es fija y es la misma para el set de testeo y de entrenamiento:\n",
    "df_train[\"Mean\"] = model_mean_pred\n",
    "df_test[\"Mean\"] = model_mean_pred"
   ]
  },
  {
   "cell_type": "markdown",
   "metadata": {},
   "source": [
    "#### Ploteo de las predicciones vs las series reales, en train y test:"
   ]
  },
  {
   "cell_type": "code",
   "execution_count": null,
   "metadata": {},
   "outputs": [],
   "source": [
    "df_train.plot(kind=\"line\", y = [\"Close\", \"Mean\"]);"
   ]
  },
  {
   "cell_type": "code",
   "execution_count": null,
   "metadata": {},
   "outputs": [],
   "source": [
    "df_test.plot(kind=\"line\", y = [\"Close\", \"Mean\"]);"
   ]
  },
  {
   "cell_type": "markdown",
   "metadata": {},
   "source": [
    "#### Se define una función para calcular el RMSE:"
   ]
  },
  {
   "cell_type": "code",
   "execution_count": null,
   "metadata": {},
   "outputs": [],
   "source": [
    "def RMSE(predicted, actual):\n",
    "    mse = (predicted - actual) ** 2\n",
    "    rmse = np.sqrt(mse.sum() / mse.count())\n",
    "    return rmse"
   ]
  },
  {
   "cell_type": "markdown",
   "metadata": {},
   "source": [
    "#### Se define una función para calcular el MAPE:"
   ]
  },
  {
   "cell_type": "code",
   "execution_count": null,
   "metadata": {},
   "outputs": [],
   "source": [
    "def mean_absolute_percentage_error(y_true, y_pred): \n",
    "    y_true, y_pred = np.array(y_true), np.array(y_pred)\n",
    "    return np.mean(np.abs((y_true - y_pred) / y_true)) * 100"
   ]
  },
  {
   "cell_type": "code",
   "execution_count": null,
   "metadata": {},
   "outputs": [],
   "source": [
    "# Aplicación del MAPE en Mean\n",
    "model_MAPE = mean_absolute_percentage_error(df_test.Close , df_test.Mean)\n",
    "print(\"El MAPE es \", model_MAPE)"
   ]
  },
  {
   "cell_type": "code",
   "execution_count": null,
   "metadata": {},
   "outputs": [],
   "source": [
    "# Aplicación del RMSE en Mean\n",
    "print(\"El RMSE es \", RMSE(df_test.Mean, df_test.Close))"
   ]
  },
  {
   "cell_type": "markdown",
   "metadata": {},
   "source": [
    "#### Se guardan los resultados en un DataFrame:"
   ]
  },
  {
   "cell_type": "markdown",
   "metadata": {},
   "source": [
    "El mismo será reutilizado para almacenar los resultados de los distintos modelos a utilizar"
   ]
  },
  {
   "cell_type": "code",
   "execution_count": null,
   "metadata": {},
   "outputs": [],
   "source": [
    "df_Results = pd.DataFrame(columns = [\"Model\", \"RMSE\",\"MAPE\"])\n",
    "df_Results.loc[0, \"Model\"] = \"Mean\"\n",
    "df_Results.loc[0, \"RMSE\"] = RMSE(df_test.Mean, df_test.Close)\n",
    "df_Results.loc[0, \"MAPE\"] = model_MAPE\n",
    "df_Results.head()"
   ]
  },
  {
   "cell_type": "markdown",
   "metadata": {},
   "source": [
    "## b) RandomWalk"
   ]
  },
  {
   "cell_type": "markdown",
   "metadata": {},
   "source": [
    "Se crea el shift de target en train:"
   ]
  },
  {
   "cell_type": "code",
   "execution_count": null,
   "metadata": {},
   "outputs": [],
   "source": [
    "df_train[\"CloseShift\"] = df_train.Close.shift()\n",
    "# La primera observación va a quedar en nan, por lo que se reemplaza por el valor siguente:\n",
    "df_train[\"CloseShift\"].fillna(method='bfill', inplace=True)\n",
    "df_train.head()"
   ]
  },
  {
   "cell_type": "markdown",
   "metadata": {},
   "source": [
    "Se crea el shift de target en test:"
   ]
  },
  {
   "cell_type": "code",
   "execution_count": null,
   "metadata": {},
   "outputs": [],
   "source": [
    "df_test[\"CloseShift\"] = df_test.Close.shift()\n",
    "# Se puede reemplazar el primer nan con el último valor del set de entrenamiento:\n",
    "df_test.iloc[0,26] = df_train.iloc[-1,0]\n",
    "df_test.head()"
   ]
  },
  {
   "cell_type": "markdown",
   "metadata": {},
   "source": [
    "Lag de un período:"
   ]
  },
  {
   "cell_type": "code",
   "execution_count": null,
   "metadata": {},
   "outputs": [],
   "source": [
    "df_train.plot(kind= \"scatter\", y = \"Close\", x = \"CloseShift\", s = 50);"
   ]
  },
  {
   "cell_type": "markdown",
   "metadata": {},
   "source": [
    "Diferencias entre Target y el lag:"
   ]
  },
  {
   "cell_type": "code",
   "execution_count": null,
   "metadata": {},
   "outputs": [],
   "source": [
    "df_train[\"Closediff\"] = df_train.Close - df_train.CloseShift\n",
    "df_train.Closediff.plot();"
   ]
  },
  {
   "cell_type": "markdown",
   "metadata": {},
   "source": [
    "#### Ploteo de las predicciones vs las series reales, en train y test:"
   ]
  },
  {
   "cell_type": "code",
   "execution_count": null,
   "metadata": {},
   "outputs": [],
   "source": [
    "df_train[\"RandomWalk\"] = df_train.CloseShift\n",
    "df_train.plot(kind=\"line\", y = [\"Close\", \"RandomWalk\"]);"
   ]
  },
  {
   "cell_type": "code",
   "execution_count": null,
   "metadata": {},
   "outputs": [],
   "source": [
    "df_test[\"RandomWalk\"] = pd.Series(df_train[\"Close\"][-1], index=df_test.index)"
   ]
  },
  {
   "cell_type": "code",
   "execution_count": null,
   "metadata": {},
   "outputs": [],
   "source": [
    "df_test.plot(kind=\"line\", y = [\"Close\", \"RandomWalk\"]);"
   ]
  },
  {
   "cell_type": "markdown",
   "metadata": {},
   "source": [
    "#### Se calcula el MAPE + RMSE y se almacena"
   ]
  },
  {
   "cell_type": "code",
   "execution_count": null,
   "metadata": {},
   "outputs": [],
   "source": [
    "model_MAPE = mean_absolute_percentage_error (df_test.Close , df_test.RandomWalk)"
   ]
  },
  {
   "cell_type": "code",
   "execution_count": null,
   "metadata": {},
   "outputs": [],
   "source": [
    "df_Results.loc[1, \"Model\"] = \"Random Walk\"\n",
    "df_Results.loc[1, \"RMSE\"] = RMSE(df_test.RandomWalk, df_test.Close)\n",
    "df_Results.loc[1, \"MAPE\"] = model_MAPE\n",
    "df_Results"
   ]
  },
  {
   "cell_type": "code",
   "execution_count": null,
   "metadata": {},
   "outputs": [],
   "source": [
    "# Para un resumen, se utiliza el Summary:\n",
    "model_linear = smf.ols('Close ~ timeIndex', data = df_train).fit()"
   ]
  },
  {
   "cell_type": "code",
   "execution_count": null,
   "metadata": {},
   "outputs": [],
   "source": [
    "model_linear.summary()"
   ]
  },
  {
   "cell_type": "markdown",
   "metadata": {},
   "source": [
    "## c) Linear Trend"
   ]
  },
  {
   "cell_type": "markdown",
   "metadata": {},
   "source": [
    "#### Se crea una columna en train con el predict:"
   ]
  },
  {
   "cell_type": "code",
   "execution_count": null,
   "metadata": {},
   "outputs": [],
   "source": [
    "df_train[\"LinearTrend\"] = model_linear.predict(df_train.timeIndex)"
   ]
  },
  {
   "cell_type": "markdown",
   "metadata": {},
   "source": [
    "#### Ploteo de las predicciones vs las series reales, en train y test:"
   ]
  },
  {
   "cell_type": "code",
   "execution_count": null,
   "metadata": {},
   "outputs": [],
   "source": [
    "df_train.plot(kind = \"line\", y = [\"Close\",\"LinearTrend\"]);"
   ]
  },
  {
   "cell_type": "markdown",
   "metadata": {},
   "source": [
    "#### Se repete en Test:"
   ]
  },
  {
   "cell_type": "code",
   "execution_count": null,
   "metadata": {},
   "outputs": [],
   "source": [
    "df_test[\"LinearTrend\"] = model_linear.predict(df_test.timeIndex)"
   ]
  },
  {
   "cell_type": "code",
   "execution_count": null,
   "metadata": {},
   "outputs": [],
   "source": [
    "df_test.plot(kind = \"line\", y = [\"Close\",\"LinearTrend\"]);"
   ]
  },
  {
   "cell_type": "markdown",
   "metadata": {},
   "source": [
    "#### Se calcula el MAPE + RMSE y se almacena"
   ]
  },
  {
   "cell_type": "code",
   "execution_count": null,
   "metadata": {},
   "outputs": [],
   "source": [
    "model_MAPE = mean_absolute_percentage_error (df_test.Close , df_test.LinearTrend)"
   ]
  },
  {
   "cell_type": "code",
   "execution_count": null,
   "metadata": {},
   "outputs": [],
   "source": [
    "df_Results.loc[2, \"Model\"] = \"LinearTrend\"\n",
    "df_Results.loc[2, \"RMSE\"] = RMSE(df_test.LinearTrend, df_test.Close)\n",
    "df_Results.loc[2, \"MAPE\"] = model_MAPE\n",
    "df_Results"
   ]
  },
  {
   "cell_type": "markdown",
   "metadata": {},
   "source": [
    "## d) Transf Log"
   ]
  },
  {
   "cell_type": "code",
   "execution_count": null,
   "metadata": {},
   "outputs": [],
   "source": [
    "df_train['model_log'] = model_log.predict(df_train[[\"timeIndex\"]])\n",
    "df_test['model_log'] = model_log.predict(df_test[[\"timeIndex\"]])"
   ]
  },
  {
   "cell_type": "code",
   "execution_count": null,
   "metadata": {},
   "outputs": [],
   "source": [
    "df_train['back_model_log'] = np.exp(df_train['model_log'])\n",
    "df_test['back_model_log'] = np.exp(df_test['model_log'])"
   ]
  },
  {
   "cell_type": "markdown",
   "metadata": {},
   "source": [
    "#### Ploteo de las predicciones vs las series reales, en train y test:"
   ]
  },
  {
   "cell_type": "code",
   "execution_count": null,
   "metadata": {},
   "outputs": [],
   "source": [
    "df_train.plot(kind = \"line\", x = \"Date\", y = ['log_value', 'model_log']);"
   ]
  },
  {
   "cell_type": "code",
   "execution_count": null,
   "metadata": {},
   "outputs": [],
   "source": [
    "df_train.plot(kind = \"line\", x = \"Date\", y = ['Close', 'back_model_log']);"
   ]
  },
  {
   "cell_type": "code",
   "execution_count": null,
   "metadata": {},
   "outputs": [],
   "source": [
    "df_test.plot(kind = \"line\", x = \"Date\", y = ['log_value', 'model_log']);"
   ]
  },
  {
   "cell_type": "code",
   "execution_count": null,
   "metadata": {},
   "outputs": [],
   "source": [
    "df_test.plot(kind = \"line\", x = \"Date\", y = ['Close', 'back_model_log']);"
   ]
  },
  {
   "cell_type": "markdown",
   "metadata": {},
   "source": [
    "#### Se calcula el MAPE + RMSE y se almacena"
   ]
  },
  {
   "cell_type": "code",
   "execution_count": null,
   "metadata": {},
   "outputs": [],
   "source": [
    "model_MAPE = mean_absolute_percentage_error (df_test.Close , df_test.back_model_log)"
   ]
  },
  {
   "cell_type": "code",
   "execution_count": null,
   "metadata": {},
   "outputs": [],
   "source": [
    "df_Results.loc[3, \"Model\"] = \"Transf Log\"\n",
    "df_Results.loc[3, \"RMSE\"] = RMSE(df_test['back_model_log'], df_test['Close'])\n",
    "df_Results.loc[3, \"MAPE\"] = model_MAPE\n",
    "df_Results"
   ]
  },
  {
   "cell_type": "markdown",
   "metadata": {},
   "source": [
    "## e) Transf Log + Est"
   ]
  },
  {
   "cell_type": "code",
   "execution_count": null,
   "metadata": {},
   "outputs": [],
   "source": [
    "model_log_est = smf.ols('log_value ~ timeIndex + Month_2 + Month_3 + Month_4 + Month_5 + Month_6 + Month_7 + Month_8 + Month_9 + Month_11 + Month_12',\\\n",
    "                          data = df_train).fit()\n"
   ]
  },
  {
   "cell_type": "code",
   "execution_count": null,
   "metadata": {},
   "outputs": [],
   "source": [
    "df_train['model_log_est'] = model_log_est.predict(df_train[[\"timeIndex\",\\\n",
    "                                              \"Month_2\", \"Month_3\", \"Month_4\", \"Month_5\",\\\n",
    "                                               \"Month_6\",\"Month_7\", \"Month_8\", \"Month_9\",\"Month_10\",\"Month_11\",\"Month_12\"]])\n",
    "\n",
    "\n",
    "df_test['model_log_est'] = model_log_est.predict(df_test[[\"timeIndex\",\\\n",
    "                                               \"Month_2\", \"Month_3\", \"Month_4\", \"Month_5\",\\\n",
    "                                               \"Month_6\",\"Month_7\", \"Month_8\", \"Month_9\",\"Month_10\",\"Month_11\",\"Month_12\"]])"
   ]
  },
  {
   "cell_type": "code",
   "execution_count": null,
   "metadata": {},
   "outputs": [],
   "source": [
    "df_train['back_model_log_est'] = np.exp(df_train['model_log_est'])\n",
    "df_test['back_model_log_est'] = np.exp(df_test['model_log_est'])"
   ]
  },
  {
   "cell_type": "markdown",
   "metadata": {},
   "source": [
    "#### Ploteo de las predicciones vs las series reales, en train y test:"
   ]
  },
  {
   "cell_type": "code",
   "execution_count": null,
   "metadata": {},
   "outputs": [],
   "source": [
    "df_train.plot(kind = \"line\", x = \"Date\", y = ['log_value', 'model_log_est']);"
   ]
  },
  {
   "cell_type": "code",
   "execution_count": null,
   "metadata": {},
   "outputs": [],
   "source": [
    "df_train.plot(kind = \"line\", x = \"Date\", y = ['Close', 'back_model_log_est']);"
   ]
  },
  {
   "cell_type": "code",
   "execution_count": null,
   "metadata": {},
   "outputs": [],
   "source": [
    "df_test.plot(kind = \"line\", x = \"Date\", y = ['log_value', 'model_log_est']);"
   ]
  },
  {
   "cell_type": "code",
   "execution_count": null,
   "metadata": {},
   "outputs": [],
   "source": [
    "df_test.plot(kind = \"line\", x = \"Date\", y = ['Close', 'back_model_log_est']);"
   ]
  },
  {
   "cell_type": "markdown",
   "metadata": {},
   "source": [
    "#### Se calcula el MAPE + RMSE y se almacena"
   ]
  },
  {
   "cell_type": "code",
   "execution_count": null,
   "metadata": {},
   "outputs": [],
   "source": [
    "model_MAPE = mean_absolute_percentage_error (df_test.Close , df_test.back_model_log_est)"
   ]
  },
  {
   "cell_type": "code",
   "execution_count": null,
   "metadata": {},
   "outputs": [],
   "source": [
    "df_Results.loc[4, \"Model\"] = \"Transf Log + est\"\n",
    "df_Results.loc[4, \"RMSE\"] = RMSE(df_test['back_model_log_est'], df_test['Close'])\n",
    "df_Results.loc[4, \"MAPE\"] = model_MAPE\n",
    "df_Results"
   ]
  },
  {
   "cell_type": "markdown",
   "metadata": {},
   "source": [
    "## f) Simple Smoothing"
   ]
  },
  {
   "cell_type": "markdown",
   "metadata": {},
   "source": [
    "#### Fiteo del modelo:"
   ]
  },
  {
   "cell_type": "code",
   "execution_count": null,
   "metadata": {},
   "outputs": [],
   "source": [
    "model_exp_smoothing = SimpleExpSmoothing(df_train.Close).fit(smoothing_level=0.3, optimized=False)"
   ]
  },
  {
   "cell_type": "markdown",
   "metadata": {},
   "source": [
    "#### Ploteo de las predicciones vs las series reales, en train y test:"
   ]
  },
  {
   "cell_type": "code",
   "execution_count": null,
   "metadata": {},
   "outputs": [],
   "source": [
    "df_train.plot(kind = \"line\", y = \"Close\")\n",
    "model_exp_smoothing.fittedvalues.plot();"
   ]
  },
  {
   "cell_type": "code",
   "execution_count": null,
   "metadata": {},
   "outputs": [],
   "source": [
    "# Se define cantidad de splits:\n",
    "tscv = TimeSeriesSplit(n_splits=5)"
   ]
  },
  {
   "cell_type": "code",
   "execution_count": null,
   "metadata": {},
   "outputs": [],
   "source": [
    "for train_index, val_index in tscv.split(df_train):\n",
    "    print(\"TRAIN:\", train_index, \"VAL:\", val_index)"
   ]
  },
  {
   "cell_type": "markdown",
   "metadata": {},
   "source": [
    "Creación de una función para aplicar Cross Validation"
   ]
  },
  {
   "cell_type": "code",
   "execution_count": null,
   "metadata": {},
   "outputs": [],
   "source": [
    "def timeseriesCVscore_exp_smoot(alpha, series):\n",
    "    \"\"\"\n",
    "        Devuelve errores en CV  \n",
    "        \n",
    "        slen - longitud de la sesión para modelo Holt-Winters\n",
    "    \"\"\"\n",
    "    # Se crea un array de errores:\n",
    "    errors = []\n",
    "    values = series.values\n",
    "    \n",
    "    # Se instancia el objeto que realiza el tscv:\n",
    "    tscv = TimeSeriesSplit(n_splits=5) \n",
    "    \n",
    "    # Se aplica cross validation:\n",
    "    for train, test in tscv.split(values):\n",
    "    \n",
    "        model = SimpleExpSmoothing(values[train]).fit(smoothing_level = alpha, optimized=False)     \n",
    "        predictions = model.forecast(len(test))\n",
    "        actual = values[test]\n",
    "    \n",
    "        error = mean_squared_error(predictions, actual)\n",
    "        errors.append(error)\n",
    "        \n",
    "    return np.mean(np.array(errors))"
   ]
  },
  {
   "cell_type": "markdown",
   "metadata": {},
   "source": [
    "Aplicación de la función"
   ]
  },
  {
   "cell_type": "code",
   "execution_count": null,
   "metadata": {},
   "outputs": [],
   "source": [
    "alphas = [0.001, 0.01, 0.1, 0.2, 0.3, 0.35, 0.4, 0.5, 0.7]\n",
    "errors = []\n",
    "\n",
    "for alpha in alphas:\n",
    "    error = timeseriesCVscore_exp_smoot(alpha, df_train.Close)\n",
    "    errors.append(error)\n",
    "\n",
    "print('Alpha óptimo:', alphas[np.argmin(errors)])"
   ]
  },
  {
   "cell_type": "code",
   "execution_count": null,
   "metadata": {},
   "outputs": [],
   "source": [
    "model_exp_smoothing = SimpleExpSmoothing(df_train.Close).fit(smoothing_level=alphas[np.argmin(errors)], optimized=False)"
   ]
  },
  {
   "cell_type": "code",
   "execution_count": null,
   "metadata": {},
   "outputs": [],
   "source": [
    "df_test[\"Simple_Smoothing\"] = model_exp_smoothing.forecast(len(df_test))\n",
    "df_test.head()"
   ]
  },
  {
   "cell_type": "markdown",
   "metadata": {},
   "source": [
    "#### Se calcula el MAPE + RMSE y se almacena"
   ]
  },
  {
   "cell_type": "code",
   "execution_count": null,
   "metadata": {},
   "outputs": [],
   "source": [
    "model_MAPE = mean_absolute_percentage_error(df_test.Close , df_test.Simple_Smoothing)"
   ]
  },
  {
   "cell_type": "code",
   "execution_count": null,
   "metadata": {},
   "outputs": [],
   "source": [
    "# Calculamos el RMSE y almacenamos los resultados\n",
    "df_Results.loc[5, \"Model\"] = \"Simple Smoothing\"\n",
    "df_Results.loc[5, \"RMSE\"] = RMSE(df_test[\"Simple_Smoothing\"], df_test.Close)\n",
    "df_Results.loc[5, \"MAPE\"] = model_MAPE\n",
    "\n",
    "df_Results"
   ]
  },
  {
   "cell_type": "markdown",
   "metadata": {},
   "source": [
    "#### Ploteo de las predicciones vs las series reales, en train y test:"
   ]
  },
  {
   "cell_type": "code",
   "execution_count": null,
   "metadata": {},
   "outputs": [],
   "source": [
    "df_test.plot(kind=\"line\", y = [\"Close\", \"Simple_Smoothing\"]);"
   ]
  },
  {
   "cell_type": "markdown",
   "metadata": {},
   "source": [
    "## g) Dickey Fuller + Autocorrelación"
   ]
  },
  {
   "cell_type": "markdown",
   "metadata": {},
   "source": [
    "#### Se prueba si los residuos son estacionarios"
   ]
  },
  {
   "cell_type": "code",
   "execution_count": null,
   "metadata": {},
   "outputs": [],
   "source": [
    "residuo = df_train['Close'] - df_train['back_model_log_est']\n",
    "plt.plot(df_train.timeIndex, residuo, '-');"
   ]
  },
  {
   "cell_type": "markdown",
   "metadata": {},
   "source": [
    "#### Aplicación de Dickey Fuller al residuo: "
   ]
  },
  {
   "cell_type": "code",
   "execution_count": null,
   "metadata": {},
   "outputs": [],
   "source": [
    "result = adfuller(residuo)\n",
    "print('ADF Statistic: %f' % result[0])\n",
    "print('p-value: %f' % result[1])\n",
    "for key, value in  result[4].items():\n",
    "    print('Valor crítico %s: %.2f' % (key,value))"
   ]
  },
  {
   "cell_type": "markdown",
   "metadata": {},
   "source": [
    "No se puede rechazar la H0 con un nivel de significación del 5%."
   ]
  },
  {
   "cell_type": "code",
   "execution_count": null,
   "metadata": {},
   "outputs": [],
   "source": [
    "# Se prueba ahora con los residuos antes de realizar back transform:\n",
    "res_log_est = df_train['log_value'] - df_train['model_log_est']\n",
    "plt.plot(df_train.timeIndex, res_log_est, '-');"
   ]
  },
  {
   "cell_type": "markdown",
   "metadata": {},
   "source": [
    "#### Segundo testeo de la estacionalidad de los residuos:"
   ]
  },
  {
   "cell_type": "code",
   "execution_count": null,
   "metadata": {},
   "outputs": [],
   "source": [
    "from statsmodels.tsa.stattools import adfuller\n",
    "\n",
    "result = adfuller(res_log_est)\n",
    "print('ADF Statistic: %f' % result[0])\n",
    "print('p-value: %f' % result[1])\n",
    "for key, value in  result[4].items():\n",
    "    print('Valor crítico %s: %.2f' % (key,value))"
   ]
  },
  {
   "cell_type": "markdown",
   "metadata": {},
   "source": [
    "Aún no se puede rechazar la H0, pero se continúa el análisis"
   ]
  },
  {
   "cell_type": "code",
   "execution_count": null,
   "metadata": {},
   "outputs": [],
   "source": [
    "# Cálculo del res_log con 20 rezagos:\n",
    "lag_acf = acf(res_log_est, nlags = 20)\n",
    "lag_acf"
   ]
  },
  {
   "cell_type": "markdown",
   "metadata": {},
   "source": [
    "#### Se almacena la serie ACF y se plotea:"
   ]
  },
  {
   "cell_type": "code",
   "execution_count": null,
   "metadata": {},
   "outputs": [],
   "source": [
    "ACF = pd.Series(lag_acf)\n",
    "ACF.plot(kind = \"bar\");"
   ]
  },
  {
   "cell_type": "markdown",
   "metadata": {},
   "source": [
    "#### Se repiten los pasos anteriores pero con PACF:"
   ]
  },
  {
   "cell_type": "code",
   "execution_count": null,
   "metadata": {},
   "outputs": [],
   "source": [
    "lag_pacf = pacf(res_log_est, nlags=20, method='ols');"
   ]
  },
  {
   "cell_type": "code",
   "execution_count": null,
   "metadata": {},
   "outputs": [],
   "source": [
    "PACF = pd.Series(lag_pacf)\n",
    "PACF.plot(kind = \"bar\");"
   ]
  },
  {
   "cell_type": "markdown",
   "metadata": {},
   "source": [
    "Se puede concluir de este análisis que la correlación indirecta es alta, pero la parcial que considera solo influencia directa de cada período es absoluta en tan solo un mes antes del momento a analizar: esto habla de la alta volatilidad del caso a analizar, ya que se deduce de la herramienta y los datos que es de poca utilidad para la predicción de valores en las criptomonedas la utilización de información de más de un mes atrás"
   ]
  },
  {
   "cell_type": "markdown",
   "metadata": {},
   "source": [
    "#### Se crea una función para plotear una serie con información sobre los ACF y PACF y su estacionalidad:"
   ]
  },
  {
   "cell_type": "code",
   "execution_count": null,
   "metadata": {},
   "outputs": [],
   "source": [
    "def tsplot(y, lags=None, figsize=(12, 7), style='bmh'):\n",
    "    \"\"\" \n",
    "        Plotea la serie de tiempo, el ACF y PACF y el test de Dickey–Fuller\n",
    "        \n",
    "        y - serie de tiempo\n",
    "        lags - cuántos lags incluir para el cálculo de la ACF y PACF\n",
    "        \n",
    "    \"\"\"\n",
    "    if not isinstance(y, pd.Series):\n",
    "        y = pd.Series(y)\n",
    "        \n",
    "    with plt.style.context(style):    \n",
    "        fig = plt.figure(figsize=figsize)\n",
    "        layout = (2, 2)\n",
    "        \n",
    "        # Se definen ejes\n",
    "        ts_ax = plt.subplot2grid(layout, (0, 0), colspan=2)\n",
    "        acf_ax = plt.subplot2grid(layout, (1, 0))\n",
    "        pacf_ax = plt.subplot2grid(layout, (1, 1))\n",
    "        \n",
    "        y.plot(ax=ts_ax)\n",
    "        \n",
    "        # Se obtiene el p-value con H0: raiz unitaria presente\n",
    "        p_value = sm.tsa.stattools.adfuller(y)[1]\n",
    "        \n",
    "        ts_ax.set_title('Análisis de la Serie de Tiempo\\n Dickey-Fuller: p={0:.5f}'\\\n",
    "                        .format(p_value))\n",
    "        \n",
    "        # Plot de autocorrelacion\n",
    "        smt.graphics.plot_acf(y, lags=lags, ax=acf_ax)\n",
    "        # Plot de autocorrelacion parcial\n",
    "        smt.graphics.plot_pacf(y, lags=lags, ax=pacf_ax)\n",
    "        plt.tight_layout()"
   ]
  },
  {
   "cell_type": "code",
   "execution_count": null,
   "metadata": {},
   "outputs": [],
   "source": [
    "# Aplicación de la función con la serie res_log:\n",
    "tsplot(res_log_est, lags=36)"
   ]
  },
  {
   "cell_type": "markdown",
   "metadata": {},
   "source": [
    "## h) ARIMA"
   ]
  },
  {
   "cell_type": "markdown",
   "metadata": {},
   "source": [
    "#### Se aplica el auto_arima sobre res_log_est"
   ]
  },
  {
   "cell_type": "code",
   "execution_count": null,
   "metadata": {},
   "outputs": [],
   "source": [
    "stepwise_fit = auto_arima(res_log_est, trace=True, suppress_warnings=True)"
   ]
  },
  {
   "cell_type": "markdown",
   "metadata": {},
   "source": [
    "#### Como se obtuvo mejores resultados con p=2 y q=1, s aplica:"
   ]
  },
  {
   "cell_type": "code",
   "execution_count": null,
   "metadata": {},
   "outputs": [],
   "source": [
    "model_ARIMA = ARIMA(res_log_est, order=(2,0,1))\n",
    "\n",
    "# Estimación del modelo:\n",
    "results_ARIMA = model_ARIMA.fit()\n",
    "results_ARIMA.fittedvalues.head()"
   ]
  },
  {
   "cell_type": "markdown",
   "metadata": {},
   "source": [
    "#### Se observa el summary:"
   ]
  },
  {
   "cell_type": "code",
   "execution_count": null,
   "metadata": {},
   "outputs": [],
   "source": [
    "print(results_ARIMA.summary())"
   ]
  },
  {
   "cell_type": "markdown",
   "metadata": {},
   "source": [
    "#### Ploteo de resultados:"
   ]
  },
  {
   "cell_type": "code",
   "execution_count": null,
   "metadata": {},
   "outputs": [],
   "source": [
    "plt.figure(figsize=(7,3.5))\n",
    "res_log_est.plot()\n",
    "results_ARIMA.fittedvalues.plot();"
   ]
  },
  {
   "cell_type": "code",
   "execution_count": null,
   "metadata": {},
   "outputs": [],
   "source": [
    "results_ARIMA.plot_predict(end=len(df['Close']));"
   ]
  },
  {
   "cell_type": "markdown",
   "metadata": {},
   "source": [
    "#### Análisis de los residuos del modelo ARIMA:"
   ]
  },
  {
   "cell_type": "code",
   "execution_count": null,
   "metadata": {},
   "outputs": [],
   "source": [
    "res_ARIMA =  results_ARIMA.fittedvalues - res_log_est"
   ]
  },
  {
   "cell_type": "code",
   "execution_count": null,
   "metadata": {},
   "outputs": [],
   "source": [
    "tsplot(res_ARIMA, lags=36)"
   ]
  },
  {
   "cell_type": "markdown",
   "metadata": {},
   "source": [
    "#### Aplicación del método Forecast:"
   ]
  },
  {
   "cell_type": "code",
   "execution_count": null,
   "metadata": {},
   "outputs": [],
   "source": [
    "predictions_ARIMA, se, conf = results_ARIMA.forecast(len(df_test['Close']), alpha=0.05)"
   ]
  },
  {
   "cell_type": "code",
   "execution_count": null,
   "metadata": {},
   "outputs": [],
   "source": [
    "# Se crea una variable en train y test y se plotea los resultados:\n",
    "\n",
    "df_train['log_model_ARIMA'] = df_train['model_log_est'] + results_ARIMA.fittedvalues\n",
    "\n",
    "df_test['log_model_ARIMA'] = df_test['model_log_est'] + predictions_ARIMA"
   ]
  },
  {
   "cell_type": "markdown",
   "metadata": {},
   "source": [
    "#### Ploteo de las predicciones vs las series reales, en train y test:"
   ]
  },
  {
   "cell_type": "code",
   "execution_count": null,
   "metadata": {},
   "outputs": [],
   "source": [
    "df_train.plot(kind = \"line\", y = ['log_value', 'log_model_ARIMA']);"
   ]
  },
  {
   "cell_type": "code",
   "execution_count": null,
   "metadata": {},
   "outputs": [],
   "source": [
    "df_test.plot(kind = \"line\", y = ['log_value', 'log_model_ARIMA']);"
   ]
  },
  {
   "cell_type": "code",
   "execution_count": null,
   "metadata": {},
   "outputs": [],
   "source": [
    "# Se crea una variable en train y test con back transformation del modelo log y se plotea resultados:\n",
    "\n",
    "df_train['back_log_model_ARIMA'] = np.exp(df_train['log_model_ARIMA'])\n",
    "\n",
    "df_test['back_log_model_ARIMA'] = np.exp(df_test['log_model_ARIMA'])"
   ]
  },
  {
   "cell_type": "code",
   "execution_count": null,
   "metadata": {},
   "outputs": [],
   "source": [
    "df_train.plot(kind = \"line\", y = ['Close', 'back_log_model_ARIMA']);"
   ]
  },
  {
   "cell_type": "code",
   "execution_count": null,
   "metadata": {},
   "outputs": [],
   "source": [
    "df_test.plot(kind = \"line\", y = ['Close', 'back_log_model_ARIMA']);"
   ]
  },
  {
   "cell_type": "markdown",
   "metadata": {},
   "source": [
    "#### Se calcula el MAPE + RMSE y se almacena"
   ]
  },
  {
   "cell_type": "code",
   "execution_count": null,
   "metadata": {},
   "outputs": [],
   "source": [
    "model_MAPE = mean_absolute_percentage_error (df_test.Close , df_test.back_log_model_ARIMA)"
   ]
  },
  {
   "cell_type": "code",
   "execution_count": null,
   "metadata": {},
   "outputs": [],
   "source": [
    "df_Results.loc[6, \"Model\"] = \"Log Model + est + ARIMA\"\n",
    "df_Results.loc[6, \"RMSE\"] = RMSE(df_test['back_log_model_ARIMA'], df_test['Close'])\n",
    "df_Results.loc[6, \"MAPE\"] = model_MAPE\n",
    "\n",
    "df_Results"
   ]
  },
  {
   "cell_type": "markdown",
   "metadata": {},
   "source": [
    "# 3) Comparación de resultados"
   ]
  },
  {
   "cell_type": "markdown",
   "metadata": {},
   "source": [
    "#### Análisis de RMSE y MAPE en cuadro"
   ]
  },
  {
   "cell_type": "markdown",
   "metadata": {},
   "source": [
    "Como el Prophet se aplica en la siguiente notebook, se insertan los resultados manualmente a continuación:"
   ]
  },
  {
   "cell_type": "code",
   "execution_count": null,
   "metadata": {},
   "outputs": [],
   "source": [
    "df_Results.loc[7, \"Model\"] = \"Prophet\"\n",
    "df_Results.loc[7, \"RMSE\"] = \"6997.16\"\n",
    "df_Results.loc[7, \"MAPE\"] = \"15.54\"\n",
    "\n",
    "df_Results"
   ]
  },
  {
   "cell_type": "markdown",
   "metadata": {},
   "source": [
    "#### Análisis de RMSE y MAPE visualizado"
   ]
  },
  {
   "cell_type": "code",
   "execution_count": null,
   "metadata": {},
   "outputs": [],
   "source": [
    "plt.figure(figsize=(18, 10)).suptitle('Comparación de rendimiento', y=0.3, fontsize = 16, color='white', backgroundcolor='gray')\n",
    "plt.plot(df_Results.RMSE, color='red', linewidth=2, label = \"RMSE\")\n",
    "\n",
    "\n",
    "plt.ylabel('Rendimiento', fontsize=18)\n",
    "plt.legend(fontsize = 15)\n",
    "\n",
    "axes= plt.gca()\n",
    "ymin= 0\n",
    "ymax= 50000\n",
    "axes.set_ylim([ymin, ymax])\n",
    "\n",
    "plt.axvline(x='Means', color=\"grey\", linestyle=\"--\", lw=1.3)\n",
    "plt.axvline(x='Random Walk',color=\"grey\", linestyle=\"--\", lw=1.3)\n",
    "plt.axvline(x='LinearTrend', color=\"grey\", linestyle=\"--\", lw=1.3)\n",
    "plt.axvline(x='Transf Log' , color=\"grey\", linestyle=\"--\", lw=1.3)\n",
    "plt.axvline(x='Transf Log + est', color=\"grey\", linestyle=\"--\", lw=1.3)\n",
    "plt.axvline(x='Simple Smoothing', color=\"grey\", linestyle=\"--\", lw=1.3)\n",
    "plt.axvline(x='Log_Model_est_ARIMA_plot', color=\"grey\", linestyle=\"--\", lw=1.3)\n",
    "plt.axvline(x='Prophet', color=\"grey\", linestyle=\"--\", lw=1.3)\n",
    "\n",
    "plt.grid(which='major', axis='y', color='black', lw=0.4, alpha=0.6)\n",
    "plt.show()"
   ]
  },
  {
   "cell_type": "code",
   "execution_count": null,
   "metadata": {},
   "outputs": [],
   "source": [
    "plt.figure(figsize=(18, 10)).suptitle('Comparación de rendimiento', y=0.3, fontsize = 16, color='white', backgroundcolor='gray')\n",
    "plt.plot(df_Results.MAPE, color='b', linewidth=2, label = \"MAPE\")\n",
    "\n",
    "\n",
    "plt.ylabel('Rendimiento', fontsize=18)\n",
    "plt.legend(fontsize = 15)\n",
    "\n",
    "axes= plt.gca()\n",
    "ymin= 0\n",
    "ymax= 99\n",
    "axes.set_ylim([ymin, ymax])\n",
    "\n",
    "plt.axvline(x='Means', color=\"grey\", linestyle=\"--\", lw=1.3)\n",
    "plt.axvline(x='Random Walk',color=\"grey\", linestyle=\"--\", lw=1.3)\n",
    "plt.axvline(x='LinearTrend', color=\"grey\", linestyle=\"--\", lw=1.3)\n",
    "plt.axvline(x='Transf Log' , color=\"grey\", linestyle=\"--\", lw=1.3)\n",
    "plt.axvline(x='Transf Log + est', color=\"grey\", linestyle=\"--\", lw=1.3)\n",
    "plt.axvline(x='Simple Smoothing', color=\"grey\", linestyle=\"--\", lw=1.3)\n",
    "plt.axvline(x='Log_Model_est_ARIMA_plot', color=\"grey\", linestyle=\"--\", lw=1.3)\n",
    "plt.axvline(x='Prophet', color=\"grey\", linestyle=\"--\", lw=1.3)\n",
    "\n",
    "plt.grid(which='major', axis='y', color='black', lw=0.4, alpha=0.6)\n",
    "plt.show()"
   ]
  },
  {
   "cell_type": "markdown",
   "metadata": {},
   "source": [
    "En la 3ra y última notebook se prueba una herramienta no vista en el curso. Se separó para ser planteada como un anexo, debido a nuestra incertidumbre de sus resultados ya que no fue trabajada en clase."
   ]
  }
 ],
 "metadata": {
  "kernelspec": {
   "display_name": "Python 3",
   "language": "python",
   "name": "python3"
  },
  "language_info": {
   "codemirror_mode": {
    "name": "ipython",
    "version": 3
   },
   "file_extension": ".py",
   "mimetype": "text/x-python",
   "name": "python",
   "nbconvert_exporter": "python",
   "pygments_lexer": "ipython3",
   "version": "3.7.9"
  }
 },
 "nbformat": 4,
 "nbformat_minor": 5
}
