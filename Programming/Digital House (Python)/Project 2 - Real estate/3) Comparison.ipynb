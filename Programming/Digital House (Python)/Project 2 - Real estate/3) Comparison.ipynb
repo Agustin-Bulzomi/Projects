{
 "cells": [
  {
   "cell_type": "markdown",
   "metadata": {},
   "source": [
    "# 1) Preparación previa"
   ]
  },
  {
   "cell_type": "markdown",
   "metadata": {},
   "source": [
    "### Carga de librerías"
   ]
  },
  {
   "cell_type": "code",
   "execution_count": null,
   "metadata": {},
   "outputs": [],
   "source": [
    "import pandas as pd\n",
    "import numpy as np\n",
    "import re\n",
    "from sklearn import linear_model\n",
    "from sklearn.metrics import mean_squared_error, r2_score, mean_absolute_error\n",
    "from sklearn.model_selection import train_test_split\n",
    "%matplotlib inline\n",
    "from matplotlib import pyplot as plt\n",
    "import seaborn as sns\n",
    "import scipy as sp\n",
    "from sklearn.preprocessing import PolynomialFeatures\n",
    "from sklearn.model_selection import train_test_split"
   ]
  },
  {
   "cell_type": "markdown",
   "metadata": {},
   "source": [
    "### Lectura del data set con dummies"
   ]
  },
  {
   "cell_type": "code",
   "execution_count": null,
   "metadata": {},
   "outputs": [],
   "source": [
    "data_con_dummies = pd.read_csv(\"data_con_dummies.csv\", sep = \";\")\n",
    "data_con_dummies.head(5)"
   ]
  },
  {
   "cell_type": "markdown",
   "metadata": {},
   "source": [
    "# 2) Gráficos"
   ]
  },
  {
   "cell_type": "markdown",
   "metadata": {},
   "source": [
    "Se trabajará con distintos subconjuntos de datos"
   ]
  },
  {
   "cell_type": "markdown",
   "metadata": {},
   "source": [
    "### Datos de PHs y departamentos en Palermo"
   ]
  },
  {
   "cell_type": "code",
   "execution_count": null,
   "metadata": {},
   "outputs": [],
   "source": [
    "dataset_test_Palermo = data_con_dummies[['ambientes_imputados','ambientes_train','partido_Palermo', \n",
    "                                 'prop_PH', 'prop_apartment', 'surface_covered_in_m2', \n",
    "                                 'amb_1.0', 'amb_2.0', 'amb_3.0', 'amb_4.0', \n",
    "                                 'dummy_amenities', 'precio_usd_por_m2']].copy()"
   ]
  },
  {
   "cell_type": "code",
   "execution_count": null,
   "metadata": {},
   "outputs": [],
   "source": [
    "plt.figure(figsize=(10,7))\n",
    "sns.heatmap(dataset_test_Palermo.corr(),annot=True, cmap='Reds')\n",
    "plt.title(\"Correlation Heatmap\")\n",
    "plt.show()"
   ]
  },
  {
   "cell_type": "code",
   "execution_count": null,
   "metadata": {},
   "outputs": [],
   "source": [
    "X_train_Palermo = dataset_test_Palermo[dataset_test_Palermo.ambientes_imputados == 0].copy()\n",
    "X_test_Palermo = dataset_test_Palermo[dataset_test_Palermo.ambientes_train == 0].copy()"
   ]
  },
  {
   "cell_type": "code",
   "execution_count": null,
   "metadata": {},
   "outputs": [],
   "source": [
    "Y_train_Palermo = X_train_Palermo[\"precio_usd_por_m2\"]\n",
    "Y_test_Palermo = X_test_Palermo[\"precio_usd_por_m2\"]"
   ]
  },
  {
   "cell_type": "code",
   "execution_count": null,
   "metadata": {},
   "outputs": [],
   "source": [
    "X_train_Palermo.drop([\"precio_usd_por_m2\"], axis = 1, inplace = True)\n",
    "X_test_Palermo.drop([\"precio_usd_por_m2\"], axis = 1, inplace = True)"
   ]
  },
  {
   "cell_type": "code",
   "execution_count": null,
   "metadata": {},
   "outputs": [],
   "source": [
    "lm_Palermo = linear_model.LinearRegression()\n",
    "# Fiteamos el modelo sobre los vectores X e Y.\n",
    "model_Palermo = lm_Palermo.fit(X_train_Palermo, Y_train_Palermo)"
   ]
  },
  {
   "cell_type": "code",
   "execution_count": null,
   "metadata": {},
   "outputs": [],
   "source": [
    "# Guardamos  las predicciones en un nuevo vector que llamaremos predictions.\n",
    "predictions_Palermo = lm_Palermo.predict(X_test_Palermo)"
   ]
  },
  {
   "cell_type": "code",
   "execution_count": null,
   "metadata": {},
   "outputs": [],
   "source": [
    "# Imprimimos el intercepto y los coeficientes como atributos del objeto entrenado.\n",
    "print ('Intercepto =', model_Palermo.intercept_)\n",
    "print ('RM =', model_Palermo.coef_)"
   ]
  },
  {
   "cell_type": "code",
   "execution_count": null,
   "metadata": {},
   "outputs": [],
   "source": [
    "# Imprimos la metrica que mide la bondad de ajusto del modelo. En este caso el R2.\n",
    "R2_train_Palermo = model_Palermo.score(X_train_Palermo, Y_train_Palermo)\n",
    "R2_train_Palermo"
   ]
  },
  {
   "cell_type": "code",
   "execution_count": null,
   "metadata": {},
   "outputs": [],
   "source": [
    "#media del precio_usd_por_m2\n",
    "dataset_test_Palermo.precio_usd_por_m2.mean()"
   ]
  },
  {
   "cell_type": "code",
   "execution_count": null,
   "metadata": {},
   "outputs": [],
   "source": [
    "# Error absoluto de la media\n",
    "MAE_Test_Palermo = mean_absolute_error(Y_test_Palermo, predictions_Palermo)\n",
    "MAE_Test_Palermo"
   ]
  },
  {
   "cell_type": "code",
   "execution_count": null,
   "metadata": {},
   "outputs": [],
   "source": [
    "# Raiz cuadrada de la media del error\n",
    "MSE_Test_Palermo = mean_squared_error(Y_test_Palermo, predictions_Palermo)\n",
    "MSE_Test_Palermo"
   ]
  },
  {
   "cell_type": "code",
   "execution_count": null,
   "metadata": {},
   "outputs": [],
   "source": [
    "RMSE_Test_Palermo = np.sqrt(mean_squared_error(Y_test_Palermo, predictions_Palermo))\n",
    "RMSE_Test_Palermo"
   ]
  },
  {
   "cell_type": "code",
   "execution_count": null,
   "metadata": {},
   "outputs": [],
   "source": [
    "# Carga de los datos de la regresión lineal simple en base a la superficie obtenida en la notebook 2\n",
    "\n",
    "revision_datos = [ {'subconjunto': 'Superficie Cubierta',\n",
    "    'R2_train': 0.0838,\n",
    "    'MAE': 630.7234,\n",
    "    'MSE': 616548.9624,\n",
    "    'RMSE': 785.2063}]\n",
    "\n",
    "# Se procede a agregar los nuevos datos obtenidos. Se analizarán al final\n",
    "\n",
    "revision_datos.append({\n",
    "    'subconjunto': 'PHs y departamentos en Palermo',\n",
    "    'R2_train': R2_train_Palermo.round(4),\n",
    "    'MAE': MAE_Test_Palermo.round(4),\n",
    "    'MSE': MSE_Test_Palermo.round(4),\n",
    "    'RMSE': RMSE_Test_Palermo.round(4),\n",
    "})"
   ]
  },
  {
   "cell_type": "code",
   "execution_count": null,
   "metadata": {},
   "outputs": [],
   "source": [
    "dataset_test_Palermo.columns"
   ]
  },
  {
   "cell_type": "markdown",
   "metadata": {},
   "source": [
    "## Departamentos en Rosario"
   ]
  },
  {
   "cell_type": "code",
   "execution_count": null,
   "metadata": {},
   "outputs": [],
   "source": [
    "dataset_test_Rosario = data_con_dummies[['ambientes_imputados','ambientes_train','partido_Rosario', \n",
    "                                   'prop_apartment', 'surface_covered_in_m2', \n",
    "                                   'amb_1.0', 'amb_2.0', 'amb_3.0', 'amb_4.0', 'dummy_amenities', \n",
    "                                   'precio_usd_por_m2']].copy()"
   ]
  },
  {
   "cell_type": "code",
   "execution_count": null,
   "metadata": {},
   "outputs": [],
   "source": [
    "plt.figure(figsize=(10,7))\n",
    "sns.heatmap(dataset_test_Rosario.corr(),annot=True, cmap='Reds')\n",
    "plt.title(\"Correlation Heatmap\")\n",
    "plt.show()"
   ]
  },
  {
   "cell_type": "code",
   "execution_count": null,
   "metadata": {},
   "outputs": [],
   "source": [
    "X_train_Rosario = dataset_test_Rosario[dataset_test_Rosario.ambientes_imputados == 0].copy()\n",
    "X_test_Rosario = dataset_test_Rosario[dataset_test_Rosario.ambientes_train == 0].copy()"
   ]
  },
  {
   "cell_type": "code",
   "execution_count": null,
   "metadata": {},
   "outputs": [],
   "source": [
    "Y_train_Rosario = X_train_Rosario[\"precio_usd_por_m2\"]\n",
    "Y_test_Rosario = X_test_Rosario[\"precio_usd_por_m2\"]"
   ]
  },
  {
   "cell_type": "code",
   "execution_count": null,
   "metadata": {},
   "outputs": [],
   "source": [
    "X_train_Rosario.drop([\"precio_usd_por_m2\"], axis = 1, inplace = True)\n",
    "X_test_Rosario.drop([\"precio_usd_por_m2\"], axis = 1, inplace = True)"
   ]
  },
  {
   "cell_type": "code",
   "execution_count": null,
   "metadata": {},
   "outputs": [],
   "source": [
    "lm_Rosario = linear_model.LinearRegression()\n",
    "# Fiteamos el modelo sobre los vectores X e Y.\n",
    "model_Rosario = lm_Rosario.fit(X_train_Rosario, Y_train_Rosario)"
   ]
  },
  {
   "cell_type": "code",
   "execution_count": null,
   "metadata": {},
   "outputs": [],
   "source": [
    "# Guardamos  las predicciones en un nuevo vector que llamaremos predictions.\n",
    "predictions_Rosario = lm_Rosario.predict(X_test_Rosario)"
   ]
  },
  {
   "cell_type": "code",
   "execution_count": null,
   "metadata": {},
   "outputs": [],
   "source": [
    "# Imprimimos el intercepto y los coeficientes como atributos del objeto entrenado.\n",
    "print ('Intercepto =', model_Rosario.intercept_)\n",
    "print ('RM =', model_Rosario.coef_)"
   ]
  },
  {
   "cell_type": "code",
   "execution_count": null,
   "metadata": {},
   "outputs": [],
   "source": [
    "# Imprimos la metrica que mide la bondad de ajusto del modelo. En este caso el R2.\n",
    "R2_train_Rosario = model_Rosario.score(X_train_Rosario, Y_train_Rosario)\n",
    "R2_train_Rosario"
   ]
  },
  {
   "cell_type": "code",
   "execution_count": null,
   "metadata": {},
   "outputs": [],
   "source": [
    "#media del precio_usd_por_m2\n",
    "dataset_test_Rosario.precio_usd_por_m2.mean()\n"
   ]
  },
  {
   "cell_type": "code",
   "execution_count": null,
   "metadata": {},
   "outputs": [],
   "source": [
    "# Error absoluto de la media\n",
    "MAE_Test_Rosario = mean_absolute_error(Y_test_Rosario, predictions_Rosario)\n",
    "MAE_Test_Rosario"
   ]
  },
  {
   "cell_type": "code",
   "execution_count": null,
   "metadata": {},
   "outputs": [],
   "source": [
    "# Raiz cuadrada de la media del error\n",
    "MSE_Test_Rosario = mean_squared_error(Y_test_Rosario, predictions_Rosario)\n",
    "MSE_Test_Rosario"
   ]
  },
  {
   "cell_type": "code",
   "execution_count": null,
   "metadata": {},
   "outputs": [],
   "source": [
    "RMSE_Test_Rosario = np.sqrt(mean_squared_error(Y_test_Rosario, predictions_Rosario))\n",
    "RMSE_Test_Rosario"
   ]
  },
  {
   "cell_type": "code",
   "execution_count": null,
   "metadata": {},
   "outputs": [],
   "source": [
    "revision_datos.append({\n",
    "    'subconjunto': 'Departamentos en Rosario',\n",
    "    'R2_train': R2_train_Rosario.round(4),\n",
    "    'MAE': MAE_Test_Rosario.round(4),\n",
    "    'MSE': MSE_Test_Rosario.round(4),\n",
    "    'RMSE': RMSE_Test_Rosario.round(4),\n",
    "})"
   ]
  },
  {
   "cell_type": "code",
   "execution_count": null,
   "metadata": {},
   "outputs": [],
   "source": [
    "data_con_dummies.columns"
   ]
  },
  {
   "cell_type": "markdown",
   "metadata": {},
   "source": [
    "## Departamentos en Córdoba"
   ]
  },
  {
   "cell_type": "code",
   "execution_count": null,
   "metadata": {},
   "outputs": [],
   "source": [
    "dataset_test_Cordoba = data_con_dummies[['ambientes_imputados','ambientes_train','partido_Córdoba', \n",
    "                                   'prop_apartment', 'surface_covered_in_m2', \n",
    "                                   'amb_1.0', 'amb_2.0', 'amb_3.0', 'amb_4.0', 'dummy_amenities', \n",
    "                                   'precio_usd_por_m2']].copy()"
   ]
  },
  {
   "cell_type": "code",
   "execution_count": null,
   "metadata": {},
   "outputs": [],
   "source": [
    "plt.figure(figsize=(10,7))\n",
    "sns.heatmap(dataset_test_Cordoba.corr(),annot=True, cmap='Reds')\n",
    "plt.title(\"Correlation Heatmap\")\n",
    "plt.show()"
   ]
  },
  {
   "cell_type": "code",
   "execution_count": null,
   "metadata": {},
   "outputs": [],
   "source": [
    "X_train_Cordoba = dataset_test_Cordoba[dataset_test_Cordoba.ambientes_imputados == 0].copy()\n",
    "X_test_Cordoba = dataset_test_Cordoba[dataset_test_Cordoba.ambientes_train == 0].copy()"
   ]
  },
  {
   "cell_type": "code",
   "execution_count": null,
   "metadata": {},
   "outputs": [],
   "source": [
    "Y_train_Cordoba = X_train_Cordoba[\"precio_usd_por_m2\"]\n",
    "Y_test_Cordoba = X_test_Cordoba[\"precio_usd_por_m2\"]"
   ]
  },
  {
   "cell_type": "code",
   "execution_count": null,
   "metadata": {},
   "outputs": [],
   "source": [
    "X_train_Cordoba.drop([\"precio_usd_por_m2\"], axis = 1, inplace = True)\n",
    "X_test_Cordoba.drop([\"precio_usd_por_m2\"], axis = 1, inplace = True)"
   ]
  },
  {
   "cell_type": "code",
   "execution_count": null,
   "metadata": {},
   "outputs": [],
   "source": [
    "lm_Cordoba = linear_model.LinearRegression()\n",
    "# Fiteamos el modelo sobre los vectores X e Y.\n",
    "model_Cordoba = lm_Cordoba.fit(X_train_Cordoba, Y_train_Cordoba)"
   ]
  },
  {
   "cell_type": "code",
   "execution_count": null,
   "metadata": {},
   "outputs": [],
   "source": [
    "# Guardamos  las predicciones en un nuevo vector que llamaremos predictions.\n",
    "predictions_Cordoba = lm_Cordoba.predict(X_test_Cordoba)"
   ]
  },
  {
   "cell_type": "code",
   "execution_count": null,
   "metadata": {},
   "outputs": [],
   "source": [
    "# Imprimimos el intercepto y los coeficientes como atributos del objeto entrenado.\n",
    "print ('Intercepto =', model_Cordoba.intercept_)\n",
    "print ('RM =', model_Cordoba.coef_)"
   ]
  },
  {
   "cell_type": "code",
   "execution_count": null,
   "metadata": {},
   "outputs": [],
   "source": [
    "# Imprimos la metrica que mide la bondad de ajusto del modelo. En este caso el R2.\n",
    "R2_train_Cordoba = model_Cordoba.score(X_train_Cordoba, Y_train_Cordoba)\n",
    "R2_train_Cordoba"
   ]
  },
  {
   "cell_type": "code",
   "execution_count": null,
   "metadata": {},
   "outputs": [],
   "source": [
    "#media del precio_usd_por_m2\n",
    "dataset_test_Cordoba.precio_usd_por_m2.mean()\n"
   ]
  },
  {
   "cell_type": "code",
   "execution_count": null,
   "metadata": {},
   "outputs": [],
   "source": [
    "# Error absoluto de la media\n",
    "MAE_Test_Cordoba = mean_absolute_error(Y_test_Cordoba, predictions_Cordoba)\n",
    "MAE_Test_Cordoba"
   ]
  },
  {
   "cell_type": "code",
   "execution_count": null,
   "metadata": {},
   "outputs": [],
   "source": [
    "# Raiz cuadrada de la media del error\n",
    "MSE_Test_Cordoba = mean_squared_error(Y_test_Cordoba, predictions_Cordoba)\n",
    "MSE_Test_Cordoba"
   ]
  },
  {
   "cell_type": "code",
   "execution_count": null,
   "metadata": {},
   "outputs": [],
   "source": [
    "RMSE_Test_Cordoba = np.sqrt(mean_squared_error(Y_test_Cordoba, predictions_Cordoba))\n",
    "RMSE_Test_Cordoba"
   ]
  },
  {
   "cell_type": "code",
   "execution_count": null,
   "metadata": {},
   "outputs": [],
   "source": [
    "revision_datos.append({\n",
    "    'subconjunto': 'Departamentos en Córdoba',\n",
    "    'R2_train': R2_train_Cordoba.round(4),\n",
    "    'MAE': MAE_Test_Cordoba.round(4),\n",
    "    'MSE': MSE_Test_Cordoba.round(4),\n",
    "    'RMSE': RMSE_Test_Cordoba.round(4),\n",
    "})"
   ]
  },
  {
   "cell_type": "markdown",
   "metadata": {},
   "source": [
    "## PHs y casas en Pinamar"
   ]
  },
  {
   "cell_type": "code",
   "execution_count": null,
   "metadata": {},
   "outputs": [],
   "source": [
    "dataset_test_Pinamar = data_con_dummies[['ambientes_imputados','ambientes_train','partido_Pinamar', \n",
    "                                   'prop_PH', 'prop_house','surface_covered_in_m2', \n",
    "                                   'amb_1.0', 'amb_2.0', 'amb_3.0', 'amb_4.0', 'dummy_amenities', \n",
    "                                   'precio_usd_por_m2']].copy()"
   ]
  },
  {
   "cell_type": "code",
   "execution_count": null,
   "metadata": {},
   "outputs": [],
   "source": [
    "plt.figure(figsize=(10,7))\n",
    "sns.heatmap(dataset_test_Pinamar.corr(),annot=True, cmap='Reds')\n",
    "plt.title(\"Correlation Heatmap\")\n",
    "plt.show()"
   ]
  },
  {
   "cell_type": "code",
   "execution_count": null,
   "metadata": {},
   "outputs": [],
   "source": [
    "X_train_Pinamar = dataset_test_Pinamar[dataset_test_Pinamar.ambientes_imputados == 0].copy()\n",
    "X_test_Pinamar = dataset_test_Pinamar[dataset_test_Pinamar.ambientes_train == 0].copy()"
   ]
  },
  {
   "cell_type": "code",
   "execution_count": null,
   "metadata": {},
   "outputs": [],
   "source": [
    "Y_train_Pinamar = X_train_Pinamar[\"precio_usd_por_m2\"]\n",
    "Y_test_Pinamar = X_test_Pinamar[\"precio_usd_por_m2\"]"
   ]
  },
  {
   "cell_type": "code",
   "execution_count": null,
   "metadata": {},
   "outputs": [],
   "source": [
    "X_train_Pinamar.drop([\"precio_usd_por_m2\"], axis = 1, inplace = True)\n",
    "X_test_Pinamar.drop([\"precio_usd_por_m2\"], axis = 1, inplace = True)"
   ]
  },
  {
   "cell_type": "code",
   "execution_count": null,
   "metadata": {},
   "outputs": [],
   "source": [
    "lm_Pinamar = linear_model.LinearRegression()\n",
    "# Fiteamos el modelo sobre los vectores X e Y.\n",
    "model_Pinamar = lm_Pinamar.fit(X_train_Pinamar, Y_train_Pinamar)"
   ]
  },
  {
   "cell_type": "code",
   "execution_count": null,
   "metadata": {},
   "outputs": [],
   "source": [
    "# Guardamos  las predicciones en un nuevo vector que llamaremos predictions.\n",
    "predictions_Pinamar = lm_Pinamar.predict(X_test_Pinamar)"
   ]
  },
  {
   "cell_type": "code",
   "execution_count": null,
   "metadata": {},
   "outputs": [],
   "source": [
    "# Imprimimos el intercepto y los coeficientes como atributos del objeto entrenado.\n",
    "print ('Intercepto =', model_Pinamar.intercept_)\n",
    "print ('RM =', model_Pinamar.coef_)"
   ]
  },
  {
   "cell_type": "code",
   "execution_count": null,
   "metadata": {},
   "outputs": [],
   "source": [
    "# Imprimos la metrica que mide la bondad de ajusto del modelo. En este caso el R2.\n",
    "R2_train_Pinamar = model_Pinamar.score(X_train_Pinamar, Y_train_Pinamar)\n",
    "R2_train_Pinamar"
   ]
  },
  {
   "cell_type": "code",
   "execution_count": null,
   "metadata": {},
   "outputs": [],
   "source": [
    "#media del precio_usd_por_m2\n",
    "dataset_test_Pinamar.precio_usd_por_m2.mean()"
   ]
  },
  {
   "cell_type": "code",
   "execution_count": null,
   "metadata": {},
   "outputs": [],
   "source": [
    "# Error absoluto de la media\n",
    "MAE_Test_Pinamar = mean_absolute_error(Y_test_Pinamar, predictions_Pinamar)\n",
    "MAE_Test_Pinamar"
   ]
  },
  {
   "cell_type": "code",
   "execution_count": null,
   "metadata": {},
   "outputs": [],
   "source": [
    "# Raiz cuadrada de la media del error\n",
    "MSE_Test_Pinamar = mean_squared_error(Y_test_Pinamar, predictions_Pinamar)\n",
    "MSE_Test_Pinamar"
   ]
  },
  {
   "cell_type": "code",
   "execution_count": null,
   "metadata": {},
   "outputs": [],
   "source": [
    "RMSE_Test_Pinamar = np.sqrt(mean_squared_error(Y_test_Pinamar, predictions_Pinamar))\n",
    "RMSE_Test_Pinamar"
   ]
  },
  {
   "cell_type": "code",
   "execution_count": null,
   "metadata": {},
   "outputs": [],
   "source": [
    "revision_datos.append({\n",
    "    'subconjunto': 'PHs y casas en Pinamar',\n",
    "    'R2_train': R2_train_Pinamar.round(4),\n",
    "    'MAE': MAE_Test_Pinamar.round(4),\n",
    "    'MSE': MSE_Test_Pinamar.round(4),\n",
    "    'RMSE': RMSE_Test_Pinamar.round(4),\n",
    "})"
   ]
  },
  {
   "cell_type": "markdown",
   "metadata": {},
   "source": [
    "## Propiedades en Mar del Plata"
   ]
  },
  {
   "cell_type": "code",
   "execution_count": null,
   "metadata": {},
   "outputs": [],
   "source": [
    "dataset_test_Mardel = data_con_dummies[['ambientes_imputados','ambientes_train','partido_Mar del Plata', \n",
    "                                   'prop_PH', 'prop_apartment', 'prop_house','surface_covered_in_m2', \n",
    "                                   'amb_1.0', 'amb_2.0', 'amb_3.0', 'amb_4.0', 'dummy_amenities', \n",
    "                                   'precio_usd_por_m2']].copy()"
   ]
  },
  {
   "cell_type": "code",
   "execution_count": null,
   "metadata": {},
   "outputs": [],
   "source": [
    "plt.figure(figsize=(10,7))\n",
    "sns.heatmap(dataset_test_Mardel.corr(),annot=True, cmap='Reds')\n",
    "plt.title(\"Correlation Heatmap\")\n",
    "plt.show()"
   ]
  },
  {
   "cell_type": "code",
   "execution_count": null,
   "metadata": {},
   "outputs": [],
   "source": [
    "X_train_Mardel = dataset_test_Mardel[dataset_test_Mardel.ambientes_imputados == 0].copy()\n",
    "X_test_Mardel = dataset_test_Mardel[dataset_test_Mardel.ambientes_train == 0].copy()"
   ]
  },
  {
   "cell_type": "code",
   "execution_count": null,
   "metadata": {},
   "outputs": [],
   "source": [
    "Y_train_Mardel = X_train_Mardel[\"precio_usd_por_m2\"]\n",
    "Y_test_Mardel = X_test_Mardel[\"precio_usd_por_m2\"]"
   ]
  },
  {
   "cell_type": "code",
   "execution_count": null,
   "metadata": {},
   "outputs": [],
   "source": [
    "X_train_Mardel.drop([\"precio_usd_por_m2\"], axis = 1, inplace = True)\n",
    "X_test_Mardel.drop([\"precio_usd_por_m2\"], axis = 1, inplace = True)"
   ]
  },
  {
   "cell_type": "code",
   "execution_count": null,
   "metadata": {},
   "outputs": [],
   "source": [
    "lm_Mardel = linear_model.LinearRegression()\n",
    "# Fiteamos el modelo sobre los vectores X e Y.\n",
    "model_Mardel = lm_Mardel.fit(X_train_Mardel, Y_train_Mardel)"
   ]
  },
  {
   "cell_type": "code",
   "execution_count": null,
   "metadata": {},
   "outputs": [],
   "source": [
    "# Guardamos  las predicciones en un nuevo vector que llamaremos predictions.\n",
    "predictions_Mardel = lm_Mardel.predict(X_test_Mardel)"
   ]
  },
  {
   "cell_type": "code",
   "execution_count": null,
   "metadata": {},
   "outputs": [],
   "source": [
    "# Imprimimos el intercepto y los coeficientes como atributos del objeto entrenado.\n",
    "print ('Intercepto =', model_Mardel.intercept_)\n",
    "print ('RM =', model_Mardel.coef_)"
   ]
  },
  {
   "cell_type": "code",
   "execution_count": null,
   "metadata": {},
   "outputs": [],
   "source": [
    "# Imprimos la metrica que mide la bondad de ajusto del modelo. En este caso el R2.\n",
    "R2_train_Mardel = model_Mardel.score(X_train_Mardel, Y_train_Mardel)\n",
    "R2_train_Mardel"
   ]
  },
  {
   "cell_type": "code",
   "execution_count": null,
   "metadata": {},
   "outputs": [],
   "source": [
    "#media del precio_usd_por_m2\n",
    "dataset_test_Mardel.precio_usd_por_m2.mean()"
   ]
  },
  {
   "cell_type": "code",
   "execution_count": null,
   "metadata": {},
   "outputs": [],
   "source": [
    "# Error absoluto de la media\n",
    "MAE_Test_Mardel = mean_absolute_error(Y_test_Mardel, predictions_Mardel)\n",
    "MAE_Test_Mardel"
   ]
  },
  {
   "cell_type": "code",
   "execution_count": null,
   "metadata": {},
   "outputs": [],
   "source": [
    "# Raiz cuadrada de la media del error\n",
    "MSE_Test_Mardel = mean_squared_error(Y_test_Mardel, predictions_Mardel)\n",
    "MSE_Test_Mardel"
   ]
  },
  {
   "cell_type": "code",
   "execution_count": null,
   "metadata": {},
   "outputs": [],
   "source": [
    "RMSE_Test_Mardel = np.sqrt(mean_squared_error(Y_test_Mardel, predictions_Mardel))\n",
    "RMSE_Test_Mardel"
   ]
  },
  {
   "cell_type": "code",
   "execution_count": null,
   "metadata": {},
   "outputs": [],
   "source": [
    "revision_datos.append({\n",
    "    'subconjunto': 'Propiedades en Mar del Plata',\n",
    "    'R2_train': R2_train_Mardel.round(4),\n",
    "    'MAE': MAE_Test_Mardel.round(4),\n",
    "    'MSE': MSE_Test_Mardel.round(4),\n",
    "    'RMSE': RMSE_Test_Mardel.round(4),\n",
    "})"
   ]
  },
  {
   "cell_type": "markdown",
   "metadata": {},
   "source": [
    "## Casas en Punilla"
   ]
  },
  {
   "cell_type": "code",
   "execution_count": null,
   "metadata": {},
   "outputs": [],
   "source": [
    "dataset_test_Punilla = data_con_dummies[['ambientes_imputados','ambientes_train','partido_Punilla', \n",
    "                                   'prop_house','surface_covered_in_m2', \n",
    "                                   'amb_1.0', 'amb_2.0', 'amb_3.0', 'amb_4.0', 'dummy_amenities', \n",
    "                                   'precio_usd_por_m2']].copy()"
   ]
  },
  {
   "cell_type": "code",
   "execution_count": null,
   "metadata": {},
   "outputs": [],
   "source": [
    "plt.figure(figsize=(10,7))\n",
    "sns.heatmap(dataset_test_Punilla.corr(),annot=True, cmap='Reds')\n",
    "plt.title(\"Correlation Heatmap\")\n",
    "plt.show()"
   ]
  },
  {
   "cell_type": "code",
   "execution_count": null,
   "metadata": {},
   "outputs": [],
   "source": [
    "X_train_Punilla = dataset_test_Punilla[dataset_test_Punilla.ambientes_imputados == 0].copy()\n",
    "X_test_Punilla = dataset_test_Punilla[dataset_test_Punilla.ambientes_train == 0].copy()"
   ]
  },
  {
   "cell_type": "code",
   "execution_count": null,
   "metadata": {},
   "outputs": [],
   "source": [
    "Y_train_Punilla = X_train_Punilla[\"precio_usd_por_m2\"]\n",
    "Y_test_Punilla = X_test_Punilla[\"precio_usd_por_m2\"]"
   ]
  },
  {
   "cell_type": "code",
   "execution_count": null,
   "metadata": {},
   "outputs": [],
   "source": [
    "X_train_Punilla.drop([\"precio_usd_por_m2\"], axis = 1, inplace = True)\n",
    "X_test_Punilla.drop([\"precio_usd_por_m2\"], axis = 1, inplace = True)"
   ]
  },
  {
   "cell_type": "code",
   "execution_count": null,
   "metadata": {},
   "outputs": [],
   "source": [
    "lm_Punilla = linear_model.LinearRegression()\n",
    "# Fiteamos el modelo sobre los vectores X e Y.\n",
    "model_Punilla = lm_Punilla.fit(X_train_Punilla, Y_train_Punilla)"
   ]
  },
  {
   "cell_type": "code",
   "execution_count": null,
   "metadata": {},
   "outputs": [],
   "source": [
    "# Guardamos  las predicciones en un nuevo vector que llamaremos predictions.\n",
    "predictions_Punilla = lm_Punilla.predict(X_test_Punilla)"
   ]
  },
  {
   "cell_type": "code",
   "execution_count": null,
   "metadata": {},
   "outputs": [],
   "source": [
    "# Imprimimos el intercepto y los coeficientes como atributos del objeto entrenado.\n",
    "print ('Intercepto =', model_Punilla.intercept_)\n",
    "print ('RM =', model_Punilla.coef_)"
   ]
  },
  {
   "cell_type": "code",
   "execution_count": null,
   "metadata": {},
   "outputs": [],
   "source": [
    "# Imprimos la metrica que mide la bondad de ajusto del modelo. En este caso el R2.\n",
    "R2_train_Punilla = model_Punilla.score(X_train_Punilla, Y_train_Punilla)\n",
    "R2_train_Punilla"
   ]
  },
  {
   "cell_type": "code",
   "execution_count": null,
   "metadata": {},
   "outputs": [],
   "source": [
    "#media del precio_usd_por_m2\n",
    "dataset_test_Punilla.precio_usd_por_m2.mean()\n"
   ]
  },
  {
   "cell_type": "code",
   "execution_count": null,
   "metadata": {},
   "outputs": [],
   "source": [
    "# Error absoluto de la media\n",
    "MAE_Test_Punilla = mean_absolute_error(Y_test_Punilla, predictions_Punilla)\n",
    "MAE_Test_Punilla"
   ]
  },
  {
   "cell_type": "code",
   "execution_count": null,
   "metadata": {},
   "outputs": [],
   "source": [
    "# Raiz cuadrada de la media del error\n",
    "MSE_Test_Punilla = mean_squared_error(Y_test_Punilla, predictions_Punilla)\n",
    "MSE_Test_Punilla"
   ]
  },
  {
   "cell_type": "code",
   "execution_count": null,
   "metadata": {},
   "outputs": [],
   "source": [
    "RMSE_Test_Punilla = np.sqrt(mean_squared_error(Y_test_Punilla, predictions_Punilla))\n",
    "RMSE_Test_Punilla"
   ]
  },
  {
   "cell_type": "code",
   "execution_count": null,
   "metadata": {},
   "outputs": [],
   "source": [
    "revision_datos.append({\n",
    "    'subconjunto': 'Casas en Punilla',\n",
    "    'R2_train': R2_train_Punilla.round(4),\n",
    "    'MAE': MAE_Test_Punilla.round(4),\n",
    "    'MSE': MSE_Test_Punilla.round(4),\n",
    "    'RMSE': RMSE_Test_Punilla.round(4),\n",
    "})"
   ]
  },
  {
   "cell_type": "markdown",
   "metadata": {},
   "source": [
    "# 3) Resumen de datos"
   ]
  },
  {
   "cell_type": "code",
   "execution_count": null,
   "metadata": {
    "tags": []
   },
   "outputs": [],
   "source": [
    "revision_datos"
   ]
  }
 ],
 "metadata": {
  "kernelspec": {
   "display_name": "Python 3 (ipykernel)",
   "language": "python",
   "name": "python3"
  },
  "language_info": {
   "codemirror_mode": {
    "name": "ipython",
    "version": 3
   },
   "file_extension": ".py",
   "mimetype": "text/x-python",
   "name": "python",
   "nbconvert_exporter": "python",
   "pygments_lexer": "ipython3",
   "version": "3.11.3"
  }
 },
 "nbformat": 4,
 "nbformat_minor": 4
}
