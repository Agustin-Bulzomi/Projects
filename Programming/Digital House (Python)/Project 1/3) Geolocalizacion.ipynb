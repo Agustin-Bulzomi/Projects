{
 "cells": [
  {
   "cell_type": "markdown",
   "metadata": {},
   "source": [
    "# 1) Preparación previa"
   ]
  },
  {
   "cell_type": "markdown",
   "metadata": {},
   "source": [
    "### Carga de librerías"
   ]
  },
  {
   "cell_type": "code",
   "execution_count": null,
   "metadata": {},
   "outputs": [],
   "source": [
    "# Se debe instalar ipyleaflet, mpu, openpyxl y requests\n",
    "\n",
    "import requests\n",
    "from pandas import json_normalize\n",
    "import ipyleaflet\n",
    "import mpu\n",
    "import pandas as pd\n",
    "import numpy as np\n",
    "from ipyleaflet import Map, basemaps, Marker, AwesomeIcon, Icon, FullScreenControl"
   ]
  },
  {
   "cell_type": "markdown",
   "metadata": {},
   "source": [
    "### Íconos a usar luego"
   ]
  },
  {
   "cell_type": "code",
   "execution_count": null,
   "metadata": {},
   "outputs": [],
   "source": [
    "# Los siguientes íconos serán utilizados para visualizar en el mapa final \n",
    "\n",
    "icono_subte = Icon(icon_url='https://upload.wikimedia.org/wikipedia/commons/thumb/b/bf/Subte-logo.svg/1200px-Subte-logo.svg.png', icon_size=[28, 28])\n",
    "\n",
    "icon0 = AwesomeIcon(\n",
    "    name='home',\n",
    "    marker_color='green',\n",
    "    icon_color='black',\n",
    "    spin=False\n",
    ")\n",
    "\n",
    "icon1 = AwesomeIcon(\n",
    "    name='home',\n",
    "    marker_color='beige',\n",
    "    icon_color='black',\n",
    "    spin=False\n",
    ")\n",
    "\n",
    "icon2 = AwesomeIcon(\n",
    "    name='home',\n",
    "    marker_color='orange',\n",
    "    icon_color='black',\n",
    "    spin=False\n",
    ")\n",
    "\n",
    "icon3 = AwesomeIcon(\n",
    "    name='home',\n",
    "    marker_color='red',\n",
    "    icon_color='black',\n",
    "    spin=False\n",
    ")"
   ]
  },
  {
   "cell_type": "markdown",
   "metadata": {},
   "source": [
    "### Estaciones a usar luego"
   ]
  },
  {
   "cell_type": "code",
   "execution_count": null,
   "metadata": {},
   "outputs": [],
   "source": [
    "# Dirección web para acceder a los datos del gobierno de la ciudad:\n",
    "url = 'https://cdn.buenosaires.gob.ar/datosabiertos/datasets/subte-estaciones/subte_estaciones.geojson'\n",
    "response = requests.get(url)\n",
    "dictr = response.json()\n",
    "\n",
    "# Hacemos referencia a las estaciones dentro del conjunto de datos:\n",
    "estaciones = dictr['features']\n",
    "df = json_normalize(estaciones)\n",
    "\n",
    "# Creamos la columna Longitud:\n",
    "df['Longitud'] = df['geometry.coordinates'].apply(lambda x:x[0])\n",
    "\n",
    "# Creamos la columna Latitud:\n",
    "df['Latitud'] = df['geometry.coordinates'].apply(lambda x:x[1])\n",
    "\n",
    "# Creamos la máscara para filtrar los de Linea A:\n",
    "mascara_lineas_elegidas = df['properties.LINEA'].isin(['A', 'B', 'C', 'E', 'H']) \n",
    "lineas_elegidas = df.loc[mascara_lineas_elegidas, :]\n",
    "lineas_elegidas = lineas_elegidas.drop(['type', 'properties.ID', 'properties.LINEA', 'geometry.type', 'geometry.coordinates'], axis = 1)\n",
    "lineas_elegidas"
   ]
  },
  {
   "cell_type": "markdown",
   "metadata": {},
   "source": [
    "### Funciones a usar luego"
   ]
  },
  {
   "cell_type": "code",
   "execution_count": null,
   "metadata": {},
   "outputs": [],
   "source": [
    "# La siguiente función nos permite definir la distancia en latitud y longitud respecto de las líneas de subte:\n",
    "def distancia(lat, long):\n",
    "    aux = []\n",
    "    for index, row in lineas_elegidas.iterrows():\n",
    "        aux.append(\n",
    "            mpu.haversine_distance(\n",
    "                (row['Latitud'], row['Longitud']), \n",
    "                (lat, long)\n",
    "            )\n",
    "        )\n",
    "    return min(aux)\n",
    "\n",
    "# La siguiente función nos permite aplicar íconos a los marcadores según su quantil:\n",
    "def marca_propiedad(lat, long, quantile):\n",
    "    if quantile == 0:\n",
    "        icono_prop = icon0\n",
    "    elif quantile == 1:\n",
    "        icono_prop = icon1\n",
    "    elif quantile == 2:\n",
    "        icono_prop = icon2  \n",
    "    else: \n",
    "        icono_prop = icon3\n",
    "    marker = Marker(location=(lat,long), draggable=False, icon=icono_prop)\n",
    "    basic_map.add_layer(marker)\n",
    "\n",
    "# La siguiente función nos permite limpiar la superficie según las inconsistencias entre la total y la cubierta.\n",
    "# Se eligií dicha columna con respecto a 'surface_total_in_m2' ya que tenía menor cantidad de registros nulos\n",
    "def limpieza_superficie(sup_total, sup_cubierta):\n",
    "    if sup_total is not None and sup_cubierta is not None:\n",
    "            if sup_total >= sup_cubierta:\n",
    "                superficie = sup_total\n",
    "            else: \n",
    "                superficie = np.NaN\n",
    "    elif sup_total is not None:\n",
    "            superficie = sup_total\n",
    "    elif sup_cubierta is not None:\n",
    "            superficie = sup_cubierta\n",
    "    else: superficie = np.NaN             \n",
    "                    \n",
    "    return superficie"
   ]
  },
  {
   "cell_type": "markdown",
   "metadata": {},
   "source": [
    "### Lectura del dataset original de Properati"
   ]
  },
  {
   "cell_type": "code",
   "execution_count": null,
   "metadata": {},
   "outputs": [],
   "source": [
    "df_properati = pd.read_csv(\"https://media.githubusercontent.com/media/Agustin-Bulzomi/Projects/main/Programming/Digital%20House/Support%20Files/Project%201/Properati.csv\")"
   ]
  },
  {
   "cell_type": "markdown",
   "metadata": {},
   "source": [
    "# 2) Limpieza del dataset"
   ]
  },
  {
   "cell_type": "markdown",
   "metadata": {},
   "source": [
    "### Generación de DF solo para Capital"
   ]
  },
  {
   "cell_type": "code",
   "execution_count": null,
   "metadata": {},
   "outputs": [],
   "source": [
    "df_capital = df_properati[df_properati[\"state_name\"] == \"Capital Federal\"]\n",
    "df_capital.shape"
   ]
  },
  {
   "cell_type": "markdown",
   "metadata": {},
   "source": [
    "### Corrección de ortografía de barrios y mapeo de barrios inexistentes"
   ]
  },
  {
   "cell_type": "code",
   "execution_count": null,
   "metadata": {},
   "outputs": [],
   "source": [
    "%%capture output\n",
    "df_capital[\"place_name\"].replace(['San Cristobal','Barrio Norte', 'Centro / Microcentro'], ['San Cristóbal','Recoleta', 'Monserrat'], inplace=True)"
   ]
  },
  {
   "cell_type": "markdown",
   "metadata": {},
   "source": [
    "### Lectuura el archivo de Mapping de Barrios por Comuna"
   ]
  },
  {
   "cell_type": "code",
   "execution_count": null,
   "metadata": {},
   "outputs": [],
   "source": [
    "df_barrios_comuna = pd.read_csv(\"https://raw.githubusercontent.com/Agustin-Bulzomi/Projects/main/Programming/Digital%20House/Support%20Files/Project%201/Barrios_por_comuna.csv\")"
   ]
  },
  {
   "cell_type": "markdown",
   "metadata": {},
   "source": [
    "### Merge del DF de Capital con los barrios según comunas"
   ]
  },
  {
   "cell_type": "code",
   "execution_count": null,
   "metadata": {},
   "outputs": [],
   "source": [
    "df_capital_comuna = pd.merge(df_capital, df_barrios_comuna, how='left', left_on='place_name', right_on='Barrio')\n",
    "del df_capital_comuna[\"description\"]\n",
    "del df_capital_comuna[\"title\"]\n",
    "del df_capital_comuna[\"properati_url\"]\n",
    "del df_capital_comuna[\"image_thumbnail\"]\n"
   ]
  },
  {
   "cell_type": "code",
   "execution_count": null,
   "metadata": {},
   "outputs": [],
   "source": [
    "df_capital_comuna[\"Comuna\"].isna().sum()"
   ]
  },
  {
   "cell_type": "markdown",
   "metadata": {},
   "source": [
    "### Enumeración de los barrios por los que atraviesa la Linea A, elegida como la principal para analizar."
   ]
  },
  {
   "cell_type": "code",
   "execution_count": null,
   "metadata": {},
   "outputs": [],
   "source": [
    "barrios_linea_a = pd.Series(['Monserrat', 'Balvanera', 'Almagro', 'Caballito'])\n",
    "barrios_linea_a"
   ]
  },
  {
   "cell_type": "markdown",
   "metadata": {},
   "source": [
    "### Filtro del DF de Capital según los barrios definidos"
   ]
  },
  {
   "cell_type": "code",
   "execution_count": null,
   "metadata": {
    "scrolled": true
   },
   "outputs": [],
   "source": [
    "df_capital_barrios_subte = df_capital_comuna[df_capital_comuna['Barrio'].isin(barrios_linea_a)]\n",
    "df_capital_barrios_subte.shape"
   ]
  },
  {
   "cell_type": "markdown",
   "metadata": {},
   "source": [
    "### Eliminación de los registros sin coordenadas"
   ]
  },
  {
   "cell_type": "code",
   "execution_count": null,
   "metadata": {},
   "outputs": [],
   "source": [
    "df_latlon_notna = df_capital_barrios_subte[df_capital_barrios_subte['lat-lon'].notna()]"
   ]
  },
  {
   "cell_type": "code",
   "execution_count": null,
   "metadata": {},
   "outputs": [],
   "source": [
    "df_latlon_notna.shape"
   ]
  },
  {
   "cell_type": "markdown",
   "metadata": {},
   "source": [
    "### Eliminación de los registros sin precios"
   ]
  },
  {
   "cell_type": "code",
   "execution_count": null,
   "metadata": {},
   "outputs": [],
   "source": [
    "df_price_notna = df_latlon_notna[df_latlon_notna['price_usd_per_m2'].notna()]\n",
    "df_price_notna"
   ]
  },
  {
   "cell_type": "markdown",
   "metadata": {},
   "source": [
    "### Limpieza de la superficie"
   ]
  },
  {
   "cell_type": "code",
   "execution_count": null,
   "metadata": {},
   "outputs": [],
   "source": [
    "# Se debe corregir inconsistencias entre la superficie total y la cubierta"
   ]
  },
  {
   "cell_type": "code",
   "execution_count": null,
   "metadata": {},
   "outputs": [],
   "source": [
    "%%capture output\n",
    "df_price_notna[\"superficie\"] = df_price_notna[['surface_total_in_m2','surface_covered_in_m2']].apply(lambda df_price_notna: limpieza_superficie(df_price_notna['surface_total_in_m2'],df_price_notna['surface_covered_in_m2']),axis=1)\n",
    "df_price_notna.head(4)"
   ]
  },
  {
   "cell_type": "markdown",
   "metadata": {},
   "source": [
    "# 3) Análisis de hipótesis"
   ]
  },
  {
   "cell_type": "markdown",
   "metadata": {},
   "source": [
    "### Cálculo de las distancias entre cada propiedad y las 17 estaciones"
   ]
  },
  {
   "cell_type": "code",
   "execution_count": null,
   "metadata": {},
   "outputs": [],
   "source": [
    "%%capture output\n",
    "df_price_notna['distancia'] = df_price_notna.apply(lambda x: distancia(x['lat'], x['lon']), axis=1)\n",
    "df_price_notna"
   ]
  },
  {
   "cell_type": "markdown",
   "metadata": {},
   "source": [
    "### Sampleo aleatorio para obtener una visualización más prolija"
   ]
  },
  {
   "cell_type": "code",
   "execution_count": null,
   "metadata": {},
   "outputs": [],
   "source": [
    "df_randomizado = df_price_notna.sample(n=100, random_state = 1)"
   ]
  },
  {
   "cell_type": "markdown",
   "metadata": {},
   "source": [
    "### Definición de quantiles"
   ]
  },
  {
   "cell_type": "code",
   "execution_count": null,
   "metadata": {},
   "outputs": [],
   "source": [
    "df_randomizado['quantile'] = pd.qcut(df_randomizado['price_usd_per_m2'], 4, labels=False)\n",
    "df_randomizado"
   ]
  },
  {
   "cell_type": "markdown",
   "metadata": {},
   "source": [
    "### Visualización en un mapa"
   ]
  },
  {
   "cell_type": "code",
   "execution_count": null,
   "metadata": {},
   "outputs": [],
   "source": [
    "basic_map = Map(basemap=basemaps.OpenStreetMap.Mapnik, center=(-34.60823238941058, -58.398160858739075), zoom=14)\n",
    "\n",
    "for index, row in lineas_elegidas.iterrows():\n",
    "    marker = Marker(location=(row['Latitud'],row['Longitud']), draggable=False, icon=icono_subte)\n",
    "    basic_map.add_layer(marker);\n",
    "\n",
    "df_randomizado[['lat','lon','quantile']].apply(lambda x: marca_propiedad(x['lat'],x['lon'],x['quantile']),axis=1)\n",
    "basic_map.add_control(FullScreenControl())\n",
    "\n",
    "display(basic_map)"
   ]
  },
  {
   "cell_type": "markdown",
   "metadata": {},
   "source": [
    "### Exportación del .CSV"
   ]
  },
  {
   "cell_type": "code",
   "execution_count": null,
   "metadata": {},
   "outputs": [],
   "source": [
    "df_randomizado.to_csv(\"df_randomizado_CABA.csv\", index=False)"
   ]
  }
 ],
 "metadata": {
  "kernelspec": {
   "display_name": "Python 3",
   "language": "python",
   "name": "python3"
  },
  "language_info": {
   "codemirror_mode": {
    "name": "ipython",
    "version": 3
   },
   "file_extension": ".py",
   "mimetype": "text/x-python",
   "name": "python",
   "nbconvert_exporter": "python",
   "pygments_lexer": "ipython3",
   "version": "3.7.9"
  }
 },
 "nbformat": 4,
 "nbformat_minor": 4
}
