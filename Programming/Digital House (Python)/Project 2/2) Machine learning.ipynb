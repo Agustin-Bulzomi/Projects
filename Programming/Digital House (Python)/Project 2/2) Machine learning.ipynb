{
 "cells": [
  {
   "cell_type": "markdown",
   "metadata": {},
   "source": [
    "# 1) Preparación previa"
   ]
  },
  {
   "cell_type": "markdown",
   "metadata": {},
   "source": [
    "### Carga de librerías"
   ]
  },
  {
   "cell_type": "code",
   "execution_count": null,
   "metadata": {},
   "outputs": [],
   "source": [
    "import pandas as pd\n",
    "import numpy as np\n",
    "import re\n",
    "from sklearn import linear_model\n",
    "from sklearn.metrics import mean_squared_error, r2_score, mean_absolute_error\n",
    "from sklearn.model_selection import train_test_split\n",
    "%matplotlib inline\n",
    "from matplotlib import pyplot as plt\n",
    "import seaborn as sns\n",
    "import scipy as sp\n",
    "from sklearn.preprocessing import PolynomialFeatures\n",
    "from sklearn.model_selection import train_test_split"
   ]
  },
  {
   "cell_type": "markdown",
   "metadata": {},
   "source": [
    "### Lectura del data set limpio"
   ]
  },
  {
   "cell_type": "code",
   "execution_count": null,
   "metadata": {},
   "outputs": [],
   "source": [
    "data = pd.read_csv(\"data_final.csv\", sep = \";\")\n",
    "data.head(5)"
   ]
  },
  {
   "cell_type": "markdown",
   "metadata": {},
   "source": [
    "# 2) Creación de dummies"
   ]
  },
  {
   "cell_type": "markdown",
   "metadata": {},
   "source": [
    "### Partido"
   ]
  },
  {
   "cell_type": "code",
   "execution_count": null,
   "metadata": {},
   "outputs": [],
   "source": [
    "# Como hay muchísimos, se usará el dataset con solo los 50 partidos con más datos\n",
    "grupo_partidos = data.groupby(\"Partido\")\n",
    "filtro_partidos = grupo_partidos[[\"Partido\"]].describe()\n",
    "data_partidos = filtro_partidos[filtro_partidos.Partido.freq > 289]\n",
    "len(data_partidos)"
   ]
  },
  {
   "cell_type": "code",
   "execution_count": null,
   "metadata": {},
   "outputs": [],
   "source": [
    "mask_partidos = data['Partido'].isin(data_partidos.Partido.top)\n",
    "data_para_dummies = data[mask_partidos]\n",
    "data_para_dummies"
   ]
  },
  {
   "cell_type": "code",
   "execution_count": null,
   "metadata": {},
   "outputs": [],
   "source": [
    "dummy_partido = pd.get_dummies(data_para_dummies['Partido'], prefix='partido')\n",
    "dummy_partido"
   ]
  },
  {
   "cell_type": "markdown",
   "metadata": {},
   "source": [
    "### Propiedades"
   ]
  },
  {
   "cell_type": "code",
   "execution_count": null,
   "metadata": {},
   "outputs": [],
   "source": [
    "dummy_prop = pd.get_dummies(data_para_dummies['property_type'], prefix='prop')\n",
    "dummy_prop"
   ]
  },
  {
   "cell_type": "markdown",
   "metadata": {},
   "source": [
    "### Ambientes"
   ]
  },
  {
   "cell_type": "code",
   "execution_count": null,
   "metadata": {},
   "outputs": [],
   "source": [
    "dummy_amb = pd.get_dummies(data_para_dummies['ambientes_final'], prefix='amb')\n",
    "dummy_amb"
   ]
  },
  {
   "cell_type": "markdown",
   "metadata": {},
   "source": [
    "### Balcón"
   ]
  },
  {
   "cell_type": "code",
   "execution_count": null,
   "metadata": {},
   "outputs": [],
   "source": [
    "dummy_balcon = pd.get_dummies(data_para_dummies['balcon'], prefix = \"dummy\")\n",
    "dummy_balcon"
   ]
  },
  {
   "cell_type": "markdown",
   "metadata": {},
   "source": [
    "### Parrilla"
   ]
  },
  {
   "cell_type": "code",
   "execution_count": null,
   "metadata": {},
   "outputs": [],
   "source": [
    "dummy_parrilla = pd.get_dummies(data_para_dummies['parrilla'], prefix = \"dummy\")\n",
    "dummy_parrilla"
   ]
  },
  {
   "cell_type": "markdown",
   "metadata": {},
   "source": [
    "### Pileta"
   ]
  },
  {
   "cell_type": "code",
   "execution_count": null,
   "metadata": {},
   "outputs": [],
   "source": [
    "dummy_pileta = pd.get_dummies(data_para_dummies['pileta'], prefix = \"dummy\")\n",
    "dummy_pileta"
   ]
  },
  {
   "cell_type": "markdown",
   "metadata": {},
   "source": [
    "### Patio"
   ]
  },
  {
   "cell_type": "code",
   "execution_count": null,
   "metadata": {},
   "outputs": [],
   "source": [
    "dummy_patio = pd.get_dummies(data_para_dummies['patio'], prefix = \"dummy\")\n",
    "dummy_patio"
   ]
  },
  {
   "cell_type": "markdown",
   "metadata": {},
   "source": [
    "### Quincho"
   ]
  },
  {
   "cell_type": "code",
   "execution_count": null,
   "metadata": {},
   "outputs": [],
   "source": [
    "dummy_quincho = pd.get_dummies(data_para_dummies['quincho'], prefix = \"dummy\")\n",
    "dummy_quincho"
   ]
  },
  {
   "cell_type": "markdown",
   "metadata": {},
   "source": [
    "### Gimnasio"
   ]
  },
  {
   "cell_type": "code",
   "execution_count": null,
   "metadata": {},
   "outputs": [],
   "source": [
    "dummy_gimnasio = pd.get_dummies(data_para_dummies['gimnasio'], prefix = \"dummy\")\n",
    "dummy_gimnasio"
   ]
  },
  {
   "cell_type": "markdown",
   "metadata": {},
   "source": [
    "### SUM"
   ]
  },
  {
   "cell_type": "code",
   "execution_count": null,
   "metadata": {},
   "outputs": [],
   "source": [
    "dummy_sum = pd.get_dummies(data_para_dummies['sala_usos_multiples'], prefix = \"dummy\")\n",
    "dummy_sum"
   ]
  },
  {
   "cell_type": "markdown",
   "metadata": {},
   "source": [
    "### Cochera"
   ]
  },
  {
   "cell_type": "code",
   "execution_count": null,
   "metadata": {},
   "outputs": [],
   "source": [
    "dummy_cochera = pd.get_dummies(data_para_dummies['cochera'], prefix = \"dummy\")\n",
    "dummy_cochera"
   ]
  },
  {
   "cell_type": "markdown",
   "metadata": {},
   "source": [
    "### Seguridad"
   ]
  },
  {
   "cell_type": "code",
   "execution_count": null,
   "metadata": {},
   "outputs": [],
   "source": [
    "dummy_seguridad = pd.get_dummies(data_para_dummies['seguridad'], prefix = \"dummy\")\n",
    "dummy_seguridad"
   ]
  },
  {
   "cell_type": "markdown",
   "metadata": {},
   "source": [
    "### Jardín"
   ]
  },
  {
   "cell_type": "code",
   "execution_count": null,
   "metadata": {},
   "outputs": [],
   "source": [
    "dummy_jardin = pd.get_dummies(data_para_dummies['jardin'], prefix = \"dummy\")\n",
    "dummy_jardin"
   ]
  },
  {
   "cell_type": "markdown",
   "metadata": {},
   "source": [
    "### Frente"
   ]
  },
  {
   "cell_type": "code",
   "execution_count": null,
   "metadata": {},
   "outputs": [],
   "source": [
    "dummy_frente = pd.get_dummies(data_para_dummies['frente'], prefix = \"dummy\")\n",
    "dummy_frente"
   ]
  },
  {
   "cell_type": "code",
   "execution_count": null,
   "metadata": {},
   "outputs": [],
   "source": [
    "dummy_amenities = dummy_balcon.dummy_balcon + dummy_parrilla.dummy_parrilla + dummy_pileta.dummy_pileta + dummy_patio.dummy_patio + dummy_quincho.dummy_quincho + dummy_gimnasio.dummy_gimnasio + dummy_sum.dummy_sum + dummy_cochera.dummy_cochera + dummy_seguridad.dummy_seguridad + dummy_jardin.dummy_jardin + dummy_frente.dummy_frente\n",
    "dummy_amenities.name = \"dummy_amenities\""
   ]
  },
  {
   "cell_type": "code",
   "execution_count": null,
   "metadata": {},
   "outputs": [],
   "source": [
    "dummy_amenities.value_counts()"
   ]
  },
  {
   "cell_type": "markdown",
   "metadata": {},
   "source": [
    "### Unificación de dummies en un dataset"
   ]
  },
  {
   "cell_type": "code",
   "execution_count": null,
   "metadata": {},
   "outputs": [],
   "source": [
    "data_con_dummies = pd.concat([data_para_dummies, dummy_amenities, dummy_partido, dummy_prop, dummy_amb],axis=1)\n",
    "data_con_dummies.columns"
   ]
  },
  {
   "cell_type": "markdown",
   "metadata": {},
   "source": [
    "# 3) Creación de modelo uninominal"
   ]
  },
  {
   "cell_type": "markdown",
   "metadata": {},
   "source": [
    "## Aplicación en todo el dataset"
   ]
  },
  {
   "cell_type": "code",
   "execution_count": null,
   "metadata": {},
   "outputs": [],
   "source": [
    "X_train_todo_dataset = data_con_dummies[data_con_dummies.ambientes_imputados == 0].drop([\"property_type\", \"price\", \"surface_covered_in_m2\", \"Partido\", \"ambientes_train\",\n",
    "                                                                          \"ambientes_imputados\", \"ambientes_final\", \"balcon\", \"parrilla\", \"pileta\", \"patio\",\n",
    "                                                                          \"quincho\", \"gimnasio\", \"sala_usos_multiples\", \"cochera\", \"seguridad\", \"jardin\", \"frente\"], axis = 1)\n",
    "X_test_todo_dataset = data_con_dummies[data_con_dummies.ambientes_train == 0].drop([\"property_type\", \"price\", \"surface_covered_in_m2\", \"Partido\", \"ambientes_train\",\n",
    "                                                                          \"ambientes_imputados\", \"ambientes_final\", \"balcon\", \"parrilla\", \"pileta\", \"patio\",\n",
    "                                                                          \"quincho\", \"gimnasio\", \"sala_usos_multiples\", \"cochera\", \"seguridad\", \"jardin\", \"frente\"], axis = 1)\n",
    "Y_train_todo_dataset = X_train_todo_dataset[\"precio_usd_por_m2\"]\n",
    "Y_test_todo_dataset = X_test_todo_dataset[\"precio_usd_por_m2\"]\n",
    "\n",
    "X_train_todo_dataset.drop([\"precio_usd_por_m2\"], axis = 1, inplace = True)\n",
    "X_test_todo_dataset.drop([\"precio_usd_por_m2\"], axis = 1, inplace = True)"
   ]
  },
  {
   "cell_type": "code",
   "execution_count": null,
   "metadata": {},
   "outputs": [],
   "source": [
    "data_con_dummies.shape"
   ]
  },
  {
   "cell_type": "code",
   "execution_count": null,
   "metadata": {},
   "outputs": [],
   "source": [
    "X_train_todo_dataset.columns"
   ]
  },
  {
   "cell_type": "markdown",
   "metadata": {},
   "source": [
    "#### Creación de los elementos a utilizar"
   ]
  },
  {
   "cell_type": "code",
   "execution_count": null,
   "metadata": {},
   "outputs": [],
   "source": [
    "lm_todo_dataset = linear_model.LinearRegression()\n",
    "# Fiteamos el modelo sobre los vectores X e Y.\n",
    "model_todo_dataset = lm_todo_dataset.fit(X_train_todo_dataset, Y_train_todo_dataset)"
   ]
  },
  {
   "cell_type": "markdown",
   "metadata": {},
   "source": [
    "#### Aplicación del modelo en los datos"
   ]
  },
  {
   "cell_type": "code",
   "execution_count": null,
   "metadata": {},
   "outputs": [],
   "source": [
    "# Guardamos  las predicciones en un nuevo vector que llamaremos predictions.\n",
    "predictions_todo_dataset = lm_todo_dataset.predict(X_test_todo_dataset)\n",
    "\n",
    "# Imprimimos el intercepto y los coeficientes como atributos del objeto entrenado.\n",
    "print ('Intercepto =', model_todo_dataset.intercept_)\n",
    "print ('RM =', model_todo_dataset.coef_)\n",
    "\n",
    "# Imprimos la metrica que mide la bondad de ajusto del modelo. En este caso el R2.\n",
    "print ('R2_train =', model_todo_dataset.score(X_train_todo_dataset, Y_train_todo_dataset))"
   ]
  },
  {
   "cell_type": "markdown",
   "metadata": {},
   "source": [
    "#### Obtención de métricas"
   ]
  },
  {
   "cell_type": "code",
   "execution_count": null,
   "metadata": {},
   "outputs": [],
   "source": [
    "#media del precio_usd_por_m2\n",
    "data_con_dummies.precio_usd_por_m2.mean()"
   ]
  },
  {
   "cell_type": "code",
   "execution_count": null,
   "metadata": {},
   "outputs": [],
   "source": [
    "# Error absoluto de la media\n",
    "mean_absolute_error(Y_test_todo_dataset, predictions_todo_dataset)"
   ]
  },
  {
   "cell_type": "code",
   "execution_count": null,
   "metadata": {},
   "outputs": [],
   "source": [
    "# Raiz cuadrada de la media del error\n",
    "mean_squared_error(Y_test_todo_dataset, predictions_todo_dataset)"
   ]
  },
  {
   "cell_type": "code",
   "execution_count": null,
   "metadata": {},
   "outputs": [],
   "source": [
    "# Raiz cuadrada de la media del error\n",
    "RMSE = np.sqrt(mean_squared_error(Y_test_todo_dataset, predictions_todo_dataset))\n",
    "RMSE"
   ]
  },
  {
   "cell_type": "markdown",
   "metadata": {},
   "source": [
    "#### Análisis para Regresion Lineal"
   ]
  },
  {
   "cell_type": "markdown",
   "metadata": {},
   "source": [
    "En primer lugar, se obtiene el conjunto de datos residuales y se los grafica para observar su distribución."
   ]
  },
  {
   "cell_type": "code",
   "execution_count": null,
   "metadata": {},
   "outputs": [],
   "source": [
    "test_residuals = Y_test_todo_dataset - predictions_todo_dataset"
   ]
  },
  {
   "cell_type": "code",
   "execution_count": null,
   "metadata": {},
   "outputs": [],
   "source": [
    "sns.distplot(test_residuals, kde = True)"
   ]
  },
  {
   "cell_type": "markdown",
   "metadata": {},
   "source": [
    "La distribucion de los Errores Residuales pareciera ser una Normal con media en 0. Igualmente, podría haber ser un caso del Cuarteto de Anscombe por lo que se procede graficando la probabilidad en torno a los quantiles."
   ]
  },
  {
   "cell_type": "code",
   "execution_count": null,
   "metadata": {},
   "outputs": [],
   "source": [
    "fig,ax = plt.subplots(figsize = (3,4), dpi = 100)\n",
    "sp.stats.probplot(test_residuals,plot = ax)"
   ]
  },
  {
   "cell_type": "markdown",
   "metadata": {},
   "source": [
    "Con este gráfico se corrobora efectivamente que la distribución de los Errores Residuales se aproxima a una Distribución Normal y, por ende, se puede proceder con la creación de la regresion lineal."
   ]
  },
  {
   "cell_type": "code",
   "execution_count": null,
   "metadata": {},
   "outputs": [],
   "source": [
    "sns.scatterplot(x = Y_test_todo_dataset, y = test_residuals)\n",
    "plt.axhline(y = 0, color = 'r', ls = \"--\")\n",
    "plt.xlabel(\"Precio por M2 en dólares del Y test\")\n",
    "plt.ylabel(\"Error residual de Y test en precio por M2 en dólares\")"
   ]
  },
  {
   "cell_type": "markdown",
   "metadata": {},
   "source": [
    "## Regresión lineal entre superficie cubierta y precio por m2 en dólares"
   ]
  },
  {
   "cell_type": "code",
   "execution_count": null,
   "metadata": {},
   "outputs": [],
   "source": [
    "X_train_superficie = data_con_dummies[data_con_dummies.ambientes_imputados == 0].drop(['property_type', 'price', 'Partido', 'ambientes_train', 'ambientes_imputados',\n",
    "       'ambientes_final', 'balcon', 'parrilla', 'pileta', 'patio', 'quincho',\n",
    "       'gimnasio', 'sala_usos_multiples', 'cochera', 'seguridad', 'jardin',\n",
    "       'frente', 'dummy_amenities', 'partido_Almagro',\n",
    "       'partido_Almirante Brown', 'partido_Avellaneda', 'partido_Bahía Blanca',\n",
    "       'partido_Balvanera', 'partido_Barracas', 'partido_Barrio Norte',\n",
    "       'partido_Belgrano', 'partido_Boedo', 'partido_Caballito',\n",
    "       'partido_Colegiales', 'partido_Córdoba', 'partido_Escobar',\n",
    "       'partido_Esteban Echeverría', 'partido_Ezeiza', 'partido_Flores',\n",
    "       'partido_Floresta', 'partido_General San Martín', 'partido_Ituzaingó',\n",
    "       'partido_La Matanza', 'partido_La Plata', 'partido_Lanús',\n",
    "       'partido_Lomas de Zamora', 'partido_Mar del Plata', 'partido_Monserrat',\n",
    "       'partido_Moreno', 'partido_Morón', 'partido_Nuñez', 'partido_Palermo',\n",
    "       'partido_Pilar', 'partido_Pinamar', 'partido_Punilla',\n",
    "       'partido_Quilmes', 'partido_Recoleta', 'partido_Rosario',\n",
    "       'partido_Saavedra', 'partido_San Cristobal', 'partido_San Fernando',\n",
    "       'partido_San Isidro', 'partido_San Miguel', 'partido_San Telmo',\n",
    "       'partido_Tigre', 'partido_Tres de Febrero', 'partido_Vicente López',\n",
    "       'partido_Villa Carlos Paz', 'partido_Villa Crespo',\n",
    "       'partido_Villa Devoto', 'partido_Villa Luro', 'partido_Villa Urquiza',\n",
    "       'partido_Villa del Parque', 'prop_PH', 'prop_apartment', 'prop_house',\n",
    "       'amb_1.0', 'amb_2.0', 'amb_3.0', 'amb_4.0', 'amb_5.0', 'amb_6.0',\n",
    "       'amb_7.0'], axis = 1)\n",
    "X_test_superficie = data_con_dummies[data_con_dummies.ambientes_train == 0].drop(['property_type', 'price', 'Partido', 'ambientes_train', 'ambientes_imputados',\n",
    "       'ambientes_final', 'balcon', 'parrilla', 'pileta', 'patio', 'quincho',\n",
    "       'gimnasio', 'sala_usos_multiples', 'cochera', 'seguridad', 'jardin',\n",
    "       'frente', 'dummy_amenities', 'partido_Almagro',\n",
    "       'partido_Almirante Brown', 'partido_Avellaneda', 'partido_Bahía Blanca',\n",
    "       'partido_Balvanera', 'partido_Barracas', 'partido_Barrio Norte',\n",
    "       'partido_Belgrano', 'partido_Boedo', 'partido_Caballito',\n",
    "       'partido_Colegiales', 'partido_Córdoba', 'partido_Escobar',\n",
    "       'partido_Esteban Echeverría', 'partido_Ezeiza', 'partido_Flores',\n",
    "       'partido_Floresta', 'partido_General San Martín', 'partido_Ituzaingó',\n",
    "       'partido_La Matanza', 'partido_La Plata', 'partido_Lanús',\n",
    "       'partido_Lomas de Zamora', 'partido_Mar del Plata', 'partido_Monserrat',\n",
    "       'partido_Moreno', 'partido_Morón', 'partido_Nuñez', 'partido_Palermo',\n",
    "       'partido_Pilar', 'partido_Pinamar', 'partido_Punilla',\n",
    "       'partido_Quilmes', 'partido_Recoleta', 'partido_Rosario',\n",
    "       'partido_Saavedra', 'partido_San Cristobal', 'partido_San Fernando',\n",
    "       'partido_San Isidro', 'partido_San Miguel', 'partido_San Telmo',\n",
    "       'partido_Tigre', 'partido_Tres de Febrero', 'partido_Vicente López',\n",
    "       'partido_Villa Carlos Paz', 'partido_Villa Crespo',\n",
    "       'partido_Villa Devoto', 'partido_Villa Luro', 'partido_Villa Urquiza',\n",
    "       'partido_Villa del Parque', 'prop_PH', 'prop_apartment', 'prop_house',\n",
    "       'amb_1.0', 'amb_2.0', 'amb_3.0', 'amb_4.0', 'amb_5.0', 'amb_6.0',\n",
    "       'amb_7.0'], axis = 1)\n",
    "Y_train_superficie = X_train_superficie[\"precio_usd_por_m2\"]\n",
    "Y_test_superficie = X_test_superficie[\"precio_usd_por_m2\"]\n",
    "\n",
    "X_train_superficie.drop([\"precio_usd_por_m2\"], axis = 1, inplace = True)\n",
    "X_test_superficie.drop([\"precio_usd_por_m2\"], axis = 1, inplace = True)"
   ]
  },
  {
   "cell_type": "code",
   "execution_count": null,
   "metadata": {},
   "outputs": [],
   "source": [
    "lm_superficie = linear_model.LinearRegression()\n",
    "# Fiteamos el modelo sobre los vectores X e Y.\n",
    "model_superficie = lm_superficie.fit(X_train_superficie, Y_train_superficie)"
   ]
  },
  {
   "cell_type": "code",
   "execution_count": null,
   "metadata": {
    "scrolled": true
   },
   "outputs": [],
   "source": [
    "# Guardamos  las predicciones en un nuevo vector que llamaremos predictions.\n",
    "predictions_superficie = lm_superficie.predict(X_test_superficie)\n",
    "\n",
    "# Imprimimos el intercepto y los coeficientes como atributos del objeto entrenado.\n",
    "print ('Intercepto =', model_superficie.intercept_)\n",
    "print ('RM =', model_superficie.coef_)\n",
    "\n",
    "# Imprimos la metrica que mide la bondad de ajusto del modelo. En este caso el R2.\n",
    "print ('R2_train =', model_superficie.score(X_train_superficie, Y_train_superficie))"
   ]
  },
  {
   "cell_type": "code",
   "execution_count": null,
   "metadata": {},
   "outputs": [],
   "source": [
    "test_residuals_superficie = Y_test_superficie - predictions_superficie"
   ]
  },
  {
   "cell_type": "code",
   "execution_count": null,
   "metadata": {},
   "outputs": [],
   "source": [
    "sns.scatterplot(x = Y_test_superficie, y = test_residuals_superficie)\n",
    "plt.axhline(y = 0, color = 'r', ls = \"--\")\n",
    "plt.xlabel(\"Precio por M2 en dólares del Y test\")\n",
    "plt.ylabel(\"Error residual de Y test en precio por M2 en dólares\")"
   ]
  },
  {
   "cell_type": "code",
   "execution_count": null,
   "metadata": {},
   "outputs": [],
   "source": [
    "# Imprimos la metrica que mide la bondad de ajusto del modelo. En este caso el R2.\n",
    "R2_train_superficie = model_superficie.score(X_train_superficie, Y_train_superficie)\n",
    "R2_train_superficie"
   ]
  },
  {
   "cell_type": "code",
   "execution_count": null,
   "metadata": {},
   "outputs": [],
   "source": [
    "# Error absoluto de la media\n",
    "MAE_Test_superficie = mean_absolute_error(Y_test_superficie, predictions_superficie)\n",
    "MAE_Test_superficie"
   ]
  },
  {
   "cell_type": "code",
   "execution_count": null,
   "metadata": {},
   "outputs": [],
   "source": [
    "# Raiz cuadrada de la media del error\n",
    "MSE_Test_superficie = mean_squared_error(Y_test_superficie, predictions_superficie)\n",
    "MSE_Test_superficie"
   ]
  },
  {
   "cell_type": "code",
   "execution_count": null,
   "metadata": {},
   "outputs": [],
   "source": [
    "RMSE_Test_superficie = np.sqrt(mean_squared_error(Y_test_superficie, predictions_superficie))\n",
    "RMSE_Test_superficie"
   ]
  },
  {
   "cell_type": "markdown",
   "metadata": {},
   "source": [
    "Se crea un diccionario con los datos que se recopilan de ahora en adelante, así se comparan al final de la notebook 3"
   ]
  },
  {
   "cell_type": "code",
   "execution_count": null,
   "metadata": {},
   "outputs": [],
   "source": [
    "revision_datos = [ {'subconjunto': 'Superficie Cubierta',\n",
    "    'R2_train': R2_train_superficie.round(4),\n",
    "    'MAE': MAE_Test_superficie.round(4),\n",
    "    'MSE': MSE_Test_superficie.round(4),\n",
    "    'RMSE': RMSE_Test_superficie.round(4)}]"
   ]
  },
  {
   "cell_type": "markdown",
   "metadata": {},
   "source": [
    "# 5) Creación de modelo polinomial"
   ]
  },
  {
   "cell_type": "code",
   "execution_count": null,
   "metadata": {},
   "outputs": [],
   "source": [
    "poly_train = PolynomialFeatures(2)\n",
    "poly_features_train = poly_train.fit_transform(X_train_todo_dataset)"
   ]
  },
  {
   "cell_type": "code",
   "execution_count": null,
   "metadata": {},
   "outputs": [],
   "source": [
    "poly_test = PolynomialFeatures(2)\n",
    "poly_features_test = poly_test.fit_transform(X_test_todo_dataset)"
   ]
  },
  {
   "cell_type": "code",
   "execution_count": null,
   "metadata": {},
   "outputs": [],
   "source": [
    "# X_train_todo_dataset, X_test_todo_dataset, Y_train_todo_dataset, Y_test_todo_dataset = train_test_split (poly_features, Y_train_todo_dataset, test_size = 0.3, random_state = 101)"
   ]
  },
  {
   "cell_type": "code",
   "execution_count": null,
   "metadata": {},
   "outputs": [],
   "source": [
    "poly_model = linear_model.LinearRegression()"
   ]
  },
  {
   "cell_type": "code",
   "execution_count": null,
   "metadata": {},
   "outputs": [],
   "source": [
    "poly_predictions = poly_model.fit(poly_features_train, Y_train_todo_dataset).predict(poly_features_test)"
   ]
  },
  {
   "cell_type": "code",
   "execution_count": null,
   "metadata": {},
   "outputs": [],
   "source": [
    "print ('R2_train =', poly_model.score(poly_features_train, Y_train_todo_dataset))"
   ]
  },
  {
   "cell_type": "code",
   "execution_count": null,
   "metadata": {},
   "outputs": [],
   "source": [
    "poly_model.coef_"
   ]
  },
  {
   "cell_type": "code",
   "execution_count": null,
   "metadata": {},
   "outputs": [],
   "source": [
    "MAE = mean_absolute_error(Y_test_todo_dataset, poly_predictions)\n",
    "MAE"
   ]
  },
  {
   "cell_type": "code",
   "execution_count": null,
   "metadata": {},
   "outputs": [],
   "source": [
    "MSE = mean_squared_error(Y_test_todo_dataset, poly_predictions)\n",
    "MSE"
   ]
  },
  {
   "cell_type": "code",
   "execution_count": null,
   "metadata": {},
   "outputs": [],
   "source": [
    "RMSE = np.sqrt(MSE)\n",
    "RMSE"
   ]
  },
  {
   "cell_type": "markdown",
   "metadata": {},
   "source": [
    "Exportamos el dataset para hacer gráficos y comparaciones"
   ]
  },
  {
   "cell_type": "code",
   "execution_count": null,
   "metadata": {},
   "outputs": [],
   "source": [
    "data_con_dummies.to_csv('data_con_dummies.csv', index = False, sep=';')"
   ]
  }
 ],
 "metadata": {
  "kernelspec": {
   "display_name": "Python 3",
   "language": "python",
   "name": "python3"
  },
  "language_info": {
   "codemirror_mode": {
    "name": "ipython",
    "version": 3
   },
   "file_extension": ".py",
   "mimetype": "text/x-python",
   "name": "python",
   "nbconvert_exporter": "python",
   "pygments_lexer": "ipython3",
   "version": "3.7.9"
  }
 },
 "nbformat": 4,
 "nbformat_minor": 4
}
