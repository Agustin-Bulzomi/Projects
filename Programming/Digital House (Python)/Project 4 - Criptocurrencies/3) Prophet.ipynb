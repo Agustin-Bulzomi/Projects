{
 "cells": [
  {
   "cell_type": "markdown",
   "id": "f825b0e7",
   "metadata": {},
   "source": [
    "# 1) Preparación previa"
   ]
  },
  {
   "cell_type": "code",
   "execution_count": null,
   "id": "2000c6a7-7ce9-40d9-8660-0feb2fbe4ed4",
   "metadata": {},
   "outputs": [],
   "source": [
    "En la 3ra y última notebook se prueba una herramienta no vista en el curso. Se separó para ser planteada como un anexo, debido a nuestra incertidumbre respecto de sus resultados."
   ]
  },
  {
   "cell_type": "markdown",
   "id": "cdeafa3d",
   "metadata": {},
   "source": [
    "#### Carga de librerías"
   ]
  },
  {
   "cell_type": "code",
   "execution_count": null,
   "id": "80b674b4",
   "metadata": {},
   "outputs": [],
   "source": [
    "import numpy as np\n",
    "import pandas as pd\n",
    "import warnings\n",
    "import itertools\n",
    "import numpy as np\n",
    "import random\n",
    "import statsmodels.api as sm\n",
    "from statsmodels.tsa.seasonal import seasonal_decompose\n",
    "from statsmodels.graphics.tsaplots import plot_acf, plot_pacf\n",
    "from sklearn.metrics import mean_squared_error, mean_absolute_error\n",
    "import matplotlib.pyplot as plt\n",
    "import seaborn as sns\n",
    "\n",
    "# !pip install fbprophet\n",
    "from fbprophet import Prophet\n",
    "from fbprophet.diagnostics import cross_validation\n",
    "import itertools\n",
    "from fbprophet.diagnostics import performance_metrics\n",
    "\n",
    "warnings.filterwarnings(\"ignore\")"
   ]
  },
  {
   "cell_type": "markdown",
   "id": "f6c0b2d3",
   "metadata": {},
   "source": [
    "#### Lectura del dataset"
   ]
  },
  {
   "cell_type": "code",
   "execution_count": null,
   "id": "5e50c906",
   "metadata": {},
   "outputs": [],
   "source": [
    "df = pd.read_csv('https://raw.githubusercontent.com/Agustin-Bulzomi/Projects/main/Programming/Digital%20House%20(Python)/Support%20Files/Final%20Project/coin_Bitcoin.csv', delimiter=',')\n",
    "df.head()"
   ]
  },
  {
   "cell_type": "markdown",
   "id": "77377857",
   "metadata": {},
   "source": [
    "#### Creación de un nuevo DataFrame con las columnas necesarias para trabajar con Prophet:"
   ]
  },
  {
   "cell_type": "code",
   "execution_count": null,
   "id": "529f5bc0",
   "metadata": {},
   "outputs": [],
   "source": [
    "df2 = pd.DataFrame()"
   ]
  },
  {
   "cell_type": "code",
   "execution_count": null,
   "id": "5bbe8e76",
   "metadata": {},
   "outputs": [],
   "source": [
    "df2['ds'] = df['Date']\n",
    "df2['y']= df['Close']"
   ]
  },
  {
   "cell_type": "code",
   "execution_count": null,
   "id": "56a7dd84",
   "metadata": {},
   "outputs": [],
   "source": [
    "# Se cambia el formato de las fechas:\n",
    "df2['ds'] = pd.to_datetime(df2['ds'])\n",
    "df2['ds'].dtype"
   ]
  },
  {
   "cell_type": "markdown",
   "id": "83890e2b",
   "metadata": {},
   "source": [
    "#### División del dataset en Train y Test, usando rangos personalizados:"
   ]
  },
  {
   "cell_type": "code",
   "execution_count": null,
   "id": "f24fd1af",
   "metadata": {},
   "outputs": [],
   "source": [
    "end_date = '2021-01-27'\n",
    "mask1 = (df2['ds'] <= end_date)\n",
    "mask2 = (df2['ds'] > end_date)"
   ]
  },
  {
   "cell_type": "code",
   "execution_count": null,
   "id": "6d8d6a00",
   "metadata": {},
   "outputs": [],
   "source": [
    "X_tr = df2.loc[mask1]\n",
    "X_tst = df2.loc[mask2]\n",
    "print(\"train shape\",X_tr.shape)\n",
    "print(\"test shape\",X_tst.shape)"
   ]
  },
  {
   "cell_type": "markdown",
   "id": "e19bdd88",
   "metadata": {},
   "source": [
    "#### Ploteo de los dos datasets obtenidos:"
   ]
  },
  {
   "cell_type": "code",
   "execution_count": null,
   "id": "d0bfe3f3",
   "metadata": {},
   "outputs": [],
   "source": [
    "pd.plotting.register_matplotlib_converters()\n",
    "f, ax = plt.subplots(figsize=(14,5))\n",
    "X_tr.plot(kind='line', x='ds', y='y', color='blue', label='Train', ax=ax)\n",
    "X_tst.plot(kind='line', x='ds', y='y', color='red', label='Test', ax=ax)\n",
    "plt.title('Rango para Train y para Test')\n",
    "plt.show()"
   ]
  },
  {
   "cell_type": "markdown",
   "id": "923dc8a9",
   "metadata": {},
   "source": [
    "#### Se define una función para el cálculo del MAPE:"
   ]
  },
  {
   "cell_type": "code",
   "execution_count": null,
   "id": "fd446b62",
   "metadata": {},
   "outputs": [],
   "source": [
    "def mean_absolute_percentage_error(y_true, y_pred): \n",
    "    y_true, y_pred = np.array(y_true), np.array(y_pred)\n",
    "    return np.mean(np.abs((y_true - y_pred) / y_true)) * 100"
   ]
  },
  {
   "cell_type": "markdown",
   "id": "5f55d391",
   "metadata": {},
   "source": [
    "# 2) Aplicación del modelo Prophet"
   ]
  },
  {
   "cell_type": "markdown",
   "id": "3841fba6",
   "metadata": {},
   "source": [
    "#### Buscamos la mejor combinación de hiperparámetros:"
   ]
  },
  {
   "cell_type": "code",
   "execution_count": null,
   "id": "622d4410",
   "metadata": {},
   "outputs": [],
   "source": [
    "# Este código tarda mucho tiempo\n",
    "\n",
    "param_grid = {  \n",
    "    'changepoint_prior_scale': [0.01, 0.1, 0.5],\n",
    "    'seasonality_prior_scale': [1.0, 10.0, 20.0],\n",
    "    'seasonality_mode' : ('additive', 'multiplicative'),\n",
    "    'daily_seasonality' : [False, True]\n",
    "}\n",
    "\n",
    "# Genera todas las combinaciones de parámetros\n",
    "all_params = [dict(zip(param_grid.keys(), v)) for v in itertools.product(*param_grid.values())]\n",
    "rmses = []  # Store the RMSEs for each params here\n",
    "\n",
    "# Usa cross validation para evaluar los parámetros\n",
    "for params in all_params:\n",
    "    m = Prophet(**params).fit(X_tr)  # Fitea el modelo con los parámetros obtenidos\n",
    "    df_cv = cross_validation(m, initial='2500 days' ,period= '15 days',horizon='31 days')\n",
    "    df_p = performance_metrics(df_cv, rolling_window=1)\n",
    "    rmses.append(df_p['rmse'].values[0])\n",
    "\n",
    "# Encuentra los mejores parámetros\n",
    "tuning_results = pd.DataFrame(all_params)\n",
    "tuning_results['rmse'] = rmses\n",
    "print(tuning_results)"
   ]
  },
  {
   "cell_type": "markdown",
   "id": "9bc59681",
   "metadata": {},
   "source": [
    "#### Análisis de cuál tuvo mejor rendimiento:"
   ]
  },
  {
   "cell_type": "code",
   "execution_count": null,
   "id": "b60630ed",
   "metadata": {},
   "outputs": [],
   "source": [
    "best_params = all_params[np.argmin(rmses)]\n",
    "print(best_params)"
   ]
  },
  {
   "cell_type": "markdown",
   "id": "d59c2b48",
   "metadata": {},
   "source": [
    "#### Aplicación de los hiperparámetros sobre el modelo y fiteo"
   ]
  },
  {
   "cell_type": "code",
   "execution_count": null,
   "id": "dc5d8475",
   "metadata": {},
   "outputs": [],
   "source": [
    "final_model = Prophet(changepoint_prior_scale=0.01 ,\n",
    "                     seasonality_prior_scale = 1.0 ,\n",
    "                     seasonality_mode= 'multiplicative',\n",
    "                     daily_seasonality=False)\n",
    "     \n",
    "final_model.fit(X_tr)"
   ]
  },
  {
   "cell_type": "markdown",
   "id": "925020ed",
   "metadata": {},
   "source": [
    "#### Visualización de un forecast de 31 días con el modelo fiteado en train:"
   ]
  },
  {
   "cell_type": "code",
   "execution_count": null,
   "id": "b63c7867",
   "metadata": {},
   "outputs": [],
   "source": [
    "future = final_model.make_future_dataframe(periods=31, freq='D')\n",
    "forecast = final_model.predict(future)\n",
    "\n",
    "forecast[['ds', 'yhat', 'yhat_lower', 'yhat_upper']].tail(7)"
   ]
  },
  {
   "cell_type": "markdown",
   "id": "b5774472",
   "metadata": {},
   "source": [
    "#### Finalmente, en la variable X_tst_final se guarda el predict en test:"
   ]
  },
  {
   "cell_type": "code",
   "execution_count": null,
   "id": "105e9142",
   "metadata": {},
   "outputs": [],
   "source": [
    "X_tst_final= final_model.predict(X_tst)\n",
    "X_tst_final[['ds', 'yhat', 'yhat_lower', 'yhat_upper']].tail(7)"
   ]
  },
  {
   "cell_type": "markdown",
   "id": "c5efe1f1",
   "metadata": {},
   "source": [
    "#### Ploteo de resultados:"
   ]
  },
  {
   "cell_type": "code",
   "execution_count": null,
   "id": "1d79d607",
   "metadata": {},
   "outputs": [],
   "source": [
    "f, ax = plt.subplots(figsize=(14,5))\n",
    "f.set_figheight(5)\n",
    "f.set_figwidth(15)\n",
    "X_tst.plot(kind='line',x='ds', y='y', color='red', label='Actual', ax=ax)\n",
    "X_tst_final.plot(kind='line',x='ds',y='yhat', color='green',label='Forecast', ax=ax)\n",
    "plt.title('Forecast vs Actual')\n",
    "plt.show()"
   ]
  },
  {
   "cell_type": "markdown",
   "id": "7c61f489",
   "metadata": {},
   "source": [
    "#### Aplicación de la función MAPE"
   ]
  },
  {
   "cell_type": "code",
   "execution_count": null,
   "id": "23e97d17",
   "metadata": {},
   "outputs": [],
   "source": [
    "MAPE = mean_absolute_percentage_error(X_tst['y'],abs(X_tst_final['yhat']))\n",
    "print('MAPE', MAPE)"
   ]
  },
  {
   "cell_type": "markdown",
   "id": "808e72c5",
   "metadata": {},
   "source": [
    "Es importante a destacar aquí que no se encuentra el sentido del MAPE, considerando que el RMSE fue de tan solo 6997 (lo cual matemáticamente se corresponde con un MAPE aproximado de 15%, que fue el que se insertó en la notebook 2). De ser 60 de MAPE, el resultado es muy negativo, mientras que de ser 15 se podría considerar al Prophet como un buen modelo"
   ]
  }
 ],
 "metadata": {
  "kernelspec": {
   "display_name": "Python 3 (ipykernel)",
   "language": "python",
   "name": "python3"
  },
  "language_info": {
   "codemirror_mode": {
    "name": "ipython",
    "version": 3
   },
   "file_extension": ".py",
   "mimetype": "text/x-python",
   "name": "python",
   "nbconvert_exporter": "python",
   "pygments_lexer": "ipython3",
   "version": "3.11.3"
  }
 },
 "nbformat": 4,
 "nbformat_minor": 5
}
