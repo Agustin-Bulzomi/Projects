{
 "cells": [
  {
   "cell_type": "markdown",
   "metadata": {},
   "source": [
    "# 1) Preparación previa"
   ]
  },
  {
   "cell_type": "markdown",
   "metadata": {},
   "source": [
    "#### Carga de librerías"
   ]
  },
  {
   "cell_type": "code",
   "execution_count": null,
   "metadata": {},
   "outputs": [],
   "source": [
    "import pandas as pd\n",
    "import numpy as np\n",
    "\n",
    "import matplotlib.pyplot as plt\n",
    "import matplotlib as mpl\n",
    "%matplotlib inline\n",
    "import seaborn as sns\n",
    "\n",
    "from sklearn.preprocessing import StandardScaler\n",
    "from sklearn.cluster import KMeans\n",
    "from sklearn.metrics import silhouette_score, silhouette_samples, calinski_harabasz_score\n",
    "\n",
    "import warnings\n",
    "warnings.filterwarnings('ignore')"
   ]
  },
  {
   "cell_type": "markdown",
   "metadata": {},
   "source": [
    "#### Lectura del dataset"
   ]
  },
  {
   "cell_type": "markdown",
   "metadata": {},
   "source": [
    "Se decidió utilizar unos datos históricos de criptomonedas. El tema nos interesó no solo por estar más vigente que nunca, sino porque nos resultó excelente para explayar diversas herramientas aprendidas en el curso."
   ]
  },
  {
   "cell_type": "code",
   "execution_count": null,
   "metadata": {},
   "outputs": [],
   "source": [
    "df_aave = pd.read_csv('https://raw.githubusercontent.com/Agustin-Bulzomi/Projects/main/Programming/Digital%20House%20(Python)/Support%20Files/Final%20Project/coin_Aave.csv')\n",
    "df_binancecoin = pd.read_csv('https://raw.githubusercontent.com/Agustin-Bulzomi/Projects/main/Programming/Digital%20House%20(Python)/Support%20Files/Final%20Project/coin_BinanceCoin.csv')\n",
    "df_bitcoin = pd.read_csv('https://raw.githubusercontent.com/Agustin-Bulzomi/Projects/main/Programming/Digital%20House%20(Python)/Support%20Files/Final%20Project/coin_Bitcoin.csv')\n",
    "df_cardano = pd.read_csv('https://raw.githubusercontent.com/Agustin-Bulzomi/Projects/main/Programming/Digital%20House%20(Python)/Support%20Files/Final%20Project/coin_Cardano.csv')\n",
    "df_chainlink = pd.read_csv('https://raw.githubusercontent.com/Agustin-Bulzomi/Projects/main/Programming/Digital%20House%20(Python)/Support%20Files/Final%20Project/coin_ChainLink.csv')\n",
    "df_cosmos = pd.read_csv('https://raw.githubusercontent.com/Agustin-Bulzomi/Projects/main/Programming/Digital%20House%20(Python)/Support%20Files/Final%20Project/coin_Cosmos.csv')\n",
    "df_cryptocomcoin = pd.read_csv('https://raw.githubusercontent.com/Agustin-Bulzomi/Projects/main/Programming/Digital%20House%20(Python)/Support%20Files/Final%20Project/coin_CryptocomCoin.csv')\n",
    "df_dogecoin = pd.read_csv('https://raw.githubusercontent.com/Agustin-Bulzomi/Projects/main/Programming/Digital%20House%20(Python)/Support%20Files/Final%20Project/coin_Dogecoin.csv')\n",
    "df_eos = pd.read_csv('https://raw.githubusercontent.com/Agustin-Bulzomi/Projects/main/Programming/Digital%20House%20(Python)/Support%20Files/Final%20Project/coin_EOS.csv')\n",
    "df_ethereum = pd.read_csv('https://raw.githubusercontent.com/Agustin-Bulzomi/Projects/main/Programming/Digital%20House%20(Python)/Support%20Files/Final%20Project/coin_Ethereum.csv')\n",
    "df_iota = pd.read_csv('https://raw.githubusercontent.com/Agustin-Bulzomi/Projects/main/Programming/Digital%20House%20(Python)/Support%20Files/Final%20Project/coin_Iota.csv')\n",
    "df_litecoin = pd.read_csv('https://raw.githubusercontent.com/Agustin-Bulzomi/Projects/main/Programming/Digital%20House%20(Python)/Support%20Files/Final%20Project/coin_Litecoin.csv')\n",
    "df_monero = pd.read_csv('https://raw.githubusercontent.com/Agustin-Bulzomi/Projects/main/Programming/Digital%20House%20(Python)/Support%20Files/Final%20Project/coin_Monero.csv')\n",
    "df_nem = pd.read_csv('https://raw.githubusercontent.com/Agustin-Bulzomi/Projects/main/Programming/Digital%20House%20(Python)/Support%20Files/Final%20Project/coin_NEM.csv')\n",
    "df_polkadot = pd.read_csv('https://raw.githubusercontent.com/Agustin-Bulzomi/Projects/main/Programming/Digital%20House%20(Python)/Support%20Files/Final%20Project/coin_Polkadot.csv')\n",
    "df_solana = pd.read_csv('https://raw.githubusercontent.com/Agustin-Bulzomi/Projects/main/Programming/Digital%20House%20(Python)/Support%20Files/Final%20Project/coin_Solana.csv')\n",
    "df_stellar = pd.read_csv('https://raw.githubusercontent.com/Agustin-Bulzomi/Projects/main/Programming/Digital%20House%20(Python)/Support%20Files/Final%20Project/coin_Stellar.csv')\n",
    "df_tether = pd.read_csv('https://raw.githubusercontent.com/Agustin-Bulzomi/Projects/main/Programming/Digital%20House%20(Python)/Support%20Files/Final%20Project/coin_Tether.csv')\n",
    "df_tron = pd.read_csv('https://raw.githubusercontent.com/Agustin-Bulzomi/Projects/main/Programming/Digital%20House%20(Python)/Support%20Files/Final%20Project/coin_Tron.csv')\n",
    "df_uniswap = pd.read_csv('https://raw.githubusercontent.com/Agustin-Bulzomi/Projects/main/Programming/Digital%20House%20(Python)/Support%20Files/Final%20Project/coin_Uniswap.csv')\n",
    "df_usdcoin = pd.read_csv('https://raw.githubusercontent.com/Agustin-Bulzomi/Projects/main/Programming/Digital%20House%20(Python)/Support%20Files/Final%20Project/coin_USDCoin.csv')\n",
    "df_wrappedbitcoin = pd.read_csv('https://raw.githubusercontent.com/Agustin-Bulzomi/Projects/main/Programming/Digital%20House%20(Python)/Support%20Files/Final%20Project/coin_WrappedBitcoin.csv')\n",
    "df_xrp = pd.read_csv('https://raw.githubusercontent.com/Agustin-Bulzomi/Projects/main/Programming/Digital%20House%20(Python)/Support%20Files/Final%20Project/coin_XRP.csv')"
   ]
  },
  {
   "cell_type": "markdown",
   "metadata": {},
   "source": [
    "#### Vista general"
   ]
  },
  {
   "cell_type": "markdown",
   "metadata": {},
   "source": [
    "Se corren varias funciones para obtener un resumen general de los datasets, eligiendo uno (bitcoin) como ejemplo para analizar la estructura e información de todos, ya que son iguales"
   ]
  },
  {
   "cell_type": "code",
   "execution_count": null,
   "metadata": {},
   "outputs": [],
   "source": [
    "df_bitcoin"
   ]
  },
  {
   "cell_type": "markdown",
   "metadata": {},
   "source": [
    "Se observan los tipos de datos que conforman el dataset"
   ]
  },
  {
   "cell_type": "code",
   "execution_count": null,
   "metadata": {},
   "outputs": [],
   "source": [
    "df_bitcoin.dtypes"
   ]
  },
  {
   "cell_type": "markdown",
   "metadata": {},
   "source": [
    "Se chequea la existencia de valores nulos "
   ]
  },
  {
   "cell_type": "code",
   "execution_count": null,
   "metadata": {},
   "outputs": [],
   "source": [
    "df_bitcoin.isna().sum()"
   ]
  },
  {
   "cell_type": "markdown",
   "metadata": {},
   "source": [
    "#### Unificación de los datasets"
   ]
  },
  {
   "cell_type": "markdown",
   "metadata": {},
   "source": [
    "Se utiliza un for loop para crear un dataframe que preserve los datos de cada dataset que nos conciernen "
   ]
  },
  {
   "cell_type": "code",
   "execution_count": null,
   "metadata": {},
   "outputs": [],
   "source": [
    "# Se crea una tupla para la iteración de los datasets en el for loop\n",
    "lista_cryptos = [df_aave, df_binancecoin, df_bitcoin, df_cardano, df_chainlink, df_cosmos, df_cryptocomcoin, df_dogecoin, df_eos, df_ethereum, df_iota, df_litecoin, df_monero,\n",
    "                 df_nem, df_polkadot, df_solana, df_stellar, df_tether, df_tron, df_uniswap, df_usdcoin, df_wrappedbitcoin, df_xrp]\n",
    "\n",
    "# Se crea un dataframe vacío para aplicarle el append al final del loop\n",
    "cryptos = pd.DataFrame()\n",
    "\n",
    "# Además de obtener las columnas que importan, se crea la columna \"Volatilidad\"\n",
    "for dataframe in lista_cryptos:\n",
    "    variaciones = dataframe.Close.pct_change()\n",
    "    volatilidad_diaria = np.sqrt(np.abs(variaciones))\n",
    "    dataframe[\"Volatilidad\"] = volatilidad_diaria\n",
    "    df_temp = dataframe[['Date','Symbol', 'Close', 'Marketcap','Volatilidad']]\n",
    "    cryptos = cryptos.append(df_temp)\n",
    "\n",
    "cryptos.set_index(['Date','Symbol'])\n",
    "\n",
    "# La volatilidad generan NaNs por no poder contrastar los primeros valores históricos de cada moneda con una fecha anterior sin valores\n",
    "cryptos = cryptos.replace(np.nan, 0)\n",
    "cryptos"
   ]
  },
  {
   "cell_type": "markdown",
   "metadata": {},
   "source": [
    "#### Tratamiento de la columna Date"
   ]
  },
  {
   "cell_type": "markdown",
   "metadata": {},
   "source": [
    "Se pasa la columna Date al formato datetime. A su vez, se crea la columna Year para análisis anual y se le quita la hora a la columna Date"
   ]
  },
  {
   "cell_type": "code",
   "execution_count": null,
   "metadata": {},
   "outputs": [],
   "source": [
    "cryptos['Date'] = pd.to_datetime(cryptos['Date'])\n",
    "cryptos['Year'] = cryptos['Date'].dt.year\n",
    "cryptos['Date'] = pd.to_datetime(cryptos['Date']).dt.date"
   ]
  },
  {
   "cell_type": "code",
   "execution_count": null,
   "metadata": {},
   "outputs": [],
   "source": [
    "cryptos"
   ]
  },
  {
   "cell_type": "markdown",
   "metadata": {},
   "source": [
    "# 2) Análisis exploratorio"
   ]
  },
  {
   "cell_type": "markdown",
   "metadata": {},
   "source": [
    "## Clustering"
   ]
  },
  {
   "cell_type": "markdown",
   "metadata": {},
   "source": [
    "#### Introducción"
   ]
  },
  {
   "cell_type": "markdown",
   "metadata": {},
   "source": [
    "Se pretende encontrar puntos en común entre las distintas criptomonedas, tomando como variables el Marketcap y la Volatilidad a lo largo de su historia. Intuitivamente, se puede pensar que las monedas irán cambiando de cluster a lo largo de los años, y las más recientes serán de mayor volatilidad y menor marketcap. Ahí radica la importancia de la variable Year en el análisis que se desarrollará"
   ]
  },
  {
   "cell_type": "code",
   "execution_count": null,
   "metadata": {},
   "outputs": [],
   "source": [
    "# Se eligen las variables a analizar y se estandariza\n",
    "\n",
    "X = cryptos[['Marketcap','Volatilidad']]\n",
    "scaler = StandardScaler()\n",
    "X_scaled = scaler.fit_transform(X);"
   ]
  },
  {
   "cell_type": "markdown",
   "metadata": {},
   "source": [
    "La comparación de puntajes en Silhouette score y en Calinski-Harabasz es fundamental previo a la aplicación del modelo de clustering, para definir K en Kmeans"
   ]
  },
  {
   "cell_type": "markdown",
   "metadata": {},
   "source": [
    "#### Silhouette Score:"
   ]
  },
  {
   "cell_type": "code",
   "execution_count": null,
   "metadata": {},
   "outputs": [],
   "source": [
    "sil=[]\n",
    "k_values = range(2,23);\n",
    "\n",
    "for k in k_values:\n",
    "    kmeans = KMeans(n_clusters = k, n_init = 10, random_state = 0)\n",
    "    kmeans.fit(X_scaled)\n",
    "    score = silhouette_score(X_scaled, kmeans.labels_)\n",
    "    sil.append(score)\n",
    "\n",
    "sns.lineplot(x=k_values,y=sil,marker='o',size=30,legend=False);\n",
    "plt.ylabel('Silhouette score', fontsize = 15);\n",
    "plt.xlabel('Número de clusters', fontsize = 15);"
   ]
  },
  {
   "cell_type": "code",
   "execution_count": null,
   "metadata": {},
   "outputs": [],
   "source": [
    "print(\"La cantidad de clusters que optimizan el Silhouette Score es:\", np.argmax(sil) + 2) # Se suma 2 al índice que dio el valor máximo pues el mínimo del rango a analizar era 2."
   ]
  },
  {
   "cell_type": "markdown",
   "metadata": {},
   "source": [
    "#### Calinski-Harabasz:"
   ]
  },
  {
   "cell_type": "code",
   "execution_count": null,
   "metadata": {},
   "outputs": [],
   "source": [
    "k_values = range(2,24);\n",
    "ch_scores = []\n",
    "\n",
    "for k in k_values:\n",
    "    \n",
    "    kmeans = KMeans(n_clusters= k , n_init = 10, random_state=0)\n",
    "    kmeans.fit(X_scaled)\n",
    "    score = calinski_harabasz_score(X_scaled,kmeans.labels_)\n",
    "    ch_scores.append(score)\n",
    "\n",
    "sns.lineplot(x=k_values,y=ch_scores,marker='o',size=30,legend=False);\n",
    "plt.ylabel('Calinski-Harabasz',fontsize=15);plt.xlabel('Número de clusters',fontsize=15);"
   ]
  },
  {
   "cell_type": "code",
   "execution_count": null,
   "metadata": {},
   "outputs": [],
   "source": [
    "print(\"La cantidad de clusters que optimizan el puntaje de Calinski-Harabasz es:\", np.argmax(ch_scores) + 2) # Se suma 2 al índice que dio el valor máximo pues el mínimo del rango a analizar era 2."
   ]
  },
  {
   "cell_type": "markdown",
   "metadata": {},
   "source": [
    "Debido a la falta de lógica en el resultado de Calinski-Harabasz, se decide proceder con el resultado del Silhouette Score: 4 clusters"
   ]
  },
  {
   "cell_type": "markdown",
   "metadata": {},
   "source": [
    "#### KMeans"
   ]
  },
  {
   "cell_type": "code",
   "execution_count": null,
   "metadata": {},
   "outputs": [],
   "source": [
    "kmeans = KMeans(n_clusters = 4, n_init=10, random_state = 0)\n",
    "kmeans.fit(X_scaled)\n",
    "\n",
    "labels = kmeans.labels_\n",
    "centroids = kmeans.cluster_centers_ \n",
    "color_palette= sns.color_palette(\"hls\", 4)\n",
    "plt.figure(figsize = (18,18));\n",
    "sns.scatterplot(x=X_scaled[:,0],y=X_scaled[:,1],hue=labels,legend='full', palette= color_palette);\n",
    "plt.xlabel('Marketcap',fontsize=15);plt.ylabel('Volatilidad',fontsize=15);\n",
    "plt.scatter(centroids[:,0],centroids[:,1],marker='x',s=50,color='k');\n",
    "\n",
    "plt.savefig(\"KMeans.png\")"
   ]
  },
  {
   "cell_type": "markdown",
   "metadata": {},
   "source": [
    "En el análisis financiero de las criptomonedas, hay una cierta continuidad en el desarrollo de las mismas: si son exitosas van aumentando su Marketcap, perdiendo volatilidad. En ese sentido, tiene lógica que el cluster 0 sea el más volátil y de menor marketcap, mientras que el 3 sea de menor volatilidad y mayor marketcap y así representar de manera ascendente el desarrollo histórico de las criptomonedas. Por lo susodicho, se alterarán los labels de Kmeans: el cluster 3 debería ser el 2 (y viceversa) y el cluster 1 debería ser el 0 (y viceversa) para representar la siguiente lógica:\n",
    "\n",
    "Cluster 0: alta volatilidad + bajo marketcap\n",
    "\n",
    "Cluster 1: baja volatilidad + bajo marketcap\n",
    "\n",
    "Cluster 2: baja volatilidad + mediano marketcap\n",
    "\n",
    "Cluster 3: baja volatilidad + alto marketcap"
   ]
  },
  {
   "cell_type": "code",
   "execution_count": null,
   "metadata": {},
   "outputs": [],
   "source": [
    "X_clustered = kmeans.predict(X_scaled)\n",
    "cryptos[\"Cluster_inicial\"] = X_clustered\n",
    "cryptos[\"Cluster1\"] = cryptos[\"Cluster_inicial\"].apply(lambda x : 1 if x == 0 else 0)\n",
    "cryptos[\"Cluster0\"] = cryptos[\"Cluster_inicial\"].apply(lambda x : 0 if x == 1 else 0)\n",
    "cryptos[\"Cluster2\"] = cryptos[\"Cluster_inicial\"].apply(lambda x : 3 if x == 2 else 0)\n",
    "cryptos[\"Cluster3\"] = cryptos[\"Cluster_inicial\"].apply(lambda x : 2 if x == 3 else 0)\n",
    "cryptos[\"Cluster\"] = cryptos[\"Cluster0\"] + cryptos[\"Cluster1\"] + cryptos[\"Cluster2\"] + cryptos[\"Cluster3\"]\n",
    "cryptos.drop([\"Cluster_inicial\", \"Cluster0\", \"Cluster1\", \"Cluster2\", \"Cluster3\"], axis = 1, inplace = True)\n",
    "cryptos"
   ]
  },
  {
   "cell_type": "markdown",
   "metadata": {},
   "source": [
    "#### Análisis anual"
   ]
  },
  {
   "cell_type": "code",
   "execution_count": null,
   "metadata": {},
   "outputs": [],
   "source": [
    "years = pd.Series(cryptos.Year.unique()).sort_values()\n",
    "\n",
    "for year in years:\n",
    "    print(year)\n",
    "    print(cryptos[cryptos[\"Year\"] == year].Cluster.value_counts(normalize = True))"
   ]
  },
  {
   "cell_type": "markdown",
   "metadata": {},
   "source": [
    "Como se ve, a lo largo de los años hay una transición desde clusters inferiores a superiores. Se entiende que los clustes inferiores no desaparecen porque van surgiendo nuevas criptomonedas"
   ]
  },
  {
   "cell_type": "markdown",
   "metadata": {},
   "source": [
    "#### Análisis de cada criptomoneda"
   ]
  },
  {
   "cell_type": "code",
   "execution_count": null,
   "metadata": {},
   "outputs": [],
   "source": [
    "symbols = pd.Series(cryptos.Symbol.unique())\n",
    "\n",
    "for symbol in symbols:\n",
    "    print(symbol)\n",
    "    print(cryptos[cryptos.Symbol == symbol].Cluster.value_counts(normalize = True))"
   ]
  },
  {
   "cell_type": "markdown",
   "metadata": {},
   "source": [
    "Como se ve, las altcoins más recientes o derivadas de blockhains principales pertenecen al cluster 0, las altcoins mejor asentadas quedan en el cluster 1 y las criptomonedas con diferentes blockhains llegan al cluster 2 (Ethereum, Ripple), mientras que solo Bitcoin llega al 2do y 3er cluster."
   ]
  },
  {
   "cell_type": "markdown",
   "metadata": {},
   "source": [
    "#### Análisis de cada moneda en 2021"
   ]
  },
  {
   "cell_type": "code",
   "execution_count": null,
   "metadata": {},
   "outputs": [],
   "source": [
    "for symbol in symbols:\n",
    "    print(symbol)\n",
    "    crypto_symbol = cryptos[cryptos.Symbol == symbol]\n",
    "    print(crypto_symbol[crypto_symbol.Year == 2021].Cluster.value_counts(normalize = True))"
   ]
  },
  {
   "cell_type": "markdown",
   "metadata": {},
   "source": [
    "Este resultado refuerza lo concluido anteriormente: BTC ya se asentó en el cluster 3 por su larga historia, ETH se asentó en el cluster 2 por ser la segunda blockchain en ser creada (el resto derivan de BTC), mientras que las altcoins varían entre los primeros dos clusters según su historia."
   ]
  },
  {
   "cell_type": "markdown",
   "metadata": {},
   "source": [
    "# 3) Visualización"
   ]
  },
  {
   "cell_type": "markdown",
   "metadata": {},
   "source": [
    "#### Elección de criptomonedas"
   ]
  },
  {
   "cell_type": "markdown",
   "metadata": {},
   "source": [
    "Se eligirán 4 criptomonedas para analizar. Cada una perteneció con mayor proporción de días del año 2021 al cluster que ejemplificará:"
   ]
  },
  {
   "cell_type": "code",
   "execution_count": null,
   "metadata": {},
   "outputs": [],
   "source": [
    "print(\"Cluster 0: DOGE (\", (cryptos[(cryptos.Year == 2021) & (cryptos.Symbol == \"DOGE\")].Cluster.value_counts(normalize = True).max() * 100).round(), \"% de los días del año )\")\n",
    "print(\"Cluster 1: LTC (\", (cryptos[(cryptos.Year == 2021) & (cryptos.Symbol == \"LTC\")].Cluster.value_counts(normalize = True).max() * 100).round(), \"% de los días del año )\")\n",
    "print(\"Cluster 2: ETH (\", (cryptos[(cryptos.Year == 2021) & (cryptos.Symbol == \"ETH\")].Cluster.value_counts(normalize = True).max() * 100).round(), \"% de los días del año )\")\n",
    "print(\"Cluster 3: BTC (\", (cryptos[(cryptos.Year == 2021) & (cryptos.Symbol == \"BTC\")].Cluster.value_counts(normalize = True).max() * 100).round(), \"% de los días del año )\")"
   ]
  },
  {
   "cell_type": "markdown",
   "metadata": {},
   "source": [
    "#### Boxplots para visualizar la tendencia anual y la estacionalidad mensual"
   ]
  },
  {
   "cell_type": "markdown",
   "metadata": {},
   "source": [
    "El análisis es individual por cada moneda, así que no se unifican las escalas: traería problemas de visualización en las monedas de menor valor y aportaría poco al análisis"
   ]
  },
  {
   "cell_type": "code",
   "execution_count": null,
   "metadata": {},
   "outputs": [],
   "source": [
    "doge = pd.DataFrame(cryptos[cryptos.Symbol == \"DOGE\"])\n",
    "doge['Month'] = [d.strftime('%b') for d in doge.Date]\n",
    "years_doge = doge['Year'].unique()\n",
    "\n",
    "ltc = cryptos[cryptos.Symbol == \"LTC\"]\n",
    "ltc['Month'] = [d.strftime('%b') for d in ltc.Date]\n",
    "years_ltc = ltc['Year'].unique()\n",
    "\n",
    "eth = cryptos[cryptos.Symbol == \"ETH\"]\n",
    "eth['Month'] = [d.strftime('%b') for d in eth.Date]\n",
    "years_eth = eth['Year'].unique()\n",
    "\n",
    "btc = cryptos[cryptos.Symbol == \"BTC\"]\n",
    "btc['Month'] = [d.strftime('%b') for d in btc.Date]\n",
    "years_btc = btc['Year'].unique()\n",
    "\n",
    "fig, axes = plt.subplots(4, 2, figsize = (20,20), dpi = 80)\n",
    "\n",
    "\n",
    "\n",
    "box = sns.boxplot(x ='Year', y ='Close', data = doge, ax = axes[0, 0])\n",
    "axes[0, 0].xaxis.set_label_position('top')\n",
    "axes[0, 0].set_xlabel('DOGE', fontsize= 14)\n",
    "axes[0, 0].grid(which='major', axis='y', color='gray', lw=1, alpha=0.2)\n",
    "\n",
    "sns.boxplot(x ='Month', y ='Close', data = doge.loc[~doge.Year.isin([2013, 2021]), :], ax = axes[0, 1], palette ='Set3')\n",
    "axes[0, 1].xaxis.set_label_position('top')\n",
    "axes[0, 1].set_xlabel('DOGE', fontsize= 14)\n",
    "axes[0, 1].grid(which='major', axis='y', color='gray', lw=1, alpha=0.2)\n",
    "\n",
    "sns.boxplot(x ='Year', y ='Close', data = ltc, ax = axes[1, 0])\n",
    "axes[1, 0].xaxis.set_label_position('top')\n",
    "axes[1, 0].set_xlabel('LTC', fontsize= 14)\n",
    "axes[1, 0].grid(which='major', axis='y', color='gray', lw=1, alpha=0.2)\n",
    "\n",
    "sns.boxplot(x ='Month', y ='Close', data = ltc.loc[~ltc.Year.isin([2013, 2021]), :], ax = axes[1, 1], palette ='Set3')\n",
    "axes[1, 1].xaxis.set_label_position('top')\n",
    "axes[1, 1].set_xlabel('LTC', fontsize= 14)\n",
    "axes[1, 1].grid(which='major', axis='y', color='gray', lw=1, alpha=0.2)\n",
    "\n",
    "sns.boxplot(x ='Year', y ='Close', data = eth, ax = axes[2, 0])\n",
    "axes[2, 0].xaxis.set_label_position('top')\n",
    "axes[2, 0].set_xlabel('ETH', fontsize= 14)\n",
    "axes[2, 0].grid(which='major', axis='y', color='gray', lw=1, alpha=0.2)\n",
    "\n",
    "sns.boxplot(x ='Month', y ='Close', data = eth.loc[~eth.Year.isin([2013, 2021]), :], ax = axes[2, 1], palette ='Set3',\n",
    "            order = ['Jan', 'Feb', 'Mar', 'Apr', 'May', 'Jun', 'Jul', 'Aug', 'Sep', 'Oct', 'Nov', 'Dec'])\n",
    "axes[2, 1].xaxis.set_label_position('top')\n",
    "axes[2, 1].set_xlabel('ETH', fontsize= 14)\n",
    "axes[2, 1].grid(which='major', axis='y', color='gray', lw=1, alpha=0.2)\n",
    "\n",
    "sns.boxplot(x ='Year', y ='Close', data = btc, ax = axes[3, 0])\n",
    "axes[3, 0].xaxis.set_label_position('top')\n",
    "axes[3, 0].set_xlabel('BTC', fontsize= 14)\n",
    "axes[3, 0].grid(which='major', axis='y', color='gray', lw=1, alpha=0.2)\n",
    "\n",
    "sns.boxplot(x ='Month', y ='Close', data = btc.loc[~btc.Year.isin([2013, 2021]), :], ax = axes[3, 1], palette ='Set3')\n",
    "axes[3, 1].xaxis.set_label_position('top')\n",
    "axes[3, 1].set_xlabel('BTC', fontsize= 14)\n",
    "axes[3, 1].grid(which='major', axis='y', color='gray', lw=1, alpha=0.2)\n",
    "\n",
    "\n",
    "#Seteamos los títulos:\n",
    "axes[0, 0].set_title('Box Plot Anual\\n(Tendencia)', fontsize=18); \n",
    "axes[0, 1].set_title('Box Plot Mensual\\n(Estacionalidad)', fontsize=18);\n",
    "\n",
    "plt.savefig('boxplots.png')"
   ]
  },
  {
   "cell_type": "markdown",
   "metadata": {},
   "source": [
    "- Al analizar la tendencia, se puede observar que es claramente alcista a lo largo de la corta historia\n",
    "\n",
    "\n",
    "- Al analizar la estacionalidad, se pueden observar algunos puntos:\n",
    "\n",
    "1) Hay muy pocos bigotes inferiores debido a la naturaleza alcista de la tendencia.\n",
    "\n",
    "2) Un cierto aumento en los valores de fin y principio de año (dentro del rango intercuartil en BTC, mediante outliers en ETH, LTC y DOGE).\n",
    "\n",
    "3) Una diferente volatilidad entre los distintos clusters: DOGE tiene cuerpo del boxplot menor a LTC, quien a su vez tiene menor cuerpo de boxplot que ETH, e igualmente con BTC. A su vez, la relación de tamaño entre bigotes y cuerpo son directamente proporcionales a la volatilidad: DOGE, el más volátil, tiene bigotes mucho más grandes proporcionalmente al cuerpo, en comparación a las monedas menos volatiles. Esto se da, nuevamente, de manera gradual.\n",
    "\n",
    "4) La enorme diferencia en Volatilidad y en Marketcap de BTC, el único en el cluster 3, podría explicar por qué no tuvo ningún outlier."
   ]
  },
  {
   "cell_type": "markdown",
   "metadata": {},
   "source": [
    "#### Plots para visualizar el valor de cierre y la volatilidad a lo largo de los años"
   ]
  },
  {
   "cell_type": "code",
   "execution_count": null,
   "metadata": {},
   "outputs": [],
   "source": [
    "fig2, axes2 = plt.subplots(4, 2, figsize = (20,20), dpi = 80)\n",
    "\n",
    "axes2[0, 0].plot(doge[\"Date\"], doge[\"Close\"], color='g')\n",
    "axes2[0, 0].xaxis.set_label_position('top')\n",
    "axes2[0, 0].set_xlabel('DOGE', fontsize= 14)\n",
    "axes2[0, 0].grid(which='major', axis='y', color='gray', lw=1, alpha=0.2)\n",
    "\n",
    "axes2[0, 1].plot(doge[\"Date\"], doge[\"Volatilidad\"], color='g')\n",
    "axes2[0, 1].xaxis.set_label_position('top')\n",
    "axes2[0, 1].set_xlabel('DOGE', fontsize= 14)\n",
    "axes2[0, 1].grid(which='major', axis='y', color='gray', lw=1, alpha=0.2)\n",
    "\n",
    "axes2[1, 0].plot(ltc[\"Date\"], ltc[\"Close\"], color='g')\n",
    "axes2[1, 0].xaxis.set_label_position('top')\n",
    "axes2[1, 0].set_xlabel('LTC', fontsize= 14)\n",
    "axes2[1, 0].grid(which='major', axis='y', color='gray', lw=1, alpha=0.2)\n",
    "\n",
    "axes2[1, 1].plot(ltc[\"Date\"], ltc[\"Volatilidad\"], color='g')\n",
    "axes2[1, 1].xaxis.set_label_position('top')\n",
    "axes2[1, 1].set_xlabel('LTC', fontsize= 14)\n",
    "axes2[1, 1].grid(which='major', axis='y', color='gray', lw=1, alpha=0.2)\n",
    "\n",
    "\n",
    "axes2[2, 0].plot(eth[\"Date\"], eth[\"Close\"], color='g')\n",
    "axes2[2, 0].xaxis.set_label_position('top')\n",
    "axes2[2, 0].set_xlabel('ETH', fontsize= 14)\n",
    "axes2[2, 0].grid(which='major', axis='y', color='gray', lw=1, alpha=0.2)\n",
    "\n",
    "axes2[2, 1].plot(eth[\"Date\"], eth[\"Volatilidad\"], color='g')\n",
    "axes2[2, 1].xaxis.set_label_position('top')\n",
    "axes2[2, 1].set_xlabel('ETH', fontsize= 14)\n",
    "axes2[2, 1].grid(which='major', axis='y', color='gray', lw=1, alpha=0.2)\n",
    "\n",
    "\n",
    "axes2[3, 0].plot(btc[\"Date\"], btc[\"Close\"], color='g')\n",
    "axes2[3, 0].xaxis.set_label_position('top')\n",
    "axes2[3, 0].set_xlabel('BTC', fontsize= 14)\n",
    "axes2[3, 0].grid(which='major', axis='y', color='gray', lw=1, alpha=0.2)\n",
    "\n",
    "axes2[3, 1].plot(btc[\"Date\"], btc[\"Volatilidad\"], color='g')\n",
    "axes2[3, 1].xaxis.set_label_position('top')\n",
    "axes2[3, 1].set_xlabel('BTC', fontsize= 14)\n",
    "axes2[3, 1].grid(which='major', axis='y', color='gray', lw=1, alpha=0.2)\n",
    "\n",
    "\n",
    "#Seteamos los títulos:\n",
    "axes2[0, 0].set_title('Plot Anual\\n(Valor de cierre)', fontsize=18); \n",
    "axes2[0, 1].set_title('Plot Anual\\n(Volatilidad diaria)', fontsize=18);\n",
    "\n",
    "plt.savefig('plots.png')"
   ]
  },
  {
   "cell_type": "markdown",
   "metadata": {},
   "source": [
    "Se realizará en otra notebook un análisis más exhaustivo de series de tiempo basadas en BTC."
   ]
  }
 ],
 "metadata": {
  "kernelspec": {
   "display_name": "Python 3",
   "language": "python",
   "name": "python3"
  },
  "language_info": {
   "codemirror_mode": {
    "name": "ipython",
    "version": 3
   },
   "file_extension": ".py",
   "mimetype": "text/x-python",
   "name": "python",
   "nbconvert_exporter": "python",
   "pygments_lexer": "ipython3",
   "version": "3.7.9"
  }
 },
 "nbformat": 4,
 "nbformat_minor": 5
}
