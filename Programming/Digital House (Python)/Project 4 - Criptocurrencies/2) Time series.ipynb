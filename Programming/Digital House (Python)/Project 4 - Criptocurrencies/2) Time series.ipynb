{
 "cells": [
  {
   "cell_type": "markdown",
   "id": "981d351e",
   "metadata": {},
   "source": [
    "# 1) Preparación previa"
   ]
  },
  {
   "cell_type": "markdown",
   "id": "98c04385",
   "metadata": {},
   "source": [
    "#### Carga de librerías"
   ]
  },
  {
   "cell_type": "code",
   "execution_count": null,
   "id": "ec970724",
   "metadata": {},
   "outputs": [],
   "source": [
    "import pandas as pd\n",
    "import numpy as np\n",
    "\n",
    "import matplotlib.pyplot as plt\n",
    "import matplotlib as mpl\n",
    "import seaborn as sns\n",
    "%matplotlib inline\n",
    "\n",
    "import statsmodels.api as sm\n",
    "import statsmodels.formula.api as smf\n",
    "import statsmodels.tsa.api as smt\n",
    "\n",
    "from scipy import stats\n",
    "from statistics import mode\n",
    "\n",
    "from sklearn.model_selection import train_test_split\n",
    "\n",
    "from statsmodels.tsa.stattools import adfuller\n",
    "from statsmodels.tsa.stattools import acf, pacf\n",
    "from statsmodels.graphics.tsaplots import plot_acf, plot_pacf\n",
    "from statsmodels.tsa.arima.model import ARIMA\n",
    "from statsmodels.graphics.tsaplots import plot_predict\n",
    "from statsmodels.tsa.holtwinters import SimpleExpSmoothing\n",
    "from sklearn.model_selection import TimeSeriesSplit\n",
    "from sklearn.metrics import mean_squared_error\n",
    "\n",
    "# Se debe instalar pmdarima \n",
    "from pmdarima import auto_arima #!pip install pmdarima\n",
    "\n",
    "import warnings\n",
    "warnings.filterwarnings('ignore')"
   ]
  },
  {
   "cell_type": "markdown",
   "id": "8fcb2f53",
   "metadata": {},
   "source": [
    "#### Lectura del dataset"
   ]
  },
  {
   "cell_type": "code",
   "execution_count": null,
   "id": "a62c9290",
   "metadata": {},
   "outputs": [],
   "source": [
    "df = pd.read_csv('https://raw.githubusercontent.com/Agustin-Bulzomi/Projects/main/Programming/Digital%20House%20(Python)/Support%20Files/Final%20Project/coin_Bitcoin.csv', delimiter=',')"
   ]
  },
  {
   "cell_type": "markdown",
   "id": "496e71e1",
   "metadata": {},
   "source": [
    "Se realizan las modificaciones del dataset pertinentes para el análisis de series de tiempo"
   ]
  },
  {
   "cell_type": "code",
   "execution_count": null,
   "id": "c6923804",
   "metadata": {},
   "outputs": [],
   "source": [
    "df['Date'] = pd.to_datetime(df['Date'])\n",
    "df.index = pd.PeriodIndex(df.Date, freq='D')\n",
    "df.head()"
   ]
  },
  {
   "cell_type": "markdown",
   "id": "79ef117f",
   "metadata": {},
   "source": [
    "#### Dummies"
   ]
  },
  {
   "cell_type": "code",
   "execution_count": null,
   "id": "60f6897c",
   "metadata": {},
   "outputs": [],
   "source": [
    "df[\"timeIndex\"] = pd.Series(np.arange(len(df['Close'])), index=df.index)\n",
    "\n",
    "df.head()"
   ]
  },
  {
   "cell_type": "code",
   "execution_count": null,
   "id": "2d08c01c",
   "metadata": {},
   "outputs": [],
   "source": [
    "df.tail()"
   ]
  },
  {
   "cell_type": "markdown",
   "id": "f82fd4f8",
   "metadata": {},
   "source": [
    "Se agregan las columnas necesarias"
   ]
  },
  {
   "cell_type": "code",
   "execution_count": null,
   "id": "bac99c89",
   "metadata": {},
   "outputs": [],
   "source": [
    "df['Month'] = df['Date'].dt.month\n",
    "df['Year'] = df['Date'].dt.year"
   ]
  },
  {
   "cell_type": "markdown",
   "id": "700af46b",
   "metadata": {},
   "source": [
    "Se crean las dummies"
   ]
  },
  {
   "cell_type": "code",
   "execution_count": null,
   "id": "bbe69fea",
   "metadata": {},
   "outputs": [],
   "source": [
    "dummies_mes = pd.get_dummies(df['Month'], drop_first=True, prefix='Month')\n",
    "df = df.join(dummies_mes)\n",
    "df.sample(10)"
   ]
  },
  {
   "cell_type": "markdown",
   "id": "d0062a8d",
   "metadata": {},
   "source": [
    "#### Se divide el dataset en Train y Test, usando rangos personalizados"
   ]
  },
  {
   "cell_type": "code",
   "execution_count": null,
   "id": "7bf2bc2d",
   "metadata": {},
   "outputs": [],
   "source": [
    "# Se utiliza este método para manejar el shape que se aplicará a los demás modelos\n",
    "end_date = '2021-01-27'\n",
    "mask1 = (df['Date'] <= end_date)\n",
    "mask2 = (df['Date'] > end_date)"
   ]
  },
  {
   "cell_type": "code",
   "execution_count": null,
   "id": "fd12ca21",
   "metadata": {},
   "outputs": [],
   "source": [
    "# Se pasan las máscaras para obtener train y test:\n",
    "df_train = df.loc[mask1]\n",
    "df_test = df.loc[mask2]\n",
    "print(\"train shape\",df_train.shape)\n",
    "print(\"test shape\",df_test.shape)"
   ]
  },
  {
   "cell_type": "markdown",
   "id": "9c2389e3",
   "metadata": {},
   "source": [
    "#### Chequeo de que la primer fecha de test sea la siguiente al final de train:"
   ]
  },
  {
   "cell_type": "code",
   "execution_count": null,
   "id": "8d7875b5",
   "metadata": {},
   "outputs": [],
   "source": [
    "df_train.tail()"
   ]
  },
  {
   "cell_type": "code",
   "execution_count": null,
   "id": "363f3d18",
   "metadata": {},
   "outputs": [],
   "source": [
    "df_test.head()"
   ]
  },
  {
   "cell_type": "markdown",
   "id": "c19afee0",
   "metadata": {},
   "source": [
    "#### Ploteo de los dos datasets obtenidos:"
   ]
  },
  {
   "cell_type": "code",
   "execution_count": null,
   "id": "1ee725fb",
   "metadata": {},
   "outputs": [],
   "source": [
    "pd.plotting.register_matplotlib_converters()\n",
    "f, ax = plt.subplots(figsize=(14,5))\n",
    "df_train.plot(kind='line', x='Date', y='Close', color='blue', label='Train', ax = ax)\n",
    "df_test.plot(kind='line', x='Date', y='Close', color='red', label='Test', ax = ax)\n",
    "ax.legend(loc= \"upper left\")\n",
    "plt.title('Rango para Train y para Test')\n",
    "plt.show()"
   ]
  },
  {
   "cell_type": "markdown",
   "id": "e364992d",
   "metadata": {},
   "source": [
    "#### Ploteo del Target en escala logarítmica:"
   ]
  },
  {
   "cell_type": "code",
   "execution_count": null,
   "id": "17f9bd60",
   "metadata": {},
   "outputs": [],
   "source": [
    "df_train['log_value'] = np.log(df_train['Close'])\n",
    "df_test['log_value'] = np.log(df_test['Close'])"
   ]
  },
  {
   "cell_type": "code",
   "execution_count": null,
   "id": "33d07fd1",
   "metadata": {},
   "outputs": [],
   "source": [
    "def plot_df(df, x, y, title = \"/\", xlabel='Fecha', ylabel='Valor', dpi=100):\n",
    "    plt.figure(figsize=(16,5), dpi=dpi),\n",
    "    plt.plot(x, y, color='tab:red'),\n",
    "    plt.gca().set(title=title, xlabel=xlabel, ylabel=ylabel),\n",
    "    plt.show()"
   ]
  },
  {
   "cell_type": "code",
   "execution_count": null,
   "id": "f10c8bb1",
   "metadata": {},
   "outputs": [],
   "source": [
    "plot_df(df_train, x=df_train.Date, y=df_train['log_value'],\\\n",
    "    title='Log de Close del train set')"
   ]
  },
  {
   "cell_type": "markdown",
   "id": "6e77cdd0",
   "metadata": {},
   "source": [
    "#### Entrenaiento del modelo para analizar el Summary:"
   ]
  },
  {
   "cell_type": "code",
   "execution_count": null,
   "id": "7b579a31",
   "metadata": {},
   "outputs": [],
   "source": [
    "model_log = smf.ols('log_value ~ timeIndex',\\\n",
    "                          data = df_train).fit()"
   ]
  },
  {
   "cell_type": "code",
   "execution_count": null,
   "id": "688518cd",
   "metadata": {},
   "outputs": [],
   "source": [
    "model_log.summary()"
   ]
  },
  {
   "cell_type": "markdown",
   "id": "ad79ca6a",
   "metadata": {},
   "source": [
    "# 2) Modelos"
   ]
  },
  {
   "cell_type": "markdown",
   "id": "b0cde297",
   "metadata": {},
   "source": [
    "Se utilizará una plétora de herramientas y recursos para analizar las series de tiempo y sus implicancias. En cada paso se irá visualizando los resultados y almacenando su información para, al final de la notebook, compararlos"
   ]
  },
  {
   "cell_type": "markdown",
   "id": "b90dbe2e",
   "metadata": {},
   "source": [
    "## a) Mean"
   ]
  },
  {
   "cell_type": "markdown",
   "id": "18d31e52",
   "metadata": {},
   "source": [
    "#### Se aplica el modelo de media constante a train y test:"
   ]
  },
  {
   "cell_type": "code",
   "execution_count": null,
   "id": "cd833910",
   "metadata": {},
   "outputs": [],
   "source": [
    "# Se calcula el promedio:\n",
    "model_mean_pred = df_train['Close'].mean()\n",
    "\n",
    "# La predicción es fija y es la misma para el set de testeo y de entrenamiento:\n",
    "df_train[\"Mean\"] = model_mean_pred\n",
    "df_test[\"Mean\"] = model_mean_pred"
   ]
  },
  {
   "cell_type": "markdown",
   "id": "be4bc073",
   "metadata": {},
   "source": [
    "#### Ploteo de las predicciones vs las series reales, en train y test:"
   ]
  },
  {
   "cell_type": "code",
   "execution_count": null,
   "id": "ef36ab5a",
   "metadata": {},
   "outputs": [],
   "source": [
    "df_train.plot(kind=\"line\", y = [\"Close\", \"Mean\"]);"
   ]
  },
  {
   "cell_type": "code",
   "execution_count": null,
   "id": "195d6a12",
   "metadata": {},
   "outputs": [],
   "source": [
    "df_test.plot(kind=\"line\", y = [\"Close\", \"Mean\"]);"
   ]
  },
  {
   "cell_type": "markdown",
   "id": "733ee161",
   "metadata": {},
   "source": [
    "#### Se define una función para calcular el RMSE:"
   ]
  },
  {
   "cell_type": "code",
   "execution_count": null,
   "id": "c1338634",
   "metadata": {},
   "outputs": [],
   "source": [
    "def RMSE(predicted, actual):\n",
    "    mse = (predicted - actual) ** 2\n",
    "    rmse = np.sqrt(mse.sum() / mse.count())\n",
    "    return rmse"
   ]
  },
  {
   "cell_type": "markdown",
   "id": "168d566e",
   "metadata": {},
   "source": [
    "#### Se define una función para calcular el MAPE:"
   ]
  },
  {
   "cell_type": "code",
   "execution_count": null,
   "id": "6a85e1ce",
   "metadata": {},
   "outputs": [],
   "source": [
    "def mean_absolute_percentage_error(y_true, y_pred): \n",
    "    y_true, y_pred = np.array(y_true), np.array(y_pred)\n",
    "    return np.mean(np.abs((y_true - y_pred) / y_true)) * 100"
   ]
  },
  {
   "cell_type": "code",
   "execution_count": null,
   "id": "3465136c",
   "metadata": {},
   "outputs": [],
   "source": [
    "# Aplicación del MAPE en Mean\n",
    "model_MAPE = mean_absolute_percentage_error(df_test.Close , df_test.Mean)\n",
    "print(\"El MAPE es \", model_MAPE)"
   ]
  },
  {
   "cell_type": "code",
   "execution_count": null,
   "id": "917fb497",
   "metadata": {},
   "outputs": [],
   "source": [
    "# Aplicación del RMSE en Mean\n",
    "print(\"El RMSE es \", RMSE(df_test.Mean, df_test.Close))"
   ]
  },
  {
   "cell_type": "markdown",
   "id": "c841b241",
   "metadata": {},
   "source": [
    "#### Se guardan los resultados en un DataFrame:"
   ]
  },
  {
   "cell_type": "markdown",
   "id": "4bfb21bd",
   "metadata": {},
   "source": [
    "El mismo será reutilizado para almacenar los resultados de los distintos modelos a utilizar"
   ]
  },
  {
   "cell_type": "code",
   "execution_count": null,
   "id": "98fe5225",
   "metadata": {},
   "outputs": [],
   "source": [
    "df_Results = pd.DataFrame(columns = [\"Model\", \"RMSE\",\"MAPE\"])\n",
    "df_Results.loc[0, \"Model\"] = \"Mean\"\n",
    "df_Results.loc[0, \"RMSE\"] = RMSE(df_test.Mean, df_test.Close)\n",
    "df_Results.loc[0, \"MAPE\"] = model_MAPE\n",
    "df_Results.head()"
   ]
  },
  {
   "cell_type": "markdown",
   "id": "3abbf41a",
   "metadata": {},
   "source": [
    "## b) RandomWalk"
   ]
  },
  {
   "cell_type": "markdown",
   "id": "46bfdc28",
   "metadata": {},
   "source": [
    "Se crea el shift de target en train:"
   ]
  },
  {
   "cell_type": "code",
   "execution_count": null,
   "id": "96e26e69",
   "metadata": {},
   "outputs": [],
   "source": [
    "df_train[\"CloseShift\"] = df_train.Close.shift()\n",
    "# La primera observación va a quedar en nan, por lo que se reemplaza por el valor siguente:\n",
    "df_train[\"CloseShift\"].fillna(method='bfill', inplace=True)\n",
    "df_train.head()"
   ]
  },
  {
   "cell_type": "markdown",
   "id": "ed9770ea",
   "metadata": {},
   "source": [
    "Se crea el shift de target en test:"
   ]
  },
  {
   "cell_type": "code",
   "execution_count": null,
   "id": "d87f763c",
   "metadata": {},
   "outputs": [],
   "source": [
    "df_test[\"CloseShift\"] = df_test.Close.shift()\n",
    "# Se puede reemplazar el primer nan con el último valor del set de entrenamiento:\n",
    "df_test.iloc[0,26] = df_train.iloc[-1,0]\n",
    "df_test.head()"
   ]
  },
  {
   "cell_type": "markdown",
   "id": "1292ad79",
   "metadata": {},
   "source": [
    "Lag de un período:"
   ]
  },
  {
   "cell_type": "code",
   "execution_count": null,
   "id": "411916f0",
   "metadata": {},
   "outputs": [],
   "source": [
    "df_train.plot(kind= \"scatter\", y = \"Close\", x = \"CloseShift\", s = 50);"
   ]
  },
  {
   "cell_type": "markdown",
   "id": "2b65f680",
   "metadata": {},
   "source": [
    "Diferencias entre Target y el lag:"
   ]
  },
  {
   "cell_type": "code",
   "execution_count": null,
   "id": "2aab8d66",
   "metadata": {},
   "outputs": [],
   "source": [
    "df_train[\"Closediff\"] = df_train.Close - df_train.CloseShift\n",
    "df_train.Closediff.plot();"
   ]
  },
  {
   "cell_type": "markdown",
   "id": "89e76502",
   "metadata": {},
   "source": [
    "#### Ploteo de las predicciones vs las series reales, en train y test:"
   ]
  },
  {
   "cell_type": "code",
   "execution_count": null,
   "id": "21d849c7",
   "metadata": {},
   "outputs": [],
   "source": [
    "df_train[\"RandomWalk\"] = df_train.CloseShift\n",
    "df_train.plot(kind=\"line\", y = [\"Close\", \"RandomWalk\"]);"
   ]
  },
  {
   "cell_type": "code",
   "execution_count": null,
   "id": "3e84ab9a",
   "metadata": {},
   "outputs": [],
   "source": [
    "df_test[\"RandomWalk\"] = pd.Series(df_train[\"Close\"][-1], index=df_test.index)"
   ]
  },
  {
   "cell_type": "code",
   "execution_count": null,
   "id": "648fb8ae",
   "metadata": {},
   "outputs": [],
   "source": [
    "df_test.plot(kind=\"line\", y = [\"Close\", \"RandomWalk\"]);"
   ]
  },
  {
   "cell_type": "markdown",
   "id": "c08fdc66",
   "metadata": {},
   "source": [
    "#### Se calcula el MAPE + RMSE y se almacena"
   ]
  },
  {
   "cell_type": "code",
   "execution_count": null,
   "id": "ba79ec0d",
   "metadata": {},
   "outputs": [],
   "source": [
    "model_MAPE = mean_absolute_percentage_error (df_test.Close , df_test.RandomWalk)"
   ]
  },
  {
   "cell_type": "code",
   "execution_count": null,
   "id": "68b89524",
   "metadata": {},
   "outputs": [],
   "source": [
    "df_Results.loc[1, \"Model\"] = \"Random Walk\"\n",
    "df_Results.loc[1, \"RMSE\"] = RMSE(df_test.RandomWalk, df_test.Close)\n",
    "df_Results.loc[1, \"MAPE\"] = model_MAPE\n",
    "df_Results"
   ]
  },
  {
   "cell_type": "code",
   "execution_count": null,
   "id": "ba99bf14",
   "metadata": {},
   "outputs": [],
   "source": [
    "# Para un resumen, se utiliza el Summary:\n",
    "model_linear = smf.ols('Close ~ timeIndex', data = df_train).fit()"
   ]
  },
  {
   "cell_type": "code",
   "execution_count": null,
   "id": "704bc4de",
   "metadata": {},
   "outputs": [],
   "source": [
    "model_linear.summary()"
   ]
  },
  {
   "cell_type": "markdown",
   "id": "b04a5716",
   "metadata": {},
   "source": [
    "## c) Linear Trend"
   ]
  },
  {
   "cell_type": "markdown",
   "id": "0d1fd8de",
   "metadata": {},
   "source": [
    "#### Se crea una columna en train con el predict:"
   ]
  },
  {
   "cell_type": "code",
   "execution_count": null,
   "id": "fe358c25",
   "metadata": {},
   "outputs": [],
   "source": [
    "df_train[\"LinearTrend\"] = model_linear.predict(df_train.timeIndex)"
   ]
  },
  {
   "cell_type": "markdown",
   "id": "b5f6796b",
   "metadata": {},
   "source": [
    "#### Ploteo de las predicciones vs las series reales, en train y test:"
   ]
  },
  {
   "cell_type": "code",
   "execution_count": null,
   "id": "a67475ed",
   "metadata": {},
   "outputs": [],
   "source": [
    "df_train.plot(kind = \"line\", y = [\"Close\",\"LinearTrend\"]);"
   ]
  },
  {
   "cell_type": "markdown",
   "id": "2148e401",
   "metadata": {},
   "source": [
    "#### Se repete en Test:"
   ]
  },
  {
   "cell_type": "code",
   "execution_count": null,
   "id": "6895081c",
   "metadata": {},
   "outputs": [],
   "source": [
    "df_test[\"LinearTrend\"] = model_linear.predict(df_test.timeIndex)"
   ]
  },
  {
   "cell_type": "code",
   "execution_count": null,
   "id": "015b22fb",
   "metadata": {},
   "outputs": [],
   "source": [
    "df_test.plot(kind = \"line\", y = [\"Close\",\"LinearTrend\"]);"
   ]
  },
  {
   "cell_type": "markdown",
   "id": "ffb8bc33",
   "metadata": {},
   "source": [
    "#### Se calcula el MAPE + RMSE y se almacena"
   ]
  },
  {
   "cell_type": "code",
   "execution_count": null,
   "id": "fe8d7f37",
   "metadata": {},
   "outputs": [],
   "source": [
    "model_MAPE = mean_absolute_percentage_error (df_test.Close , df_test.LinearTrend)"
   ]
  },
  {
   "cell_type": "code",
   "execution_count": null,
   "id": "b89cb11d",
   "metadata": {},
   "outputs": [],
   "source": [
    "df_Results.loc[2, \"Model\"] = \"LinearTrend\"\n",
    "df_Results.loc[2, \"RMSE\"] = RMSE(df_test.LinearTrend, df_test.Close)\n",
    "df_Results.loc[2, \"MAPE\"] = model_MAPE\n",
    "df_Results"
   ]
  },
  {
   "cell_type": "markdown",
   "id": "b73ca89d",
   "metadata": {},
   "source": [
    "## d) Transf Log"
   ]
  },
  {
   "cell_type": "code",
   "execution_count": null,
   "id": "c237e51e",
   "metadata": {},
   "outputs": [],
   "source": [
    "df_train['model_log'] = model_log.predict(df_train[[\"timeIndex\"]])\n",
    "df_test['model_log'] = model_log.predict(df_test[[\"timeIndex\"]])"
   ]
  },
  {
   "cell_type": "code",
   "execution_count": null,
   "id": "c3be5563",
   "metadata": {},
   "outputs": [],
   "source": [
    "df_train['back_model_log'] = np.exp(df_train['model_log'])\n",
    "df_test['back_model_log'] = np.exp(df_test['model_log'])"
   ]
  },
  {
   "cell_type": "markdown",
   "id": "f6bcd7c0",
   "metadata": {},
   "source": [
    "#### Ploteo de las predicciones vs las series reales, en train y test:"
   ]
  },
  {
   "cell_type": "code",
   "execution_count": null,
   "id": "31f6e7dd",
   "metadata": {},
   "outputs": [],
   "source": [
    "df_train.plot(kind = \"line\", x = \"Date\", y = ['log_value', 'model_log']);"
   ]
  },
  {
   "cell_type": "code",
   "execution_count": null,
   "id": "ec44867e",
   "metadata": {},
   "outputs": [],
   "source": [
    "df_train.plot(kind = \"line\", x = \"Date\", y = ['Close', 'back_model_log']);"
   ]
  },
  {
   "cell_type": "code",
   "execution_count": null,
   "id": "119c10ee",
   "metadata": {},
   "outputs": [],
   "source": [
    "df_test.plot(kind = \"line\", x = \"Date\", y = ['log_value', 'model_log']);"
   ]
  },
  {
   "cell_type": "code",
   "execution_count": null,
   "id": "2e8e4657",
   "metadata": {},
   "outputs": [],
   "source": [
    "df_test.plot(kind = \"line\", x = \"Date\", y = ['Close', 'back_model_log']);"
   ]
  },
  {
   "cell_type": "markdown",
   "id": "a5a61104",
   "metadata": {},
   "source": [
    "#### Se calcula el MAPE + RMSE y se almacena"
   ]
  },
  {
   "cell_type": "code",
   "execution_count": null,
   "id": "3d4530b9",
   "metadata": {},
   "outputs": [],
   "source": [
    "model_MAPE = mean_absolute_percentage_error (df_test.Close , df_test.back_model_log)"
   ]
  },
  {
   "cell_type": "code",
   "execution_count": null,
   "id": "fd772de9",
   "metadata": {},
   "outputs": [],
   "source": [
    "df_Results.loc[3, \"Model\"] = \"Transf Log\"\n",
    "df_Results.loc[3, \"RMSE\"] = RMSE(df_test['back_model_log'], df_test['Close'])\n",
    "df_Results.loc[3, \"MAPE\"] = model_MAPE\n",
    "df_Results"
   ]
  },
  {
   "cell_type": "markdown",
   "id": "ca2b5bdf",
   "metadata": {},
   "source": [
    "## e) Transf Log + Est"
   ]
  },
  {
   "cell_type": "code",
   "execution_count": null,
   "id": "e2f95dfa",
   "metadata": {},
   "outputs": [],
   "source": [
    "model_log_est = smf.ols('log_value ~ timeIndex + Month_2 + Month_3 + Month_4 + Month_5 + Month_6 + Month_7 + Month_8 + Month_9 + Month_11 + Month_12',\\\n",
    "                          data = df_train).fit()\n"
   ]
  },
  {
   "cell_type": "code",
   "execution_count": null,
   "id": "bc736976",
   "metadata": {},
   "outputs": [],
   "source": [
    "df_train['model_log_est'] = model_log_est.predict(df_train[[\"timeIndex\",\\\n",
    "                                              \"Month_2\", \"Month_3\", \"Month_4\", \"Month_5\",\\\n",
    "                                               \"Month_6\",\"Month_7\", \"Month_8\", \"Month_9\",\"Month_10\",\"Month_11\",\"Month_12\"]])\n",
    "\n",
    "\n",
    "df_test['model_log_est'] = model_log_est.predict(df_test[[\"timeIndex\",\\\n",
    "                                               \"Month_2\", \"Month_3\", \"Month_4\", \"Month_5\",\\\n",
    "                                               \"Month_6\",\"Month_7\", \"Month_8\", \"Month_9\",\"Month_10\",\"Month_11\",\"Month_12\"]])"
   ]
  },
  {
   "cell_type": "code",
   "execution_count": null,
   "id": "bd059950",
   "metadata": {},
   "outputs": [],
   "source": [
    "df_train['back_model_log_est'] = np.exp(df_train['model_log_est'])\n",
    "df_test['back_model_log_est'] = np.exp(df_test['model_log_est'])"
   ]
  },
  {
   "cell_type": "markdown",
   "id": "18d4c643",
   "metadata": {},
   "source": [
    "#### Ploteo de las predicciones vs las series reales, en train y test:"
   ]
  },
  {
   "cell_type": "code",
   "execution_count": null,
   "id": "b4ad63ef",
   "metadata": {},
   "outputs": [],
   "source": [
    "df_train.plot(kind = \"line\", x = \"Date\", y = ['log_value', 'model_log_est']);"
   ]
  },
  {
   "cell_type": "code",
   "execution_count": null,
   "id": "6ce4e8eb",
   "metadata": {},
   "outputs": [],
   "source": [
    "df_train.plot(kind = \"line\", x = \"Date\", y = ['Close', 'back_model_log_est']);"
   ]
  },
  {
   "cell_type": "code",
   "execution_count": null,
   "id": "50f18f14",
   "metadata": {},
   "outputs": [],
   "source": [
    "df_test.plot(kind = \"line\", x = \"Date\", y = ['log_value', 'model_log_est']);"
   ]
  },
  {
   "cell_type": "code",
   "execution_count": null,
   "id": "797779da",
   "metadata": {},
   "outputs": [],
   "source": [
    "df_test.plot(kind = \"line\", x = \"Date\", y = ['Close', 'back_model_log_est']);"
   ]
  },
  {
   "cell_type": "markdown",
   "id": "6b2d8ec7",
   "metadata": {},
   "source": [
    "#### Se calcula el MAPE + RMSE y se almacena"
   ]
  },
  {
   "cell_type": "code",
   "execution_count": null,
   "id": "72d12e87",
   "metadata": {},
   "outputs": [],
   "source": [
    "model_MAPE = mean_absolute_percentage_error (df_test.Close , df_test.back_model_log_est)"
   ]
  },
  {
   "cell_type": "code",
   "execution_count": null,
   "id": "4ac979fd",
   "metadata": {},
   "outputs": [],
   "source": [
    "df_Results.loc[4, \"Model\"] = \"Transf Log + est\"\n",
    "df_Results.loc[4, \"RMSE\"] = RMSE(df_test['back_model_log_est'], df_test['Close'])\n",
    "df_Results.loc[4, \"MAPE\"] = model_MAPE\n",
    "df_Results"
   ]
  },
  {
   "cell_type": "markdown",
   "id": "7cab1c74",
   "metadata": {},
   "source": [
    "## f) Simple Smoothing"
   ]
  },
  {
   "cell_type": "markdown",
   "id": "af6f3652",
   "metadata": {},
   "source": [
    "#### Fiteo del modelo:"
   ]
  },
  {
   "cell_type": "code",
   "execution_count": null,
   "id": "be302ebe",
   "metadata": {},
   "outputs": [],
   "source": [
    "model_exp_smoothing = SimpleExpSmoothing(df_train.Close).fit(smoothing_level=0.3, optimized=False)"
   ]
  },
  {
   "cell_type": "markdown",
   "id": "2879626c",
   "metadata": {},
   "source": [
    "#### Ploteo de las predicciones vs las series reales, en train y test:"
   ]
  },
  {
   "cell_type": "code",
   "execution_count": null,
   "id": "3c7cb61f",
   "metadata": {},
   "outputs": [],
   "source": [
    "df_train.plot(kind = \"line\", y = \"Close\")\n",
    "model_exp_smoothing.fittedvalues.plot();"
   ]
  },
  {
   "cell_type": "code",
   "execution_count": null,
   "id": "0e7ab88e",
   "metadata": {},
   "outputs": [],
   "source": [
    "# Se define cantidad de splits:\n",
    "tscv = TimeSeriesSplit(n_splits=5)"
   ]
  },
  {
   "cell_type": "code",
   "execution_count": null,
   "id": "09fd6ab1",
   "metadata": {},
   "outputs": [],
   "source": [
    "for train_index, val_index in tscv.split(df_train):\n",
    "    print(\"TRAIN:\", train_index, \"VAL:\", val_index)"
   ]
  },
  {
   "cell_type": "markdown",
   "id": "bd909861",
   "metadata": {},
   "source": [
    "Creación de una función para aplicar Cross Validation"
   ]
  },
  {
   "cell_type": "code",
   "execution_count": null,
   "id": "47f263d2",
   "metadata": {},
   "outputs": [],
   "source": [
    "def timeseriesCVscore_exp_smoot(alpha, series):\n",
    "    \"\"\"\n",
    "        Devuelve errores en CV  \n",
    "        \n",
    "        slen - longitud de la sesión para modelo Holt-Winters\n",
    "    \"\"\"\n",
    "    # Se crea un array de errores:\n",
    "    errors = []\n",
    "    values = series.values\n",
    "    \n",
    "    # Se instancia el objeto que realiza el tscv:\n",
    "    tscv = TimeSeriesSplit(n_splits=5) \n",
    "    \n",
    "    # Se aplica cross validation:\n",
    "    for train, test in tscv.split(values):\n",
    "    \n",
    "        model = SimpleExpSmoothing(values[train]).fit(smoothing_level = alpha, optimized=False)     \n",
    "        predictions = model.forecast(len(test))\n",
    "        actual = values[test]\n",
    "    \n",
    "        error = mean_squared_error(predictions, actual)\n",
    "        errors.append(error)\n",
    "        \n",
    "    return np.mean(np.array(errors))"
   ]
  },
  {
   "cell_type": "markdown",
   "id": "e93815ed",
   "metadata": {},
   "source": [
    "Aplicación de la función"
   ]
  },
  {
   "cell_type": "code",
   "execution_count": null,
   "id": "2d8aa4cc",
   "metadata": {},
   "outputs": [],
   "source": [
    "alphas = [0.001, 0.01, 0.1, 0.2, 0.3, 0.35, 0.4, 0.5, 0.7]\n",
    "errors = []\n",
    "\n",
    "for alpha in alphas:\n",
    "    error = timeseriesCVscore_exp_smoot(alpha, df_train.Close)\n",
    "    errors.append(error)\n",
    "\n",
    "print('Alpha óptimo:', alphas[np.argmin(errors)])"
   ]
  },
  {
   "cell_type": "code",
   "execution_count": null,
   "id": "2b6cdb1d",
   "metadata": {},
   "outputs": [],
   "source": [
    "model_exp_smoothing = SimpleExpSmoothing(df_train.Close).fit(smoothing_level=alphas[np.argmin(errors)], optimized=False)"
   ]
  },
  {
   "cell_type": "code",
   "execution_count": null,
   "id": "01a53d52",
   "metadata": {},
   "outputs": [],
   "source": [
    "df_test[\"Simple_Smoothing\"] = model_exp_smoothing.forecast(len(df_test))\n",
    "df_test.head()"
   ]
  },
  {
   "cell_type": "markdown",
   "id": "02703a01",
   "metadata": {},
   "source": [
    "#### Se calcula el MAPE + RMSE y se almacena"
   ]
  },
  {
   "cell_type": "code",
   "execution_count": null,
   "id": "1cb7a066",
   "metadata": {},
   "outputs": [],
   "source": [
    "model_MAPE = mean_absolute_percentage_error(df_test.Close , df_test.Simple_Smoothing)"
   ]
  },
  {
   "cell_type": "code",
   "execution_count": null,
   "id": "875f5451",
   "metadata": {},
   "outputs": [],
   "source": [
    "# Calculamos el RMSE y almacenamos los resultados\n",
    "df_Results.loc[5, \"Model\"] = \"Simple Smoothing\"\n",
    "df_Results.loc[5, \"RMSE\"] = RMSE(df_test[\"Simple_Smoothing\"], df_test.Close)\n",
    "df_Results.loc[5, \"MAPE\"] = model_MAPE\n",
    "\n",
    "df_Results"
   ]
  },
  {
   "cell_type": "markdown",
   "id": "3d86f028",
   "metadata": {},
   "source": [
    "#### Ploteo de las predicciones vs las series reales, en train y test:"
   ]
  },
  {
   "cell_type": "code",
   "execution_count": null,
   "id": "0ee6083e",
   "metadata": {},
   "outputs": [],
   "source": [
    "df_test.plot(kind=\"line\", y = [\"Close\", \"Simple_Smoothing\"]);"
   ]
  },
  {
   "cell_type": "markdown",
   "id": "422e14f1",
   "metadata": {},
   "source": [
    "## g) Dickey Fuller + Autocorrelación"
   ]
  },
  {
   "cell_type": "markdown",
   "id": "0a578e44",
   "metadata": {},
   "source": [
    "#### Se prueba si los residuos son estacionarios"
   ]
  },
  {
   "cell_type": "code",
   "execution_count": null,
   "id": "437914fd",
   "metadata": {},
   "outputs": [],
   "source": [
    "residuo = df_train['Close'] - df_train['back_model_log_est']\n",
    "plt.plot(df_train.timeIndex, residuo, '-');"
   ]
  },
  {
   "cell_type": "markdown",
   "id": "13959bf5",
   "metadata": {},
   "source": [
    "#### Aplicación de Dickey Fuller al residuo: "
   ]
  },
  {
   "cell_type": "code",
   "execution_count": null,
   "id": "d7e68821",
   "metadata": {},
   "outputs": [],
   "source": [
    "result = adfuller(residuo)\n",
    "print('ADF Statistic: %f' % result[0])\n",
    "print('p-value: %f' % result[1])\n",
    "for key, value in  result[4].items():\n",
    "    print('Valor crítico %s: %.2f' % (key,value))"
   ]
  },
  {
   "cell_type": "markdown",
   "id": "8ab7a8f9",
   "metadata": {},
   "source": [
    "No se puede rechazar la H0 con un nivel de significación del 5%."
   ]
  },
  {
   "cell_type": "code",
   "execution_count": null,
   "id": "2683f418",
   "metadata": {},
   "outputs": [],
   "source": [
    "# Se prueba ahora con los residuos antes de realizar back transform:\n",
    "res_log_est = df_train['log_value'] - df_train['model_log_est']\n",
    "plt.plot(df_train.timeIndex, res_log_est, '-');"
   ]
  },
  {
   "cell_type": "markdown",
   "id": "fc9aaeb6",
   "metadata": {},
   "source": [
    "#### Segundo testeo de la estacionalidad de los residuos:"
   ]
  },
  {
   "cell_type": "code",
   "execution_count": null,
   "id": "6d8cf461",
   "metadata": {},
   "outputs": [],
   "source": [
    "from statsmodels.tsa.stattools import adfuller\n",
    "\n",
    "result = adfuller(res_log_est)\n",
    "print('ADF Statistic: %f' % result[0])\n",
    "print('p-value: %f' % result[1])\n",
    "for key, value in  result[4].items():\n",
    "    print('Valor crítico %s: %.2f' % (key,value))"
   ]
  },
  {
   "cell_type": "markdown",
   "id": "0c3a5ecd",
   "metadata": {},
   "source": [
    "Aún no se puede rechazar la H0, pero se continúa el análisis"
   ]
  },
  {
   "cell_type": "code",
   "execution_count": null,
   "id": "a09e754f",
   "metadata": {},
   "outputs": [],
   "source": [
    "# Cálculo del res_log con 20 rezagos:\n",
    "lag_acf = acf(res_log_est, nlags = 20)\n",
    "lag_acf"
   ]
  },
  {
   "cell_type": "markdown",
   "id": "5239f997",
   "metadata": {},
   "source": [
    "#### Se almacena la serie ACF y se plotea:"
   ]
  },
  {
   "cell_type": "code",
   "execution_count": null,
   "id": "cafc38ac",
   "metadata": {},
   "outputs": [],
   "source": [
    "ACF = pd.Series(lag_acf)\n",
    "ACF.plot(kind = \"bar\");"
   ]
  },
  {
   "cell_type": "markdown",
   "id": "94573d83",
   "metadata": {},
   "source": [
    "#### Se repiten los pasos anteriores pero con PACF:"
   ]
  },
  {
   "cell_type": "code",
   "execution_count": null,
   "id": "caedd3d8",
   "metadata": {},
   "outputs": [],
   "source": [
    "lag_pacf = pacf(res_log_est, nlags=20, method='ols');"
   ]
  },
  {
   "cell_type": "code",
   "execution_count": null,
   "id": "d06b0601",
   "metadata": {},
   "outputs": [],
   "source": [
    "PACF = pd.Series(lag_pacf)\n",
    "PACF.plot(kind = \"bar\");"
   ]
  },
  {
   "cell_type": "markdown",
   "id": "86c43f66",
   "metadata": {},
   "source": [
    "Se puede concluir de este análisis que la correlación indirecta es alta, pero la parcial que considera solo influencia directa de cada período es absoluta en tan solo un mes antes del momento a analizar: esto habla de la alta volatilidad del caso a analizar, ya que se deduce de la herramienta y los datos que es de poca utilidad para la predicción de valores en las criptomonedas la utilización de información de más de un mes atrás"
   ]
  },
  {
   "cell_type": "markdown",
   "id": "db1d0d5e",
   "metadata": {},
   "source": [
    "#### Se crea una función para plotear una serie con información sobre los ACF y PACF y su estacionalidad:"
   ]
  },
  {
   "cell_type": "code",
   "execution_count": null,
   "id": "6c5852e9",
   "metadata": {},
   "outputs": [],
   "source": [
    "def tsplot(y, lags=None, figsize=(12, 7), style='bmh'):\n",
    "    \"\"\" \n",
    "        Plotea la serie de tiempo, el ACF y PACF y el test de Dickey–Fuller\n",
    "        \n",
    "        y - serie de tiempo\n",
    "        lags - cuántos lags incluir para el cálculo de la ACF y PACF\n",
    "        \n",
    "    \"\"\"\n",
    "    if not isinstance(y, pd.Series):\n",
    "        y = pd.Series(y)\n",
    "        \n",
    "    with plt.style.context(style):    \n",
    "        fig = plt.figure(figsize=figsize)\n",
    "        layout = (2, 2)\n",
    "        \n",
    "        # Se definen ejes\n",
    "        ts_ax = plt.subplot2grid(layout, (0, 0), colspan=2)\n",
    "        acf_ax = plt.subplot2grid(layout, (1, 0))\n",
    "        pacf_ax = plt.subplot2grid(layout, (1, 1))\n",
    "        \n",
    "        y.plot(ax=ts_ax)\n",
    "        \n",
    "        # Se obtiene el p-value con H0: raiz unitaria presente\n",
    "        p_value = sm.tsa.stattools.adfuller(y)[1]\n",
    "        \n",
    "        ts_ax.set_title('Análisis de la Serie de Tiempo\\n Dickey-Fuller: p={0:.5f}'\\\n",
    "                        .format(p_value))\n",
    "        \n",
    "        # Plot de autocorrelacion\n",
    "        smt.graphics.plot_acf(y, lags=lags, ax=acf_ax)\n",
    "        # Plot de autocorrelacion parcial\n",
    "        smt.graphics.plot_pacf(y, lags=lags, ax=pacf_ax)\n",
    "        plt.tight_layout()"
   ]
  },
  {
   "cell_type": "code",
   "execution_count": null,
   "id": "86b91db4",
   "metadata": {},
   "outputs": [],
   "source": [
    "# Aplicación de la función con la serie res_log:\n",
    "tsplot(res_log_est, lags=36)"
   ]
  },
  {
   "cell_type": "markdown",
   "id": "d468ac01",
   "metadata": {},
   "source": [
    "## h) ARIMA"
   ]
  },
  {
   "cell_type": "markdown",
   "id": "c6a788ec",
   "metadata": {},
   "source": [
    "#### Se aplica el auto_arima sobre res_log_est"
   ]
  },
  {
   "cell_type": "code",
   "execution_count": null,
   "id": "1224e6fb",
   "metadata": {},
   "outputs": [],
   "source": [
    "stepwise_fit = auto_arima(res_log_est, trace=True, suppress_warnings=True)"
   ]
  },
  {
   "cell_type": "markdown",
   "id": "2113c827",
   "metadata": {},
   "source": [
    "#### Como se obtuvo mejores resultados con p=2 y q=1, s aplica:"
   ]
  },
  {
   "cell_type": "code",
   "execution_count": null,
   "id": "19dd9fc7",
   "metadata": {},
   "outputs": [],
   "source": [
    "model_ARIMA = ARIMA(res_log_est, order=(2,0,1))\n",
    "\n",
    "# Estimación del modelo:\n",
    "results_ARIMA = model_ARIMA.fit()\n",
    "results_ARIMA.fittedvalues.head()"
   ]
  },
  {
   "cell_type": "markdown",
   "id": "2570ffe0",
   "metadata": {},
   "source": [
    "#### Se observa el summary:"
   ]
  },
  {
   "cell_type": "code",
   "execution_count": null,
   "id": "493f877d",
   "metadata": {},
   "outputs": [],
   "source": [
    "print(results_ARIMA.summary())"
   ]
  },
  {
   "cell_type": "markdown",
   "id": "259c2b02",
   "metadata": {},
   "source": [
    "#### Ploteo de resultados:"
   ]
  },
  {
   "cell_type": "code",
   "execution_count": null,
   "id": "302ed8a1",
   "metadata": {},
   "outputs": [],
   "source": [
    "plt.figure(figsize=(7,3.5))\n",
    "res_log_est.plot()\n",
    "results_ARIMA.fittedvalues.plot();"
   ]
  },
  {
   "cell_type": "code",
   "execution_count": null,
   "id": "7b3651dc-a605-41c1-8d35-f1e2893047ac",
   "metadata": {
    "tags": []
   },
   "outputs": [],
   "source": [
    "plot_predict(results_ARIMA)"
   ]
  },
  {
   "cell_type": "markdown",
   "id": "b8a54609",
   "metadata": {},
   "source": [
    "#### Análisis de los residuos del modelo ARIMA:"
   ]
  },
  {
   "cell_type": "code",
   "execution_count": null,
   "id": "28ba867f",
   "metadata": {},
   "outputs": [],
   "source": [
    "res_ARIMA =  results_ARIMA.fittedvalues - res_log_est"
   ]
  },
  {
   "cell_type": "code",
   "execution_count": null,
   "id": "8cbecf63",
   "metadata": {},
   "outputs": [],
   "source": [
    "tsplot(res_ARIMA, lags=36)"
   ]
  },
  {
   "cell_type": "markdown",
   "id": "b34ae282",
   "metadata": {},
   "source": [
    "#### Aplicación del método Forecast:"
   ]
  },
  {
   "cell_type": "code",
   "execution_count": null,
   "id": "9b7ca846-9028-401b-a8f7-c7ed5ee68e03",
   "metadata": {
    "tags": []
   },
   "outputs": [],
   "source": [
    "forecast = results_ARIMA.forecast(len(df_test['Close']), alpha=0.05)\n",
    "print(forecast)"
   ]
  },
  {
   "cell_type": "code",
   "execution_count": null,
   "id": "86714946",
   "metadata": {},
   "outputs": [],
   "source": [
    "# Se crea una variable para el train y otra para el test:\n",
    "\n",
    "df_train['log_model_ARIMA'] = df_train['model_log_est'] + results_ARIMA.fittedvalues\n",
    "df_test['log_model_ARIMA'] = df_test['model_log_est'] + forecast"
   ]
  },
  {
   "cell_type": "markdown",
   "id": "896b646b",
   "metadata": {},
   "source": [
    "#### Ploteo de las predicciones vs las series reales, en train y test:"
   ]
  },
  {
   "cell_type": "code",
   "execution_count": null,
   "id": "b9ad8fbe",
   "metadata": {},
   "outputs": [],
   "source": [
    "df_train.plot(kind = \"line\", y = ['log_value', 'log_model_ARIMA']);"
   ]
  },
  {
   "cell_type": "code",
   "execution_count": null,
   "id": "e5253051",
   "metadata": {},
   "outputs": [],
   "source": [
    "df_test.plot(kind = \"line\", y = ['log_value', 'log_model_ARIMA']);"
   ]
  },
  {
   "cell_type": "code",
   "execution_count": null,
   "id": "55793329",
   "metadata": {},
   "outputs": [],
   "source": [
    "# Se repite el proceso con back transformation del modelo log:\n",
    "\n",
    "df_train['back_log_model_ARIMA'] = np.exp(df_train['log_model_ARIMA'])\n",
    "df_test['back_log_model_ARIMA'] = np.exp(df_test['log_model_ARIMA'])\n",
    "\n",
    "df_train.plot(kind = \"line\", y = ['Close', 'back_log_model_ARIMA']);\n",
    "df_test.plot(kind = \"line\", y = ['Close', 'back_log_model_ARIMA']);"
   ]
  },
  {
   "cell_type": "markdown",
   "id": "706be0eb",
   "metadata": {},
   "source": [
    "#### Se calcula el MAPE + RMSE y se almacena"
   ]
  },
  {
   "cell_type": "code",
   "execution_count": null,
   "id": "965b9a40",
   "metadata": {},
   "outputs": [],
   "source": [
    "model_MAPE = mean_absolute_percentage_error (df_test.Close , df_test.back_log_model_ARIMA)"
   ]
  },
  {
   "cell_type": "code",
   "execution_count": null,
   "id": "77c5713a",
   "metadata": {},
   "outputs": [],
   "source": [
    "df_Results.loc[6, \"Model\"] = \"Log Model + est + ARIMA\"\n",
    "df_Results.loc[6, \"RMSE\"] = RMSE(df_test['back_log_model_ARIMA'], df_test['Close'])\n",
    "df_Results.loc[6, \"MAPE\"] = model_MAPE"
   ]
  },
  {
   "cell_type": "markdown",
   "id": "b2e9c9b3-a2dd-400b-86cf-082b1ac5eca0",
   "metadata": {
    "tags": []
   },
   "source": [
    "## I) Prophet"
   ]
  },
  {
   "cell_type": "markdown",
   "id": "afadcde0-761f-429f-aa5a-f74d95a77be5",
   "metadata": {},
   "source": [
    "En la 3ra y última notebook se prueba una herramienta no vista en el curso. Se separó para ser planteada como un anexo, debido a nuestra incertidumbre con respecto a sus resultados."
   ]
  },
  {
   "cell_type": "code",
   "execution_count": null,
   "id": "3410c6c1-3060-460a-bf1c-02230b75e7a5",
   "metadata": {
    "tags": []
   },
   "outputs": [],
   "source": [
    "# Como en esta notebook no se analiza esa herramienta, los resultados son ingresados manualmente\n",
    "\n",
    "df_Results.loc[7, \"Model\"] = \"Prophet\"\n",
    "df_Results.loc[7, \"RMSE\"] = 6997.16\n",
    "df_Results.loc[7, \"MAPE\"] = 15.54\n",
    "\n",
    "df_Results"
   ]
  },
  {
   "cell_type": "markdown",
   "id": "85d84d8e",
   "metadata": {},
   "source": [
    "# 3) Comparación de resultados"
   ]
  },
  {
   "cell_type": "markdown",
   "id": "ed846590",
   "metadata": {},
   "source": [
    "#### Análisis de RMSE y MAPE visualizado"
   ]
  },
  {
   "cell_type": "code",
   "execution_count": null,
   "id": "5afa2271-b5fc-4f4a-bd47-3ad16e892f33",
   "metadata": {},
   "outputs": [],
   "source": [
    "df_Results"
   ]
  },
  {
   "cell_type": "code",
   "execution_count": null,
   "id": "1c19a945-bc3e-4bed-b28c-bc0507d0f20a",
   "metadata": {
    "tags": []
   },
   "outputs": [],
   "source": [
    "fig, ax1 = plt.subplots(figsize=(22, 13))\n",
    "ax1.set_xlabel('Modelos', fontsize=22)\n",
    "ax1.set_ylabel('MAPE', fontsize=20, color='b')\n",
    "ax1.bar(df_Results.index - 0.2, df_Results.MAPE, width=0.4, color='b', linewidth=2, label = \"MAPE\")\n",
    "ax1.tick_params(axis='y', labelcolor='b', labelsize = 17)\n",
    "ax1.tick_params(axis='x', labelsize = 15)\n",
    "ax1.set_ylim([0, 99])\n",
    "\n",
    "ax2 = ax1.twinx()\n",
    "ax2.set_ylabel('RMSE', fontsize=20, color='r')\n",
    "ax2.bar(df_Results.index + 0.2, df_Results.RMSE, width=0.4, color='r', linewidth=2, label = \"RMSE\")\n",
    "ax2.tick_params(axis='y', labelcolor='r', labelsize = 17)\n",
    "ax2.set_ylim([0, 50000])\n",
    "\n",
    "plt.axvline(x='Means', color=\"grey\", linestyle=\"--\", lw=1.3)\n",
    "plt.axvline(x='Random Walk',color=\"grey\", linestyle=\"--\", lw=1.3)\n",
    "plt.axvline(x='LinearTrend', color=\"grey\", linestyle=\"--\", lw=1.3)\n",
    "plt.axvline(x='Transf Log' , color=\"grey\", linestyle=\"--\", lw=1.3)\n",
    "plt.axvline(x='Transf Log + est', color=\"grey\", linestyle=\"--\", lw=1.3)\n",
    "plt.axvline(x='S. Smoothing', color=\"grey\", linestyle=\"--\", lw=1.3)\n",
    "plt.axvline(x='Log_est_ARIMA', color=\"grey\", linestyle=\"--\", lw=1.3)\n",
    "plt.axvline(x='Prophet', color=\"grey\", linestyle=\"--\", lw=1.3)\n",
    "\n",
    "plt.grid(which='major', axis='y', color='black', lw=0.4, alpha=0.6)\n",
    "plt.suptitle(\"Comparación de resultados\", fontsize=24, y=0.94)\n",
    "legend1 = ax1.legend(loc=(0.86, 0.9), fontsize = 18)\n",
    "legend2 = ax2.legend(loc=(0.86, 0.82), fontsize = 18)\n",
    "\n",
    "plt.show()"
   ]
  }
 ],
 "metadata": {
  "kernelspec": {
   "display_name": "Python 3 (ipykernel)",
   "language": "python",
   "name": "python3"
  },
  "language_info": {
   "codemirror_mode": {
    "name": "ipython",
    "version": 3
   },
   "file_extension": ".py",
   "mimetype": "text/x-python",
   "name": "python",
   "nbconvert_exporter": "python",
   "pygments_lexer": "ipython3",
   "version": "3.11.3"
  }
 },
 "nbformat": 4,
 "nbformat_minor": 5
}
