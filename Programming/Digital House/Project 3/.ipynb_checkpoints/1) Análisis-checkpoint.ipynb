{
 "cells": [
  {
   "cell_type": "markdown",
   "metadata": {},
   "source": [
    "# 1) Preparación previa"
   ]
  },
  {
   "cell_type": "markdown",
   "metadata": {},
   "source": [
    "### Carga de librerías"
   ]
  },
  {
   "cell_type": "code",
   "execution_count": null,
   "metadata": {},
   "outputs": [],
   "source": [
    "import pandas as pd\n",
    "import numpy as np\n",
    "import seaborn as sns\n",
    "from IPython.display import display"
   ]
  },
  {
   "cell_type": "markdown",
   "metadata": {},
   "source": [
    "### Lectura del dataset"
   ]
  },
  {
   "cell_type": "markdown",
   "metadata": {},
   "source": [
    "Se decidió utilizar unos datos de votos legislativos en EEUU, que describe si se votó afirmativamente, negativamente o absteniéndose en 16 leyes."
   ]
  },
  {
   "cell_type": "code",
   "execution_count": null,
   "metadata": {},
   "outputs": [],
   "source": [
    "df_votes = pd.read_csv('https://raw.githubusercontent.com/Agustin-Bulzomi/Projects/main/Programming/Digital%20House/Support%20Files/Project%203/House_votes_1984.csv')"
   ]
  },
  {
   "cell_type": "markdown",
   "metadata": {},
   "source": [
    "### Vista general"
   ]
  },
  {
   "cell_type": "markdown",
   "metadata": {},
   "source": [
    "Se corren varias funciones para obtener un resumen general del dataset"
   ]
  },
  {
   "cell_type": "code",
   "execution_count": null,
   "metadata": {},
   "outputs": [],
   "source": [
    "df_votes.info()"
   ]
  },
  {
   "cell_type": "code",
   "execution_count": null,
   "metadata": {},
   "outputs": [],
   "source": [
    "df_votes.head(10)"
   ]
  },
  {
   "cell_type": "markdown",
   "metadata": {},
   "source": [
    "# 2) Análisis exploratorio"
   ]
  },
  {
   "cell_type": "markdown",
   "metadata": {},
   "source": [
    "Se comienza con el análisis general: ¿cómo se distribuye la variable target? ¿están balanceados los datos?"
   ]
  },
  {
   "cell_type": "code",
   "execution_count": null,
   "metadata": {},
   "outputs": [],
   "source": [
    "balance = pd.concat([df_votes['Class Name'].value_counts(), df_votes['Class Name'].value_counts(normalize=True).round(2)], axis = 1)\n",
    "balance.columns = ['Votos', 'Proporción']\n",
    "balance"
   ]
  },
  {
   "cell_type": "code",
   "execution_count": null,
   "metadata": {},
   "outputs": [],
   "source": [
    "# Se crea una paleta con los típicos colores partidarios, ya que será usada a futuro\n",
    "color_partidos = ['red', 'blue']\n",
    "\n",
    "g = sns.catplot(x='Class Name', \n",
    "                    data=df_votes, kind=\"count\", palette=color_partidos,\n",
    "                    height=5, aspect=.8);"
   ]
  },
  {
   "cell_type": "markdown",
   "metadata": {},
   "source": [
    "Hay un importante desbalance considerando que casi 2 tercios de los legisladores son demócratas y 1 tercio republicano. Este dato es importante a la hora de contrastar votos. A continuación se procederá con el análisis más específico, ley por ley. Para ello, se crea una nueva columna con el nombre Target ya que es necesaria para realizar análisis con una variable numérica"
   ]
  },
  {
   "cell_type": "code",
   "execution_count": null,
   "metadata": {},
   "outputs": [],
   "source": [
    "df_votes['Target'] = np.where(df_votes['Class Name'] == 'democrat', 1, 0)"
   ]
  },
  {
   "cell_type": "code",
   "execution_count": null,
   "metadata": {},
   "outputs": [],
   "source": [
    "# La exploración ley por ley que se dará a continuación puede ser hecha en una sola celda con un for loop, que se deja a disposición a continuación.\n",
    "# Sin embargo, el for loop imprime primero el texto de las 16 leyes y al final los 16 gráficos, haciendo complicada la lectura.\n",
    "\n",
    "#laws = [' handicapped-infants', ' water-project-cost-sharing',\n",
    "#       ' adoption-of-the-budget-resolution', ' physician-fee-freeze',\n",
    "#       ' el-salvador-aid', ' religious-groups-in-schools',\n",
    "#       ' anti-satellite-test-ban', ' aid-to-nicaraguan-contras', ' mx-missile',\n",
    "#       ' immigration', ' synfuels-corporation-cutback', ' education-spending',\n",
    "#       ' superfund-right-to-sue', ' crime', ' duty-free-exports',\n",
    "#       ' export-administration-act-south-africa']\n",
    "\n",
    "#for law in laws:\n",
    "#    numero = laws.index(law) + 1\n",
    "#    print(\"Ley N°\", numero, law)\n",
    "#   porcentajes = df_votes[law].value_counts()\n",
    "#    print(porcentajes)\n",
    "#    table = pd.concat([100*(df_votes.groupby(law)['Target'].mean().round(2)), 100* (1 - (df_votes.groupby(law)['Target'].mean().round(2)))], axis = 1)\n",
    "#    table.columns = [\"Democrat\", \"Republican\"]\n",
    "#    display(table)\n",
    "#    grafico = sns.catplot(x = law, hue = \"Class Name\", data = df_votes, kind=\"count\", palette = color_partidos, height = 8, aspect = .8);\n",
    "#    grafico"
   ]
  },
  {
   "cell_type": "markdown",
   "metadata": {},
   "source": [
    "## Ley N° 1: Handicapped-Infants"
   ]
  },
  {
   "cell_type": "markdown",
   "metadata": {},
   "source": [
    "#### Totales entre ambos partidos según voto realizado"
   ]
  },
  {
   "cell_type": "code",
   "execution_count": null,
   "metadata": {},
   "outputs": [],
   "source": [
    "df_votes[' handicapped-infants'].value_counts()"
   ]
  },
  {
   "cell_type": "markdown",
   "metadata": {},
   "source": [
    "#### Porcentaje de votos según partido"
   ]
  },
  {
   "cell_type": "code",
   "execution_count": null,
   "metadata": {},
   "outputs": [],
   "source": [
    "handicapped = pd.concat([100*(df_votes.groupby(' handicapped-infants')['Target'].mean().round(2)), 100* (1 - (df_votes.groupby(' handicapped-infants')['Target'].mean().round(2)))], axis = 1)\n",
    "handicapped.columns = [\"Democrat\", \"Republican\"]\n",
    "handicapped"
   ]
  },
  {
   "cell_type": "markdown",
   "metadata": {},
   "source": [
    "#### Gráfico"
   ]
  },
  {
   "cell_type": "code",
   "execution_count": null,
   "metadata": {},
   "outputs": [],
   "source": [
    "g = sns.catplot(x=' handicapped-infants', hue=\"Class Name\", \n",
    "                    data=df_votes, kind=\"count\", palette=color_partidos,\n",
    "                    height = 8, aspect=.8);"
   ]
  },
  {
   "cell_type": "markdown",
   "metadata": {},
   "source": [
    "## Ley N° 2: water-project-cost-sharing"
   ]
  },
  {
   "cell_type": "markdown",
   "metadata": {},
   "source": [
    "#### Totales entre ambos partidos según voto realizado"
   ]
  },
  {
   "cell_type": "code",
   "execution_count": null,
   "metadata": {},
   "outputs": [],
   "source": [
    "df_votes[' water-project-cost-sharing'].value_counts()"
   ]
  },
  {
   "cell_type": "markdown",
   "metadata": {},
   "source": [
    "#### Porcentaje de votos según partido"
   ]
  },
  {
   "cell_type": "code",
   "execution_count": null,
   "metadata": {},
   "outputs": [],
   "source": [
    "water = pd.concat([100*(df_votes.groupby(' water-project-cost-sharing')['Target'].mean().round(2)), 100* (1 - (df_votes.groupby(' water-project-cost-sharing')['Target'].mean().round(2)))], axis = 1)\n",
    "water.columns = [\"Democrat\", \"Republican\"]\n",
    "water"
   ]
  },
  {
   "cell_type": "markdown",
   "metadata": {},
   "source": [
    "#### Gráfico"
   ]
  },
  {
   "cell_type": "code",
   "execution_count": null,
   "metadata": {},
   "outputs": [],
   "source": [
    "g = sns.catplot(x=' water-project-cost-sharing', hue=\"Class Name\", \n",
    "                    data=df_votes, kind=\"count\", palette=color_partidos,\n",
    "                    height = 8, aspect=.8);"
   ]
  },
  {
   "cell_type": "markdown",
   "metadata": {},
   "source": [
    "## Ley N° 3: adoption-of-the-budget-resolution"
   ]
  },
  {
   "cell_type": "markdown",
   "metadata": {},
   "source": [
    "#### Totales entre ambos partidos según voto realizado"
   ]
  },
  {
   "cell_type": "code",
   "execution_count": null,
   "metadata": {},
   "outputs": [],
   "source": [
    "df_votes[' adoption-of-the-budget-resolution'].value_counts()"
   ]
  },
  {
   "cell_type": "markdown",
   "metadata": {},
   "source": [
    "#### Porcentaje de votos según partido"
   ]
  },
  {
   "cell_type": "code",
   "execution_count": null,
   "metadata": {},
   "outputs": [],
   "source": [
    "adoption = pd.concat([100*(df_votes.groupby(' adoption-of-the-budget-resolution')['Target'].mean().round(2)), 100* (1 - (df_votes.groupby(' adoption-of-the-budget-resolution')['Target'].mean().round(2)))], axis = 1)\n",
    "adoption.columns = [\"Democrat\", \"Republican\"]\n",
    "adoption"
   ]
  },
  {
   "cell_type": "markdown",
   "metadata": {},
   "source": [
    "#### Gráfico"
   ]
  },
  {
   "cell_type": "code",
   "execution_count": null,
   "metadata": {},
   "outputs": [],
   "source": [
    "g = sns.catplot(x=' adoption-of-the-budget-resolution', hue=\"Class Name\", \n",
    "                    data=df_votes, kind=\"count\", palette=color_partidos,\n",
    "                    height = 8, aspect=.8);"
   ]
  },
  {
   "cell_type": "markdown",
   "metadata": {},
   "source": [
    "## Ley N° 4: physician-fee-freeze"
   ]
  },
  {
   "cell_type": "markdown",
   "metadata": {},
   "source": [
    "#### Totales entre ambos partidos según voto realizado"
   ]
  },
  {
   "cell_type": "code",
   "execution_count": null,
   "metadata": {},
   "outputs": [],
   "source": [
    "df_votes[' physician-fee-freeze'].value_counts()"
   ]
  },
  {
   "cell_type": "markdown",
   "metadata": {},
   "source": [
    "#### Porcentaje de votos según partido"
   ]
  },
  {
   "cell_type": "code",
   "execution_count": null,
   "metadata": {},
   "outputs": [],
   "source": [
    "physician = pd.concat([100*(df_votes.groupby(' physician-fee-freeze')['Target'].mean().round(2)), 100* (1 - (df_votes.groupby(' physician-fee-freeze')['Target'].mean().round(2)))], axis = 1)\n",
    "physician.columns = [\"Democrat\", \"Republican\"]\n",
    "physician"
   ]
  },
  {
   "cell_type": "markdown",
   "metadata": {},
   "source": [
    "#### Gráfico"
   ]
  },
  {
   "cell_type": "code",
   "execution_count": null,
   "metadata": {},
   "outputs": [],
   "source": [
    "g = sns.catplot(x=' physician-fee-freeze', hue=\"Class Name\", \n",
    "                    data=df_votes, kind=\"count\", palette=color_partidos,\n",
    "                    height = 8, aspect=.8);"
   ]
  },
  {
   "cell_type": "markdown",
   "metadata": {},
   "source": [
    "## Ley N° 5: el-salvador-aid"
   ]
  },
  {
   "cell_type": "markdown",
   "metadata": {},
   "source": [
    "#### Totales entre ambos partidos según voto realizado"
   ]
  },
  {
   "cell_type": "code",
   "execution_count": null,
   "metadata": {},
   "outputs": [],
   "source": [
    "df_votes[' el-salvador-aid'].value_counts()"
   ]
  },
  {
   "cell_type": "markdown",
   "metadata": {},
   "source": [
    "#### Porcentaje de votos según partido"
   ]
  },
  {
   "cell_type": "code",
   "execution_count": null,
   "metadata": {},
   "outputs": [],
   "source": [
    "salvador = pd.concat([100*(df_votes.groupby(' el-salvador-aid')['Target'].mean().round(2)), 100* (1 - (df_votes.groupby(' el-salvador-aid')['Target'].mean().round(2)))], axis = 1)\n",
    "salvador.columns = [\"Democrat\", \"Republican\"]\n",
    "salvador"
   ]
  },
  {
   "cell_type": "markdown",
   "metadata": {},
   "source": [
    "#### Gráfico"
   ]
  },
  {
   "cell_type": "code",
   "execution_count": null,
   "metadata": {},
   "outputs": [],
   "source": [
    "g = sns.catplot(x=' el-salvador-aid', hue=\"Class Name\", \n",
    "                    data=df_votes, kind=\"count\", palette=color_partidos,\n",
    "                    height = 8, aspect=.8);"
   ]
  },
  {
   "cell_type": "markdown",
   "metadata": {},
   "source": [
    "## Ley N° 6: religious-groups-in-schools"
   ]
  },
  {
   "cell_type": "markdown",
   "metadata": {},
   "source": [
    "#### Totales entre ambos partidos según voto realizado"
   ]
  },
  {
   "cell_type": "code",
   "execution_count": null,
   "metadata": {},
   "outputs": [],
   "source": [
    "df_votes[' religious-groups-in-schools'].value_counts()"
   ]
  },
  {
   "cell_type": "markdown",
   "metadata": {},
   "source": [
    "#### Porcentaje de votos según partido"
   ]
  },
  {
   "cell_type": "code",
   "execution_count": null,
   "metadata": {},
   "outputs": [],
   "source": [
    "religious = pd.concat([100*(df_votes.groupby(' religious-groups-in-schools')['Target'].mean().round(2)), 100* (1 - (df_votes.groupby(' religious-groups-in-schools')['Target'].mean().round(2)))], axis = 1)\n",
    "religious.columns = [\"Democrat\", \"Republican\"]\n",
    "religious"
   ]
  },
  {
   "cell_type": "markdown",
   "metadata": {},
   "source": [
    "#### Gráfico"
   ]
  },
  {
   "cell_type": "code",
   "execution_count": null,
   "metadata": {},
   "outputs": [],
   "source": [
    "g = sns.catplot(x=' religious-groups-in-schools', hue=\"Class Name\", \n",
    "                    data=df_votes, kind=\"count\", palette=color_partidos,\n",
    "                    height = 8, aspect=.8);"
   ]
  },
  {
   "cell_type": "markdown",
   "metadata": {},
   "source": [
    "## Ley N° 7: anti-satellite-test-ban"
   ]
  },
  {
   "cell_type": "markdown",
   "metadata": {},
   "source": [
    "#### Totales entre ambos partidos según voto realizado"
   ]
  },
  {
   "cell_type": "code",
   "execution_count": null,
   "metadata": {},
   "outputs": [],
   "source": [
    "df_votes[' anti-satellite-test-ban'].value_counts()"
   ]
  },
  {
   "cell_type": "markdown",
   "metadata": {},
   "source": [
    "#### Porcentaje de votos según partido"
   ]
  },
  {
   "cell_type": "code",
   "execution_count": null,
   "metadata": {},
   "outputs": [],
   "source": [
    "satellite = pd.concat([100*(df_votes.groupby(' anti-satellite-test-ban')['Target'].mean().round(2)), 100* (1 - (df_votes.groupby(' anti-satellite-test-ban')['Target'].mean().round(2)))], axis = 1)\n",
    "satellite.columns = [\"Democrat\", \"Republican\"]\n",
    "satellite"
   ]
  },
  {
   "cell_type": "markdown",
   "metadata": {},
   "source": [
    "#### Gráfico"
   ]
  },
  {
   "cell_type": "code",
   "execution_count": null,
   "metadata": {},
   "outputs": [],
   "source": [
    "g = sns.catplot(x=' anti-satellite-test-ban', hue=\"Class Name\", \n",
    "                    data=df_votes, kind=\"count\", palette=color_partidos,\n",
    "                    height = 8, aspect=.8);"
   ]
  },
  {
   "cell_type": "markdown",
   "metadata": {},
   "source": [
    "## Ley N° 8: aid-to-nicaraguan-contras"
   ]
  },
  {
   "cell_type": "markdown",
   "metadata": {},
   "source": [
    "#### Totales entre ambos partidos según voto realizado"
   ]
  },
  {
   "cell_type": "code",
   "execution_count": null,
   "metadata": {},
   "outputs": [],
   "source": [
    "df_votes[' aid-to-nicaraguan-contras'].value_counts()"
   ]
  },
  {
   "cell_type": "markdown",
   "metadata": {},
   "source": [
    "#### Porcentaje de votos según partido"
   ]
  },
  {
   "cell_type": "code",
   "execution_count": null,
   "metadata": {},
   "outputs": [],
   "source": [
    "nicaragua = pd.concat([100*(df_votes.groupby(' aid-to-nicaraguan-contras')['Target'].mean().round(2)), 100* (1 - (df_votes.groupby(' aid-to-nicaraguan-contras')['Target'].mean().round(2)))], axis = 1)\n",
    "nicaragua.columns = [\"Democrat\", \"Republican\"]\n",
    "nicaragua"
   ]
  },
  {
   "cell_type": "markdown",
   "metadata": {},
   "source": [
    "#### Gráfico"
   ]
  },
  {
   "cell_type": "code",
   "execution_count": null,
   "metadata": {},
   "outputs": [],
   "source": [
    "g = sns.catplot(x=' aid-to-nicaraguan-contras', hue=\"Class Name\", \n",
    "                    data=df_votes, kind=\"count\", palette=color_partidos,\n",
    "                    height = 8, aspect=.8);"
   ]
  },
  {
   "cell_type": "markdown",
   "metadata": {},
   "source": [
    "## Ley N° 9: mx-missile"
   ]
  },
  {
   "cell_type": "markdown",
   "metadata": {},
   "source": [
    "#### Totales entre ambos partidos según voto realizado"
   ]
  },
  {
   "cell_type": "code",
   "execution_count": null,
   "metadata": {},
   "outputs": [],
   "source": [
    "df_votes[' mx-missile'].value_counts()"
   ]
  },
  {
   "cell_type": "markdown",
   "metadata": {},
   "source": [
    "#### Porcentaje de votos según partido"
   ]
  },
  {
   "cell_type": "code",
   "execution_count": null,
   "metadata": {},
   "outputs": [],
   "source": [
    "missile = pd.concat([100*(df_votes.groupby(' mx-missile')['Target'].mean().round(2)), 100* (1 - (df_votes.groupby(' mx-missile')['Target'].mean().round(2)))], axis = 1)\n",
    "missile.columns = [\"Democrat\", \"Republican\"]\n",
    "missile"
   ]
  },
  {
   "cell_type": "markdown",
   "metadata": {},
   "source": [
    "#### Gráfico"
   ]
  },
  {
   "cell_type": "code",
   "execution_count": null,
   "metadata": {},
   "outputs": [],
   "source": [
    "g = sns.catplot(x=' mx-missile', hue=\"Class Name\", \n",
    "                    data=df_votes, kind=\"count\", palette=color_partidos,\n",
    "                    height = 8, aspect=.8);"
   ]
  },
  {
   "cell_type": "markdown",
   "metadata": {},
   "source": [
    "## Ley N° 10: immigration"
   ]
  },
  {
   "cell_type": "markdown",
   "metadata": {},
   "source": [
    "#### Totales entre ambos partidos según voto realizado"
   ]
  },
  {
   "cell_type": "code",
   "execution_count": null,
   "metadata": {},
   "outputs": [],
   "source": [
    "df_votes[' immigration'].value_counts()"
   ]
  },
  {
   "cell_type": "markdown",
   "metadata": {},
   "source": [
    "#### Porcentaje de votos según partido"
   ]
  },
  {
   "cell_type": "code",
   "execution_count": null,
   "metadata": {},
   "outputs": [],
   "source": [
    "immigration = pd.concat([100*(df_votes.groupby(' immigration')['Target'].mean().round(2)), 100* (1 - (df_votes.groupby(' immigration')['Target'].mean().round(2)))], axis = 1)\n",
    "immigration.columns = [\"Democrat\", \"Republican\"]\n",
    "immigration"
   ]
  },
  {
   "cell_type": "markdown",
   "metadata": {},
   "source": [
    "#### Gráfico"
   ]
  },
  {
   "cell_type": "code",
   "execution_count": null,
   "metadata": {},
   "outputs": [],
   "source": [
    "g = sns.catplot(x=' immigration', hue=\"Class Name\", \n",
    "                    data=df_votes,  kind= 'count', palette=color_partidos,\n",
    "                    height = 8, aspect=.8);"
   ]
  },
  {
   "cell_type": "markdown",
   "metadata": {},
   "source": [
    "## Ley N° 11: synfuels-corporation-cutback"
   ]
  },
  {
   "cell_type": "markdown",
   "metadata": {},
   "source": [
    "#### Totales entre ambos partidos según voto realizado"
   ]
  },
  {
   "cell_type": "code",
   "execution_count": null,
   "metadata": {},
   "outputs": [],
   "source": [
    "df_votes[' synfuels-corporation-cutback'].value_counts()"
   ]
  },
  {
   "cell_type": "markdown",
   "metadata": {},
   "source": [
    "#### Porcentaje de votos según partido"
   ]
  },
  {
   "cell_type": "code",
   "execution_count": null,
   "metadata": {},
   "outputs": [],
   "source": [
    "synfuels = pd.concat([100*(df_votes.groupby(' synfuels-corporation-cutback')['Target'].mean().round(2)), 100* (1 - (df_votes.groupby(' synfuels-corporation-cutback')['Target'].mean().round(2)))], axis = 1)\n",
    "synfuels.columns = [\"Democrat\", \"Republican\"]\n",
    "synfuels"
   ]
  },
  {
   "cell_type": "markdown",
   "metadata": {},
   "source": [
    "#### Gráfico"
   ]
  },
  {
   "cell_type": "code",
   "execution_count": null,
   "metadata": {},
   "outputs": [],
   "source": [
    "g = sns.catplot(x=' synfuels-corporation-cutback', hue=\"Class Name\", \n",
    "                    data=df_votes, kind=\"count\", palette=color_partidos,\n",
    "                    height = 8, aspect=.8);"
   ]
  },
  {
   "cell_type": "markdown",
   "metadata": {},
   "source": [
    "## Ley N° 12: education-spending"
   ]
  },
  {
   "cell_type": "markdown",
   "metadata": {},
   "source": [
    "#### Totales entre ambos partidos según voto realizado"
   ]
  },
  {
   "cell_type": "code",
   "execution_count": null,
   "metadata": {},
   "outputs": [],
   "source": [
    "df_votes[' education-spending'].value_counts()"
   ]
  },
  {
   "cell_type": "markdown",
   "metadata": {},
   "source": [
    "#### Porcentaje de votos según partido"
   ]
  },
  {
   "cell_type": "code",
   "execution_count": null,
   "metadata": {},
   "outputs": [],
   "source": [
    "education = pd.concat([100*(df_votes.groupby(' education-spending')['Target'].mean().round(2)), 100* (1 - (df_votes.groupby(' education-spending')['Target'].mean().round(2)))], axis = 1)\n",
    "education.columns = [\"Democrat\", \"Republican\"]\n",
    "education"
   ]
  },
  {
   "cell_type": "markdown",
   "metadata": {},
   "source": [
    "#### Gráfico"
   ]
  },
  {
   "cell_type": "code",
   "execution_count": null,
   "metadata": {},
   "outputs": [],
   "source": [
    "g = sns.catplot(x=' education-spending', hue=\"Class Name\", \n",
    "                    data=df_votes, kind=\"count\", palette=color_partidos,\n",
    "                    height = 8, aspect=.8);"
   ]
  },
  {
   "cell_type": "markdown",
   "metadata": {},
   "source": [
    "## Ley N° 13: superfund-right-to-sue"
   ]
  },
  {
   "cell_type": "markdown",
   "metadata": {},
   "source": [
    "#### Totales entre ambos partidos según voto realizado"
   ]
  },
  {
   "cell_type": "code",
   "execution_count": null,
   "metadata": {},
   "outputs": [],
   "source": [
    "df_votes[' superfund-right-to-sue'].value_counts()"
   ]
  },
  {
   "cell_type": "markdown",
   "metadata": {},
   "source": [
    "#### Porcentaje de votos según partido"
   ]
  },
  {
   "cell_type": "code",
   "execution_count": null,
   "metadata": {},
   "outputs": [],
   "source": [
    "superfund = pd.concat([100*(df_votes.groupby(' superfund-right-to-sue')['Target'].mean().round(2)), 100* (1 - (df_votes.groupby(' superfund-right-to-sue')['Target'].mean().round(2)))], axis = 1)\n",
    "superfund.columns = [\"Democrat\", \"Republican\"]\n",
    "superfund"
   ]
  },
  {
   "cell_type": "markdown",
   "metadata": {},
   "source": [
    "#### Gráfico"
   ]
  },
  {
   "cell_type": "code",
   "execution_count": null,
   "metadata": {},
   "outputs": [],
   "source": [
    "g = sns.catplot(x=' superfund-right-to-sue', hue=\"Class Name\", \n",
    "                    data=df_votes, kind=\"count\", palette=color_partidos,\n",
    "                    height = 8, aspect=.8);"
   ]
  },
  {
   "cell_type": "markdown",
   "metadata": {},
   "source": [
    "## Ley N° 14: crime"
   ]
  },
  {
   "cell_type": "markdown",
   "metadata": {},
   "source": [
    "#### Totales entre ambos partidos según voto realizado"
   ]
  },
  {
   "cell_type": "code",
   "execution_count": null,
   "metadata": {},
   "outputs": [],
   "source": [
    "df_votes[' crime'].value_counts()"
   ]
  },
  {
   "cell_type": "markdown",
   "metadata": {},
   "source": [
    "#### Porcentaje de votos según partido"
   ]
  },
  {
   "cell_type": "code",
   "execution_count": null,
   "metadata": {},
   "outputs": [],
   "source": [
    "crime = pd.concat([100*(df_votes.groupby(' crime')['Target'].mean().round(2)), 100* (1 - (df_votes.groupby(' crime')['Target'].mean().round(2)))], axis = 1)\n",
    "crime.columns = [\"Democrat\", \"Republican\"]\n",
    "crime"
   ]
  },
  {
   "cell_type": "markdown",
   "metadata": {},
   "source": [
    "#### Gráfico"
   ]
  },
  {
   "cell_type": "code",
   "execution_count": null,
   "metadata": {},
   "outputs": [],
   "source": [
    "g = sns.catplot(x=' crime', hue=\"Class Name\", \n",
    "                    data=df_votes, kind=\"count\", palette=color_partidos,\n",
    "                    height = 8, aspect=.8);"
   ]
  },
  {
   "cell_type": "markdown",
   "metadata": {},
   "source": [
    "## Ley N° 15: duty-free-exports"
   ]
  },
  {
   "cell_type": "markdown",
   "metadata": {},
   "source": [
    "#### Totales entre ambos partidos según voto realizado"
   ]
  },
  {
   "cell_type": "code",
   "execution_count": null,
   "metadata": {},
   "outputs": [],
   "source": [
    "df_votes[' duty-free-exports'].value_counts()"
   ]
  },
  {
   "cell_type": "markdown",
   "metadata": {},
   "source": [
    "#### Porcentaje de votos según partido"
   ]
  },
  {
   "cell_type": "code",
   "execution_count": null,
   "metadata": {},
   "outputs": [],
   "source": [
    "dutyfree = pd.concat([100*(df_votes.groupby(' duty-free-exports')['Target'].mean().round(2)), 100* (1 - (df_votes.groupby(' duty-free-exports')['Target'].mean().round(2)))], axis = 1)\n",
    "dutyfree.columns = [\"Democrat\", \"Republican\"]\n",
    "dutyfree"
   ]
  },
  {
   "cell_type": "markdown",
   "metadata": {},
   "source": [
    "#### Gráfico"
   ]
  },
  {
   "cell_type": "code",
   "execution_count": null,
   "metadata": {},
   "outputs": [],
   "source": [
    "g = sns.catplot(x=' duty-free-exports', hue=\"Class Name\", \n",
    "                    data=df_votes, kind=\"count\", palette=color_partidos,\n",
    "                    height = 8, aspect=.8);"
   ]
  },
  {
   "cell_type": "markdown",
   "metadata": {},
   "source": [
    "## Ley N° 16: export-administration-act-south-africa"
   ]
  },
  {
   "cell_type": "markdown",
   "metadata": {},
   "source": [
    "#### Totales entre ambos partidos según voto realizado"
   ]
  },
  {
   "cell_type": "code",
   "execution_count": null,
   "metadata": {},
   "outputs": [],
   "source": [
    "df_votes[' export-administration-act-south-africa'].value_counts()"
   ]
  },
  {
   "cell_type": "markdown",
   "metadata": {},
   "source": [
    "#### Porcentaje de votos según partido"
   ]
  },
  {
   "cell_type": "code",
   "execution_count": null,
   "metadata": {},
   "outputs": [],
   "source": [
    "export = pd.concat([100*(df_votes.groupby(' export-administration-act-south-africa')['Target'].mean().round(2)), 100* (1 - (df_votes.groupby(' export-administration-act-south-africa')['Target'].mean().round(2)))], axis = 1)\n",
    "export.columns = [\"Democrat\", \"Republican\"]\n",
    "export"
   ]
  },
  {
   "cell_type": "markdown",
   "metadata": {},
   "source": [
    "#### Gráfico"
   ]
  },
  {
   "cell_type": "code",
   "execution_count": null,
   "metadata": {},
   "outputs": [],
   "source": [
    "g = sns.catplot(x=' export-administration-act-south-africa', hue=\"Class Name\", \n",
    "                    data=df_votes, kind=\"count\", color= 'blue', palette= color_partidos,\n",
    "                    height = 8, aspect=.8);"
   ]
  },
  {
   "cell_type": "markdown",
   "metadata": {},
   "source": [
    "# 3) Exportación"
   ]
  },
  {
   "cell_type": "markdown",
   "metadata": {},
   "source": [
    "Se prepara la base de datos antes de ser exportada para aplicar modelos en otra notebook. Ya la variable target tiene su columna numérica homónima. Ahora se procede a reemplazar los valores string de los votos por otros numéricos (n = -1, ? = 0,  y =  1)"
   ]
  },
  {
   "cell_type": "code",
   "execution_count": null,
   "metadata": {},
   "outputs": [],
   "source": [
    "votos_replace = df_votes.replace(to_replace = [\"n\", \"?\", \"y\"], value = [-1, 0, 1])\n",
    "votos_replace.head(10)"
   ]
  },
  {
   "cell_type": "markdown",
   "metadata": {},
   "source": [
    "Se exporta la base de datos"
   ]
  },
  {
   "cell_type": "code",
   "execution_count": null,
   "metadata": {},
   "outputs": [],
   "source": [
    "votos_replace.to_csv('votos_final.csv', index = False)"
   ]
  }
 ],
 "metadata": {
  "kernelspec": {
   "display_name": "Python 3",
   "language": "python",
   "name": "python3"
  },
  "language_info": {
   "codemirror_mode": {
    "name": "ipython",
    "version": 3
   },
   "file_extension": ".py",
   "mimetype": "text/x-python",
   "name": "python",
   "nbconvert_exporter": "python",
   "pygments_lexer": "ipython3",
   "version": "3.7.9"
  }
 },
 "nbformat": 4,
 "nbformat_minor": 4
}
