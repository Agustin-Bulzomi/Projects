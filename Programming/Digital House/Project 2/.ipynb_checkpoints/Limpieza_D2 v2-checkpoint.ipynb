{
 "cells": [
  {
   "cell_type": "code",
   "execution_count": 1,
   "metadata": {},
   "outputs": [],
   "source": [
    "import pandas as pd\n",
    "import numpy as np\n",
    "import re"
   ]
  },
  {
   "cell_type": "code",
   "execution_count": 2,
   "metadata": {},
   "outputs": [],
   "source": [
    "data = pd.read_csv(\"../primer proyecto/properati.csv\")\n",
    "#data.head()"
   ]
  },
  {
   "cell_type": "code",
   "execution_count": 3,
   "metadata": {},
   "outputs": [],
   "source": [
    "nulos = data.isnull().sum()\n",
    "#nulos"
   ]
  },
  {
   "cell_type": "code",
   "execution_count": 4,
   "metadata": {},
   "outputs": [],
   "source": [
    "nulos_porcentaje = nulos / data.shape[0] * 100\n",
    "#arg.round(0)"
   ]
  },
  {
   "cell_type": "code",
   "execution_count": 5,
   "metadata": {},
   "outputs": [],
   "source": [
    "#mascara_ba = data.isin({'state_name':['Capital Federal', 'Bs.As. G.B.A. Zona Sur', 'Bs.As. G.B.A. Zona Norte', 'Bs.As. G.B.A. Zona Oeste', 'Buenos Aires Costa Atlántica', 'Buenos Aires Interior']})\n",
    "#data_ba = data[mascara_ba['state_name']]\n",
    "#data_ba.state_name.value_counts()"
   ]
  },
  {
   "cell_type": "code",
   "execution_count": 6,
   "metadata": {},
   "outputs": [
    {
     "data": {
      "text/plain": [
       "Unnamed: 0                     0.000000\n",
       "operation                      0.000000\n",
       "property_type                  0.000000\n",
       "place_name                     0.018974\n",
       "place_with_parent_names        0.000000\n",
       "country_name                   0.000000\n",
       "state_name                     0.000000\n",
       "geonames_id                   15.440521\n",
       "lat-lon                       42.525986\n",
       "lat                           42.525986\n",
       "lon                           42.525986\n",
       "price                         16.837156\n",
       "currency                      16.837981\n",
       "price_aprox_local_currency    16.837156\n",
       "price_aprox_usd               16.837156\n",
       "surface_total_in_m2           32.443491\n",
       "surface_covered_in_m2         16.422208\n",
       "price_usd_per_m2              43.394654\n",
       "price_per_m2                  27.686850\n",
       "floor                         93.483749\n",
       "rooms                         60.905791\n",
       "expenses                      88.234615\n",
       "properati_url                  0.000000\n",
       "description                    0.001650\n",
       "title                          0.000000\n",
       "image_thumbnail                2.567233\n",
       "dtype: float64"
      ]
     },
     "execution_count": 6,
     "metadata": {},
     "output_type": "execute_result"
    }
   ],
   "source": [
    "nulos_porcentaje"
   ]
  },
  {
   "cell_type": "code",
   "execution_count": 7,
   "metadata": {},
   "outputs": [],
   "source": [
    "separar_zona = data[\"place_with_parent_names\"].str.split('|', expand = True)\n",
    "#separar_zona.head()"
   ]
  },
  {
   "cell_type": "code",
   "execution_count": 8,
   "metadata": {},
   "outputs": [
    {
     "data": {
      "text/html": [
       "<div>\n",
       "<style scoped>\n",
       "    .dataframe tbody tr th:only-of-type {\n",
       "        vertical-align: middle;\n",
       "    }\n",
       "\n",
       "    .dataframe tbody tr th {\n",
       "        vertical-align: top;\n",
       "    }\n",
       "\n",
       "    .dataframe thead th {\n",
       "        text-align: right;\n",
       "    }\n",
       "</style>\n",
       "<table border=\"1\" class=\"dataframe\">\n",
       "  <thead>\n",
       "    <tr style=\"text-align: right;\">\n",
       "      <th></th>\n",
       "      <th>Unnamed: 0</th>\n",
       "      <th>operation</th>\n",
       "      <th>property_type</th>\n",
       "      <th>place_name</th>\n",
       "      <th>place_with_parent_names</th>\n",
       "      <th>country_name</th>\n",
       "      <th>state_name</th>\n",
       "      <th>geonames_id</th>\n",
       "      <th>lat-lon</th>\n",
       "      <th>lat</th>\n",
       "      <th>...</th>\n",
       "      <th>description</th>\n",
       "      <th>title</th>\n",
       "      <th>image_thumbnail</th>\n",
       "      <th>??</th>\n",
       "      <th>Pais</th>\n",
       "      <th>Zona</th>\n",
       "      <th>Partido</th>\n",
       "      <th>Barrios</th>\n",
       "      <th>Country</th>\n",
       "      <th>Otra</th>\n",
       "    </tr>\n",
       "  </thead>\n",
       "  <tbody>\n",
       "    <tr>\n",
       "      <th>0</th>\n",
       "      <td>0</td>\n",
       "      <td>sell</td>\n",
       "      <td>PH</td>\n",
       "      <td>Mataderos</td>\n",
       "      <td>|Argentina|Capital Federal|Mataderos|</td>\n",
       "      <td>Argentina</td>\n",
       "      <td>Capital Federal</td>\n",
       "      <td>3430787.0</td>\n",
       "      <td>-34.6618237,-58.5088387</td>\n",
       "      <td>-34.661824</td>\n",
       "      <td>...</td>\n",
       "      <td>2 AMBIENTES TIPO CASA PLANTA BAJA POR PASILLO,...</td>\n",
       "      <td>2 AMB TIPO CASA SIN EXPENSAS EN PB</td>\n",
       "      <td>https://thumbs4.properati.com/8/BluUYiHJLhgIIK...</td>\n",
       "      <td></td>\n",
       "      <td>Argentina</td>\n",
       "      <td>Capital Federal</td>\n",
       "      <td>Mataderos</td>\n",
       "      <td></td>\n",
       "      <td>None</td>\n",
       "      <td>None</td>\n",
       "    </tr>\n",
       "    <tr>\n",
       "      <th>1</th>\n",
       "      <td>1</td>\n",
       "      <td>sell</td>\n",
       "      <td>apartment</td>\n",
       "      <td>La Plata</td>\n",
       "      <td>|Argentina|Bs.As. G.B.A. Zona Sur|La Plata|</td>\n",
       "      <td>Argentina</td>\n",
       "      <td>Bs.As. G.B.A. Zona Sur</td>\n",
       "      <td>3432039.0</td>\n",
       "      <td>-34.9038831,-57.9643295</td>\n",
       "      <td>-34.903883</td>\n",
       "      <td>...</td>\n",
       "      <td>Venta de departamento en décimo piso al frente...</td>\n",
       "      <td>VENTA Depto 2 dorm. a estrenar 7 e/ 36 y 37   ...</td>\n",
       "      <td>https://thumbs4.properati.com/7/ikpVBu2ztHA7jv...</td>\n",
       "      <td></td>\n",
       "      <td>Argentina</td>\n",
       "      <td>Bs.As. G.B.A. Zona Sur</td>\n",
       "      <td>La Plata</td>\n",
       "      <td></td>\n",
       "      <td>None</td>\n",
       "      <td>None</td>\n",
       "    </tr>\n",
       "    <tr>\n",
       "      <th>2</th>\n",
       "      <td>2</td>\n",
       "      <td>sell</td>\n",
       "      <td>apartment</td>\n",
       "      <td>Mataderos</td>\n",
       "      <td>|Argentina|Capital Federal|Mataderos|</td>\n",
       "      <td>Argentina</td>\n",
       "      <td>Capital Federal</td>\n",
       "      <td>3430787.0</td>\n",
       "      <td>-34.6522615,-58.5229825</td>\n",
       "      <td>-34.652262</td>\n",
       "      <td>...</td>\n",
       "      <td>2 AMBIENTES 3ER PISO LATERAL LIVING COMEDOR AM...</td>\n",
       "      <td>2 AMB 3ER PISO CON ASCENSOR APTO CREDITO</td>\n",
       "      <td>https://thumbs4.properati.com/5/SXKr34F_IwG3W_...</td>\n",
       "      <td></td>\n",
       "      <td>Argentina</td>\n",
       "      <td>Capital Federal</td>\n",
       "      <td>Mataderos</td>\n",
       "      <td></td>\n",
       "      <td>None</td>\n",
       "      <td>None</td>\n",
       "    </tr>\n",
       "    <tr>\n",
       "      <th>3</th>\n",
       "      <td>3</td>\n",
       "      <td>sell</td>\n",
       "      <td>PH</td>\n",
       "      <td>Liniers</td>\n",
       "      <td>|Argentina|Capital Federal|Liniers|</td>\n",
       "      <td>Argentina</td>\n",
       "      <td>Capital Federal</td>\n",
       "      <td>3431333.0</td>\n",
       "      <td>-34.6477969,-58.5164244</td>\n",
       "      <td>-34.647797</td>\n",
       "      <td>...</td>\n",
       "      <td>PH 3 ambientes con patio. Hay 3 deptos en lote...</td>\n",
       "      <td>PH 3 amb. cfte. reciclado</td>\n",
       "      <td>https://thumbs4.properati.com/3/DgIfX-85Mog5SP...</td>\n",
       "      <td></td>\n",
       "      <td>Argentina</td>\n",
       "      <td>Capital Federal</td>\n",
       "      <td>Liniers</td>\n",
       "      <td></td>\n",
       "      <td>None</td>\n",
       "      <td>None</td>\n",
       "    </tr>\n",
       "    <tr>\n",
       "      <th>4</th>\n",
       "      <td>4</td>\n",
       "      <td>sell</td>\n",
       "      <td>apartment</td>\n",
       "      <td>Centro</td>\n",
       "      <td>|Argentina|Buenos Aires Costa Atlántica|Mar de...</td>\n",
       "      <td>Argentina</td>\n",
       "      <td>Buenos Aires Costa Atlántica</td>\n",
       "      <td>3435548.0</td>\n",
       "      <td>-38.0026256,-57.5494468</td>\n",
       "      <td>-38.002626</td>\n",
       "      <td>...</td>\n",
       "      <td>DEPARTAMENTO CON FANTÁSTICA ILUMINACIÓN NATURA...</td>\n",
       "      <td>DEPTO 2 AMB AL CONTRAFRENTE ZONA CENTRO/PLAZA ...</td>\n",
       "      <td>https://thumbs4.properati.com/5/xrRqlNcSI_vs-f...</td>\n",
       "      <td></td>\n",
       "      <td>Argentina</td>\n",
       "      <td>Buenos Aires Costa Atlántica</td>\n",
       "      <td>Mar del Plata</td>\n",
       "      <td>Centro</td>\n",
       "      <td></td>\n",
       "      <td>None</td>\n",
       "    </tr>\n",
       "    <tr>\n",
       "      <th>5</th>\n",
       "      <td>5</td>\n",
       "      <td>sell</td>\n",
       "      <td>house</td>\n",
       "      <td>Gualeguaychú</td>\n",
       "      <td>|Argentina|Entre Ríos|Gualeguaychú|</td>\n",
       "      <td>Argentina</td>\n",
       "      <td>Entre Ríos</td>\n",
       "      <td>3433657.0</td>\n",
       "      <td>-33.0140714,-58.519828</td>\n",
       "      <td>-33.014071</td>\n",
       "      <td>...</td>\n",
       "      <td>Casa en el perímetro del barrio 338, ubicada e...</td>\n",
       "      <td>Casa Barrio 338. Sobre calle 3 de caballería, ...</td>\n",
       "      <td>https://thumbs4.properati.com/6/q-w68gvaUEQVXI...</td>\n",
       "      <td></td>\n",
       "      <td>Argentina</td>\n",
       "      <td>Entre Ríos</td>\n",
       "      <td>Gualeguaychú</td>\n",
       "      <td></td>\n",
       "      <td>None</td>\n",
       "      <td>None</td>\n",
       "    </tr>\n",
       "    <tr>\n",
       "      <th>6</th>\n",
       "      <td>6</td>\n",
       "      <td>sell</td>\n",
       "      <td>PH</td>\n",
       "      <td>Munro</td>\n",
       "      <td>|Argentina|Bs.As. G.B.A. Zona Norte|Vicente Ló...</td>\n",
       "      <td>Argentina</td>\n",
       "      <td>Bs.As. G.B.A. Zona Norte</td>\n",
       "      <td>3430511.0</td>\n",
       "      <td>-34.5329567,-58.5217825</td>\n",
       "      <td>-34.532957</td>\n",
       "      <td>...</td>\n",
       "      <td>MUY BUEN PH AL FRENTE CON ENTRADA INDEPENDIENT...</td>\n",
       "      <td>MUY BUEN PH AL FRENTE DOS DORMITORIOS , PATIO,...</td>\n",
       "      <td>https://thumbs4.properati.com/5/6GOXsHCyDu1aGx...</td>\n",
       "      <td></td>\n",
       "      <td>Argentina</td>\n",
       "      <td>Bs.As. G.B.A. Zona Norte</td>\n",
       "      <td>Vicente López</td>\n",
       "      <td>Munro</td>\n",
       "      <td></td>\n",
       "      <td>None</td>\n",
       "    </tr>\n",
       "    <tr>\n",
       "      <th>7</th>\n",
       "      <td>7</td>\n",
       "      <td>sell</td>\n",
       "      <td>apartment</td>\n",
       "      <td>Belgrano</td>\n",
       "      <td>|Argentina|Capital Federal|Belgrano|</td>\n",
       "      <td>Argentina</td>\n",
       "      <td>Capital Federal</td>\n",
       "      <td>3436077.0</td>\n",
       "      <td>-34.5598729,-58.443362</td>\n",
       "      <td>-34.559873</td>\n",
       "      <td>...</td>\n",
       "      <td>EXCELENTE MONOAMBIENTE A ESTRENAR AMPLIO SUPER...</td>\n",
       "      <td>JOSE HERNANDEZ 1400 MONOAMBIENTE  ESTRENAR CAT...</td>\n",
       "      <td>https://thumbs4.properati.com/1/IHxARynlr8sPEW...</td>\n",
       "      <td></td>\n",
       "      <td>Argentina</td>\n",
       "      <td>Capital Federal</td>\n",
       "      <td>Belgrano</td>\n",
       "      <td></td>\n",
       "      <td>None</td>\n",
       "      <td>None</td>\n",
       "    </tr>\n",
       "    <tr>\n",
       "      <th>8</th>\n",
       "      <td>8</td>\n",
       "      <td>sell</td>\n",
       "      <td>apartment</td>\n",
       "      <td>Belgrano</td>\n",
       "      <td>|Argentina|Capital Federal|Belgrano|</td>\n",
       "      <td>Argentina</td>\n",
       "      <td>Capital Federal</td>\n",
       "      <td>3436077.0</td>\n",
       "      <td>-34.5598729,-58.443362</td>\n",
       "      <td>-34.559873</td>\n",
       "      <td>...</td>\n",
       "      <td>EXCELENTE DOS AMBIENTES  ESTRENAR AMPLIO SUPER...</td>\n",
       "      <td>JOSE HERNANDEZ   1400 DOS AMBIENTES ESTRENAR ,...</td>\n",
       "      <td>https://thumbs4.properati.com/2/J3zOjgaFHrkvnv...</td>\n",
       "      <td></td>\n",
       "      <td>Argentina</td>\n",
       "      <td>Capital Federal</td>\n",
       "      <td>Belgrano</td>\n",
       "      <td></td>\n",
       "      <td>None</td>\n",
       "      <td>None</td>\n",
       "    </tr>\n",
       "    <tr>\n",
       "      <th>9</th>\n",
       "      <td>9</td>\n",
       "      <td>sell</td>\n",
       "      <td>house</td>\n",
       "      <td>Rosario</td>\n",
       "      <td>|Argentina|Santa Fe|Rosario|</td>\n",
       "      <td>Argentina</td>\n",
       "      <td>Santa Fe</td>\n",
       "      <td>3838574.0</td>\n",
       "      <td>-32.942031,-60.7259192</td>\n",
       "      <td>-32.942031</td>\n",
       "      <td>...</td>\n",
       "      <td>MEDNOZA AL 7600A UNA CUADRA DE CALLE MENDOZAWH...</td>\n",
       "      <td>WHITE 7637 - 2 DORMITORIOS CON PATIO</td>\n",
       "      <td>https://thumbs4.properati.com/8/RCf1YEWdF4rv98...</td>\n",
       "      <td></td>\n",
       "      <td>Argentina</td>\n",
       "      <td>Santa Fe</td>\n",
       "      <td>Rosario</td>\n",
       "      <td></td>\n",
       "      <td>None</td>\n",
       "      <td>None</td>\n",
       "    </tr>\n",
       "  </tbody>\n",
       "</table>\n",
       "<p>10 rows × 33 columns</p>\n",
       "</div>"
      ],
      "text/plain": [
       "   Unnamed: 0 operation property_type    place_name  \\\n",
       "0           0      sell            PH     Mataderos   \n",
       "1           1      sell     apartment      La Plata   \n",
       "2           2      sell     apartment     Mataderos   \n",
       "3           3      sell            PH       Liniers   \n",
       "4           4      sell     apartment        Centro   \n",
       "5           5      sell         house  Gualeguaychú   \n",
       "6           6      sell            PH         Munro   \n",
       "7           7      sell     apartment      Belgrano   \n",
       "8           8      sell     apartment      Belgrano   \n",
       "9           9      sell         house       Rosario   \n",
       "\n",
       "                             place_with_parent_names country_name  \\\n",
       "0              |Argentina|Capital Federal|Mataderos|    Argentina   \n",
       "1        |Argentina|Bs.As. G.B.A. Zona Sur|La Plata|    Argentina   \n",
       "2              |Argentina|Capital Federal|Mataderos|    Argentina   \n",
       "3                |Argentina|Capital Federal|Liniers|    Argentina   \n",
       "4  |Argentina|Buenos Aires Costa Atlántica|Mar de...    Argentina   \n",
       "5                |Argentina|Entre Ríos|Gualeguaychú|    Argentina   \n",
       "6  |Argentina|Bs.As. G.B.A. Zona Norte|Vicente Ló...    Argentina   \n",
       "7               |Argentina|Capital Federal|Belgrano|    Argentina   \n",
       "8               |Argentina|Capital Federal|Belgrano|    Argentina   \n",
       "9                       |Argentina|Santa Fe|Rosario|    Argentina   \n",
       "\n",
       "                     state_name  geonames_id                  lat-lon  \\\n",
       "0               Capital Federal    3430787.0  -34.6618237,-58.5088387   \n",
       "1        Bs.As. G.B.A. Zona Sur    3432039.0  -34.9038831,-57.9643295   \n",
       "2               Capital Federal    3430787.0  -34.6522615,-58.5229825   \n",
       "3               Capital Federal    3431333.0  -34.6477969,-58.5164244   \n",
       "4  Buenos Aires Costa Atlántica    3435548.0  -38.0026256,-57.5494468   \n",
       "5                    Entre Ríos    3433657.0   -33.0140714,-58.519828   \n",
       "6      Bs.As. G.B.A. Zona Norte    3430511.0  -34.5329567,-58.5217825   \n",
       "7               Capital Federal    3436077.0   -34.5598729,-58.443362   \n",
       "8               Capital Federal    3436077.0   -34.5598729,-58.443362   \n",
       "9                      Santa Fe    3838574.0   -32.942031,-60.7259192   \n",
       "\n",
       "         lat  ...                                        description  \\\n",
       "0 -34.661824  ...  2 AMBIENTES TIPO CASA PLANTA BAJA POR PASILLO,...   \n",
       "1 -34.903883  ...  Venta de departamento en décimo piso al frente...   \n",
       "2 -34.652262  ...  2 AMBIENTES 3ER PISO LATERAL LIVING COMEDOR AM...   \n",
       "3 -34.647797  ...  PH 3 ambientes con patio. Hay 3 deptos en lote...   \n",
       "4 -38.002626  ...  DEPARTAMENTO CON FANTÁSTICA ILUMINACIÓN NATURA...   \n",
       "5 -33.014071  ...  Casa en el perímetro del barrio 338, ubicada e...   \n",
       "6 -34.532957  ...  MUY BUEN PH AL FRENTE CON ENTRADA INDEPENDIENT...   \n",
       "7 -34.559873  ...  EXCELENTE MONOAMBIENTE A ESTRENAR AMPLIO SUPER...   \n",
       "8 -34.559873  ...  EXCELENTE DOS AMBIENTES  ESTRENAR AMPLIO SUPER...   \n",
       "9 -32.942031  ...  MEDNOZA AL 7600A UNA CUADRA DE CALLE MENDOZAWH...   \n",
       "\n",
       "                                               title  \\\n",
       "0                 2 AMB TIPO CASA SIN EXPENSAS EN PB   \n",
       "1  VENTA Depto 2 dorm. a estrenar 7 e/ 36 y 37   ...   \n",
       "2           2 AMB 3ER PISO CON ASCENSOR APTO CREDITO   \n",
       "3                       PH 3 amb. cfte. reciclado      \n",
       "4  DEPTO 2 AMB AL CONTRAFRENTE ZONA CENTRO/PLAZA ...   \n",
       "5  Casa Barrio 338. Sobre calle 3 de caballería, ...   \n",
       "6  MUY BUEN PH AL FRENTE DOS DORMITORIOS , PATIO,...   \n",
       "7  JOSE HERNANDEZ 1400 MONOAMBIENTE  ESTRENAR CAT...   \n",
       "8  JOSE HERNANDEZ   1400 DOS AMBIENTES ESTRENAR ,...   \n",
       "9         WHITE 7637 - 2 DORMITORIOS CON PATIO         \n",
       "\n",
       "                                     image_thumbnail  ??       Pais  \\\n",
       "0  https://thumbs4.properati.com/8/BluUYiHJLhgIIK...      Argentina   \n",
       "1  https://thumbs4.properati.com/7/ikpVBu2ztHA7jv...      Argentina   \n",
       "2  https://thumbs4.properati.com/5/SXKr34F_IwG3W_...      Argentina   \n",
       "3  https://thumbs4.properati.com/3/DgIfX-85Mog5SP...      Argentina   \n",
       "4  https://thumbs4.properati.com/5/xrRqlNcSI_vs-f...      Argentina   \n",
       "5  https://thumbs4.properati.com/6/q-w68gvaUEQVXI...      Argentina   \n",
       "6  https://thumbs4.properati.com/5/6GOXsHCyDu1aGx...      Argentina   \n",
       "7  https://thumbs4.properati.com/1/IHxARynlr8sPEW...      Argentina   \n",
       "8  https://thumbs4.properati.com/2/J3zOjgaFHrkvnv...      Argentina   \n",
       "9  https://thumbs4.properati.com/8/RCf1YEWdF4rv98...      Argentina   \n",
       "\n",
       "                           Zona        Partido  Barrios  Country  Otra  \n",
       "0               Capital Federal      Mataderos              None  None  \n",
       "1        Bs.As. G.B.A. Zona Sur       La Plata              None  None  \n",
       "2               Capital Federal      Mataderos              None  None  \n",
       "3               Capital Federal        Liniers              None  None  \n",
       "4  Buenos Aires Costa Atlántica  Mar del Plata   Centro           None  \n",
       "5                    Entre Ríos   Gualeguaychú              None  None  \n",
       "6      Bs.As. G.B.A. Zona Norte  Vicente López    Munro           None  \n",
       "7               Capital Federal       Belgrano              None  None  \n",
       "8               Capital Federal       Belgrano              None  None  \n",
       "9                      Santa Fe        Rosario              None  None  \n",
       "\n",
       "[10 rows x 33 columns]"
      ]
     },
     "execution_count": 8,
     "metadata": {},
     "output_type": "execute_result"
    }
   ],
   "source": [
    "separar_zona.columns = ['??', 'Pais', 'Zona', 'Partido', 'Barrios', 'Country', 'Otra']\n",
    "data_concat = pd.concat([data, separar_zona], axis=1)\n",
    "data_concat.head(10)"
   ]
  },
  {
   "cell_type": "code",
   "execution_count": 9,
   "metadata": {},
   "outputs": [],
   "source": [
    "# La siguiente función nos permite limpiar la superficie según las inconsistencias entre la total y la cubierta.\n",
    "# Se eligio dicha columna con respecto a 'surface_total_in_m2' ya que tenía menor cantidad de registros nulos\n",
    "\n",
    "#def limpieza_superficie(sup_total, sup_cubierta):\n",
    "#    if sup_total is not None and sup_cubierta is not None:\n",
    "#            if sup_total >= sup_cubierta:\n",
    "#                superficie = sup_total\n",
    "#            else: \n",
    "#                superficie = np.NaN\n",
    "#    elif sup_total is not None:\n",
    "#            superficie = sup_total\n",
    "#    elif sup_cubierta is not None:\n",
    "#            superficie = sup_cubierta\n",
    "#    else: superficie = np.NaN\n",
    "#                    \n",
    "#    return superficie\n"
   ]
  },
  {
   "cell_type": "code",
   "execution_count": 10,
   "metadata": {},
   "outputs": [],
   "source": [
    "#data_concat[\"superficie\"] = data_concat.apply(lambda x: limpieza_superficie(x['surface_total_in_m2'],x['surface_covered_in_m2']),axis=1)\n",
    "#data_concat"
   ]
  },
  {
   "cell_type": "code",
   "execution_count": 11,
   "metadata": {},
   "outputs": [],
   "source": [
    "#data_concat.shape"
   ]
  },
  {
   "cell_type": "code",
   "execution_count": 12,
   "metadata": {},
   "outputs": [],
   "source": [
    "patron_amb = \"(?P<ambiente>\\d\\s)((A|a)(M|m)(B|b))\"\n",
    "regex_amb = re.compile(patron_amb)\n",
    "\n",
    "data_amb_serie = data_concat[\"description\"]\n",
    "data_amb_match = data_amb_serie.apply(lambda x: x if x is np.NaN else regex_amb.search(x))\n",
    "\n",
    "mask_amb_notnull = data_amb_match.notnull()\n",
    "\n",
    "data_ambientes = data_amb_match[mask_amb_notnull].apply(lambda x: x.group(\"ambiente\"))\n",
    "\n",
    "data_concat.loc[mask_amb_notnull, 'ambientes_desc'] = \\\n",
    "    data_amb_match[mask_amb_notnull].apply(lambda x: x.group('ambiente'))\n",
    "\n"
   ]
  },
  {
   "cell_type": "code",
   "execution_count": 13,
   "metadata": {},
   "outputs": [
    {
     "data": {
      "text/html": [
       "<div>\n",
       "<style scoped>\n",
       "    .dataframe tbody tr th:only-of-type {\n",
       "        vertical-align: middle;\n",
       "    }\n",
       "\n",
       "    .dataframe tbody tr th {\n",
       "        vertical-align: top;\n",
       "    }\n",
       "\n",
       "    .dataframe thead th {\n",
       "        text-align: right;\n",
       "    }\n",
       "</style>\n",
       "<table border=\"1\" class=\"dataframe\">\n",
       "  <thead>\n",
       "    <tr style=\"text-align: right;\">\n",
       "      <th></th>\n",
       "      <th>description</th>\n",
       "      <th>ambientes_desc</th>\n",
       "    </tr>\n",
       "  </thead>\n",
       "  <tbody>\n",
       "    <tr>\n",
       "      <th>0</th>\n",
       "      <td>2 AMBIENTES TIPO CASA PLANTA BAJA POR PASILLO,...</td>\n",
       "      <td>2</td>\n",
       "    </tr>\n",
       "    <tr>\n",
       "      <th>2</th>\n",
       "      <td>2 AMBIENTES 3ER PISO LATERAL LIVING COMEDOR AM...</td>\n",
       "      <td>2</td>\n",
       "    </tr>\n",
       "    <tr>\n",
       "      <th>3</th>\n",
       "      <td>PH 3 ambientes con patio. Hay 3 deptos en lote...</td>\n",
       "      <td>3</td>\n",
       "    </tr>\n",
       "    <tr>\n",
       "      <th>11</th>\n",
       "      <td>Entrada de Coche, Jardin, Living en desnivel, ...</td>\n",
       "      <td>1</td>\n",
       "    </tr>\n",
       "    <tr>\n",
       "      <th>12</th>\n",
       "      <td>EXCELENTE DEPARTAMENTO 2 AMBIENTES CONTRAFRENT...</td>\n",
       "      <td>2</td>\n",
       "    </tr>\n",
       "    <tr>\n",
       "      <th>...</th>\n",
       "      <td>...</td>\n",
       "      <td>...</td>\n",
       "    </tr>\n",
       "    <tr>\n",
       "      <th>121127</th>\n",
       "      <td>Amplio departamento de 2 Amb. con vestidor y t...</td>\n",
       "      <td>2</td>\n",
       "    </tr>\n",
       "    <tr>\n",
       "      <th>121131</th>\n",
       "      <td>Excelente semipiso al frente de 4 ambientes. E...</td>\n",
       "      <td>4</td>\n",
       "    </tr>\n",
       "    <tr>\n",
       "      <th>121138</th>\n",
       "      <td>VENTA CON RENTA DEPARTAMENTO DE 2 AMBIENTES A ...</td>\n",
       "      <td>2</td>\n",
       "    </tr>\n",
       "    <tr>\n",
       "      <th>121139</th>\n",
       "      <td>Condominio Royal Residence, espectacular empre...</td>\n",
       "      <td>3</td>\n",
       "    </tr>\n",
       "    <tr>\n",
       "      <th>121218</th>\n",
       "      <td>2 Amb al contrafrente,  luminoso. El departame...</td>\n",
       "      <td>2</td>\n",
       "    </tr>\n",
       "  </tbody>\n",
       "</table>\n",
       "<p>37540 rows × 2 columns</p>\n",
       "</div>"
      ],
      "text/plain": [
       "                                              description ambientes_desc\n",
       "0       2 AMBIENTES TIPO CASA PLANTA BAJA POR PASILLO,...             2 \n",
       "2       2 AMBIENTES 3ER PISO LATERAL LIVING COMEDOR AM...             2 \n",
       "3       PH 3 ambientes con patio. Hay 3 deptos en lote...             3 \n",
       "11      Entrada de Coche, Jardin, Living en desnivel, ...             1 \n",
       "12      EXCELENTE DEPARTAMENTO 2 AMBIENTES CONTRAFRENT...             2 \n",
       "...                                                   ...            ...\n",
       "121127  Amplio departamento de 2 Amb. con vestidor y t...             2 \n",
       "121131  Excelente semipiso al frente de 4 ambientes. E...             4 \n",
       "121138  VENTA CON RENTA DEPARTAMENTO DE 2 AMBIENTES A ...             2 \n",
       "121139  Condominio Royal Residence, espectacular empre...             3 \n",
       "121218  2 Amb al contrafrente,  luminoso. El departame...             2 \n",
       "\n",
       "[37540 rows x 2 columns]"
      ]
     },
     "execution_count": 13,
     "metadata": {},
     "output_type": "execute_result"
    }
   ],
   "source": [
    "data_concat.loc[mask_amb_notnull, [\"description\", \"ambientes_desc\"]]"
   ]
  },
  {
   "cell_type": "code",
   "execution_count": 14,
   "metadata": {},
   "outputs": [],
   "source": [
    "patron_amb2 = \"(?P<ambiente_title>\\d\\s)((A|a)(M|m)(B|b))\"\n",
    "regex_amb2 = re.compile(patron_amb2)\n",
    "\n",
    "data_amb_serie2 = data_concat[\"title\"]\n",
    "data_amb_match2 = data_amb_serie2.apply(lambda x: x if x is np.NaN else regex_amb2.search(x))\n",
    "\n",
    "mask_amb_notnull2 = data_amb_match2.notnull()\n",
    "\n",
    "data_ambientes2 = data_amb_match2[mask_amb_notnull2].apply(lambda x: x.group(\"ambiente_title\"))\n",
    "\n",
    "data_concat.loc[mask_amb_notnull2, 'ambientes_t'] = \\\n",
    "    data_amb_match2[mask_amb_notnull2].apply(lambda x: x.group('ambiente_title'))"
   ]
  },
  {
   "cell_type": "code",
   "execution_count": 15,
   "metadata": {},
   "outputs": [
    {
     "data": {
      "text/html": [
       "<div>\n",
       "<style scoped>\n",
       "    .dataframe tbody tr th:only-of-type {\n",
       "        vertical-align: middle;\n",
       "    }\n",
       "\n",
       "    .dataframe tbody tr th {\n",
       "        vertical-align: top;\n",
       "    }\n",
       "\n",
       "    .dataframe thead th {\n",
       "        text-align: right;\n",
       "    }\n",
       "</style>\n",
       "<table border=\"1\" class=\"dataframe\">\n",
       "  <thead>\n",
       "    <tr style=\"text-align: right;\">\n",
       "      <th></th>\n",
       "      <th>ambientes_desc</th>\n",
       "      <th>ambientes_t</th>\n",
       "    </tr>\n",
       "  </thead>\n",
       "  <tbody>\n",
       "    <tr>\n",
       "      <th>0</th>\n",
       "      <td>2</td>\n",
       "      <td>2</td>\n",
       "    </tr>\n",
       "    <tr>\n",
       "      <th>2</th>\n",
       "      <td>2</td>\n",
       "      <td>2</td>\n",
       "    </tr>\n",
       "    <tr>\n",
       "      <th>3</th>\n",
       "      <td>3</td>\n",
       "      <td>3</td>\n",
       "    </tr>\n",
       "    <tr>\n",
       "      <th>4</th>\n",
       "      <td>NaN</td>\n",
       "      <td>2</td>\n",
       "    </tr>\n",
       "    <tr>\n",
       "      <th>12</th>\n",
       "      <td>2</td>\n",
       "      <td>2</td>\n",
       "    </tr>\n",
       "    <tr>\n",
       "      <th>...</th>\n",
       "      <td>...</td>\n",
       "      <td>...</td>\n",
       "    </tr>\n",
       "    <tr>\n",
       "      <th>121131</th>\n",
       "      <td>4</td>\n",
       "      <td>3</td>\n",
       "    </tr>\n",
       "    <tr>\n",
       "      <th>121138</th>\n",
       "      <td>2</td>\n",
       "      <td>2</td>\n",
       "    </tr>\n",
       "    <tr>\n",
       "      <th>121153</th>\n",
       "      <td>NaN</td>\n",
       "      <td>3</td>\n",
       "    </tr>\n",
       "    <tr>\n",
       "      <th>121215</th>\n",
       "      <td>NaN</td>\n",
       "      <td>3</td>\n",
       "    </tr>\n",
       "    <tr>\n",
       "      <th>121218</th>\n",
       "      <td>2</td>\n",
       "      <td>2</td>\n",
       "    </tr>\n",
       "  </tbody>\n",
       "</table>\n",
       "<p>21092 rows × 2 columns</p>\n",
       "</div>"
      ],
      "text/plain": [
       "       ambientes_desc ambientes_t\n",
       "0                  2           2 \n",
       "2                  2           2 \n",
       "3                  3           3 \n",
       "4                 NaN          2 \n",
       "12                 2           2 \n",
       "...               ...         ...\n",
       "121131             4           3 \n",
       "121138             2           2 \n",
       "121153            NaN          3 \n",
       "121215            NaN          3 \n",
       "121218             2           2 \n",
       "\n",
       "[21092 rows x 2 columns]"
      ]
     },
     "execution_count": 15,
     "metadata": {},
     "output_type": "execute_result"
    }
   ],
   "source": [
    "data_concat.loc[mask_amb_notnull2, [\"ambientes_desc\", \"ambientes_t\"]]"
   ]
  },
  {
   "cell_type": "code",
   "execution_count": 16,
   "metadata": {},
   "outputs": [],
   "source": [
    "def limpieza_amb(ambientes_desc, ambientes_t):\n",
    "    if pd.isnull(ambientes_desc) and pd.isnull(ambientes_t):\n",
    "        ambientes = np.NaN\n",
    "    elif pd.isnull(ambientes_desc):\n",
    "        ambientes = ambientes_t\n",
    "    else:\n",
    "        ambientes = ambientes_desc\n",
    "    return ambientes"
   ]
  },
  {
   "cell_type": "code",
   "execution_count": 17,
   "metadata": {},
   "outputs": [],
   "source": [
    "data_concat[\"ambientes\"] = data_concat.apply(lambda data_concat: limpieza_amb(data_concat['ambientes_desc'],data_concat['ambientes_t']),axis=1)\n",
    "#data_concat.head(15)"
   ]
  },
  {
   "cell_type": "code",
   "execution_count": 18,
   "metadata": {},
   "outputs": [
    {
     "data": {
      "text/plain": [
       "(121220, 36)"
      ]
     },
     "execution_count": 18,
     "metadata": {},
     "output_type": "execute_result"
    }
   ],
   "source": [
    "data_concat.shape"
   ]
  },
  {
   "cell_type": "code",
   "execution_count": 19,
   "metadata": {},
   "outputs": [
    {
     "data": {
      "text/plain": [
       "Index(['Unnamed: 0', 'operation', 'property_type', 'place_name',\n",
       "       'place_with_parent_names', 'country_name', 'state_name', 'geonames_id',\n",
       "       'lat-lon', 'lat', 'lon', 'price', 'currency',\n",
       "       'price_aprox_local_currency', 'price_aprox_usd', 'surface_total_in_m2',\n",
       "       'surface_covered_in_m2', 'price_usd_per_m2', 'price_per_m2', 'floor',\n",
       "       'rooms', 'expenses', 'properati_url', 'description', 'title',\n",
       "       'image_thumbnail', '??', 'Pais', 'Zona', 'Partido', 'Barrios',\n",
       "       'Country', 'Otra', 'ambientes_desc', 'ambientes_t', 'ambientes'],\n",
       "      dtype='object')"
      ]
     },
     "execution_count": 19,
     "metadata": {},
     "output_type": "execute_result"
    }
   ],
   "source": [
    "data_concat.columns"
   ]
  },
  {
   "cell_type": "code",
   "execution_count": 20,
   "metadata": {},
   "outputs": [
    {
     "data": {
      "text/plain": [
       "36.636693614915025"
      ]
     },
     "execution_count": 20,
     "metadata": {},
     "output_type": "execute_result"
    }
   ],
   "source": [
    "data_concat.ambientes.notnull().sum() / data_concat.shape[0] * 100"
   ]
  },
  {
   "cell_type": "code",
   "execution_count": 21,
   "metadata": {},
   "outputs": [],
   "source": [
    "def limpieza_amb2(rooms, ambientes):\n",
    "    if pd.isnull(rooms) and pd.isnull(ambientes):\n",
    "        ambientes_train = 0\n",
    "    elif pd.isnull(rooms):\n",
    "        ambientes_train = ambientes\n",
    "    else:\n",
    "        ambientes_train = int(rooms)\n",
    "    return int(ambientes_train)"
   ]
  },
  {
   "cell_type": "code",
   "execution_count": 22,
   "metadata": {},
   "outputs": [],
   "source": [
    "data_concat[\"ambientes_train\"] = data_concat.apply(lambda x: limpieza_amb2(x['rooms'],x['ambientes']),axis=1)"
   ]
  },
  {
   "cell_type": "code",
   "execution_count": 23,
   "metadata": {},
   "outputs": [],
   "source": [
    "# data_concat.to_csv('data_concat_step_2.csv', columns=['property_type','superficie','rooms','ambientes_desc','ambientes_t','ambientes','ambientes_train','price_per_m2'], sep=';')"
   ]
  },
  {
   "cell_type": "code",
   "execution_count": 24,
   "metadata": {},
   "outputs": [],
   "source": [
    "# data_concat.ambientes_train.value_counts()"
   ]
  },
  {
   "cell_type": "code",
   "execution_count": 25,
   "metadata": {},
   "outputs": [],
   "source": [
    "#data_prueba[data_prueba.ambientes_train.astype(int).dtype and data_prueba.rooms.astype(int).dtype]"
   ]
  },
  {
   "cell_type": "code",
   "execution_count": 26,
   "metadata": {},
   "outputs": [],
   "source": [
    "mask_not_store = data_concat['property_type'] != 'store'"
   ]
  },
  {
   "cell_type": "code",
   "execution_count": 27,
   "metadata": {},
   "outputs": [],
   "source": [
    "data_concat = data_concat[mask_not_store]"
   ]
  },
  {
   "cell_type": "code",
   "execution_count": 28,
   "metadata": {},
   "outputs": [
    {
     "data": {
      "text/plain": [
       "(117084, 37)"
      ]
     },
     "execution_count": 28,
     "metadata": {},
     "output_type": "execute_result"
    }
   ],
   "source": [
    "data_concat.shape"
   ]
  },
  {
   "cell_type": "code",
   "execution_count": 29,
   "metadata": {},
   "outputs": [
    {
     "name": "stdout",
     "output_type": "stream",
     "text": [
      "38365\n"
     ]
    }
   ],
   "source": [
    "superficie_not_null = data_concat['surface_covered_in_m2'].notnull()\n",
    "ambientes_zero = data_concat['ambientes_train'] == 0\n",
    "filtro = superficie_not_null & ambientes_zero\n",
    "print(filtro.sum())\n",
    "#data_concat = data_concat[filtro]\n",
    "#d_filtrado[['ambientes_train', 'superficie']].head(10)"
   ]
  },
  {
   "cell_type": "code",
   "execution_count": 30,
   "metadata": {},
   "outputs": [],
   "source": [
    "data_backup = data_concat.copy()"
   ]
  },
  {
   "cell_type": "code",
   "execution_count": 31,
   "metadata": {},
   "outputs": [],
   "source": [
    "#data_concat = data_backup.copy()"
   ]
  },
  {
   "cell_type": "code",
   "execution_count": 32,
   "metadata": {},
   "outputs": [],
   "source": [
    "data_not_null = data_concat[data_concat.ambientes_train > 0]"
   ]
  },
  {
   "cell_type": "code",
   "execution_count": 33,
   "metadata": {},
   "outputs": [],
   "source": [
    "data_not_null.to_csv('data_concat_step_2.csv', columns=['surface_covered_in_m2','ambientes_train','price_per_m2'], sep=';')"
   ]
  },
  {
   "cell_type": "code",
   "execution_count": 34,
   "metadata": {},
   "outputs": [
    {
     "data": {
      "text/plain": [
       "7.0"
      ]
     },
     "execution_count": 34,
     "metadata": {},
     "output_type": "execute_result"
    }
   ],
   "source": [
    "q1 = data_not_null.ambientes_train.quantile(0.25)\n",
    "q2 = data_not_null.ambientes_train.quantile(0.5)\n",
    "q3 = data_not_null.ambientes_train.quantile(0.75)\n",
    "\n",
    "higher_bound = q3 + 1.5 * (q3 - q1)\n",
    "higher_bound"
   ]
  },
  {
   "cell_type": "code",
   "execution_count": 35,
   "metadata": {},
   "outputs": [
    {
     "data": {
      "text/plain": [
       "0    48575\n",
       "3    19524\n",
       "2    19329\n",
       "4    12184\n",
       "1     8493\n",
       "5     5097\n",
       "6     1806\n",
       "7      913\n",
       "Name: ambientes_train, dtype: int64"
      ]
     },
     "execution_count": 35,
     "metadata": {},
     "output_type": "execute_result"
    }
   ],
   "source": [
    "mask = data_concat.ambientes_train > 7\n",
    "mask2 = data_concat.loc[mask, :]\n",
    "data_sin_outliers = data_concat.drop(mask2.index, axis = 0)\n",
    "data_sin_outliers.ambientes_train.value_counts()"
   ]
  },
  {
   "cell_type": "code",
   "execution_count": 54,
   "metadata": {},
   "outputs": [],
   "source": [
    "amb_1 = data_sin_outliers['ambientes_train'] == 1\n",
    "amb_2 = data_sin_outliers['ambientes_train'] == 2\n",
    "amb_3 = data_sin_outliers['ambientes_train'] == 3\n",
    "amb_4 = data_sin_outliers['ambientes_train'] == 4\n",
    "amb_5 = data_sin_outliers['ambientes_train'] == 5\n",
    "amb_6 = data_sin_outliers['ambientes_train'] == 6\n",
    "amb_7 = data_sin_outliers['ambientes_train'] == 7\n",
    "\n",
    "divisor1 = (data_sin_outliers[amb_1].surface_covered_in_m2.median() + data_sin_outliers[amb_2].surface_covered_in_m2.median())/2\n",
    "divisor2 = (data_sin_outliers[amb_2].surface_covered_in_m2.median() + data_sin_outliers[amb_3].surface_covered_in_m2.median())/2\n",
    "divisor3 = (data_sin_outliers[amb_3].surface_covered_in_m2.median() + data_sin_outliers[amb_4].surface_covered_in_m2.median())/2\n",
    "divisor4 = (data_sin_outliers[amb_4].surface_covered_in_m2.median() + data_sin_outliers[amb_5].surface_covered_in_m2.median())/2\n",
    "divisor5 = (data_sin_outliers[amb_5].surface_covered_in_m2.median() + data_sin_outliers[amb_6].surface_covered_in_m2.median())/2\n",
    "divisor6 = (data_sin_outliers[amb_6].surface_covered_in_m2.median() + data_sin_outliers[amb_7].surface_covered_in_m2.median())/2\n",
    "divisor7 = (data_sin_outliers[amb_7].surface_covered_in_m2.median() + data_sin_outliers[amb_7].surface_covered_in_m2.max())/2"
   ]
  },
  {
   "cell_type": "code",
   "execution_count": 56,
   "metadata": {},
   "outputs": [
    {
     "data": {
      "text/plain": [
       "230.5"
      ]
     },
     "execution_count": 56,
     "metadata": {},
     "output_type": "execute_result"
    }
   ],
   "source": [
    "divisor6"
   ]
  },
  {
   "cell_type": "code",
   "execution_count": 37,
   "metadata": {},
   "outputs": [],
   "source": [
    "# Función para asignar ambientes según superficie en registros cuyo valor para cantidad de ambientes es nulo\n",
    "def asignar_ambientes_segun_superficie(surface_covered_in_m2):\n",
    "    #if superficie.isnull():\n",
    "    #    return 0\n",
    "    #elif 0 < superficie <= divisor1:\n",
    "    if 0 < surface_covered_in_m2 <= divisor1:\n",
    "        return 1\n",
    "    elif divisor1 < surface_covered_in_m2 <= divisor2:\n",
    "        return 2\n",
    "    elif divisor2 < surface_covered_in_m2 <= divisor3:\n",
    "        return 3\n",
    "    elif divisor3 < surface_covered_in_m2 <= divisor4:\n",
    "        return 4\n",
    "    elif divisor4 < surface_covered_in_m2 <= divisor5:\n",
    "        return 5\n",
    "    elif divisor5 < surface_covered_in_m2 <= divisor6:\n",
    "        return 6\n",
    "    elif divisor6 < surface_covered_in_m2 <= divisor7:\n",
    "        return 7\n",
    "    else:\n",
    "        return np.NaN"
   ]
  },
  {
   "cell_type": "code",
   "execution_count": 38,
   "metadata": {},
   "outputs": [],
   "source": [
    "data_sin_outliers[\"ambientes_touched\"] = data_sin_outliers.apply(lambda x: asignar_ambientes_segun_superficie(x['surface_covered_in_m2']) if int(x['ambientes_train']) == 0 else 0,axis=1)"
   ]
  },
  {
   "cell_type": "code",
   "execution_count": 39,
   "metadata": {},
   "outputs": [],
   "source": [
    "data_sin_outliers[\"ambientes_final\"] = data_sin_outliers[\"ambientes_train\"] + data_sin_outliers[\"ambientes_touched\"]"
   ]
  },
  {
   "cell_type": "code",
   "execution_count": 40,
   "metadata": {},
   "outputs": [],
   "source": [
    "data_sin_outliers.to_csv('data_concat_step_3.csv', columns=['property_type','Partido','surface_covered_in_m2','ambientes_train','ambientes_touched', 'ambientes_final', 'price_per_m2'], sep=';')"
   ]
  },
  {
   "cell_type": "code",
   "execution_count": 41,
   "metadata": {},
   "outputs": [
    {
     "data": {
      "text/plain": [
       "0.0    67346\n",
       "2.0     6477\n",
       "3.0     6134\n",
       "1.0     5743\n",
       "4.0     5723\n",
       "5.0     4950\n",
       "6.0     1914\n",
       "Name: ambientes_touched, dtype: int64"
      ]
     },
     "execution_count": 41,
     "metadata": {},
     "output_type": "execute_result"
    }
   ],
   "source": [
    "data_sin_outliers.ambientes_touched.value_counts()"
   ]
  },
  {
   "cell_type": "code",
   "execution_count": null,
   "metadata": {},
   "outputs": [],
   "source": [
    "data_concat[\"Partido\"].value_counts()"
   ]
  },
  {
   "cell_type": "code",
   "execution_count": null,
   "metadata": {
    "jupyter": {
     "source_hidden": true
    }
   },
   "outputs": [],
   "source": [
    "# data_concat[\"ambientes_train\"].value_counts()\n",
    "# data_concat[\"ambientes_train\"].isnull().sum()"
   ]
  },
  {
   "cell_type": "code",
   "execution_count": null,
   "metadata": {
    "jupyter": {
     "source_hidden": true
    }
   },
   "outputs": [],
   "source": [
    "data_concat.ambientes_train.notnull().sum()"
   ]
  },
  {
   "cell_type": "code",
   "execution_count": null,
   "metadata": {},
   "outputs": [],
   "source": []
  },
  {
   "cell_type": "code",
   "execution_count": null,
   "metadata": {},
   "outputs": [],
   "source": []
  },
  {
   "cell_type": "code",
   "execution_count": null,
   "metadata": {},
   "outputs": [],
   "source": [
    "data_concat[data_concat.rooms_final.notnull()]"
   ]
  },
  {
   "cell_type": "code",
   "execution_count": null,
   "metadata": {},
   "outputs": [],
   "source": [
    "data_concat.ambientes_train.value_counts()"
   ]
  },
  {
   "cell_type": "code",
   "execution_count": null,
   "metadata": {},
   "outputs": [],
   "source": [
    "# aplicar funcion lambda para agrupar los int y los float\n",
    "\n",
    "# pensar tambien que rooms no es lo mismo que ambientes"
   ]
  },
  {
   "cell_type": "code",
   "execution_count": null,
   "metadata": {},
   "outputs": [],
   "source": []
  }
 ],
 "metadata": {
  "kernelspec": {
   "display_name": "Python 3",
   "language": "python",
   "name": "python3"
  },
  "language_info": {
   "codemirror_mode": {
    "name": "ipython",
    "version": 3
   },
   "file_extension": ".py",
   "mimetype": "text/x-python",
   "name": "python",
   "nbconvert_exporter": "python",
   "pygments_lexer": "ipython3",
   "version": "3.7.9"
  }
 },
 "nbformat": 4,
 "nbformat_minor": 4
}
