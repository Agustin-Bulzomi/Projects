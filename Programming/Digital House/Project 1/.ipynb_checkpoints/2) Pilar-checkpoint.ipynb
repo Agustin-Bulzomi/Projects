{
 "cells": [
  {
   "cell_type": "markdown",
   "metadata": {},
   "source": [
    "# 1) Preparación previa"
   ]
  },
  {
   "cell_type": "markdown",
   "metadata": {},
   "source": [
    "### Carga de librerías"
   ]
  },
  {
   "cell_type": "code",
   "execution_count": null,
   "metadata": {},
   "outputs": [],
   "source": [
    "import ipyleaflet\n",
    "import mpu\n",
    "import pandas as pd\n",
    "import re\n",
    "import numpy as np\n",
    "from ipyleaflet import Map, basemaps, Marker, AwesomeIcon, Icon, FullScreenControl\n",
    "import seaborn as sns\n",
    "import matplotlib.pyplot as plt"
   ]
  },
  {
   "cell_type": "markdown",
   "metadata": {},
   "source": [
    "### Funciones a usar luego"
   ]
  },
  {
   "cell_type": "code",
   "execution_count": null,
   "metadata": {},
   "outputs": [],
   "source": [
    "# La siguiente función nos permite definir la distancia en latitud y longitud respecto de los puentes:\n",
    "def distancia(lat, long):\n",
    "    aux = []\n",
    "    for index, row in puentes_pilar.iterrows():\n",
    "        aux.append(\n",
    "            mpu.haversine_distance(\n",
    "                (row['Latitud'], row['Longitud']), \n",
    "                (lat, long)\n",
    "            )\n",
    "        )\n",
    "    return min(aux)\n",
    "\n",
    "# La siguiente función nos permite aplicar íconos a los marcadores según su quantil:\n",
    "def marca_propiedad(lat, long, quantile):\n",
    "    if quantile == 0:\n",
    "        icono_prop = icon0\n",
    "    elif quantile == 1:\n",
    "        icono_prop = icon1\n",
    "    elif quantile == 2:\n",
    "        icono_prop = icon2  \n",
    "    else: \n",
    "        icono_prop = icon3\n",
    "    marker = Marker(location=(lat,long), draggable=False, icon=icono_prop)\n",
    "    basic_map.add_layer(marker)"
   ]
  },
  {
   "cell_type": "markdown",
   "metadata": {},
   "source": [
    "### Lectura del dataset limpiado en la notebook de análisis"
   ]
  },
  {
   "cell_type": "code",
   "execution_count": null,
   "metadata": {},
   "outputs": [],
   "source": [
    "data = pd.read_csv('DF_Final.csv')\n",
    "data.head()"
   ]
  },
  {
   "cell_type": "markdown",
   "metadata": {},
   "source": [
    "### Filtro del DF"
   ]
  },
  {
   "cell_type": "code",
   "execution_count": null,
   "metadata": {},
   "outputs": [],
   "source": [
    "# Máscara para obtener los pertenecientes a Pilar\n",
    "mascara_pilar = data.Partido == 'Pilar'\n",
    "df_solo_pilar = data.loc[mascara_pilar, :]\n",
    "df_solo_pilar.head()"
   ]
  },
  {
   "cell_type": "code",
   "execution_count": null,
   "metadata": {},
   "outputs": [],
   "source": [
    "# Máscara para obtener las viviendas que no son countries\n",
    "pilar_partido = df_solo_pilar.isin({'Barrios':['Pilar', 'Del Viso', 'Derqui', 'Villa Rosa', 'Villa Stolfi', 'Manuel Alberti', 'Manzanares'] })\n",
    "pilar_sincountry = df_solo_pilar[pilar_partido['Barrios']]\n",
    "pilar_sincountry.head()"
   ]
  },
  {
   "cell_type": "code",
   "execution_count": null,
   "metadata": {},
   "outputs": [],
   "source": [
    "# Máscara para obtener las viviendas que son countries\n",
    "pilar_country = df_solo_pilar[~pilar_partido ['Barrios']]\n",
    "pilar_country.head()"
   ]
  },
  {
   "cell_type": "code",
   "execution_count": null,
   "metadata": {},
   "outputs": [],
   "source": [
    "# Máscara para eliminar valores menores a 1\n",
    "precio_pilar_sin_country = pilar_sincountry['price_aprox_usd'] > 0 # or np.isNan\n",
    "df_ppsc = pilar_sincountry.loc[precio_pilar_sin_country, :]\n",
    "# Verificación de valores NaN -> ppsc = partido pilar sin country\n",
    "df_ppsc.sort_values(by = 'price_aprox_usd', ascending = False)"
   ]
  },
  {
   "cell_type": "markdown",
   "metadata": {},
   "source": [
    "### Eliminación de los valores nulos"
   ]
  },
  {
   "cell_type": "code",
   "execution_count": null,
   "metadata": {},
   "outputs": [],
   "source": [
    "df_ppsc_latlon = df_ppsc.dropna(subset=['lat', 'lon'])\n",
    "df_ppsc_latlon.shape"
   ]
  },
  {
   "cell_type": "code",
   "execution_count": null,
   "metadata": {},
   "outputs": [],
   "source": [
    "# Se procede también con la columna 'Precio_USD_por_M2'\n",
    "df_ppsc_latlon_con_precio = df_ppsc_latlon[df_ppsc_latlon['Precio_USD_por_M2'].notna()]\n",
    "df_ppsc_latlon_con_precio"
   ]
  },
  {
   "cell_type": "markdown",
   "metadata": {},
   "source": [
    "# 2) Análisis del DF sin countries"
   ]
  },
  {
   "cell_type": "markdown",
   "metadata": {},
   "source": [
    "### Definición de cuantiles"
   ]
  },
  {
   "cell_type": "code",
   "execution_count": null,
   "metadata": {},
   "outputs": [],
   "source": [
    "df_ppsc_latlon_con_precio['quantile'] = pd.qcut(df_ppsc_latlon_con_precio['Precio_USD_por_M2'], 4, labels=False)\n",
    "df_ppsc_latlon_con_precio.round(3)"
   ]
  },
  {
   "cell_type": "markdown",
   "metadata": {},
   "source": [
    "### Métricas generales del DF sin countries"
   ]
  },
  {
   "cell_type": "code",
   "execution_count": null,
   "metadata": {},
   "outputs": [],
   "source": [
    "medidas_ppsc = df_ppsc_latlon_con_precio[[\"Precio_USD_por_M2\"]].describe().round(2)\n",
    "medidas_ppsc"
   ]
  },
  {
   "cell_type": "markdown",
   "metadata": {},
   "source": [
    "### Agrupación según barrios"
   ]
  },
  {
   "cell_type": "code",
   "execution_count": null,
   "metadata": {},
   "outputs": [],
   "source": [
    "df_ppsc_agrup = df_ppsc_latlon_con_precio.groupby('Barrios')\n",
    "df_ppsc_agrup"
   ]
  },
  {
   "cell_type": "markdown",
   "metadata": {},
   "source": [
    "### Métricas del DF agrupado sin countries"
   ]
  },
  {
   "cell_type": "code",
   "execution_count": null,
   "metadata": {},
   "outputs": [],
   "source": [
    "medidas_ppsc_agrup = df_ppsc_agrup[[\"Precio_USD_por_M2\"]].describe().round(2)\n",
    "medidas_ppsc_agrup"
   ]
  },
  {
   "cell_type": "code",
   "execution_count": null,
   "metadata": {},
   "outputs": [],
   "source": [
    "# Orden según la media\n",
    "medidas_ppsc_agrup.sort_values(by=[('Precio_USD_por_M2', 'mean')], ascending = False)"
   ]
  },
  {
   "cell_type": "markdown",
   "metadata": {},
   "source": [
    "# 3) Preparación del DF con countries"
   ]
  },
  {
   "cell_type": "markdown",
   "metadata": {},
   "source": [
    "### Eliminación de valores inconsistentes"
   ]
  },
  {
   "cell_type": "code",
   "execution_count": null,
   "metadata": {},
   "outputs": [],
   "source": [
    "# Máscara para eliminar valores menores a 1 | ppc = partido pilar countries\n",
    "precio_pilar_country = pilar_country['price_aprox_usd'] > 1\n",
    "df_ppc = pilar_country.loc[precio_pilar_country, :]\n",
    "# Verificación de valores NaN\n",
    "df_ppc.sort_values(by = 'price_aprox_usd', ascending = False)"
   ]
  },
  {
   "cell_type": "code",
   "execution_count": null,
   "metadata": {},
   "outputs": [],
   "source": [
    "# Eliminación de los nulos de la columna LAT y LON\n",
    "df_ppc_latlon = df_ppc.dropna(subset=['lat', 'lon'])\n",
    "df_ppc_latlon.shape"
   ]
  },
  {
   "cell_type": "markdown",
   "metadata": {},
   "source": [
    "### Creación de nuevo DF con puentes"
   ]
  },
  {
   "cell_type": "code",
   "execution_count": null,
   "metadata": {},
   "outputs": [],
   "source": [
    "# Ubicación de los puentes de la panamericana - ramal pilar\n",
    "puentes_pilar = pd.DataFrame({\n",
    "    'Nombre': ['Separacion', 'Tortugas', '26', 'Camaño', 'Palmas', '25', 'Manzanares','6'],\n",
    "    'Latitud': [-34.468040, -34.448354, -34.440682, -34.436667, -34.443766, -34.449550, -34.441083, -34.395740],\n",
    "    'Longitud': [-58.685014, -58.748577, -58.782740, -58.828145, -58.872848, -58.905720, -58.966898, -59.022886]\n",
    "})"
   ]
  },
  {
   "cell_type": "code",
   "execution_count": null,
   "metadata": {},
   "outputs": [],
   "source": [
    "print(puentes_pilar)"
   ]
  },
  {
   "cell_type": "markdown",
   "metadata": {},
   "source": [
    "### Cálculo de la distancia hacia los puentes"
   ]
  },
  {
   "cell_type": "code",
   "execution_count": null,
   "metadata": {},
   "outputs": [],
   "source": [
    "%%capture output\n",
    "# Cálculo d la distancia de las propiedades hacia los puentes en una nueva columna\n",
    "df_ppc_latlon['distancia'] = df_ppc_latlon.apply(lambda x: distancia(x['lat'], x['lon']), axis=1)\n",
    "df_ppc_latlon"
   ]
  },
  {
   "cell_type": "markdown",
   "metadata": {},
   "source": [
    "### Eliminación de los nulos del precio por metro cuadrado"
   ]
  },
  {
   "cell_type": "code",
   "execution_count": null,
   "metadata": {},
   "outputs": [],
   "source": [
    "df_ppc_latlon_con_precio = df_ppc_latlon[df_ppc_latlon['Precio_USD_por_M2'].notna()]\n",
    "df_ppc_latlon_con_precio"
   ]
  },
  {
   "cell_type": "markdown",
   "metadata": {},
   "source": [
    "### Eliminación de outliers"
   ]
  },
  {
   "cell_type": "code",
   "execution_count": null,
   "metadata": {},
   "outputs": [],
   "source": [
    "mask_latlon_con_precio = df_ppc_latlon_con_precio['distancia'] < 90\n",
    "df_ppc_latlon_con_precio= df_ppc_latlon_con_precio.loc[mask_latlon_con_precio, :]"
   ]
  },
  {
   "cell_type": "markdown",
   "metadata": {},
   "source": [
    "### Eliminación de barrios nulos"
   ]
  },
  {
   "cell_type": "code",
   "execution_count": null,
   "metadata": {},
   "outputs": [],
   "source": [
    "mask_nulos = df_ppc_latlon_con_precio['Barrios'] != \"\"\n",
    "df_final_countries = df_ppc_latlon_con_precio.loc[mask_nulos, :]\n",
    "df_final_countries"
   ]
  },
  {
   "cell_type": "markdown",
   "metadata": {},
   "source": [
    "# 4) Análisis del DF con countries"
   ]
  },
  {
   "cell_type": "markdown",
   "metadata": {},
   "source": [
    "### Armado de cuantiles"
   ]
  },
  {
   "cell_type": "code",
   "execution_count": null,
   "metadata": {},
   "outputs": [],
   "source": [
    "df_final_countries['quantile'] = pd.qcut(df_final_countries['Precio_USD_por_M2'], 4, labels=False)\n",
    "df_final_countries.round(3)"
   ]
  },
  {
   "cell_type": "markdown",
   "metadata": {},
   "source": [
    "### Métricas generales del DF con countries"
   ]
  },
  {
   "cell_type": "code",
   "execution_count": null,
   "metadata": {},
   "outputs": [],
   "source": [
    "medidas_ppc = df_final_countries[[\"Precio_USD_por_M2\"]].describe().round(2)\n",
    "medidas_ppc"
   ]
  },
  {
   "cell_type": "markdown",
   "metadata": {},
   "source": [
    "### Agrupación según barrios"
   ]
  },
  {
   "cell_type": "code",
   "execution_count": null,
   "metadata": {},
   "outputs": [],
   "source": [
    "df_ppc_agrup = df_final_countries.groupby('Barrios')\n",
    "df_ppc_agrup"
   ]
  },
  {
   "cell_type": "markdown",
   "metadata": {},
   "source": [
    "### Métricas específicas del DF con countries agrupado"
   ]
  },
  {
   "cell_type": "code",
   "execution_count": null,
   "metadata": {},
   "outputs": [],
   "source": [
    "medidas_ppc_agrup = df_ppc_agrup[[\"Precio_USD_por_M2\"]].describe().round(2)"
   ]
  },
  {
   "cell_type": "code",
   "execution_count": null,
   "metadata": {},
   "outputs": [],
   "source": [
    "# Orden según la media\n",
    "medidas_ppc_agrup.sort_values(by=[('Precio_USD_por_M2', 'mean')], ascending = False)"
   ]
  },
  {
   "cell_type": "markdown",
   "metadata": {},
   "source": [
    "# 4) Gráficos"
   ]
  },
  {
   "cell_type": "markdown",
   "metadata": {},
   "source": [
    "### Preparación de las variables a usar"
   ]
  },
  {
   "cell_type": "code",
   "execution_count": null,
   "metadata": {},
   "outputs": [],
   "source": [
    "distancia_graf = df_ppc_latlon_con_precio['distancia']*1000\n",
    "distancia_graf = distancia_graf.astype(int)    \n",
    "\n",
    "Precio_USD_por_M2= np.around(df_ppc_latlon_con_precio['Precio_USD_por_M2']) \n",
    "price_aprox_usd= np.around(df_ppc_latlon_con_precio['price_aprox_usd'])\n",
    "\n",
    "b2=Precio_USD_por_M2.mean()\n",
    "c2=distancia_graf.mean()\n",
    "a2=price_aprox_usd.mean()\n",
    "\n",
    "b3=Precio_USD_por_M2.median()\n",
    "c3=distancia_graf.median()\n",
    "a3=price_aprox_usd.median()\n",
    "\n",
    "a3,b3,c3"
   ]
  },
  {
   "cell_type": "markdown",
   "metadata": {},
   "source": [
    "### Gráfico bivariable de distancia vs precio por m² y precio total"
   ]
  },
  {
   "cell_type": "code",
   "execution_count": null,
   "metadata": {},
   "outputs": [],
   "source": [
    "with sns.axes_style('dark'):\n",
    "    g =sns.jointplot( x=distancia_graf, y=Precio_USD_por_M2 , height=10, ratio=3 )\n",
    "    f= sns.jointplot( x=distancia_graf, y=price_aprox_usd , height=10, ratio=3 )"
   ]
  },
  {
   "cell_type": "markdown",
   "metadata": {},
   "source": [
    "### Gráfico de quantiles"
   ]
  },
  {
   "cell_type": "code",
   "execution_count": null,
   "metadata": {},
   "outputs": [],
   "source": [
    "Quantile1 = np.around(df_ppc_latlon_con_precio['quantile'])\n",
    "bx = sns.boxplot(x = Quantile1, y = distancia1)"
   ]
  },
  {
   "cell_type": "code",
   "execution_count": null,
   "metadata": {},
   "outputs": [],
   "source": [
    "ax = sns.boxplot(x = Quantile1, y = Precio_USD_por_M21 )"
   ]
  },
  {
   "cell_type": "markdown",
   "metadata": {},
   "source": [
    "### Gráfico de cercanía a la panamericana"
   ]
  },
  {
   "cell_type": "code",
   "execution_count": null,
   "metadata": {},
   "outputs": [],
   "source": [
    "basic_map = Map(basemap=basemaps.OpenStreetMap.Mapnik, center=(-34.44349933885334, -58.86776001513485), zoom=12)\n",
    "\n",
    "icono_puente = Icon(icon_url='http://localhost:8888/files/TrabajoPractico1/icono_puente.png?_xsrf=2%7C2ca70c0c%7C8e467d878f5d4b68523c5f2b28ba085b%7C1607985927', icon_size=[28, 28])\n",
    "\n",
    "icon0 = AwesomeIcon(\n",
    "    name='home',\n",
    "    marker_color='green',\n",
    "    icon_color='black',\n",
    "    spin=False\n",
    ")\n",
    "\n",
    "icon1 = AwesomeIcon(\n",
    "    name='home',\n",
    "    marker_color='beige',\n",
    "    icon_color='black',\n",
    "    spin=False\n",
    ")\n",
    "\n",
    "icon2 = AwesomeIcon(\n",
    "    name='home',\n",
    "    marker_color='orange',\n",
    "    icon_color='black',\n",
    "    spin=False\n",
    ")\n",
    "\n",
    "icon3 = AwesomeIcon(\n",
    "    name='home',\n",
    "    marker_color='red',\n",
    "    icon_color='black',\n",
    "    spin=False\n",
    ")\n",
    "\n",
    "for index, row in puentes_pilar.iterrows():\n",
    "    marker = Marker(location=(row['Latitud'],row['Longitud']), draggable=False, icon=icono_puente)\n",
    "    basic_map.add_layer(marker);\n",
    "\n",
    "df_final_countries[['lat','lon','quantile']].apply(lambda x: marca_propiedad(x['lat'],x['lon'],x['quantile']),axis=1)\n",
    "basic_map.add_control(FullScreenControl())\n",
    "\n",
    "display(basic_map)"
   ]
  }
 ],
 "metadata": {
  "kernelspec": {
   "display_name": "Python 3",
   "language": "python",
   "name": "python3"
  },
  "language_info": {
   "codemirror_mode": {
    "name": "ipython",
    "version": 3
   },
   "file_extension": ".py",
   "mimetype": "text/x-python",
   "name": "python",
   "nbconvert_exporter": "python",
   "pygments_lexer": "ipython3",
   "version": "3.7.9"
  }
 },
 "nbformat": 4,
 "nbformat_minor": 4
}
