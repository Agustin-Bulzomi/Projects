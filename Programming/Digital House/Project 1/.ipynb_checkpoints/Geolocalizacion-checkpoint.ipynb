{
 "cells": [
  {
   "cell_type": "code",
   "execution_count": 1,
   "metadata": {},
   "outputs": [],
   "source": [
    "#se debe instalar ipyleaflet, mpu, openpyxl\n",
    "\n",
    "import ipyleaflet\n",
    "import mpu\n",
    "import pandas as pd\n",
    "import numpy as np\n",
    "from ipyleaflet import Map, basemaps, Marker, AwesomeIcon, Icon"
   ]
  },
  {
   "cell_type": "markdown",
   "metadata": {},
   "source": [
    "## Funciones"
   ]
  },
  {
   "cell_type": "code",
   "execution_count": 30,
   "metadata": {},
   "outputs": [],
   "source": [
    "def distancia(lat1, long1, lat2, long2):\n",
    "    return mpu.haversine_distance((lat1, long1), (lat2, long2))\n",
    "\n",
    "def marca_propiedad(lat, long, quantile):\n",
    "    if quantile == 0:\n",
    "        icono_prop = icon0\n",
    "    elif quantile == 1:\n",
    "        icono_prop = icon1\n",
    "    elif quantile == 2:\n",
    "        icono_prop = icon2  \n",
    "    else: \n",
    "        icono_prop = icon3\n",
    "    marker = Marker(location=(lat,long), draggable=False, icon=icono_prop)\n",
    "    basic_map.add_layer(marker)\n",
    "    \n",
    "def limpieza_superficie(sup_total, sup_cubierta):\n",
    "    if sup_total is not None and sup_cubierta is not None:\n",
    "            if sup_total >= sup_cubierta:\n",
    "                superficie = sup_total\n",
    "            else: \n",
    "                superficie = 0\n",
    "    elif sup_total is not None:\n",
    "            superficie = sup_total\n",
    "    elif sup_cubierta is not None:\n",
    "            superficie = sup_cubierta\n",
    "    else: superficie = 0        \n",
    "                    \n",
    "    return superficie"
   ]
  },
  {
   "cell_type": "markdown",
   "metadata": {},
   "source": [
    "## Íconos y mapas a usar luego"
   ]
  },
  {
   "cell_type": "code",
   "execution_count": 35,
   "metadata": {},
   "outputs": [],
   "source": [
    "basic_map = Map(basemap=basemaps.OpenStreetMap.Mapnik, center=(-34.60823238941058, -58.398160858739075), zoom=14)\n",
    "\n",
    "icono_subte = Icon(icon_url='icono_subte.png', icon_size=[28, 28])\n",
    "\n",
    "icon0 = AwesomeIcon(\n",
    "    name='home',\n",
    "    marker_color='green',\n",
    "    icon_color='black',\n",
    "    spin=False\n",
    ")\n",
    "\n",
    "icon1 = AwesomeIcon(\n",
    "    name='home',\n",
    "    marker_color='beige',\n",
    "    icon_color='black',\n",
    "    spin=False\n",
    ")\n",
    "\n",
    "icon2 = AwesomeIcon(\n",
    "    name='home',\n",
    "    marker_color='orange',\n",
    "    icon_color='black',\n",
    "    spin=False\n",
    ")\n",
    "\n",
    "icon3 = AwesomeIcon(\n",
    "    name='home',\n",
    "    marker_color='red',\n",
    "    icon_color='black',\n",
    "    spin=False\n",
    ")"
   ]
  },
  {
   "cell_type": "markdown",
   "metadata": {},
   "source": [
    "## Estaciones a usar luego"
   ]
  },
  {
   "cell_type": "code",
   "execution_count": 3,
   "metadata": {},
   "outputs": [],
   "source": [
    "#Arma el Diccionario de Estaciones Linea A\n",
    "estaciones = [\n",
    "        {\n",
    "    'id' : 1,\n",
    "    'nombre' : 'Plaza de Mayo',\n",
    "    'latitud' : -34.608861, \n",
    "    'longitud' : -58.370833\n",
    "    },\n",
    "     {\n",
    "    'id' : 2,\n",
    "    'nombre' : 'Peru',\n",
    "    'latitud' : -34.608347, \n",
    "    'longitud' : -58.3743504\n",
    "    },\n",
    "    {\n",
    "    'id' : 3,\n",
    "    'nombre' : 'Piedras',\n",
    "    'latitud' : -34.608910, \n",
    "    'longitud' : -58.379116\n",
    "    },\n",
    "    {\n",
    "    'id' : 4,\n",
    "    'nombre' : 'Lima',\n",
    "    'latitud' : -34.609275,\n",
    "    'longitud' : -58.398412\n",
    "    },\n",
    "    {\n",
    "    'id' : 5,\n",
    "    'nombre' : 'Saenz Peña',\n",
    "    'latitud' : -34.609180, \n",
    "    'longitud' : -58.386689\n",
    "    },\n",
    "    {\n",
    "    'id' : 6,\n",
    "    'nombre' : 'Congreso',\n",
    "    'latitud' : -34.6090035, \n",
    "    'longitud' : -58.3926656\n",
    "    },\n",
    "    {\n",
    "    'id' : 7,\n",
    "    'nombre' : 'Pasco',\n",
    "    'latitud' : -34.6093037,\n",
    "    'longitud' : -58.398373\n",
    "    },\n",
    "    {\n",
    "    'id' : 9,\n",
    "    'nombre' : 'Plaza Miserere',\n",
    "    'latitud' : -34.6087386,\n",
    "    'longitud' : -58.4060766\n",
    "    },\n",
    "    {\n",
    "    'id' : 10,\n",
    "    'nombre' : 'Loria',\n",
    "    'latitud' : -34.61058413682195,\n",
    "    'longitud' : -58.415110361671246\n",
    "    },\n",
    "    {\n",
    "    'id' : 11,\n",
    "    'nombre' : 'Castro Barros',\n",
    "    'latitud' : -34.61156427984651,\n",
    "    'longitud' : -58.42174078220552\n",
    "    },\n",
    "    {\n",
    "    'id' : 12,\n",
    "    'nombre' : 'Rio de Janeiro',\n",
    "    'latitud' : -34.6148813,\n",
    "    'longitud' : -58.429314\n",
    "    },\n",
    "    {\n",
    "    'id' : 13,\n",
    "    'nombre' : 'Acoyte',\n",
    "    'latitud' : -34.61782024597432, \n",
    "    'longitud' : -58.43601375834526\n",
    "    },\n",
    "    {\n",
    "    'id' : 14,\n",
    "    'nombre' : 'Primera Junta',\n",
    "    'latitud' : -34.62000990821901, \n",
    "    'longitud' : -58.44139963363867\n",
    "    },\n",
    "    {\n",
    "    'id' : 15,\n",
    "    'nombre' : 'Puan',\n",
    "    'latitud' : -34.623154005164174, \n",
    "    'longitud' : -58.448759837614276\n",
    "    },\n",
    "    {\n",
    "    'id' : 16,\n",
    "    'nombre' : 'Carabobo',\n",
    "    'latitud' : -34.625959668892456, \n",
    "    'longitud' : -58.45602636136459\n",
    "    },\n",
    "    {\n",
    "    'id' : 17,\n",
    "    'nombre' : 'San Jose de Flores',\n",
    "    'latitud' : -34.62853728879571, \n",
    "    'longitud' : -58.46356990763762\n",
    "    },\n",
    "    {\n",
    "    'id' : 18,\n",
    "    'nombre' : 'San Pedrito',\n",
    "    'latitud' : -34.63041902824775,\n",
    "    'longitud' : -58.470443585877774\n",
    "    },\n",
    "]\n"
   ]
  },
  {
   "cell_type": "markdown",
   "metadata": {},
   "source": [
    "## Lectura del dataset Original de Properati"
   ]
  },
  {
   "cell_type": "code",
   "execution_count": 4,
   "metadata": {},
   "outputs": [],
   "source": [
    "df_properati = pd.read_csv('properati.csv')"
   ]
  },
  {
   "cell_type": "markdown",
   "metadata": {},
   "source": [
    "## Genera df solo para Capital"
   ]
  },
  {
   "cell_type": "code",
   "execution_count": 5,
   "metadata": {},
   "outputs": [
    {
     "data": {
      "text/plain": [
       "(32316, 26)"
      ]
     },
     "execution_count": 5,
     "metadata": {},
     "output_type": "execute_result"
    }
   ],
   "source": [
    "df_capital = df_properati[df_properati[\"state_name\"] == \"Capital Federal\"]\n",
    "df_capital.shape"
   ]
  },
  {
   "cell_type": "code",
   "execution_count": 6,
   "metadata": {},
   "outputs": [],
   "source": [
    "Barrios = df_capital[\"place_name\"].value_counts()"
   ]
  },
  {
   "cell_type": "markdown",
   "metadata": {},
   "source": [
    "## Corrige ortografia de Barrios y mapea Barrios Inexistentes"
   ]
  },
  {
   "cell_type": "code",
   "execution_count": 7,
   "metadata": {},
   "outputs": [],
   "source": [
    "%%capture output\n",
    "df_capital[\"place_name\"].replace(['San Cristobal','Barrio Norte', 'Centro / Microcentro'], ['San Cristóbal','Recoleta', 'Monserrat'], inplace=True)"
   ]
  },
  {
   "cell_type": "code",
   "execution_count": 8,
   "metadata": {},
   "outputs": [],
   "source": [
    "barrios_conv = df_capital[\"place_name\"].value_counts()"
   ]
  },
  {
   "cell_type": "markdown",
   "metadata": {},
   "source": [
    "## Lee el archivo de Mapping de Barrios por Comuna"
   ]
  },
  {
   "cell_type": "code",
   "execution_count": 41,
   "metadata": {},
   "outputs": [],
   "source": [
    "df_barrios_comuna = pd.read_csv(\"Barrios_x_Comuna_vsc_utf8.csv\")"
   ]
  },
  {
   "cell_type": "markdown",
   "metadata": {},
   "source": [
    "## Merge de df de Barrios de Capital con Comunas"
   ]
  },
  {
   "cell_type": "code",
   "execution_count": 10,
   "metadata": {},
   "outputs": [],
   "source": [
    "df_capital_comuna = pd.merge(df_capital, df_barrios_comuna, how='left', left_on='place_name', right_on='Barrio')\n",
    "del df_capital_comuna[\"description\"]\n",
    "del df_capital_comuna[\"title\"]\n",
    "del df_capital_comuna[\"properati_url\"]\n",
    "del df_capital_comuna[\"image_thumbnail\"]\n"
   ]
  },
  {
   "cell_type": "code",
   "execution_count": 11,
   "metadata": {},
   "outputs": [
    {
     "data": {
      "text/plain": [
       "3612"
      ]
     },
     "execution_count": 11,
     "metadata": {},
     "output_type": "execute_result"
    }
   ],
   "source": [
    "df_capital_comuna[\"Comuna\"].isna().sum()"
   ]
  },
  {
   "cell_type": "markdown",
   "metadata": {},
   "source": [
    "## Enumera los Barrrios por los que atraviesa la Linea A"
   ]
  },
  {
   "cell_type": "code",
   "execution_count": 12,
   "metadata": {},
   "outputs": [
    {
     "data": {
      "text/plain": [
       "0    Monserrat\n",
       "1    Balvanera\n",
       "2      Almagro\n",
       "3    Caballito\n",
       "dtype: object"
      ]
     },
     "execution_count": 12,
     "metadata": {},
     "output_type": "execute_result"
    }
   ],
   "source": [
    "barrios_linea_a = pd.Series(['Monserrat', 'Balvanera', 'Almagro', 'Caballito'])\n",
    "barrios_linea_a"
   ]
  },
  {
   "cell_type": "markdown",
   "metadata": {},
   "source": [
    "## Filtra el df de Capital por los Barrios definidos"
   ]
  },
  {
   "cell_type": "code",
   "execution_count": 13,
   "metadata": {
    "scrolled": true
   },
   "outputs": [
    {
     "data": {
      "text/plain": [
       "(4866, 24)"
      ]
     },
     "execution_count": 13,
     "metadata": {},
     "output_type": "execute_result"
    }
   ],
   "source": [
    "df_capital_barrios_subte = df_capital_comuna[df_capital_comuna['Barrio'].isin(barrios_linea_a)]\n",
    "df_capital_barrios_subte.shape"
   ]
  },
  {
   "cell_type": "markdown",
   "metadata": {},
   "source": [
    "## Elimina los Registros sin lat-long"
   ]
  },
  {
   "cell_type": "code",
   "execution_count": 14,
   "metadata": {},
   "outputs": [],
   "source": [
    "df_latlon_notna = df_capital_barrios_subte[df_capital_barrios_subte['lat-lon'].notna()]"
   ]
  },
  {
   "cell_type": "code",
   "execution_count": 15,
   "metadata": {},
   "outputs": [
    {
     "data": {
      "text/plain": [
       "(4031, 24)"
      ]
     },
     "execution_count": 15,
     "metadata": {},
     "output_type": "execute_result"
    }
   ],
   "source": [
    "df_latlon_notna.shape"
   ]
  },
  {
   "cell_type": "markdown",
   "metadata": {},
   "source": [
    "## Calcula las distancias de cada Propiedad hasta las 17 estaciones"
   ]
  },
  {
   "cell_type": "code",
   "execution_count": 16,
   "metadata": {},
   "outputs": [
    {
     "name": "stderr",
     "output_type": "stream",
     "text": [
      "C:\\ProgramData\\Anaconda3\\envs\\dhdsblend\\lib\\site-packages\\ipykernel_launcher.py:11: SettingWithCopyWarning: \n",
      "A value is trying to be set on a copy of a slice from a DataFrame.\n",
      "Try using .loc[row_indexer,col_indexer] = value instead\n",
      "\n",
      "See the caveats in the documentation: https://pandas.pydata.org/pandas-docs/stable/user_guide/indexing.html#returning-a-view-versus-a-copy\n",
      "  # This is added back by InteractiveShellApp.init_path()\n",
      "C:\\ProgramData\\Anaconda3\\envs\\dhdsblend\\lib\\site-packages\\ipykernel_launcher.py:12: SettingWithCopyWarning: \n",
      "A value is trying to be set on a copy of a slice from a DataFrame.\n",
      "Try using .loc[row_indexer,col_indexer] = value instead\n",
      "\n",
      "See the caveats in the documentation: https://pandas.pydata.org/pandas-docs/stable/user_guide/indexing.html#returning-a-view-versus-a-copy\n",
      "  if sys.path[0] == '':\n",
      "C:\\ProgramData\\Anaconda3\\envs\\dhdsblend\\lib\\site-packages\\ipykernel_launcher.py:13: SettingWithCopyWarning: \n",
      "A value is trying to be set on a copy of a slice from a DataFrame.\n",
      "Try using .loc[row_indexer,col_indexer] = value instead\n",
      "\n",
      "See the caveats in the documentation: https://pandas.pydata.org/pandas-docs/stable/user_guide/indexing.html#returning-a-view-versus-a-copy\n",
      "  del sys.path[0]\n"
     ]
    }
   ],
   "source": [
    "estacion_01_lat = -34.608861\n",
    "estacion_01_lon = -58.370833\n",
    "\n",
    "estacion_03_lat = -34.608910\n",
    "estacion_03_lon = -58.379116\n",
    "\n",
    "estacion_07_lat = -34.609275\n",
    "estacion_07_lon = -58.398412\n",
    "\n",
    "\n",
    "df_latlon_notna['distancia_01'] = df_latlon_notna[['lat','lon']].apply(lambda df_latlon_notna: distancia(df_latlon_notna['lat'],df_latlon_notna['lon'],estaciones[1]_01_lat,estacion_01_lon),axis=1)\n",
    "df_latlon_notna['distancia_03'] = df_latlon_notna[['lat','lon']].apply(lambda df_latlon_notna: distancia(df_latlon_notna['lat'],df_latlon_notna['lon'],estacion_03_lat,estacion_03_lon),axis=1)\n",
    "df_latlon_notna['distancia_07'] = df_latlon_notna[['lat','lon']].apply(lambda df_latlon_notna: distancia(df_latlon_notna['lat'],df_latlon_notna['lon'],estacion_07_lat,estacion_07_lon),axis=1)\n"
   ]
  },
  {
   "cell_type": "code",
   "execution_count": 17,
   "metadata": {
    "scrolled": true
   },
   "outputs": [
    {
     "data": {
      "text/html": [
       "<div>\n",
       "<style scoped>\n",
       "    .dataframe tbody tr th:only-of-type {\n",
       "        vertical-align: middle;\n",
       "    }\n",
       "\n",
       "    .dataframe tbody tr th {\n",
       "        vertical-align: top;\n",
       "    }\n",
       "\n",
       "    .dataframe thead th {\n",
       "        text-align: right;\n",
       "    }\n",
       "</style>\n",
       "<table border=\"1\" class=\"dataframe\">\n",
       "  <thead>\n",
       "    <tr style=\"text-align: right;\">\n",
       "      <th></th>\n",
       "      <th>Unnamed: 0</th>\n",
       "      <th>operation</th>\n",
       "      <th>property_type</th>\n",
       "      <th>place_name</th>\n",
       "      <th>place_with_parent_names</th>\n",
       "      <th>country_name</th>\n",
       "      <th>state_name</th>\n",
       "      <th>geonames_id</th>\n",
       "      <th>lat-lon</th>\n",
       "      <th>lat</th>\n",
       "      <th>...</th>\n",
       "      <th>price_usd_per_m2</th>\n",
       "      <th>price_per_m2</th>\n",
       "      <th>floor</th>\n",
       "      <th>rooms</th>\n",
       "      <th>expenses</th>\n",
       "      <th>Barrio</th>\n",
       "      <th>Comuna</th>\n",
       "      <th>distancia_01</th>\n",
       "      <th>distancia_03</th>\n",
       "      <th>distancia_07</th>\n",
       "    </tr>\n",
       "  </thead>\n",
       "  <tbody>\n",
       "    <tr>\n",
       "      <th>14</th>\n",
       "      <td>48</td>\n",
       "      <td>sell</td>\n",
       "      <td>apartment</td>\n",
       "      <td>Balvanera</td>\n",
       "      <td>|Argentina|Capital Federal|Balvanera|</td>\n",
       "      <td>Argentina</td>\n",
       "      <td>Capital Federal</td>\n",
       "      <td>6693228.0</td>\n",
       "      <td>-34.6096748,-58.3986588</td>\n",
       "      <td>-34.609675</td>\n",
       "      <td>...</td>\n",
       "      <td>1702.12766</td>\n",
       "      <td>1935.483871</td>\n",
       "      <td>NaN</td>\n",
       "      <td>5.0</td>\n",
       "      <td>NaN</td>\n",
       "      <td>Balvanera</td>\n",
       "      <td>Comuna-3</td>\n",
       "      <td>2.548179</td>\n",
       "      <td>1.790545</td>\n",
       "      <td>0.049865</td>\n",
       "    </tr>\n",
       "    <tr>\n",
       "      <th>16</th>\n",
       "      <td>52</td>\n",
       "      <td>sell</td>\n",
       "      <td>apartment</td>\n",
       "      <td>Caballito</td>\n",
       "      <td>|Argentina|Capital Federal|Caballito|</td>\n",
       "      <td>Argentina</td>\n",
       "      <td>Capital Federal</td>\n",
       "      <td>3435874.0</td>\n",
       "      <td>-34.6222111,-58.4391283</td>\n",
       "      <td>-34.622211</td>\n",
       "      <td>...</td>\n",
       "      <td>2200.00000</td>\n",
       "      <td>2200.000000</td>\n",
       "      <td>NaN</td>\n",
       "      <td>3.0</td>\n",
       "      <td>NaN</td>\n",
       "      <td>Caballito</td>\n",
       "      <td>Comuna-6</td>\n",
       "      <td>6.423680</td>\n",
       "      <td>5.687485</td>\n",
       "      <td>3.994014</td>\n",
       "    </tr>\n",
       "    <tr>\n",
       "      <th>17</th>\n",
       "      <td>53</td>\n",
       "      <td>sell</td>\n",
       "      <td>apartment</td>\n",
       "      <td>Caballito</td>\n",
       "      <td>|Argentina|Capital Federal|Caballito|</td>\n",
       "      <td>Argentina</td>\n",
       "      <td>Capital Federal</td>\n",
       "      <td>3435874.0</td>\n",
       "      <td>-34.6238943143,-58.4468606529</td>\n",
       "      <td>-34.623894</td>\n",
       "      <td>...</td>\n",
       "      <td>1705.00000</td>\n",
       "      <td>3706.521739</td>\n",
       "      <td>NaN</td>\n",
       "      <td>2.0</td>\n",
       "      <td>NaN</td>\n",
       "      <td>Caballito</td>\n",
       "      <td>Comuna-6</td>\n",
       "      <td>7.155333</td>\n",
       "      <td>6.419351</td>\n",
       "      <td>4.722174</td>\n",
       "    </tr>\n",
       "  </tbody>\n",
       "</table>\n",
       "<p>3 rows × 27 columns</p>\n",
       "</div>"
      ],
      "text/plain": [
       "    Unnamed: 0 operation property_type place_name  \\\n",
       "14          48      sell     apartment  Balvanera   \n",
       "16          52      sell     apartment  Caballito   \n",
       "17          53      sell     apartment  Caballito   \n",
       "\n",
       "                  place_with_parent_names country_name       state_name  \\\n",
       "14  |Argentina|Capital Federal|Balvanera|    Argentina  Capital Federal   \n",
       "16  |Argentina|Capital Federal|Caballito|    Argentina  Capital Federal   \n",
       "17  |Argentina|Capital Federal|Caballito|    Argentina  Capital Federal   \n",
       "\n",
       "    geonames_id                        lat-lon        lat  ...  \\\n",
       "14    6693228.0        -34.6096748,-58.3986588 -34.609675  ...   \n",
       "16    3435874.0        -34.6222111,-58.4391283 -34.622211  ...   \n",
       "17    3435874.0  -34.6238943143,-58.4468606529 -34.623894  ...   \n",
       "\n",
       "    price_usd_per_m2  price_per_m2 floor  rooms  expenses     Barrio  \\\n",
       "14        1702.12766   1935.483871   NaN    5.0       NaN  Balvanera   \n",
       "16        2200.00000   2200.000000   NaN    3.0       NaN  Caballito   \n",
       "17        1705.00000   3706.521739   NaN    2.0       NaN  Caballito   \n",
       "\n",
       "      Comuna  distancia_01  distancia_03  distancia_07  \n",
       "14  Comuna-3      2.548179      1.790545      0.049865  \n",
       "16  Comuna-6      6.423680      5.687485      3.994014  \n",
       "17  Comuna-6      7.155333      6.419351      4.722174  \n",
       "\n",
       "[3 rows x 27 columns]"
      ]
     },
     "execution_count": 17,
     "metadata": {},
     "output_type": "execute_result"
    }
   ],
   "source": [
    "df_latlon_notna.head(3)"
   ]
  },
  {
   "cell_type": "code",
   "execution_count": 18,
   "metadata": {},
   "outputs": [
    {
     "data": {
      "text/plain": [
       "(4031, 27)"
      ]
     },
     "execution_count": 18,
     "metadata": {},
     "output_type": "execute_result"
    }
   ],
   "source": [
    "df_latlon_notna.shape"
   ]
  },
  {
   "cell_type": "code",
   "execution_count": 19,
   "metadata": {},
   "outputs": [
    {
     "name": "stderr",
     "output_type": "stream",
     "text": [
      "C:\\ProgramData\\Anaconda3\\envs\\dhdsblend\\lib\\site-packages\\pandas\\core\\indexing.py:671: SettingWithCopyWarning: \n",
      "A value is trying to be set on a copy of a slice from a DataFrame\n",
      "\n",
      "See the caveats in the documentation: https://pandas.pydata.org/pandas-docs/stable/user_guide/indexing.html#returning-a-view-versus-a-copy\n",
      "  self._setitem_with_indexer(indexer, value)\n"
     ]
    },
    {
     "data": {
      "text/html": [
       "<div>\n",
       "<style scoped>\n",
       "    .dataframe tbody tr th:only-of-type {\n",
       "        vertical-align: middle;\n",
       "    }\n",
       "\n",
       "    .dataframe tbody tr th {\n",
       "        vertical-align: top;\n",
       "    }\n",
       "\n",
       "    .dataframe thead th {\n",
       "        text-align: right;\n",
       "    }\n",
       "</style>\n",
       "<table border=\"1\" class=\"dataframe\">\n",
       "  <thead>\n",
       "    <tr style=\"text-align: right;\">\n",
       "      <th></th>\n",
       "      <th>Unnamed: 0</th>\n",
       "      <th>operation</th>\n",
       "      <th>property_type</th>\n",
       "      <th>place_name</th>\n",
       "      <th>place_with_parent_names</th>\n",
       "      <th>country_name</th>\n",
       "      <th>state_name</th>\n",
       "      <th>geonames_id</th>\n",
       "      <th>lat-lon</th>\n",
       "      <th>lat</th>\n",
       "      <th>...</th>\n",
       "      <th>price_usd_per_m2</th>\n",
       "      <th>price_per_m2</th>\n",
       "      <th>floor</th>\n",
       "      <th>rooms</th>\n",
       "      <th>expenses</th>\n",
       "      <th>Barrio</th>\n",
       "      <th>Comuna</th>\n",
       "      <th>distancia_01</th>\n",
       "      <th>distancia_03</th>\n",
       "      <th>distancia_07</th>\n",
       "    </tr>\n",
       "  </thead>\n",
       "  <tbody>\n",
       "    <tr>\n",
       "      <th>14</th>\n",
       "      <td>48.0</td>\n",
       "      <td>sell</td>\n",
       "      <td>apartment</td>\n",
       "      <td>Balvanera</td>\n",
       "      <td>|Argentina|Capital Federal|Balvanera|</td>\n",
       "      <td>Argentina</td>\n",
       "      <td>Capital Federal</td>\n",
       "      <td>6693228.0</td>\n",
       "      <td>-34.6096748,-58.3986588</td>\n",
       "      <td>-34.609675</td>\n",
       "      <td>...</td>\n",
       "      <td>1702.127660</td>\n",
       "      <td>1935.483871</td>\n",
       "      <td>NaN</td>\n",
       "      <td>5.0</td>\n",
       "      <td>NaN</td>\n",
       "      <td>Balvanera</td>\n",
       "      <td>Comuna-3</td>\n",
       "      <td>2.548179</td>\n",
       "      <td>1.790545</td>\n",
       "      <td>0.049865</td>\n",
       "    </tr>\n",
       "    <tr>\n",
       "      <th>16</th>\n",
       "      <td>52.0</td>\n",
       "      <td>sell</td>\n",
       "      <td>apartment</td>\n",
       "      <td>Caballito</td>\n",
       "      <td>|Argentina|Capital Federal|Caballito|</td>\n",
       "      <td>Argentina</td>\n",
       "      <td>Capital Federal</td>\n",
       "      <td>3435874.0</td>\n",
       "      <td>-34.6222111,-58.4391283</td>\n",
       "      <td>-34.622211</td>\n",
       "      <td>...</td>\n",
       "      <td>2200.000000</td>\n",
       "      <td>2200.000000</td>\n",
       "      <td>NaN</td>\n",
       "      <td>3.0</td>\n",
       "      <td>NaN</td>\n",
       "      <td>Caballito</td>\n",
       "      <td>Comuna-6</td>\n",
       "      <td>6.423680</td>\n",
       "      <td>5.687485</td>\n",
       "      <td>3.994014</td>\n",
       "    </tr>\n",
       "    <tr>\n",
       "      <th>17</th>\n",
       "      <td>53.0</td>\n",
       "      <td>sell</td>\n",
       "      <td>apartment</td>\n",
       "      <td>Caballito</td>\n",
       "      <td>|Argentina|Capital Federal|Caballito|</td>\n",
       "      <td>Argentina</td>\n",
       "      <td>Capital Federal</td>\n",
       "      <td>3435874.0</td>\n",
       "      <td>-34.6238943143,-58.4468606529</td>\n",
       "      <td>-34.623894</td>\n",
       "      <td>...</td>\n",
       "      <td>1705.000000</td>\n",
       "      <td>3706.521739</td>\n",
       "      <td>NaN</td>\n",
       "      <td>2.0</td>\n",
       "      <td>NaN</td>\n",
       "      <td>Caballito</td>\n",
       "      <td>Comuna-6</td>\n",
       "      <td>7.155333</td>\n",
       "      <td>6.419351</td>\n",
       "      <td>4.722174</td>\n",
       "    </tr>\n",
       "    <tr>\n",
       "      <th>18</th>\n",
       "      <td>54.0</td>\n",
       "      <td>sell</td>\n",
       "      <td>apartment</td>\n",
       "      <td>Caballito</td>\n",
       "      <td>|Argentina|Capital Federal|Caballito|</td>\n",
       "      <td>Argentina</td>\n",
       "      <td>Capital Federal</td>\n",
       "      <td>3435874.0</td>\n",
       "      <td>-34.6209278,-58.4458736</td>\n",
       "      <td>-34.620928</td>\n",
       "      <td>...</td>\n",
       "      <td>2721.111111</td>\n",
       "      <td>2938.800000</td>\n",
       "      <td>NaN</td>\n",
       "      <td>3.0</td>\n",
       "      <td>NaN</td>\n",
       "      <td>Caballito</td>\n",
       "      <td>Comuna-6</td>\n",
       "      <td>6.996984</td>\n",
       "      <td>6.253577</td>\n",
       "      <td>4.532461</td>\n",
       "    </tr>\n",
       "  </tbody>\n",
       "</table>\n",
       "<p>4 rows × 27 columns</p>\n",
       "</div>"
      ],
      "text/plain": [
       "    Unnamed: 0 operation property_type place_name  \\\n",
       "14        48.0      sell     apartment  Balvanera   \n",
       "16        52.0      sell     apartment  Caballito   \n",
       "17        53.0      sell     apartment  Caballito   \n",
       "18        54.0      sell     apartment  Caballito   \n",
       "\n",
       "                  place_with_parent_names country_name       state_name  \\\n",
       "14  |Argentina|Capital Federal|Balvanera|    Argentina  Capital Federal   \n",
       "16  |Argentina|Capital Federal|Caballito|    Argentina  Capital Federal   \n",
       "17  |Argentina|Capital Federal|Caballito|    Argentina  Capital Federal   \n",
       "18  |Argentina|Capital Federal|Caballito|    Argentina  Capital Federal   \n",
       "\n",
       "    geonames_id                        lat-lon        lat  ...  \\\n",
       "14    6693228.0        -34.6096748,-58.3986588 -34.609675  ...   \n",
       "16    3435874.0        -34.6222111,-58.4391283 -34.622211  ...   \n",
       "17    3435874.0  -34.6238943143,-58.4468606529 -34.623894  ...   \n",
       "18    3435874.0        -34.6209278,-58.4458736 -34.620928  ...   \n",
       "\n",
       "    price_usd_per_m2  price_per_m2 floor  rooms  expenses     Barrio  \\\n",
       "14       1702.127660   1935.483871   NaN    5.0       NaN  Balvanera   \n",
       "16       2200.000000   2200.000000   NaN    3.0       NaN  Caballito   \n",
       "17       1705.000000   3706.521739   NaN    2.0       NaN  Caballito   \n",
       "18       2721.111111   2938.800000   NaN    3.0       NaN  Caballito   \n",
       "\n",
       "      Comuna  distancia_01  distancia_03  distancia_07  \n",
       "14  Comuna-3      2.548179      1.790545      0.049865  \n",
       "16  Comuna-6      6.423680      5.687485      3.994014  \n",
       "17  Comuna-6      7.155333      6.419351      4.722174  \n",
       "18  Comuna-6      6.996984      6.253577      4.532461  \n",
       "\n",
       "[4 rows x 27 columns]"
      ]
     },
     "execution_count": 19,
     "metadata": {},
     "output_type": "execute_result"
    }
   ],
   "source": [
    "df_latlon_notna.loc[\"superficie\"] = df_latlon_notna[['surface_total_in_m2','surface_covered_in_m2']].apply(lambda df_latlon_notna: limpieza_superficie(df_latlon_notna['surface_total_in_m2'],df_latlon_notna['surface_covered_in_m2']),axis=1)\n",
    "df_latlon_notna.head(4)"
   ]
  },
  {
   "cell_type": "code",
   "execution_count": 20,
   "metadata": {},
   "outputs": [],
   "source": [
    "df_latlon_notna.to_csv(\"output_superficie.csv\", index=False)"
   ]
  },
  {
   "cell_type": "code",
   "execution_count": 21,
   "metadata": {},
   "outputs": [],
   "source": [
    "df_price_notna = df_latlon_notna[df_latlon_notna['price_usd_per_m2'].notna()]"
   ]
  },
  {
   "cell_type": "code",
   "execution_count": 25,
   "metadata": {},
   "outputs": [
    {
     "data": {
      "text/html": [
       "<div>\n",
       "<style scoped>\n",
       "    .dataframe tbody tr th:only-of-type {\n",
       "        vertical-align: middle;\n",
       "    }\n",
       "\n",
       "    .dataframe tbody tr th {\n",
       "        vertical-align: top;\n",
       "    }\n",
       "\n",
       "    .dataframe thead th {\n",
       "        text-align: right;\n",
       "    }\n",
       "</style>\n",
       "<table border=\"1\" class=\"dataframe\">\n",
       "  <thead>\n",
       "    <tr style=\"text-align: right;\">\n",
       "      <th></th>\n",
       "      <th>Unnamed: 0</th>\n",
       "      <th>operation</th>\n",
       "      <th>property_type</th>\n",
       "      <th>place_name</th>\n",
       "      <th>place_with_parent_names</th>\n",
       "      <th>country_name</th>\n",
       "      <th>state_name</th>\n",
       "      <th>geonames_id</th>\n",
       "      <th>lat-lon</th>\n",
       "      <th>lat</th>\n",
       "      <th>...</th>\n",
       "      <th>price_usd_per_m2</th>\n",
       "      <th>price_per_m2</th>\n",
       "      <th>floor</th>\n",
       "      <th>rooms</th>\n",
       "      <th>expenses</th>\n",
       "      <th>Barrio</th>\n",
       "      <th>Comuna</th>\n",
       "      <th>distancia_01</th>\n",
       "      <th>distancia_03</th>\n",
       "      <th>distancia_07</th>\n",
       "    </tr>\n",
       "  </thead>\n",
       "  <tbody>\n",
       "    <tr>\n",
       "      <th>9331</th>\n",
       "      <td>36566.0</td>\n",
       "      <td>sell</td>\n",
       "      <td>apartment</td>\n",
       "      <td>Balvanera</td>\n",
       "      <td>|Argentina|Capital Federal|Balvanera|</td>\n",
       "      <td>Argentina</td>\n",
       "      <td>Capital Federal</td>\n",
       "      <td>6693228.0</td>\n",
       "      <td>-34.6051224,-58.4046096</td>\n",
       "      <td>-34.605122</td>\n",
       "      <td>...</td>\n",
       "      <td>1988.888889</td>\n",
       "      <td>1988.888889</td>\n",
       "      <td>NaN</td>\n",
       "      <td>2.0</td>\n",
       "      <td>NaN</td>\n",
       "      <td>Balvanera</td>\n",
       "      <td>Comuna-3</td>\n",
       "      <td>3.119092</td>\n",
       "      <td>2.370903</td>\n",
       "      <td>0.731394</td>\n",
       "    </tr>\n",
       "    <tr>\n",
       "      <th>28856</th>\n",
       "      <td>110461.0</td>\n",
       "      <td>sell</td>\n",
       "      <td>apartment</td>\n",
       "      <td>Almagro</td>\n",
       "      <td>|Argentina|Capital Federal|Almagro|</td>\n",
       "      <td>Argentina</td>\n",
       "      <td>Capital Federal</td>\n",
       "      <td>3436397.0</td>\n",
       "      <td>-34.6110583,-58.4201892</td>\n",
       "      <td>-34.611058</td>\n",
       "      <td>...</td>\n",
       "      <td>2111.111111</td>\n",
       "      <td>2467.532468</td>\n",
       "      <td>NaN</td>\n",
       "      <td>4.0</td>\n",
       "      <td>NaN</td>\n",
       "      <td>Almagro</td>\n",
       "      <td>Comuna-5</td>\n",
       "      <td>4.523565</td>\n",
       "      <td>3.766503</td>\n",
       "      <td>2.002833</td>\n",
       "    </tr>\n",
       "    <tr>\n",
       "      <th>29180</th>\n",
       "      <td>111497.0</td>\n",
       "      <td>sell</td>\n",
       "      <td>apartment</td>\n",
       "      <td>Almagro</td>\n",
       "      <td>|Argentina|Capital Federal|Almagro|</td>\n",
       "      <td>Argentina</td>\n",
       "      <td>Capital Federal</td>\n",
       "      <td>3436397.0</td>\n",
       "      <td>-34.6110268,-58.424513</td>\n",
       "      <td>-34.611027</td>\n",
       "      <td>...</td>\n",
       "      <td>1566.666667</td>\n",
       "      <td>2088.888889</td>\n",
       "      <td>NaN</td>\n",
       "      <td>3.0</td>\n",
       "      <td>NaN</td>\n",
       "      <td>Almagro</td>\n",
       "      <td>Comuna-5</td>\n",
       "      <td>4.918566</td>\n",
       "      <td>4.161287</td>\n",
       "      <td>2.396625</td>\n",
       "    </tr>\n",
       "    <tr>\n",
       "      <th>5851</th>\n",
       "      <td>24942.0</td>\n",
       "      <td>sell</td>\n",
       "      <td>apartment</td>\n",
       "      <td>Caballito</td>\n",
       "      <td>|Argentina|Capital Federal|Caballito|</td>\n",
       "      <td>Argentina</td>\n",
       "      <td>Capital Federal</td>\n",
       "      <td>3435874.0</td>\n",
       "      <td>-34.6113092,-58.4381058</td>\n",
       "      <td>-34.611309</td>\n",
       "      <td>...</td>\n",
       "      <td>1684.210526</td>\n",
       "      <td>1882.352941</td>\n",
       "      <td>NaN</td>\n",
       "      <td>5.0</td>\n",
       "      <td>NaN</td>\n",
       "      <td>Caballito</td>\n",
       "      <td>Comuna-6</td>\n",
       "      <td>6.162652</td>\n",
       "      <td>5.405183</td>\n",
       "      <td>3.639702</td>\n",
       "    </tr>\n",
       "    <tr>\n",
       "      <th>14770</th>\n",
       "      <td>56081.0</td>\n",
       "      <td>sell</td>\n",
       "      <td>apartment</td>\n",
       "      <td>Balvanera</td>\n",
       "      <td>|Argentina|Capital Federal|Balvanera|</td>\n",
       "      <td>Argentina</td>\n",
       "      <td>Capital Federal</td>\n",
       "      <td>6693228.0</td>\n",
       "      <td>-34.609032,-58.403378</td>\n",
       "      <td>-34.609032</td>\n",
       "      <td>...</td>\n",
       "      <td>1714.285714</td>\n",
       "      <td>1714.285714</td>\n",
       "      <td>4.0</td>\n",
       "      <td>3.0</td>\n",
       "      <td>2000.0</td>\n",
       "      <td>Balvanera</td>\n",
       "      <td>Comuna-3</td>\n",
       "      <td>2.978538</td>\n",
       "      <td>2.220468</td>\n",
       "      <td>0.455283</td>\n",
       "    </tr>\n",
       "    <tr>\n",
       "      <th>13120</th>\n",
       "      <td>49742.0</td>\n",
       "      <td>sell</td>\n",
       "      <td>apartment</td>\n",
       "      <td>Balvanera</td>\n",
       "      <td>|Argentina|Capital Federal|Balvanera|</td>\n",
       "      <td>Argentina</td>\n",
       "      <td>Capital Federal</td>\n",
       "      <td>6693228.0</td>\n",
       "      <td>-34.6133124313,-58.4052081146</td>\n",
       "      <td>-34.613312</td>\n",
       "      <td>...</td>\n",
       "      <td>2304.347826</td>\n",
       "      <td>2523.809524</td>\n",
       "      <td>5.0</td>\n",
       "      <td>2.0</td>\n",
       "      <td>1700.0</td>\n",
       "      <td>Balvanera</td>\n",
       "      <td>Comuna-3</td>\n",
       "      <td>3.184588</td>\n",
       "      <td>2.437517</td>\n",
       "      <td>0.767057</td>\n",
       "    </tr>\n",
       "    <tr>\n",
       "      <th>18778</th>\n",
       "      <td>71765.0</td>\n",
       "      <td>sell</td>\n",
       "      <td>apartment</td>\n",
       "      <td>Caballito</td>\n",
       "      <td>|Argentina|Capital Federal|Caballito|</td>\n",
       "      <td>Argentina</td>\n",
       "      <td>Capital Federal</td>\n",
       "      <td>3435874.0</td>\n",
       "      <td>-34.6060340291,-58.452885322</td>\n",
       "      <td>-34.606034</td>\n",
       "      <td>...</td>\n",
       "      <td>2836.170213</td>\n",
       "      <td>3332.500000</td>\n",
       "      <td>NaN</td>\n",
       "      <td>NaN</td>\n",
       "      <td>NaN</td>\n",
       "      <td>Caballito</td>\n",
       "      <td>Comuna-6</td>\n",
       "      <td>7.516036</td>\n",
       "      <td>6.758964</td>\n",
       "      <td>4.998415</td>\n",
       "    </tr>\n",
       "    <tr>\n",
       "      <th>4524</th>\n",
       "      <td>19659.0</td>\n",
       "      <td>sell</td>\n",
       "      <td>apartment</td>\n",
       "      <td>Almagro</td>\n",
       "      <td>|Argentina|Capital Federal|Almagro|</td>\n",
       "      <td>Argentina</td>\n",
       "      <td>Capital Federal</td>\n",
       "      <td>3436397.0</td>\n",
       "      <td>-34.6032835,-58.4328461</td>\n",
       "      <td>-34.603284</td>\n",
       "      <td>...</td>\n",
       "      <td>2741.935484</td>\n",
       "      <td>3000.000000</td>\n",
       "      <td>NaN</td>\n",
       "      <td>4.0</td>\n",
       "      <td>3100.0</td>\n",
       "      <td>Almagro</td>\n",
       "      <td>Comuna-5</td>\n",
       "      <td>5.709341</td>\n",
       "      <td>4.957119</td>\n",
       "      <td>3.221117</td>\n",
       "    </tr>\n",
       "    <tr>\n",
       "      <th>2722</th>\n",
       "      <td>12321.0</td>\n",
       "      <td>sell</td>\n",
       "      <td>apartment</td>\n",
       "      <td>Almagro</td>\n",
       "      <td>|Argentina|Capital Federal|Almagro|</td>\n",
       "      <td>Argentina</td>\n",
       "      <td>Capital Federal</td>\n",
       "      <td>3436397.0</td>\n",
       "      <td>-34.6051042,-58.4129088</td>\n",
       "      <td>-34.605104</td>\n",
       "      <td>...</td>\n",
       "      <td>1753.246753</td>\n",
       "      <td>1875.000000</td>\n",
       "      <td>NaN</td>\n",
       "      <td>3.0</td>\n",
       "      <td>2300.0</td>\n",
       "      <td>Almagro</td>\n",
       "      <td>Comuna-5</td>\n",
       "      <td>3.873407</td>\n",
       "      <td>3.121565</td>\n",
       "      <td>1.405478</td>\n",
       "    </tr>\n",
       "    <tr>\n",
       "      <th>5269</th>\n",
       "      <td>22759.0</td>\n",
       "      <td>sell</td>\n",
       "      <td>apartment</td>\n",
       "      <td>Balvanera</td>\n",
       "      <td>|Argentina|Capital Federal|Balvanera|</td>\n",
       "      <td>Argentina</td>\n",
       "      <td>Capital Federal</td>\n",
       "      <td>6693228.0</td>\n",
       "      <td>-34.602203,-58.3985049</td>\n",
       "      <td>-34.602203</td>\n",
       "      <td>...</td>\n",
       "      <td>1594.594595</td>\n",
       "      <td>1735.294118</td>\n",
       "      <td>NaN</td>\n",
       "      <td>3.0</td>\n",
       "      <td>NaN</td>\n",
       "      <td>Balvanera</td>\n",
       "      <td>Comuna-3</td>\n",
       "      <td>2.638592</td>\n",
       "      <td>1.924868</td>\n",
       "      <td>0.786416</td>\n",
       "    </tr>\n",
       "  </tbody>\n",
       "</table>\n",
       "<p>10 rows × 27 columns</p>\n",
       "</div>"
      ],
      "text/plain": [
       "       Unnamed: 0 operation property_type place_name  \\\n",
       "9331      36566.0      sell     apartment  Balvanera   \n",
       "28856    110461.0      sell     apartment    Almagro   \n",
       "29180    111497.0      sell     apartment    Almagro   \n",
       "5851      24942.0      sell     apartment  Caballito   \n",
       "14770     56081.0      sell     apartment  Balvanera   \n",
       "13120     49742.0      sell     apartment  Balvanera   \n",
       "18778     71765.0      sell     apartment  Caballito   \n",
       "4524      19659.0      sell     apartment    Almagro   \n",
       "2722      12321.0      sell     apartment    Almagro   \n",
       "5269      22759.0      sell     apartment  Balvanera   \n",
       "\n",
       "                     place_with_parent_names country_name       state_name  \\\n",
       "9331   |Argentina|Capital Federal|Balvanera|    Argentina  Capital Federal   \n",
       "28856    |Argentina|Capital Federal|Almagro|    Argentina  Capital Federal   \n",
       "29180    |Argentina|Capital Federal|Almagro|    Argentina  Capital Federal   \n",
       "5851   |Argentina|Capital Federal|Caballito|    Argentina  Capital Federal   \n",
       "14770  |Argentina|Capital Federal|Balvanera|    Argentina  Capital Federal   \n",
       "13120  |Argentina|Capital Federal|Balvanera|    Argentina  Capital Federal   \n",
       "18778  |Argentina|Capital Federal|Caballito|    Argentina  Capital Federal   \n",
       "4524     |Argentina|Capital Federal|Almagro|    Argentina  Capital Federal   \n",
       "2722     |Argentina|Capital Federal|Almagro|    Argentina  Capital Federal   \n",
       "5269   |Argentina|Capital Federal|Balvanera|    Argentina  Capital Federal   \n",
       "\n",
       "       geonames_id                        lat-lon        lat  ...  \\\n",
       "9331     6693228.0        -34.6051224,-58.4046096 -34.605122  ...   \n",
       "28856    3436397.0        -34.6110583,-58.4201892 -34.611058  ...   \n",
       "29180    3436397.0         -34.6110268,-58.424513 -34.611027  ...   \n",
       "5851     3435874.0        -34.6113092,-58.4381058 -34.611309  ...   \n",
       "14770    6693228.0          -34.609032,-58.403378 -34.609032  ...   \n",
       "13120    6693228.0  -34.6133124313,-58.4052081146 -34.613312  ...   \n",
       "18778    3435874.0   -34.6060340291,-58.452885322 -34.606034  ...   \n",
       "4524     3436397.0        -34.6032835,-58.4328461 -34.603284  ...   \n",
       "2722     3436397.0        -34.6051042,-58.4129088 -34.605104  ...   \n",
       "5269     6693228.0         -34.602203,-58.3985049 -34.602203  ...   \n",
       "\n",
       "       price_usd_per_m2  price_per_m2 floor  rooms  expenses     Barrio  \\\n",
       "9331        1988.888889   1988.888889   NaN    2.0       NaN  Balvanera   \n",
       "28856       2111.111111   2467.532468   NaN    4.0       NaN    Almagro   \n",
       "29180       1566.666667   2088.888889   NaN    3.0       NaN    Almagro   \n",
       "5851        1684.210526   1882.352941   NaN    5.0       NaN  Caballito   \n",
       "14770       1714.285714   1714.285714   4.0    3.0    2000.0  Balvanera   \n",
       "13120       2304.347826   2523.809524   5.0    2.0    1700.0  Balvanera   \n",
       "18778       2836.170213   3332.500000   NaN    NaN       NaN  Caballito   \n",
       "4524        2741.935484   3000.000000   NaN    4.0    3100.0    Almagro   \n",
       "2722        1753.246753   1875.000000   NaN    3.0    2300.0    Almagro   \n",
       "5269        1594.594595   1735.294118   NaN    3.0       NaN  Balvanera   \n",
       "\n",
       "         Comuna  distancia_01  distancia_03  distancia_07  \n",
       "9331   Comuna-3      3.119092      2.370903      0.731394  \n",
       "28856  Comuna-5      4.523565      3.766503      2.002833  \n",
       "29180  Comuna-5      4.918566      4.161287      2.396625  \n",
       "5851   Comuna-6      6.162652      5.405183      3.639702  \n",
       "14770  Comuna-3      2.978538      2.220468      0.455283  \n",
       "13120  Comuna-3      3.184588      2.437517      0.767057  \n",
       "18778  Comuna-6      7.516036      6.758964      4.998415  \n",
       "4524   Comuna-5      5.709341      4.957119      3.221117  \n",
       "2722   Comuna-5      3.873407      3.121565      1.405478  \n",
       "5269   Comuna-3      2.638592      1.924868      0.786416  \n",
       "\n",
       "[10 rows x 27 columns]"
      ]
     },
     "execution_count": 25,
     "metadata": {},
     "output_type": "execute_result"
    }
   ],
   "source": [
    "df_randomizado = df_price_notna.sample(n=150, random_state = 100)\n",
    "df_randomizado.head(10)"
   ]
  },
  {
   "cell_type": "code",
   "execution_count": 38,
   "metadata": {},
   "outputs": [],
   "source": [
    "df_randomizado['quantile'] = pd.qcut(df_randomizado['price_usd_per_m2'], 4, labels=False)\n",
    "df_quantile = df_randomizado[['lat','lon','quantile']].apply(lambda df_quantile: marca_propiedad(df_quantile['lat'],df_quantile['lon'],df_quantile['quantile']),axis=1)"
   ]
  },
  {
   "cell_type": "markdown",
   "metadata": {},
   "source": [
    "## Elimina los registros que no tengan el precio del m2 calculado"
   ]
  },
  {
   "cell_type": "code",
   "execution_count": 39,
   "metadata": {},
   "outputs": [
    {
     "data": {
      "text/plain": [
       "9331     None\n",
       "28856    None\n",
       "29180    None\n",
       "5851     None\n",
       "14770    None\n",
       "         ... \n",
       "14115    None\n",
       "2748     None\n",
       "9240     None\n",
       "29062    None\n",
       "25895    None\n",
       "Length: 150, dtype: object"
      ]
     },
     "execution_count": 39,
     "metadata": {},
     "output_type": "execute_result"
    }
   ],
   "source": [
    "df_quantile"
   ]
  },
  {
   "cell_type": "code",
   "execution_count": 75,
   "metadata": {},
   "outputs": [
    {
     "data": {
      "application/vnd.jupyter.widget-view+json": {
       "model_id": "b82425f09739483f90214ce14ccacabe",
       "version_major": 2,
       "version_minor": 0
      },
      "text/plain": [
       "Map(center=[-34.60823238941058, -58.398160858739075], controls=(ZoomControl(options=['position', 'zoom_in_text…"
      ]
     },
     "metadata": {},
     "output_type": "display_data"
    }
   ],
   "source": [
    "## basic_map = Map(basemap=basemaps.Esri.DeLorme, center=(4.6097, -74.08), zoom=6)\n",
    "\n",
    "for estacion in estaciones:\n",
    "    marker = Marker(location=(estacion['latitud'],estacion['longitud']), draggable=False, icon=icono_subte)\n",
    "    basic_map.add_layer(marker);\n",
    "    \n",
    "# comb4.apply(marca_propiedad(), axis=1)\n",
    "df_quantile[['lat','lon','quantile']].apply(lambda df_quantile: marca_propiedad(df_quantile['lat'],df_quantile['lon'],df_quantile['quantile']),axis=1)\n",
    "    \n",
    "\n",
    "display(basic_map)"
   ]
  },
  {
   "cell_type": "code",
   "execution_count": 76,
   "metadata": {},
   "outputs": [
    {
     "data": {
      "text/plain": [
       "numpy.float64"
      ]
     },
     "execution_count": 76,
     "metadata": {},
     "output_type": "execute_result"
    }
   ],
   "source": [
    "type(df_quantile['price_usd_per_m2'][14])"
   ]
  },
  {
   "cell_type": "code",
   "execution_count": 77,
   "metadata": {},
   "outputs": [],
   "source": [
    "df_quantile.to_csv(\"output.csv\", index=False)"
   ]
  },
  {
   "cell_type": "code",
   "execution_count": 78,
   "metadata": {},
   "outputs": [
    {
     "data": {
      "text/plain": [
       "False    23770\n",
       "True      8546\n",
       "Name: lon, dtype: int64"
      ]
     },
     "execution_count": 78,
     "metadata": {},
     "output_type": "execute_result"
    }
   ],
   "source": [
    "series_nulos_long = df_capital['lon'].isna()\n",
    "series_nulos_long.value_counts()"
   ]
  }
 ],
 "metadata": {
  "kernelspec": {
   "display_name": "Python 3",
   "language": "python",
   "name": "python3"
  },
  "language_info": {
   "codemirror_mode": {
    "name": "ipython",
    "version": 3
   },
   "file_extension": ".py",
   "mimetype": "text/x-python",
   "name": "python",
   "nbconvert_exporter": "python",
   "pygments_lexer": "ipython3",
   "version": "3.7.9"
  }
 },
 "nbformat": 4,
 "nbformat_minor": 4
}
