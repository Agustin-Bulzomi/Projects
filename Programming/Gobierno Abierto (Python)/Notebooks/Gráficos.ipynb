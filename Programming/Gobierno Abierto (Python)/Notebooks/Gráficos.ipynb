{
 "cells": [
  {
   "cell_type": "markdown",
   "metadata": {},
   "source": [
    "# 1) Preparación previa"
   ]
  },
  {
   "cell_type": "markdown",
   "metadata": {},
   "source": [
    "### <u>Carga de librerías</u>"
   ]
  },
  {
   "cell_type": "code",
   "execution_count": null,
   "metadata": {},
   "outputs": [],
   "source": [
    "%%capture [--no-stderr]\n",
    "\n",
    "import pandas as pd\n",
    "import numpy as np\n",
    "from tqdm import tqdm, tqdm_pandas\n",
    "tqdm_pandas(tqdm())\n",
    "import random\n",
    "\n",
    "from pyproj import Geod\n",
    "from scipy.stats import pearsonr\n",
    "from scipy.stats import spearmanr\n",
    "\n",
    "import seaborn as sns\n",
    "import matplotlib.pyplot as plt\n",
    "%matplotlib inline"
   ]
  },
  {
   "cell_type": "markdown",
   "metadata": {},
   "source": [
    "### <u>Carga de datasets</u>"
   ]
  },
  {
   "cell_type": "code",
   "execution_count": null,
   "metadata": {},
   "outputs": [],
   "source": [
    "dataset = pd.read_csv(\"dataset.csv\", low_memory = False)\n",
    "dataset"
   ]
  },
  {
   "cell_type": "code",
   "execution_count": null,
   "metadata": {},
   "outputs": [],
   "source": [
    "dataset_usuarios_2020 = pd.read_csv(\"../Datasets/usuarios_ecobici_2020.csv\")\n",
    "dataset_usuarios_2019 = pd.read_csv(\"../Datasets/usuarios_ecobici_2019.csv\")\n",
    "dataset_usuarios_2018 = pd.read_csv(\"../Datasets/usuarios-ecobici-2018.csv\").rename(columns={'usuario_id': 'id_usuario', 'usuario_sexo': 'genero_usuario', 'usuario_edad': 'edad_usuario'})\n",
    "dataset_usuarios_2017 = pd.read_csv(\"../Datasets/usuarios-ecobici-2017.csv\").rename(columns={'usuario_id': 'id_usuario', 'usuario_sexo': 'genero_usuario', 'usuario_edad': 'edad_usuario'})\n",
    "dataset_usuarios_2016 = pd.read_csv(\"../Datasets/usuarios-ecobici-2016.csv\").rename(columns={'usuario_id': 'id_usuario', 'usuario_sexo': 'genero_usuario', 'usuario_edad': 'edad_usuario'})\n",
    "dataset_usuarios_2015 = pd.read_csv(\"../Datasets/usuarios-ecobici-2015.csv\").rename(columns={'usuario_id': 'id_usuario', 'usuario_sexo': 'genero_usuario', 'usuario_edad': 'edad_usuario'})\n",
    "dataset_usuarios = pd.concat([dataset_usuarios_2015, dataset_usuarios_2016, dataset_usuarios_2017, dataset_usuarios_2018, dataset_usuarios_2019, dataset_usuarios_2020])\n",
    "dataset_usuarios"
   ]
  },
  {
   "cell_type": "code",
   "execution_count": null,
   "metadata": {},
   "outputs": [],
   "source": [
    "dataset_usuarios.isnull().sum()"
   ]
  },
  {
   "cell_type": "code",
   "execution_count": null,
   "metadata": {},
   "outputs": [],
   "source": [
    "dataset_usuarios.dropna(inplace = True)\n",
    "dataset_usuarios"
   ]
  },
  {
   "cell_type": "markdown",
   "metadata": {},
   "source": [
    "# 2) Gráficos"
   ]
  },
  {
   "cell_type": "markdown",
   "metadata": {},
   "source": [
    "## <u>1er gráfico: análisis de género</u>"
   ]
  },
  {
   "cell_type": "markdown",
   "metadata": {},
   "source": [
    "En primer lugar, se procede a definir los datos a utilizar, agrupando los totales según la variable que corresponda."
   ]
  },
  {
   "cell_type": "markdown",
   "metadata": {},
   "source": [
    "#### A) Recorridos según género"
   ]
  },
  {
   "cell_type": "code",
   "execution_count": null,
   "metadata": {},
   "outputs": [],
   "source": [
    "round(dataset.genero_usuario.value_counts(normalize = True)*100,3)"
   ]
  },
  {
   "cell_type": "markdown",
   "metadata": {},
   "source": [
    "Debido a la pequeña propoción de la respuesta N y a que solo se encuentra en 2 de los 7 años, se dejará de lado en el gráfico."
   ]
  },
  {
   "cell_type": "code",
   "execution_count": null,
   "metadata": {},
   "outputs": [],
   "source": [
    "dataset_genero = dataset.loc[dataset[\"genero_usuario\"] != \"N\",:]\n",
    "dataset_genero"
   ]
  },
  {
   "cell_type": "code",
   "execution_count": null,
   "metadata": {},
   "outputs": [],
   "source": [
    "dataset_genero = dataset_genero.groupby(\"año\").genero_usuario\n",
    "totales_x_año_genero = dataset_genero.value_counts()\n",
    "totales_x_año_genero"
   ]
  },
  {
   "cell_type": "code",
   "execution_count": null,
   "metadata": {},
   "outputs": [],
   "source": [
    "porcentaje_x_año_genero = dataset_genero.value_counts(normalize = True).round(3)*100\n",
    "porcentaje_x_año_genero"
   ]
  },
  {
   "cell_type": "code",
   "execution_count": null,
   "metadata": {},
   "outputs": [],
   "source": [
    "totales_x_año_genero_rename = totales_x_año_genero.rename_axis([\"año\",\"genero\"]).reset_index(name = \"totales\")\n",
    "porcentaje_x_año_genero_rename = porcentaje_x_año_genero.rename_axis([\"año\",\"genero\"]).reset_index(name = \"porcentaje\")\n",
    "\n",
    "df_genero_x_año = pd.merge(totales_x_año_genero_rename, porcentaje_x_año_genero_rename, how = \"outer\")\n",
    "df_genero_x_año"
   ]
  },
  {
   "cell_type": "code",
   "execution_count": null,
   "metadata": {},
   "outputs": [],
   "source": [
    "totales_gpa_m = df_genero_x_año[df_genero_x_año[\"genero\"] == \"M\"]\n",
    "totales_gpa_f = df_genero_x_año[df_genero_x_año[\"genero\"] == \"F\"]"
   ]
  },
  {
   "cell_type": "markdown",
   "metadata": {},
   "source": [
    "#### B) Usuarios según género"
   ]
  },
  {
   "cell_type": "code",
   "execution_count": null,
   "metadata": {},
   "outputs": [],
   "source": [
    "dataset_usuarios_genero = dataset.dropna(subset = [\"id_usuario\"]).drop_duplicates(subset = [\"id_usuario\"])\n",
    "dataset_usuarios_genero"
   ]
  },
  {
   "cell_type": "code",
   "execution_count": null,
   "metadata": {},
   "outputs": [],
   "source": [
    "dataset_usuarios_genero = dataset_usuarios_genero.genero_usuario.value_counts().rename_axis('genero').reset_index(name='totales')\n",
    "dataset_usuarios_genero"
   ]
  },
  {
   "cell_type": "code",
   "execution_count": null,
   "metadata": {},
   "outputs": [],
   "source": [
    "dataset_usuarios_genero = dataset_usuarios_genero.loc[dataset_usuarios_genero.genero != \"N\",:]"
   ]
  },
  {
   "cell_type": "code",
   "execution_count": null,
   "metadata": {},
   "outputs": [],
   "source": [
    "fig, (ax1, ax2) = plt.subplots(1, 2, figsize = (20,10), gridspec_kw={'width_ratios': [3, 1]})\n",
    "\n",
    "# Se define la paleta de colores a utilizar:\n",
    "colors = {'M':'coral', 'F':'aquamarine'} \n",
    "\n",
    "# Axis 1 = recorridos según género\n",
    "#ax1.plot(totales_gpa_m[\"año\"], totales_gpa_m[\"totales\"], color='black', linewidth=2, label = \"Total\")\n",
    "#ax1.plot(totales_gpa_f[\"año\"], totales_gpa_f[\"totales\"], color='black', linewidth=2, label = \"Total\")\n",
    "width = 0.4\n",
    "ax1.bar(totales_gpa_m[\"año\"], totales_gpa_m[\"totales\"], -width, color= colors[\"M\"], align = \"edge\")\n",
    "ax1.bar(totales_gpa_m[\"año\"], totales_gpa_f[\"totales\"], width, color= colors[\"F\"], align = \"edge\")\n",
    "\n",
    "# Propiedades\n",
    "ax1.set_axisbelow(True)\n",
    "ax1.set_title('Recorridos anuales según género', fontsize=14)\n",
    "ax1.set_ylabel('Total en millones', fontsize=14)\n",
    "ax1.set_xlabel('Año', fontsize=14)\n",
    "ax1.grid(which='major', axis='y', color='black', lw=0.4, alpha=0.6)\n",
    "ax1.grid(which='major', axis='x', color='black', lw=0.4, alpha=0.6)        \n",
    "\n",
    "# Datos de barras\n",
    "for p in ax1.patches:\n",
    "    width = p.get_width()\n",
    "    height = p.get_height()\n",
    "    x, y = p.get_xy() \n",
    "    ax1.annotate(f'{height}', (x + width/2, y + height+30000), ha='center', fontsize = 9)\n",
    "    ax1.annotate(f'{round(100/df_genero_x_año.loc[df_genero_x_año.año == x, \"totales\"].sum()*height)}%', (x + width/2, y + height*0.4), ha='center', fontsize = 9)\n",
    "    \n",
    "# Leyenda\n",
    "labels = list(colors.keys())\n",
    "handles = [plt.Rectangle((0,0),1,1, color=colors[label]) for label in labels]\n",
    "legend = ax1.legend(handles, labels, fontsize = 10)\n",
    "\n",
    "\n",
    "\n",
    "# Axis 2 = total de usuarios según género\n",
    "plt.sca(ax2) \n",
    "dataset_usuarios_genero.plot(ax = ax2, kind = \"bar\", width = 0.5, color = [\"coral\", \"aquamarine\"], x=\"genero\", y=\"totales\", rot = 0)\n",
    "\n",
    "# Propiedades\n",
    "ax2.set_axisbelow(True)\n",
    "ax2.set_title('Usuarios según género', fontsize=14)\n",
    "ax2.set_xlabel(\"Género\", fontsize=14)\n",
    "ax2.set_ylabel(\"Total\", fontsize=14)\n",
    "ax2.grid(which='major', axis='y', color='black', lw=0.4, alpha=0.6)\n",
    "\n",
    "# Datos de barras\n",
    "for p in ax2.patches:\n",
    "    width = p.get_width()\n",
    "    height = p.get_height()\n",
    "    x, y = p.get_xy() \n",
    "    ax2.annotate(f'{height}', (x + width/2, y + height + 3000), ha='center')\n",
    "    ax2.annotate(f'{round(100/dataset_usuarios_genero.totales.sum()*height)}%', (x + width/2, y + height*0.5), ha='center')\n",
    "\n",
    "# Leyenda\n",
    "labels = list(colors.keys())\n",
    "handles = [plt.Rectangle((0,0),1,1, color=colors[label]) for label in labels]\n",
    "legend = ax2.legend(handles, labels, fontsize = 10)\n",
    "\n",
    "plt.savefig(\"Análisis de género.jpg\", dpi = 300)"
   ]
  },
  {
   "cell_type": "markdown",
   "metadata": {},
   "source": [
    "## <u>2do gráfico: análisis de duración y distancia</u>"
   ]
  },
  {
   "cell_type": "code",
   "execution_count": null,
   "metadata": {},
   "outputs": [],
   "source": [
    "wgs84_geod = Geod(ellps='WGS84')\n",
    "\n",
    "def distancia(lat1, lon1, lat2, lon2):\n",
    "  az12, az21, dist = wgs84_geod.inv(lon1,lat1,lon2,lat2)\n",
    "  return dist\n",
    "\n",
    "dataset['distancia'] = distancia(dataset['lat_estacion_origen'].tolist(), dataset['long_estacion_origen'].tolist(), dataset['lat_estacion_destino'].tolist(), dataset['long_estacion_destino'].tolist())"
   ]
  },
  {
   "cell_type": "code",
   "execution_count": null,
   "metadata": {},
   "outputs": [],
   "source": [
    "dataset"
   ]
  },
  {
   "cell_type": "code",
   "execution_count": null,
   "metadata": {},
   "outputs": [],
   "source": [
    "q75,q25 = np.percentile(dataset[\"distancia\"],[75,25])\n",
    "iqr = q75-q25\n",
    "max_limit = q75+(1.5*iqr)\n",
    "min_limit = q25-(1.5*iqr)\n",
    "print(\"límite superior:\", max_limit, \"\\nlímite inferior:\", min_limit)"
   ]
  },
  {
   "cell_type": "code",
   "execution_count": null,
   "metadata": {},
   "outputs": [],
   "source": [
    "dataset_distancia = dataset.loc[(dataset[\"distancia\"] < max_limit) & (dataset[\"distancia\"]  > min_limit), [\"año\", \"distancia\"]]\n",
    "\n",
    "print(\"Se borraron\", len(dataset) - len(dataset_distancia), \"outliers, quedando un total de\", len(dataset_distancia), \"valores válidos entre 0 y 60 minutos\")"
   ]
  },
  {
   "cell_type": "code",
   "execution_count": null,
   "metadata": {},
   "outputs": [],
   "source": [
    "fig = plt.figure(figsize = (20,20))\n",
    "\n",
    "# Axis 1 = distribución anual de la distancia de los recorridos\n",
    "ax1 = plt.subplot(2, 1, 1)\n",
    "sns.violinplot(data = dataset_distancia, x = \"año\", y = \"distancia\")\n",
    "ax1.set_axisbelow(True)\n",
    "ax1.yaxis.grid(which='major', color='black', lw=0.4, alpha=0.6, linestyle='-')    \n",
    "plt.title('Distribución anual de la distancia de los recorridos', fontsize=14)\n",
    "plt.ylabel('Distancia en metros', fontsize=14)\n",
    "plt.xlabel('Año', fontsize=14)\n",
    "\n",
    "# Axis 2 = distribución anual de la duración de los recorridos\n",
    "ax2 = plt.subplot(2, 1, 2)\n",
    "sns.violinplot(data = dataset, x = \"año\", y = \"minutos\")\n",
    "ax2.set_axisbelow(True)\n",
    "ax2.yaxis.grid(which='major', color='black', lw=0.4, alpha=0.6, linestyle='-')\n",
    "plt.title('Distribución anual de la duración de los recorridos', fontsize=14)\n",
    "plt.ylabel('Duración en minutos', fontsize=14)\n",
    "plt.xlabel('Año', fontsize=14)\n",
    "\n",
    "plt.savefig(\"Análisis de distancia y duración.jpg\", dpi = 300)"
   ]
  },
  {
   "cell_type": "markdown",
   "metadata": {},
   "source": [
    "## <u>3er gráfico: análisis de tipo de viaje</u>"
   ]
  },
  {
   "cell_type": "code",
   "execution_count": null,
   "metadata": {},
   "outputs": [],
   "source": [
    "dataset[\"misma_estacion\"] = dataset.codigo_origen == dataset.codigo_destino\n",
    "df_misma_estacion = dataset[\"misma_estacion\"].value_counts().rename_axis([\"valor\"]).reset_index(name = \"totales\")\n",
    "df_misma_estacion"
   ]
  },
  {
   "cell_type": "code",
   "execution_count": null,
   "metadata": {},
   "outputs": [],
   "source": [
    "plt.figure(facecolor = 'white', figsize=(10, 10))\n",
    "patches, texts = plt.pie(df_misma_estacion[\"totales\"],\n",
    "                         labels = [str(round(dataset[\"misma_estacion\"].value_counts(normalize = True)[0]*100,2)) + \"%\", str(round(dataset[\"misma_estacion\"].value_counts(normalize = True)[1]*100,2)) + \"%\"],\n",
    "                         labeldistance = 0.5)\n",
    "texts[0].set_fontsize(12)\n",
    "texts[1].set_fontsize(12)\n",
    "plt.title('Proporción de recorridos que finalizan en la estación de origen', fontsize=18)\n",
    "plt.legend([\"Sí\", \"No\"], fontsize = 14)\n",
    "\n",
    "plt.savefig(\"Análisis de tipo de viaje.jpg\", dpi = 300)"
   ]
  },
  {
   "cell_type": "markdown",
   "metadata": {},
   "source": [
    "## <u>4to gráfico: análisis de tipo de estaciones</u>"
   ]
  },
  {
   "cell_type": "code",
   "execution_count": null,
   "metadata": {},
   "outputs": [],
   "source": [
    "estaciones_requeridas_origen_porcentaje = round((dataset.loc[:,[\"codigo_origen\"]].codigo_origen.value_counts(normalize = True)*100)[0:41],2)\n",
    "estaciones_requeridas_origen_porcentaje = pd.DataFrame(estaciones_requeridas_origen_porcentaje.rename_axis(\"codigo_origen\").reset_index(name = \"porcentaje_recorridos\"))\n",
    "df_codigos_nombres_origen = dataset.loc[:,[\"codigo_origen\", \"nombre_origen\"]]\n",
    "df_codigos_nombres_origen.drop_duplicates(subset = [\"codigo_origen\"], inplace = True)\n",
    "estaciones_requeridas_origen_porcentaje = estaciones_requeridas_origen_porcentaje.merge(df_codigos_nombres_origen, on = \"codigo_origen\", how = \"left\")\n",
    "estaciones_requeridas_origen_porcentaje"
   ]
  },
  {
   "cell_type": "code",
   "execution_count": null,
   "metadata": {},
   "outputs": [],
   "source": [
    "round(estaciones_requeridas_origen_porcentaje.porcentaje_recorridos.sum(),2)"
   ]
  },
  {
   "cell_type": "code",
   "execution_count": null,
   "metadata": {},
   "outputs": [],
   "source": [
    "estaciones_requeridas_destino_porcentaje = round((dataset.loc[:,[\"codigo_destino\"]].codigo_destino.value_counts(normalize = True)*100)[0:41],2)\n",
    "estaciones_requeridas_destino_porcentaje = pd.DataFrame(estaciones_requeridas_destino_porcentaje.rename_axis(\"codigo_destino\").reset_index(name = \"porcentaje_recorridos\"))\n",
    "df_codigos_nombres_destino = dataset.loc[:,[\"codigo_destino\", \"nombre_destino\"]]\n",
    "df_codigos_nombres_destino.drop_duplicates(subset = [\"codigo_destino\"], inplace = True)\n",
    "estaciones_requeridas_destino_porcentaje = estaciones_requeridas_destino_porcentaje.merge(df_codigos_nombres_destino, on = \"codigo_destino\", how = \"left\")\n",
    "estaciones_requeridas_destino_porcentaje"
   ]
  },
  {
   "cell_type": "code",
   "execution_count": null,
   "metadata": {},
   "outputs": [],
   "source": [
    "round(estaciones_requeridas_destino_porcentaje.porcentaje_recorridos.sum(),2)"
   ]
  },
  {
   "cell_type": "code",
   "execution_count": null,
   "metadata": {},
   "outputs": [],
   "source": [
    "estaciones_requeridas_origen = dataset.loc[:,[\"codigo_origen\"]].codigo_origen.value_counts()[0:41]\n",
    "estaciones_requeridas_origen = pd.DataFrame(estaciones_requeridas_origen.rename_axis(\"codigo_origen\").reset_index(name = \"cantidad_recorridos_origen\"))\n",
    "df_codigos_nombres_origen = dataset.loc[:,[\"codigo_origen\", \"nombre_origen\"]]\n",
    "df_codigos_nombres_origen.drop_duplicates(subset = [\"codigo_origen\"], inplace = True)\n",
    "estaciones_requeridas_origen = estaciones_requeridas_origen.merge(df_codigos_nombres_origen, on = \"codigo_origen\", how = \"left\")\n",
    "estaciones_requeridas_origen.rename(columns = {\"codigo_origen\" : \"codigo\"}, inplace = True)\n",
    "estaciones_requeridas_origen"
   ]
  },
  {
   "cell_type": "code",
   "execution_count": null,
   "metadata": {},
   "outputs": [],
   "source": [
    "estaciones_requeridas_destino = dataset.loc[:,[\"codigo_destino\"]].codigo_destino.value_counts()[0:41]\n",
    "estaciones_requeridas_destino = pd.DataFrame(estaciones_requeridas_destino.rename_axis(\"codigo_destino\").reset_index(name = \"cantidad_recorridos_destino\"))\n",
    "df_codigos_nombres_destino = dataset.loc[:,[\"codigo_destino\", \"nombre_destino\"]]\n",
    "df_codigos_nombres_destino.drop_duplicates(subset = [\"codigo_destino\"], inplace = True)\n",
    "estaciones_requeridas_destino = estaciones_requeridas_destino.merge(df_codigos_nombres_destino, on = \"codigo_destino\", how = \"left\")\n",
    "estaciones_requeridas_destino.rename(columns = {\"codigo_destino\" : \"codigo\"}, inplace = True)\n",
    "estaciones_requeridas_destino"
   ]
  },
  {
   "cell_type": "code",
   "execution_count": null,
   "metadata": {},
   "outputs": [],
   "source": [
    "estaciones_requeridas = estaciones_requeridas_origen.merge(estaciones_requeridas_destino, on = \"codigo\", how = \"left\")\n",
    "estaciones_requeridas.dropna(subset = [\"cantidad_recorridos_destino\", \"nombre_destino\"], inplace = True)\n",
    "estaciones_requeridas"
   ]
  },
  {
   "cell_type": "code",
   "execution_count": null,
   "metadata": {},
   "outputs": [],
   "source": [
    "# Cálculo de correlación con Pearson y Spearman para utilizar en el gráfico\n",
    "corr, _ = pearsonr(estaciones_requeridas[\"cantidad_recorridos_origen\"], estaciones_requeridas[\"cantidad_recorridos_destino\"])\n",
    "corr2, _ = spearmanr(estaciones_requeridas[\"cantidad_recorridos_origen\"], estaciones_requeridas[\"cantidad_recorridos_destino\"])"
   ]
  },
  {
   "cell_type": "code",
   "execution_count": null,
   "metadata": {},
   "outputs": [],
   "source": [
    "fig, (ax1, ax2) = plt.subplots(1, 2, figsize = (17,10), gridspec_kw={'width_ratios': [2.5, 0.8]})\n",
    "\n",
    "# Creación de listado randomizado de colores\n",
    "color_estaciones = []\n",
    "for i in range(len(estaciones_requeridas)):\n",
    "    color_estaciones.append('#%06X' % random.randint(0, 0xFFFFFF))\n",
    "\n",
    "# Axis 1 = recorridos originados y finalizados en cada estación\n",
    "ax1.scatter(estaciones_requeridas[\"cantidad_recorridos_origen\"], estaciones_requeridas[\"cantidad_recorridos_destino\"], color = color_estaciones)\n",
    "ax1.set_xlabel(\"Cantidad de recorridos que partieron de la estación\", fontsize = 12)\n",
    "ax1.set_ylabel(\"Cantidad de recorridos que finalizaron en la estación\", fontsize = 12)\n",
    "ax1.set_title('Recorridos originados y finalizados en cada estación', fontsize=18)\n",
    "ax1.grid(which='major', axis='y', color='black', lw=0.4, alpha=0.6)\n",
    "ax1.grid(which='major', axis='x', color='black', lw=0.4, alpha=0.6)\n",
    "ax1.set_axisbelow(True)\n",
    "ax1.set_xlim(left = 60000, right = 220000)\n",
    "ax1.set_ylim(bottom = 60000, top = 200000)\n",
    "for i, txt in enumerate(estaciones_requeridas.loc[0:8, \"nombre_origen\"]):\n",
    "    ax1.annotate(txt, (estaciones_requeridas.cantidad_recorridos_origen[i]+1200, estaciones_requeridas.cantidad_recorridos_destino[i]-600))\n",
    "\n",
    "\n",
    "\n",
    "# Axis 2 = tests de correlación\n",
    "ax2.set_title('Test de correlación', fontsize=18, x = 0.3)\n",
    "ax2.set_axis_off()\n",
    "ax2.text(0.06, 0.75, f'Pearson:{round(corr,3)}', fontsize = 14)\n",
    "ax2.text(0.02, 0.65, f'Spearman:{round(corr2,3)}', fontsize = 14)\n",
    "ax2.text(0.32, 0.3, 'Hay una alta correlación\\nentre la variable origen\\ny la variable destino\\nde los recorridos', horizontalalignment='center', fontsize = 14)\n",
    "\n",
    "plt.savefig(\"Análisis de correlación entre origen y destino.jpg\", dpi = 300)"
   ]
  },
  {
   "cell_type": "markdown",
   "metadata": {},
   "source": [
    "## <u>5to gráfico: análisis de usuario (edad)</u>"
   ]
  },
  {
   "cell_type": "code",
   "execution_count": null,
   "metadata": {},
   "outputs": [],
   "source": [
    "dataset_usuarios"
   ]
  },
  {
   "cell_type": "code",
   "execution_count": null,
   "metadata": {},
   "outputs": [],
   "source": [
    "q75,q25 = np.percentile(dataset_usuarios[\"edad_usuario\"],[75,25])\n",
    "iqr = q75-q25\n",
    "max_limit = q75+(1.5*iqr)\n",
    "min_limit = q25-(1.5*iqr)\n",
    "print(\"límite superior:\", max_limit, \"\\nlímite inferior:\", min_limit)"
   ]
  },
  {
   "cell_type": "code",
   "execution_count": null,
   "metadata": {},
   "outputs": [],
   "source": [
    "# El límite superior no se utilizará pues podría eliminar información importante, se reemplaza por uno más lógico\n",
    "max_limit = 90\n",
    "dataset_usuarios_edad = dataset_usuarios.loc[(dataset_usuarios[\"edad_usuario\"] < max_limit) & (dataset_usuarios[\"edad_usuario\"]  > min_limit), :]\n",
    "print(\"Se borraron\", len(dataset_usuarios) - len(dataset_usuarios_edad), \"outliers, quedando un total de\", len(dataset_usuarios_edad), \"valores válidos de edades entre 0 y 90 años\")"
   ]
  },
  {
   "cell_type": "code",
   "execution_count": null,
   "metadata": {},
   "outputs": [],
   "source": [
    "bin_list = np.arange(10, 100, 2.5)\n",
    "plt.figure(figsize=(18, 10))\n",
    "n, bins, patches = plt.hist(x = dataset_usuarios_edad.edad_usuario, bins = bin_list, color='mediumseagreen', rwidth=0.85)\n",
    "maxfreq = n.max()\n",
    "plt.rc('axes', axisbelow=True)\n",
    "plt.grid(axis='y', alpha=0.75)\n",
    "plt.xlabel('Edad', fontsize = 14)\n",
    "plt.ylabel('Cantidad de usuarios', fontsize = 14)\n",
    "plt.title('Usuarios según edad', fontsize = 18)\n",
    "plt.ylim(ymax = 38000)\n",
    "plt.xlim(xmax = 90)\n",
    "plt.xticks(np.arange(0, 91, 5))\n",
    "\n",
    "plt.savefig(\"Análisis de usuarios (edad).jpg\", dpi = 300)"
   ]
  },
  {
   "cell_type": "markdown",
   "metadata": {},
   "source": [
    "## <u>6to gráfico: análisis de usuario (cantidad de recorridos)</u>"
   ]
  },
  {
   "cell_type": "code",
   "execution_count": null,
   "metadata": {},
   "outputs": [],
   "source": [
    "dataset"
   ]
  },
  {
   "cell_type": "code",
   "execution_count": null,
   "metadata": {},
   "outputs": [],
   "source": [
    "dataset_usuarios_recorridos = dataset.dropna(subset = [\"id_usuario\"])\n",
    "dataset_usuarios_recorridos = dataset_usuarios_recorridos.id_usuario.value_counts().rename_axis('id_usuario').reset_index(name='totales')\n",
    "dataset_usuarios_recorridos"
   ]
  },
  {
   "cell_type": "code",
   "execution_count": null,
   "metadata": {},
   "outputs": [],
   "source": [
    "dataset_usuarios_recorridos.totales.value_counts()"
   ]
  },
  {
   "cell_type": "code",
   "execution_count": null,
   "metadata": {},
   "outputs": [],
   "source": [
    "q75,q25 = np.percentile(dataset_usuarios_recorridos[\"totales\"],[75,25])\n",
    "iqr = q75-q25\n",
    "max_limit = q75+(1.5*iqr)\n",
    "min_limit = q25-(1.5*iqr)\n",
    "print(\"límite superior:\", max_limit, \"\\nlímite inferior:\", min_limit)"
   ]
  },
  {
   "cell_type": "code",
   "execution_count": null,
   "metadata": {},
   "outputs": [],
   "source": [
    "# El límite superior no se utilizará pues podría eliminar información importante, se reemplaza por uno más lógico\n",
    "max_limit = 1000\n",
    "dataset_usuarios_recorridos_sin_outliers = dataset_usuarios_recorridos.loc[(dataset_usuarios_recorridos[\"totales\"] < max_limit) & (dataset_usuarios_recorridos[\"totales\"]  > min_limit), :]\n",
    "print(\"Se borraron\", len(dataset_usuarios_recorridos) - len(dataset_usuarios_recorridos_sin_outliers), \"outliers, quedando un total de\", len(dataset_usuarios_recorridos_sin_outliers), \"usuarios que viajaron entre 0 y 1000 de edades entre 0 y 90 años\")"
   ]
  },
  {
   "cell_type": "code",
   "execution_count": null,
   "metadata": {},
   "outputs": [],
   "source": [
    "fig, (ax1, ax2) = plt.subplots(2, 1, figsize = (20,20), gridspec_kw={'height_ratios': [1, 2]})\n",
    "\n",
    "# Axis 1 = usuarios según cantidad de recorridos\n",
    "plt.sca(ax1)\n",
    "bin_list = np.arange(0, 300, 20)\n",
    "ax1, bins, patches = plt.hist(x = dataset_usuarios_recorridos_sin_outliers.totales, bins = bin_list, color='mediumturquoise', rwidth=0.85, orientation=\"horizontal\")\n",
    "maxfreq = ax1.max()\n",
    "plt.rc('axes', axisbelow=True)\n",
    "plt.grid(axis='y', alpha=0.75)\n",
    "plt.xlabel('Cantidad de usuarios', fontsize = 14)\n",
    "plt.ylabel('Cantidad de recorridos', fontsize = 14)\n",
    "plt.title('Usuarios según cantidad de recorridos', fontsize = 18)\n",
    "plt.yticks(np.arange(0, 301, 100))\n",
    "\n",
    "# Axis 2 = usuarios según cantidad de viajes con escala logarítmica\n",
    "plt.sca(ax2)\n",
    "bin_list = np.arange(0, 1000, 20)\n",
    "ax2, bins, patches = plt.hist(x = dataset_usuarios_recorridos_sin_outliers.totales, bins = bin_list, color='mediumturquoise', rwidth=0.85)\n",
    "maxfreq = ax2.max()\n",
    "plt.rc('axes', axisbelow=True)\n",
    "plt.grid(axis='y', alpha=0.75)\n",
    "plt.xlabel('Cantidad de recorridos', fontsize = 14)\n",
    "plt.ylabel('Cantidad de usuarios en escala logarítmica', fontsize = 14)\n",
    "plt.title('Usuarios según cantidad de recorridos en escala logarítmica', fontsize = 18)\n",
    "plt.yscale(\"log\")\n",
    "plt.xticks(np.arange(0, 1001, 100))\n",
    "\n",
    "plt.savefig(\"Análisis de usuarios (recorridos).jpg\", dpi = 300)"
   ]
  }
 ],
 "metadata": {
  "kernelspec": {
   "display_name": "Python 3",
   "language": "python",
   "name": "python3"
  },
  "language_info": {
   "codemirror_mode": {
    "name": "ipython",
    "version": 3
   },
   "file_extension": ".py",
   "mimetype": "text/x-python",
   "name": "python",
   "nbconvert_exporter": "python",
   "pygments_lexer": "ipython3",
   "version": "3.7.9"
  }
 },
 "nbformat": 4,
 "nbformat_minor": 4
}
